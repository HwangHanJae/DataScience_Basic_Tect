{
  "nbformat": 4,
  "nbformat_minor": 0,
  "metadata": {
    "colab": {
      "name": "pandas_10minutes_tutorial.ipynb",
      "provenance": [],
      "collapsed_sections": [],
      "toc_visible": true,
      "authorship_tag": "ABX9TyOlP3d4vH45iSpKAeFHrLOC",
      "include_colab_link": true
    },
    "kernelspec": {
      "name": "python3",
      "display_name": "Python 3"
    },
    "language_info": {
      "name": "python"
    }
  },
  "cells": [
    {
      "cell_type": "markdown",
      "metadata": {
        "id": "view-in-github",
        "colab_type": "text"
      },
      "source": [
        "<a href=\"https://colab.research.google.com/github/HwangHanJae/datascience-basic-tect/blob/main/pandas_10minutes_tutorial.ipynb\" target=\"_parent\"><img src=\"https://colab.research.google.com/assets/colab-badge.svg\" alt=\"Open In Colab\"/></a>"
      ]
    },
    {
      "cell_type": "markdown",
      "metadata": {
        "id": "ZuwNx8zv0osT"
      },
      "source": [
        "# Pandas Tutorial\n",
        "- 10 minutes to pandas"
      ]
    },
    {
      "cell_type": "markdown",
      "metadata": {
        "id": "Mevz6U9500jL"
      },
      "source": [
        "# 라이브러리 로드"
      ]
    },
    {
      "cell_type": "code",
      "metadata": {
        "id": "wNpQQYEq0i6X"
      },
      "source": [
        "import numpy as np\n",
        "import pandas as pd"
      ],
      "execution_count": 1,
      "outputs": []
    },
    {
      "cell_type": "markdown",
      "metadata": {
        "id": "obj52xHz1Evg"
      },
      "source": [
        "# 객체 생성\n",
        "\n"
      ]
    },
    {
      "cell_type": "markdown",
      "metadata": {
        "id": "7hIsrsMs1aQM"
      },
      "source": [
        "value의 리스트를 전달하여 Series 타입을 생성하고 pandas의 기본 인덱스를 적용합니다."
      ]
    },
    {
      "cell_type": "code",
      "metadata": {
        "colab": {
          "base_uri": "https://localhost:8080/"
        },
        "id": "f2W1iNIF1YLX",
        "outputId": "852f1faf-a94c-4944-dfa1-433b01f412e1"
      },
      "source": [
        "#Input\n",
        "s = pd.Series([1,3,5, np.nan, 6,8])\n",
        "#Output\n",
        "s"
      ],
      "execution_count": 2,
      "outputs": [
        {
          "output_type": "execute_result",
          "data": {
            "text/plain": [
              "0    1.0\n",
              "1    3.0\n",
              "2    5.0\n",
              "3    NaN\n",
              "4    6.0\n",
              "5    8.0\n",
              "dtype: float64"
            ]
          },
          "metadata": {
            "tags": []
          },
          "execution_count": 2
        }
      ]
    },
    {
      "cell_type": "markdown",
      "metadata": {
        "id": "A_BTVKtc1vo7"
      },
      "source": [
        "datatime 타입과 레이블이있는 column과 Numpy array를 전달하여 Dataframe을 생성합니다."
      ]
    },
    {
      "cell_type": "code",
      "metadata": {
        "colab": {
          "base_uri": "https://localhost:8080/"
        },
        "id": "Lv28pYXw1eR8",
        "outputId": "474ddb41-f508-4336-b633-c39f344f280f"
      },
      "source": [
        "dates = pd.date_range(\"20130101\", periods=6)\n",
        "dates"
      ],
      "execution_count": 3,
      "outputs": [
        {
          "output_type": "execute_result",
          "data": {
            "text/plain": [
              "DatetimeIndex(['2013-01-01', '2013-01-02', '2013-01-03', '2013-01-04',\n",
              "               '2013-01-05', '2013-01-06'],\n",
              "              dtype='datetime64[ns]', freq='D')"
            ]
          },
          "metadata": {
            "tags": []
          },
          "execution_count": 3
        }
      ]
    },
    {
      "cell_type": "code",
      "metadata": {
        "colab": {
          "base_uri": "https://localhost:8080/",
          "height": 237
        },
        "id": "BIkIY54Y1--g",
        "outputId": "7941ff1c-0422-4c37-a523-81451897d778"
      },
      "source": [
        "df = pd.DataFrame(np.random.randn(6,4), index=dates, columns=list(\"ABCD\"))\n",
        "df"
      ],
      "execution_count": 4,
      "outputs": [
        {
          "output_type": "execute_result",
          "data": {
            "text/html": [
              "<div>\n",
              "<style scoped>\n",
              "    .dataframe tbody tr th:only-of-type {\n",
              "        vertical-align: middle;\n",
              "    }\n",
              "\n",
              "    .dataframe tbody tr th {\n",
              "        vertical-align: top;\n",
              "    }\n",
              "\n",
              "    .dataframe thead th {\n",
              "        text-align: right;\n",
              "    }\n",
              "</style>\n",
              "<table border=\"1\" class=\"dataframe\">\n",
              "  <thead>\n",
              "    <tr style=\"text-align: right;\">\n",
              "      <th></th>\n",
              "      <th>A</th>\n",
              "      <th>B</th>\n",
              "      <th>C</th>\n",
              "      <th>D</th>\n",
              "    </tr>\n",
              "  </thead>\n",
              "  <tbody>\n",
              "    <tr>\n",
              "      <th>2013-01-01</th>\n",
              "      <td>-0.624424</td>\n",
              "      <td>-0.577360</td>\n",
              "      <td>-0.800310</td>\n",
              "      <td>-0.605505</td>\n",
              "    </tr>\n",
              "    <tr>\n",
              "      <th>2013-01-02</th>\n",
              "      <td>0.532611</td>\n",
              "      <td>0.466755</td>\n",
              "      <td>0.356861</td>\n",
              "      <td>0.791726</td>\n",
              "    </tr>\n",
              "    <tr>\n",
              "      <th>2013-01-03</th>\n",
              "      <td>-0.322909</td>\n",
              "      <td>-0.525981</td>\n",
              "      <td>-0.315880</td>\n",
              "      <td>-0.361835</td>\n",
              "    </tr>\n",
              "    <tr>\n",
              "      <th>2013-01-04</th>\n",
              "      <td>0.971271</td>\n",
              "      <td>-0.127001</td>\n",
              "      <td>-0.667725</td>\n",
              "      <td>1.910612</td>\n",
              "    </tr>\n",
              "    <tr>\n",
              "      <th>2013-01-05</th>\n",
              "      <td>0.261758</td>\n",
              "      <td>-0.299979</td>\n",
              "      <td>0.267228</td>\n",
              "      <td>2.429107</td>\n",
              "    </tr>\n",
              "    <tr>\n",
              "      <th>2013-01-06</th>\n",
              "      <td>0.612693</td>\n",
              "      <td>-1.837019</td>\n",
              "      <td>1.139148</td>\n",
              "      <td>-0.973891</td>\n",
              "    </tr>\n",
              "  </tbody>\n",
              "</table>\n",
              "</div>"
            ],
            "text/plain": [
              "                   A         B         C         D\n",
              "2013-01-01 -0.624424 -0.577360 -0.800310 -0.605505\n",
              "2013-01-02  0.532611  0.466755  0.356861  0.791726\n",
              "2013-01-03 -0.322909 -0.525981 -0.315880 -0.361835\n",
              "2013-01-04  0.971271 -0.127001 -0.667725  1.910612\n",
              "2013-01-05  0.261758 -0.299979  0.267228  2.429107\n",
              "2013-01-06  0.612693 -1.837019  1.139148 -0.973891"
            ]
          },
          "metadata": {
            "tags": []
          },
          "execution_count": 4
        }
      ]
    },
    {
      "cell_type": "markdown",
      "metadata": {
        "id": "pUIQtVnM2djQ"
      },
      "source": [
        "Series 타입처럼 변환할수 있는 객체의 dict 타입을 전달하여 DataFrame을 생성합니다."
      ]
    },
    {
      "cell_type": "code",
      "metadata": {
        "colab": {
          "base_uri": "https://localhost:8080/",
          "height": 175
        },
        "id": "KqouzYfo2Puz",
        "outputId": "f84f0676-ac68-4a93-b5a4-2ecd50905dbd"
      },
      "source": [
        "df2 = pd.DataFrame(\n",
        "    {\"A\" : 1.0,\n",
        "    \"B\" : pd.Timestamp(\"20130102\"),\n",
        "    \"C\" : pd.Series(1, index=list(range(4)), dtype=\"float32\"),\n",
        "    \"D\" : np.array([3] *4, dtype=\"int32\"),\n",
        "    \"E\" : pd.Categorical([\"test\",\"train\",\"test\",\"train\"]),\n",
        "    \"F\" : 'foo',}\n",
        ")\n",
        "\n",
        "df2"
      ],
      "execution_count": 5,
      "outputs": [
        {
          "output_type": "execute_result",
          "data": {
            "text/html": [
              "<div>\n",
              "<style scoped>\n",
              "    .dataframe tbody tr th:only-of-type {\n",
              "        vertical-align: middle;\n",
              "    }\n",
              "\n",
              "    .dataframe tbody tr th {\n",
              "        vertical-align: top;\n",
              "    }\n",
              "\n",
              "    .dataframe thead th {\n",
              "        text-align: right;\n",
              "    }\n",
              "</style>\n",
              "<table border=\"1\" class=\"dataframe\">\n",
              "  <thead>\n",
              "    <tr style=\"text-align: right;\">\n",
              "      <th></th>\n",
              "      <th>A</th>\n",
              "      <th>B</th>\n",
              "      <th>C</th>\n",
              "      <th>D</th>\n",
              "      <th>E</th>\n",
              "      <th>F</th>\n",
              "    </tr>\n",
              "  </thead>\n",
              "  <tbody>\n",
              "    <tr>\n",
              "      <th>0</th>\n",
              "      <td>1.0</td>\n",
              "      <td>2013-01-02</td>\n",
              "      <td>1.0</td>\n",
              "      <td>3</td>\n",
              "      <td>test</td>\n",
              "      <td>foo</td>\n",
              "    </tr>\n",
              "    <tr>\n",
              "      <th>1</th>\n",
              "      <td>1.0</td>\n",
              "      <td>2013-01-02</td>\n",
              "      <td>1.0</td>\n",
              "      <td>3</td>\n",
              "      <td>train</td>\n",
              "      <td>foo</td>\n",
              "    </tr>\n",
              "    <tr>\n",
              "      <th>2</th>\n",
              "      <td>1.0</td>\n",
              "      <td>2013-01-02</td>\n",
              "      <td>1.0</td>\n",
              "      <td>3</td>\n",
              "      <td>test</td>\n",
              "      <td>foo</td>\n",
              "    </tr>\n",
              "    <tr>\n",
              "      <th>3</th>\n",
              "      <td>1.0</td>\n",
              "      <td>2013-01-02</td>\n",
              "      <td>1.0</td>\n",
              "      <td>3</td>\n",
              "      <td>train</td>\n",
              "      <td>foo</td>\n",
              "    </tr>\n",
              "  </tbody>\n",
              "</table>\n",
              "</div>"
            ],
            "text/plain": [
              "     A          B    C  D      E    F\n",
              "0  1.0 2013-01-02  1.0  3   test  foo\n",
              "1  1.0 2013-01-02  1.0  3  train  foo\n",
              "2  1.0 2013-01-02  1.0  3   test  foo\n",
              "3  1.0 2013-01-02  1.0  3  train  foo"
            ]
          },
          "metadata": {
            "tags": []
          },
          "execution_count": 5
        }
      ]
    },
    {
      "cell_type": "markdown",
      "metadata": {
        "id": "Z-cwgLLt3b2G"
      },
      "source": [
        "Dataframe의 columns 들은 다른 dtypes를 가지고 있습니다."
      ]
    },
    {
      "cell_type": "code",
      "metadata": {
        "colab": {
          "base_uri": "https://localhost:8080/"
        },
        "id": "uXn_366F3JKa",
        "outputId": "a2a58dcb-a7bf-4860-f448-fb5e6b48b8ec"
      },
      "source": [
        "df2.dtypes"
      ],
      "execution_count": 6,
      "outputs": [
        {
          "output_type": "execute_result",
          "data": {
            "text/plain": [
              "A           float64\n",
              "B    datetime64[ns]\n",
              "C           float32\n",
              "D             int32\n",
              "E          category\n",
              "F            object\n",
              "dtype: object"
            ]
          },
          "metadata": {
            "tags": []
          },
          "execution_count": 6
        }
      ]
    },
    {
      "cell_type": "markdown",
      "metadata": {
        "id": "gXFSKoIQEQ1i"
      },
      "source": [
        "# 데이터 관찰"
      ]
    },
    {
      "cell_type": "markdown",
      "metadata": {
        "id": "dY1pn3YTEWjZ"
      },
      "source": [
        "데이터 프레임의 상단, 하단을 보는 방법입니다."
      ]
    },
    {
      "cell_type": "code",
      "metadata": {
        "colab": {
          "base_uri": "https://localhost:8080/",
          "height": 206
        },
        "id": "L5MVIIndEY_0",
        "outputId": "986284c9-3126-410c-eea9-898f79cc9bdd"
      },
      "source": [
        "df.head()"
      ],
      "execution_count": 7,
      "outputs": [
        {
          "output_type": "execute_result",
          "data": {
            "text/html": [
              "<div>\n",
              "<style scoped>\n",
              "    .dataframe tbody tr th:only-of-type {\n",
              "        vertical-align: middle;\n",
              "    }\n",
              "\n",
              "    .dataframe tbody tr th {\n",
              "        vertical-align: top;\n",
              "    }\n",
              "\n",
              "    .dataframe thead th {\n",
              "        text-align: right;\n",
              "    }\n",
              "</style>\n",
              "<table border=\"1\" class=\"dataframe\">\n",
              "  <thead>\n",
              "    <tr style=\"text-align: right;\">\n",
              "      <th></th>\n",
              "      <th>A</th>\n",
              "      <th>B</th>\n",
              "      <th>C</th>\n",
              "      <th>D</th>\n",
              "    </tr>\n",
              "  </thead>\n",
              "  <tbody>\n",
              "    <tr>\n",
              "      <th>2013-01-01</th>\n",
              "      <td>-0.624424</td>\n",
              "      <td>-0.577360</td>\n",
              "      <td>-0.800310</td>\n",
              "      <td>-0.605505</td>\n",
              "    </tr>\n",
              "    <tr>\n",
              "      <th>2013-01-02</th>\n",
              "      <td>0.532611</td>\n",
              "      <td>0.466755</td>\n",
              "      <td>0.356861</td>\n",
              "      <td>0.791726</td>\n",
              "    </tr>\n",
              "    <tr>\n",
              "      <th>2013-01-03</th>\n",
              "      <td>-0.322909</td>\n",
              "      <td>-0.525981</td>\n",
              "      <td>-0.315880</td>\n",
              "      <td>-0.361835</td>\n",
              "    </tr>\n",
              "    <tr>\n",
              "      <th>2013-01-04</th>\n",
              "      <td>0.971271</td>\n",
              "      <td>-0.127001</td>\n",
              "      <td>-0.667725</td>\n",
              "      <td>1.910612</td>\n",
              "    </tr>\n",
              "    <tr>\n",
              "      <th>2013-01-05</th>\n",
              "      <td>0.261758</td>\n",
              "      <td>-0.299979</td>\n",
              "      <td>0.267228</td>\n",
              "      <td>2.429107</td>\n",
              "    </tr>\n",
              "  </tbody>\n",
              "</table>\n",
              "</div>"
            ],
            "text/plain": [
              "                   A         B         C         D\n",
              "2013-01-01 -0.624424 -0.577360 -0.800310 -0.605505\n",
              "2013-01-02  0.532611  0.466755  0.356861  0.791726\n",
              "2013-01-03 -0.322909 -0.525981 -0.315880 -0.361835\n",
              "2013-01-04  0.971271 -0.127001 -0.667725  1.910612\n",
              "2013-01-05  0.261758 -0.299979  0.267228  2.429107"
            ]
          },
          "metadata": {
            "tags": []
          },
          "execution_count": 7
        }
      ]
    },
    {
      "cell_type": "code",
      "metadata": {
        "colab": {
          "base_uri": "https://localhost:8080/",
          "height": 206
        },
        "id": "6Wjy6CU7EaAO",
        "outputId": "c9d0c051-7f17-4f4c-9c76-ff12dfc27b56"
      },
      "source": [
        "df.tail()"
      ],
      "execution_count": 8,
      "outputs": [
        {
          "output_type": "execute_result",
          "data": {
            "text/html": [
              "<div>\n",
              "<style scoped>\n",
              "    .dataframe tbody tr th:only-of-type {\n",
              "        vertical-align: middle;\n",
              "    }\n",
              "\n",
              "    .dataframe tbody tr th {\n",
              "        vertical-align: top;\n",
              "    }\n",
              "\n",
              "    .dataframe thead th {\n",
              "        text-align: right;\n",
              "    }\n",
              "</style>\n",
              "<table border=\"1\" class=\"dataframe\">\n",
              "  <thead>\n",
              "    <tr style=\"text-align: right;\">\n",
              "      <th></th>\n",
              "      <th>A</th>\n",
              "      <th>B</th>\n",
              "      <th>C</th>\n",
              "      <th>D</th>\n",
              "    </tr>\n",
              "  </thead>\n",
              "  <tbody>\n",
              "    <tr>\n",
              "      <th>2013-01-02</th>\n",
              "      <td>0.532611</td>\n",
              "      <td>0.466755</td>\n",
              "      <td>0.356861</td>\n",
              "      <td>0.791726</td>\n",
              "    </tr>\n",
              "    <tr>\n",
              "      <th>2013-01-03</th>\n",
              "      <td>-0.322909</td>\n",
              "      <td>-0.525981</td>\n",
              "      <td>-0.315880</td>\n",
              "      <td>-0.361835</td>\n",
              "    </tr>\n",
              "    <tr>\n",
              "      <th>2013-01-04</th>\n",
              "      <td>0.971271</td>\n",
              "      <td>-0.127001</td>\n",
              "      <td>-0.667725</td>\n",
              "      <td>1.910612</td>\n",
              "    </tr>\n",
              "    <tr>\n",
              "      <th>2013-01-05</th>\n",
              "      <td>0.261758</td>\n",
              "      <td>-0.299979</td>\n",
              "      <td>0.267228</td>\n",
              "      <td>2.429107</td>\n",
              "    </tr>\n",
              "    <tr>\n",
              "      <th>2013-01-06</th>\n",
              "      <td>0.612693</td>\n",
              "      <td>-1.837019</td>\n",
              "      <td>1.139148</td>\n",
              "      <td>-0.973891</td>\n",
              "    </tr>\n",
              "  </tbody>\n",
              "</table>\n",
              "</div>"
            ],
            "text/plain": [
              "                   A         B         C         D\n",
              "2013-01-02  0.532611  0.466755  0.356861  0.791726\n",
              "2013-01-03 -0.322909 -0.525981 -0.315880 -0.361835\n",
              "2013-01-04  0.971271 -0.127001 -0.667725  1.910612\n",
              "2013-01-05  0.261758 -0.299979  0.267228  2.429107\n",
              "2013-01-06  0.612693 -1.837019  1.139148 -0.973891"
            ]
          },
          "metadata": {
            "tags": []
          },
          "execution_count": 8
        }
      ]
    },
    {
      "cell_type": "markdown",
      "metadata": {
        "id": "wurG2mjMEdFr"
      },
      "source": [
        "index, columns를 표현합니다."
      ]
    },
    {
      "cell_type": "code",
      "metadata": {
        "colab": {
          "base_uri": "https://localhost:8080/"
        },
        "id": "HQ_YDCN7EiM6",
        "outputId": "f9295603-adf9-4eee-d3f3-af0bfa3cdd5f"
      },
      "source": [
        "df.index"
      ],
      "execution_count": 9,
      "outputs": [
        {
          "output_type": "execute_result",
          "data": {
            "text/plain": [
              "DatetimeIndex(['2013-01-01', '2013-01-02', '2013-01-03', '2013-01-04',\n",
              "               '2013-01-05', '2013-01-06'],\n",
              "              dtype='datetime64[ns]', freq='D')"
            ]
          },
          "metadata": {
            "tags": []
          },
          "execution_count": 9
        }
      ]
    },
    {
      "cell_type": "code",
      "metadata": {
        "colab": {
          "base_uri": "https://localhost:8080/"
        },
        "id": "XaX0y1CPEjUG",
        "outputId": "1773fda1-4da4-496e-f6d5-c40b14950a3c"
      },
      "source": [
        "df.columns"
      ],
      "execution_count": 10,
      "outputs": [
        {
          "output_type": "execute_result",
          "data": {
            "text/plain": [
              "Index(['A', 'B', 'C', 'D'], dtype='object')"
            ]
          },
          "metadata": {
            "tags": []
          },
          "execution_count": 10
        }
      ]
    },
    {
      "cell_type": "markdown",
      "metadata": {
        "id": "ffEzz2l5EkME"
      },
      "source": [
        "DataFrame.to_numpy()는 NumPy 표현을 제공합니다."
      ]
    },
    {
      "cell_type": "code",
      "metadata": {
        "colab": {
          "base_uri": "https://localhost:8080/",
          "height": 237
        },
        "id": "1KDxP-fmFCIn",
        "outputId": "5873ce1f-054f-4c90-94cc-400c9a916207"
      },
      "source": [
        "df"
      ],
      "execution_count": 11,
      "outputs": [
        {
          "output_type": "execute_result",
          "data": {
            "text/html": [
              "<div>\n",
              "<style scoped>\n",
              "    .dataframe tbody tr th:only-of-type {\n",
              "        vertical-align: middle;\n",
              "    }\n",
              "\n",
              "    .dataframe tbody tr th {\n",
              "        vertical-align: top;\n",
              "    }\n",
              "\n",
              "    .dataframe thead th {\n",
              "        text-align: right;\n",
              "    }\n",
              "</style>\n",
              "<table border=\"1\" class=\"dataframe\">\n",
              "  <thead>\n",
              "    <tr style=\"text-align: right;\">\n",
              "      <th></th>\n",
              "      <th>A</th>\n",
              "      <th>B</th>\n",
              "      <th>C</th>\n",
              "      <th>D</th>\n",
              "    </tr>\n",
              "  </thead>\n",
              "  <tbody>\n",
              "    <tr>\n",
              "      <th>2013-01-01</th>\n",
              "      <td>-0.624424</td>\n",
              "      <td>-0.577360</td>\n",
              "      <td>-0.800310</td>\n",
              "      <td>-0.605505</td>\n",
              "    </tr>\n",
              "    <tr>\n",
              "      <th>2013-01-02</th>\n",
              "      <td>0.532611</td>\n",
              "      <td>0.466755</td>\n",
              "      <td>0.356861</td>\n",
              "      <td>0.791726</td>\n",
              "    </tr>\n",
              "    <tr>\n",
              "      <th>2013-01-03</th>\n",
              "      <td>-0.322909</td>\n",
              "      <td>-0.525981</td>\n",
              "      <td>-0.315880</td>\n",
              "      <td>-0.361835</td>\n",
              "    </tr>\n",
              "    <tr>\n",
              "      <th>2013-01-04</th>\n",
              "      <td>0.971271</td>\n",
              "      <td>-0.127001</td>\n",
              "      <td>-0.667725</td>\n",
              "      <td>1.910612</td>\n",
              "    </tr>\n",
              "    <tr>\n",
              "      <th>2013-01-05</th>\n",
              "      <td>0.261758</td>\n",
              "      <td>-0.299979</td>\n",
              "      <td>0.267228</td>\n",
              "      <td>2.429107</td>\n",
              "    </tr>\n",
              "    <tr>\n",
              "      <th>2013-01-06</th>\n",
              "      <td>0.612693</td>\n",
              "      <td>-1.837019</td>\n",
              "      <td>1.139148</td>\n",
              "      <td>-0.973891</td>\n",
              "    </tr>\n",
              "  </tbody>\n",
              "</table>\n",
              "</div>"
            ],
            "text/plain": [
              "                   A         B         C         D\n",
              "2013-01-01 -0.624424 -0.577360 -0.800310 -0.605505\n",
              "2013-01-02  0.532611  0.466755  0.356861  0.791726\n",
              "2013-01-03 -0.322909 -0.525981 -0.315880 -0.361835\n",
              "2013-01-04  0.971271 -0.127001 -0.667725  1.910612\n",
              "2013-01-05  0.261758 -0.299979  0.267228  2.429107\n",
              "2013-01-06  0.612693 -1.837019  1.139148 -0.973891"
            ]
          },
          "metadata": {
            "tags": []
          },
          "execution_count": 11
        }
      ]
    },
    {
      "cell_type": "code",
      "metadata": {
        "colab": {
          "base_uri": "https://localhost:8080/"
        },
        "id": "wKqInYkvE0gU",
        "outputId": "4f4fa25f-0206-4c8b-b94a-eca8670307ca"
      },
      "source": [
        "df.to_numpy()"
      ],
      "execution_count": 12,
      "outputs": [
        {
          "output_type": "execute_result",
          "data": {
            "text/plain": [
              "array([[-0.62442408, -0.57735998, -0.80031044, -0.60550472],\n",
              "       [ 0.53261118,  0.46675469,  0.35686073,  0.79172562],\n",
              "       [-0.32290856, -0.52598069, -0.31587955, -0.36183477],\n",
              "       [ 0.97127122, -0.12700149, -0.66772451,  1.91061184],\n",
              "       [ 0.26175766, -0.29997858,  0.26722844,  2.42910734],\n",
              "       [ 0.61269253, -1.83701854,  1.13914782, -0.97389148]])"
            ]
          },
          "metadata": {
            "tags": []
          },
          "execution_count": 12
        }
      ]
    },
    {
      "cell_type": "code",
      "metadata": {
        "id": "uA7GXea8E_de",
        "colab": {
          "base_uri": "https://localhost:8080/",
          "height": 175
        },
        "outputId": "ab35bcd8-80c6-46c3-86e7-5e9ec9cb646d"
      },
      "source": [
        "df2"
      ],
      "execution_count": 13,
      "outputs": [
        {
          "output_type": "execute_result",
          "data": {
            "text/html": [
              "<div>\n",
              "<style scoped>\n",
              "    .dataframe tbody tr th:only-of-type {\n",
              "        vertical-align: middle;\n",
              "    }\n",
              "\n",
              "    .dataframe tbody tr th {\n",
              "        vertical-align: top;\n",
              "    }\n",
              "\n",
              "    .dataframe thead th {\n",
              "        text-align: right;\n",
              "    }\n",
              "</style>\n",
              "<table border=\"1\" class=\"dataframe\">\n",
              "  <thead>\n",
              "    <tr style=\"text-align: right;\">\n",
              "      <th></th>\n",
              "      <th>A</th>\n",
              "      <th>B</th>\n",
              "      <th>C</th>\n",
              "      <th>D</th>\n",
              "      <th>E</th>\n",
              "      <th>F</th>\n",
              "    </tr>\n",
              "  </thead>\n",
              "  <tbody>\n",
              "    <tr>\n",
              "      <th>0</th>\n",
              "      <td>1.0</td>\n",
              "      <td>2013-01-02</td>\n",
              "      <td>1.0</td>\n",
              "      <td>3</td>\n",
              "      <td>test</td>\n",
              "      <td>foo</td>\n",
              "    </tr>\n",
              "    <tr>\n",
              "      <th>1</th>\n",
              "      <td>1.0</td>\n",
              "      <td>2013-01-02</td>\n",
              "      <td>1.0</td>\n",
              "      <td>3</td>\n",
              "      <td>train</td>\n",
              "      <td>foo</td>\n",
              "    </tr>\n",
              "    <tr>\n",
              "      <th>2</th>\n",
              "      <td>1.0</td>\n",
              "      <td>2013-01-02</td>\n",
              "      <td>1.0</td>\n",
              "      <td>3</td>\n",
              "      <td>test</td>\n",
              "      <td>foo</td>\n",
              "    </tr>\n",
              "    <tr>\n",
              "      <th>3</th>\n",
              "      <td>1.0</td>\n",
              "      <td>2013-01-02</td>\n",
              "      <td>1.0</td>\n",
              "      <td>3</td>\n",
              "      <td>train</td>\n",
              "      <td>foo</td>\n",
              "    </tr>\n",
              "  </tbody>\n",
              "</table>\n",
              "</div>"
            ],
            "text/plain": [
              "     A          B    C  D      E    F\n",
              "0  1.0 2013-01-02  1.0  3   test  foo\n",
              "1  1.0 2013-01-02  1.0  3  train  foo\n",
              "2  1.0 2013-01-02  1.0  3   test  foo\n",
              "3  1.0 2013-01-02  1.0  3  train  foo"
            ]
          },
          "metadata": {
            "tags": []
          },
          "execution_count": 13
        }
      ]
    },
    {
      "cell_type": "code",
      "metadata": {
        "colab": {
          "base_uri": "https://localhost:8080/"
        },
        "id": "worljdmrE2iE",
        "outputId": "508bc357-6d04-4851-855b-8e302cefc744"
      },
      "source": [
        "df2.to_numpy()"
      ],
      "execution_count": 14,
      "outputs": [
        {
          "output_type": "execute_result",
          "data": {
            "text/plain": [
              "array([[1.0, Timestamp('2013-01-02 00:00:00'), 1.0, 3, 'test', 'foo'],\n",
              "       [1.0, Timestamp('2013-01-02 00:00:00'), 1.0, 3, 'train', 'foo'],\n",
              "       [1.0, Timestamp('2013-01-02 00:00:00'), 1.0, 3, 'test', 'foo'],\n",
              "       [1.0, Timestamp('2013-01-02 00:00:00'), 1.0, 3, 'train', 'foo']],\n",
              "      dtype=object)"
            ]
          },
          "metadata": {
            "tags": []
          },
          "execution_count": 14
        }
      ]
    },
    {
      "cell_type": "markdown",
      "metadata": {
        "id": "NcnAybdKE93k"
      },
      "source": [
        "DataFrame.to_numpy()는 index와 columns를 포함하지 않습니다."
      ]
    },
    {
      "cell_type": "markdown",
      "metadata": {
        "id": "IzQJgkBPFL4g"
      },
      "source": [
        "Data를 T(transpose)합니다."
      ]
    },
    {
      "cell_type": "code",
      "metadata": {
        "colab": {
          "base_uri": "https://localhost:8080/",
          "height": 237
        },
        "id": "ZplehJKmFYG6",
        "outputId": "c7998add-58a9-4490-d51b-00aed7868301"
      },
      "source": [
        "df"
      ],
      "execution_count": 15,
      "outputs": [
        {
          "output_type": "execute_result",
          "data": {
            "text/html": [
              "<div>\n",
              "<style scoped>\n",
              "    .dataframe tbody tr th:only-of-type {\n",
              "        vertical-align: middle;\n",
              "    }\n",
              "\n",
              "    .dataframe tbody tr th {\n",
              "        vertical-align: top;\n",
              "    }\n",
              "\n",
              "    .dataframe thead th {\n",
              "        text-align: right;\n",
              "    }\n",
              "</style>\n",
              "<table border=\"1\" class=\"dataframe\">\n",
              "  <thead>\n",
              "    <tr style=\"text-align: right;\">\n",
              "      <th></th>\n",
              "      <th>A</th>\n",
              "      <th>B</th>\n",
              "      <th>C</th>\n",
              "      <th>D</th>\n",
              "    </tr>\n",
              "  </thead>\n",
              "  <tbody>\n",
              "    <tr>\n",
              "      <th>2013-01-01</th>\n",
              "      <td>-0.624424</td>\n",
              "      <td>-0.577360</td>\n",
              "      <td>-0.800310</td>\n",
              "      <td>-0.605505</td>\n",
              "    </tr>\n",
              "    <tr>\n",
              "      <th>2013-01-02</th>\n",
              "      <td>0.532611</td>\n",
              "      <td>0.466755</td>\n",
              "      <td>0.356861</td>\n",
              "      <td>0.791726</td>\n",
              "    </tr>\n",
              "    <tr>\n",
              "      <th>2013-01-03</th>\n",
              "      <td>-0.322909</td>\n",
              "      <td>-0.525981</td>\n",
              "      <td>-0.315880</td>\n",
              "      <td>-0.361835</td>\n",
              "    </tr>\n",
              "    <tr>\n",
              "      <th>2013-01-04</th>\n",
              "      <td>0.971271</td>\n",
              "      <td>-0.127001</td>\n",
              "      <td>-0.667725</td>\n",
              "      <td>1.910612</td>\n",
              "    </tr>\n",
              "    <tr>\n",
              "      <th>2013-01-05</th>\n",
              "      <td>0.261758</td>\n",
              "      <td>-0.299979</td>\n",
              "      <td>0.267228</td>\n",
              "      <td>2.429107</td>\n",
              "    </tr>\n",
              "    <tr>\n",
              "      <th>2013-01-06</th>\n",
              "      <td>0.612693</td>\n",
              "      <td>-1.837019</td>\n",
              "      <td>1.139148</td>\n",
              "      <td>-0.973891</td>\n",
              "    </tr>\n",
              "  </tbody>\n",
              "</table>\n",
              "</div>"
            ],
            "text/plain": [
              "                   A         B         C         D\n",
              "2013-01-01 -0.624424 -0.577360 -0.800310 -0.605505\n",
              "2013-01-02  0.532611  0.466755  0.356861  0.791726\n",
              "2013-01-03 -0.322909 -0.525981 -0.315880 -0.361835\n",
              "2013-01-04  0.971271 -0.127001 -0.667725  1.910612\n",
              "2013-01-05  0.261758 -0.299979  0.267228  2.429107\n",
              "2013-01-06  0.612693 -1.837019  1.139148 -0.973891"
            ]
          },
          "metadata": {
            "tags": []
          },
          "execution_count": 15
        }
      ]
    },
    {
      "cell_type": "code",
      "metadata": {
        "colab": {
          "base_uri": "https://localhost:8080/",
          "height": 175
        },
        "id": "WCVY4vhYFVKG",
        "outputId": "227af524-96fb-4bb1-be74-01ab33f53b3b"
      },
      "source": [
        "df.T"
      ],
      "execution_count": 16,
      "outputs": [
        {
          "output_type": "execute_result",
          "data": {
            "text/html": [
              "<div>\n",
              "<style scoped>\n",
              "    .dataframe tbody tr th:only-of-type {\n",
              "        vertical-align: middle;\n",
              "    }\n",
              "\n",
              "    .dataframe tbody tr th {\n",
              "        vertical-align: top;\n",
              "    }\n",
              "\n",
              "    .dataframe thead th {\n",
              "        text-align: right;\n",
              "    }\n",
              "</style>\n",
              "<table border=\"1\" class=\"dataframe\">\n",
              "  <thead>\n",
              "    <tr style=\"text-align: right;\">\n",
              "      <th></th>\n",
              "      <th>2013-01-01</th>\n",
              "      <th>2013-01-02</th>\n",
              "      <th>2013-01-03</th>\n",
              "      <th>2013-01-04</th>\n",
              "      <th>2013-01-05</th>\n",
              "      <th>2013-01-06</th>\n",
              "    </tr>\n",
              "  </thead>\n",
              "  <tbody>\n",
              "    <tr>\n",
              "      <th>A</th>\n",
              "      <td>-0.624424</td>\n",
              "      <td>0.532611</td>\n",
              "      <td>-0.322909</td>\n",
              "      <td>0.971271</td>\n",
              "      <td>0.261758</td>\n",
              "      <td>0.612693</td>\n",
              "    </tr>\n",
              "    <tr>\n",
              "      <th>B</th>\n",
              "      <td>-0.577360</td>\n",
              "      <td>0.466755</td>\n",
              "      <td>-0.525981</td>\n",
              "      <td>-0.127001</td>\n",
              "      <td>-0.299979</td>\n",
              "      <td>-1.837019</td>\n",
              "    </tr>\n",
              "    <tr>\n",
              "      <th>C</th>\n",
              "      <td>-0.800310</td>\n",
              "      <td>0.356861</td>\n",
              "      <td>-0.315880</td>\n",
              "      <td>-0.667725</td>\n",
              "      <td>0.267228</td>\n",
              "      <td>1.139148</td>\n",
              "    </tr>\n",
              "    <tr>\n",
              "      <th>D</th>\n",
              "      <td>-0.605505</td>\n",
              "      <td>0.791726</td>\n",
              "      <td>-0.361835</td>\n",
              "      <td>1.910612</td>\n",
              "      <td>2.429107</td>\n",
              "      <td>-0.973891</td>\n",
              "    </tr>\n",
              "  </tbody>\n",
              "</table>\n",
              "</div>"
            ],
            "text/plain": [
              "   2013-01-01  2013-01-02  2013-01-03  2013-01-04  2013-01-05  2013-01-06\n",
              "A   -0.624424    0.532611   -0.322909    0.971271    0.261758    0.612693\n",
              "B   -0.577360    0.466755   -0.525981   -0.127001   -0.299979   -1.837019\n",
              "C   -0.800310    0.356861   -0.315880   -0.667725    0.267228    1.139148\n",
              "D   -0.605505    0.791726   -0.361835    1.910612    2.429107   -0.973891"
            ]
          },
          "metadata": {
            "tags": []
          },
          "execution_count": 16
        }
      ]
    },
    {
      "cell_type": "markdown",
      "metadata": {
        "id": "3g625yTgFW3V"
      },
      "source": [
        "axis=1(열)을 기준으로 정렬합니다."
      ]
    },
    {
      "cell_type": "code",
      "metadata": {
        "colab": {
          "base_uri": "https://localhost:8080/",
          "height": 237
        },
        "id": "SlJ4tOXnFmqc",
        "outputId": "102c8a82-4386-404f-e6ca-1f7aabed2c66"
      },
      "source": [
        "df"
      ],
      "execution_count": 17,
      "outputs": [
        {
          "output_type": "execute_result",
          "data": {
            "text/html": [
              "<div>\n",
              "<style scoped>\n",
              "    .dataframe tbody tr th:only-of-type {\n",
              "        vertical-align: middle;\n",
              "    }\n",
              "\n",
              "    .dataframe tbody tr th {\n",
              "        vertical-align: top;\n",
              "    }\n",
              "\n",
              "    .dataframe thead th {\n",
              "        text-align: right;\n",
              "    }\n",
              "</style>\n",
              "<table border=\"1\" class=\"dataframe\">\n",
              "  <thead>\n",
              "    <tr style=\"text-align: right;\">\n",
              "      <th></th>\n",
              "      <th>A</th>\n",
              "      <th>B</th>\n",
              "      <th>C</th>\n",
              "      <th>D</th>\n",
              "    </tr>\n",
              "  </thead>\n",
              "  <tbody>\n",
              "    <tr>\n",
              "      <th>2013-01-01</th>\n",
              "      <td>-0.624424</td>\n",
              "      <td>-0.577360</td>\n",
              "      <td>-0.800310</td>\n",
              "      <td>-0.605505</td>\n",
              "    </tr>\n",
              "    <tr>\n",
              "      <th>2013-01-02</th>\n",
              "      <td>0.532611</td>\n",
              "      <td>0.466755</td>\n",
              "      <td>0.356861</td>\n",
              "      <td>0.791726</td>\n",
              "    </tr>\n",
              "    <tr>\n",
              "      <th>2013-01-03</th>\n",
              "      <td>-0.322909</td>\n",
              "      <td>-0.525981</td>\n",
              "      <td>-0.315880</td>\n",
              "      <td>-0.361835</td>\n",
              "    </tr>\n",
              "    <tr>\n",
              "      <th>2013-01-04</th>\n",
              "      <td>0.971271</td>\n",
              "      <td>-0.127001</td>\n",
              "      <td>-0.667725</td>\n",
              "      <td>1.910612</td>\n",
              "    </tr>\n",
              "    <tr>\n",
              "      <th>2013-01-05</th>\n",
              "      <td>0.261758</td>\n",
              "      <td>-0.299979</td>\n",
              "      <td>0.267228</td>\n",
              "      <td>2.429107</td>\n",
              "    </tr>\n",
              "    <tr>\n",
              "      <th>2013-01-06</th>\n",
              "      <td>0.612693</td>\n",
              "      <td>-1.837019</td>\n",
              "      <td>1.139148</td>\n",
              "      <td>-0.973891</td>\n",
              "    </tr>\n",
              "  </tbody>\n",
              "</table>\n",
              "</div>"
            ],
            "text/plain": [
              "                   A         B         C         D\n",
              "2013-01-01 -0.624424 -0.577360 -0.800310 -0.605505\n",
              "2013-01-02  0.532611  0.466755  0.356861  0.791726\n",
              "2013-01-03 -0.322909 -0.525981 -0.315880 -0.361835\n",
              "2013-01-04  0.971271 -0.127001 -0.667725  1.910612\n",
              "2013-01-05  0.261758 -0.299979  0.267228  2.429107\n",
              "2013-01-06  0.612693 -1.837019  1.139148 -0.973891"
            ]
          },
          "metadata": {
            "tags": []
          },
          "execution_count": 17
        }
      ]
    },
    {
      "cell_type": "code",
      "metadata": {
        "colab": {
          "base_uri": "https://localhost:8080/",
          "height": 237
        },
        "id": "37nFMi94Fgfk",
        "outputId": "dfbb3e18-8df8-481a-edcb-20187d5db3b9"
      },
      "source": [
        "df.sort_index(axis=1, ascending=False)"
      ],
      "execution_count": 18,
      "outputs": [
        {
          "output_type": "execute_result",
          "data": {
            "text/html": [
              "<div>\n",
              "<style scoped>\n",
              "    .dataframe tbody tr th:only-of-type {\n",
              "        vertical-align: middle;\n",
              "    }\n",
              "\n",
              "    .dataframe tbody tr th {\n",
              "        vertical-align: top;\n",
              "    }\n",
              "\n",
              "    .dataframe thead th {\n",
              "        text-align: right;\n",
              "    }\n",
              "</style>\n",
              "<table border=\"1\" class=\"dataframe\">\n",
              "  <thead>\n",
              "    <tr style=\"text-align: right;\">\n",
              "      <th></th>\n",
              "      <th>D</th>\n",
              "      <th>C</th>\n",
              "      <th>B</th>\n",
              "      <th>A</th>\n",
              "    </tr>\n",
              "  </thead>\n",
              "  <tbody>\n",
              "    <tr>\n",
              "      <th>2013-01-01</th>\n",
              "      <td>-0.605505</td>\n",
              "      <td>-0.800310</td>\n",
              "      <td>-0.577360</td>\n",
              "      <td>-0.624424</td>\n",
              "    </tr>\n",
              "    <tr>\n",
              "      <th>2013-01-02</th>\n",
              "      <td>0.791726</td>\n",
              "      <td>0.356861</td>\n",
              "      <td>0.466755</td>\n",
              "      <td>0.532611</td>\n",
              "    </tr>\n",
              "    <tr>\n",
              "      <th>2013-01-03</th>\n",
              "      <td>-0.361835</td>\n",
              "      <td>-0.315880</td>\n",
              "      <td>-0.525981</td>\n",
              "      <td>-0.322909</td>\n",
              "    </tr>\n",
              "    <tr>\n",
              "      <th>2013-01-04</th>\n",
              "      <td>1.910612</td>\n",
              "      <td>-0.667725</td>\n",
              "      <td>-0.127001</td>\n",
              "      <td>0.971271</td>\n",
              "    </tr>\n",
              "    <tr>\n",
              "      <th>2013-01-05</th>\n",
              "      <td>2.429107</td>\n",
              "      <td>0.267228</td>\n",
              "      <td>-0.299979</td>\n",
              "      <td>0.261758</td>\n",
              "    </tr>\n",
              "    <tr>\n",
              "      <th>2013-01-06</th>\n",
              "      <td>-0.973891</td>\n",
              "      <td>1.139148</td>\n",
              "      <td>-1.837019</td>\n",
              "      <td>0.612693</td>\n",
              "    </tr>\n",
              "  </tbody>\n",
              "</table>\n",
              "</div>"
            ],
            "text/plain": [
              "                   D         C         B         A\n",
              "2013-01-01 -0.605505 -0.800310 -0.577360 -0.624424\n",
              "2013-01-02  0.791726  0.356861  0.466755  0.532611\n",
              "2013-01-03 -0.361835 -0.315880 -0.525981 -0.322909\n",
              "2013-01-04  1.910612 -0.667725 -0.127001  0.971271\n",
              "2013-01-05  2.429107  0.267228 -0.299979  0.261758\n",
              "2013-01-06 -0.973891  1.139148 -1.837019  0.612693"
            ]
          },
          "metadata": {
            "tags": []
          },
          "execution_count": 18
        }
      ]
    },
    {
      "cell_type": "markdown",
      "metadata": {
        "id": "qbpQocBRFkN6"
      },
      "source": [
        "values를 기준으로 정렬합니다.\n",
        "\n",
        "기본적으로 오름차순이 적용됩니다. ascending = True "
      ]
    },
    {
      "cell_type": "code",
      "metadata": {
        "colab": {
          "base_uri": "https://localhost:8080/",
          "height": 237
        },
        "id": "7w7kMRIRFuM2",
        "outputId": "d9386adf-c1bd-4fae-87da-9835f197d5d9"
      },
      "source": [
        "df.sort_values(by=\"B\")"
      ],
      "execution_count": 19,
      "outputs": [
        {
          "output_type": "execute_result",
          "data": {
            "text/html": [
              "<div>\n",
              "<style scoped>\n",
              "    .dataframe tbody tr th:only-of-type {\n",
              "        vertical-align: middle;\n",
              "    }\n",
              "\n",
              "    .dataframe tbody tr th {\n",
              "        vertical-align: top;\n",
              "    }\n",
              "\n",
              "    .dataframe thead th {\n",
              "        text-align: right;\n",
              "    }\n",
              "</style>\n",
              "<table border=\"1\" class=\"dataframe\">\n",
              "  <thead>\n",
              "    <tr style=\"text-align: right;\">\n",
              "      <th></th>\n",
              "      <th>A</th>\n",
              "      <th>B</th>\n",
              "      <th>C</th>\n",
              "      <th>D</th>\n",
              "    </tr>\n",
              "  </thead>\n",
              "  <tbody>\n",
              "    <tr>\n",
              "      <th>2013-01-06</th>\n",
              "      <td>0.612693</td>\n",
              "      <td>-1.837019</td>\n",
              "      <td>1.139148</td>\n",
              "      <td>-0.973891</td>\n",
              "    </tr>\n",
              "    <tr>\n",
              "      <th>2013-01-01</th>\n",
              "      <td>-0.624424</td>\n",
              "      <td>-0.577360</td>\n",
              "      <td>-0.800310</td>\n",
              "      <td>-0.605505</td>\n",
              "    </tr>\n",
              "    <tr>\n",
              "      <th>2013-01-03</th>\n",
              "      <td>-0.322909</td>\n",
              "      <td>-0.525981</td>\n",
              "      <td>-0.315880</td>\n",
              "      <td>-0.361835</td>\n",
              "    </tr>\n",
              "    <tr>\n",
              "      <th>2013-01-05</th>\n",
              "      <td>0.261758</td>\n",
              "      <td>-0.299979</td>\n",
              "      <td>0.267228</td>\n",
              "      <td>2.429107</td>\n",
              "    </tr>\n",
              "    <tr>\n",
              "      <th>2013-01-04</th>\n",
              "      <td>0.971271</td>\n",
              "      <td>-0.127001</td>\n",
              "      <td>-0.667725</td>\n",
              "      <td>1.910612</td>\n",
              "    </tr>\n",
              "    <tr>\n",
              "      <th>2013-01-02</th>\n",
              "      <td>0.532611</td>\n",
              "      <td>0.466755</td>\n",
              "      <td>0.356861</td>\n",
              "      <td>0.791726</td>\n",
              "    </tr>\n",
              "  </tbody>\n",
              "</table>\n",
              "</div>"
            ],
            "text/plain": [
              "                   A         B         C         D\n",
              "2013-01-06  0.612693 -1.837019  1.139148 -0.973891\n",
              "2013-01-01 -0.624424 -0.577360 -0.800310 -0.605505\n",
              "2013-01-03 -0.322909 -0.525981 -0.315880 -0.361835\n",
              "2013-01-05  0.261758 -0.299979  0.267228  2.429107\n",
              "2013-01-04  0.971271 -0.127001 -0.667725  1.910612\n",
              "2013-01-02  0.532611  0.466755  0.356861  0.791726"
            ]
          },
          "metadata": {
            "tags": []
          },
          "execution_count": 19
        }
      ]
    },
    {
      "cell_type": "markdown",
      "metadata": {
        "id": "pcJqOgM3SZe8"
      },
      "source": [
        "# 가져오기"
      ]
    },
    {
      "cell_type": "markdown",
      "metadata": {
        "id": "t9aUEM7tSkwE"
      },
      "source": [
        "single column을 선택하면 Series 가 생성이 됩니다.\n",
        "\n",
        "df.A와 기능이 동등합니다."
      ]
    },
    {
      "cell_type": "code",
      "metadata": {
        "colab": {
          "base_uri": "https://localhost:8080/"
        },
        "id": "ZmSEp2dKS92g",
        "outputId": "0067ec15-7b7c-4266-cac0-cc080429f234"
      },
      "source": [
        "df[\"A\"]"
      ],
      "execution_count": 20,
      "outputs": [
        {
          "output_type": "execute_result",
          "data": {
            "text/plain": [
              "2013-01-01   -0.624424\n",
              "2013-01-02    0.532611\n",
              "2013-01-03   -0.322909\n",
              "2013-01-04    0.971271\n",
              "2013-01-05    0.261758\n",
              "2013-01-06    0.612693\n",
              "Freq: D, Name: A, dtype: float64"
            ]
          },
          "metadata": {
            "tags": []
          },
          "execution_count": 20
        }
      ]
    },
    {
      "cell_type": "markdown",
      "metadata": {
        "id": "oo4oB5joS-uR"
      },
      "source": [
        "[]을 사용하면 행을 분할(슬라이싱) 합니다."
      ]
    },
    {
      "cell_type": "code",
      "metadata": {
        "colab": {
          "base_uri": "https://localhost:8080/",
          "height": 143
        },
        "id": "c-4744oRTMzY",
        "outputId": "d1c0f86c-a071-43fe-d6e3-55d59f1fd11e"
      },
      "source": [
        "df[0:3]"
      ],
      "execution_count": 21,
      "outputs": [
        {
          "output_type": "execute_result",
          "data": {
            "text/html": [
              "<div>\n",
              "<style scoped>\n",
              "    .dataframe tbody tr th:only-of-type {\n",
              "        vertical-align: middle;\n",
              "    }\n",
              "\n",
              "    .dataframe tbody tr th {\n",
              "        vertical-align: top;\n",
              "    }\n",
              "\n",
              "    .dataframe thead th {\n",
              "        text-align: right;\n",
              "    }\n",
              "</style>\n",
              "<table border=\"1\" class=\"dataframe\">\n",
              "  <thead>\n",
              "    <tr style=\"text-align: right;\">\n",
              "      <th></th>\n",
              "      <th>A</th>\n",
              "      <th>B</th>\n",
              "      <th>C</th>\n",
              "      <th>D</th>\n",
              "    </tr>\n",
              "  </thead>\n",
              "  <tbody>\n",
              "    <tr>\n",
              "      <th>2013-01-01</th>\n",
              "      <td>-0.624424</td>\n",
              "      <td>-0.577360</td>\n",
              "      <td>-0.800310</td>\n",
              "      <td>-0.605505</td>\n",
              "    </tr>\n",
              "    <tr>\n",
              "      <th>2013-01-02</th>\n",
              "      <td>0.532611</td>\n",
              "      <td>0.466755</td>\n",
              "      <td>0.356861</td>\n",
              "      <td>0.791726</td>\n",
              "    </tr>\n",
              "    <tr>\n",
              "      <th>2013-01-03</th>\n",
              "      <td>-0.322909</td>\n",
              "      <td>-0.525981</td>\n",
              "      <td>-0.315880</td>\n",
              "      <td>-0.361835</td>\n",
              "    </tr>\n",
              "  </tbody>\n",
              "</table>\n",
              "</div>"
            ],
            "text/plain": [
              "                   A         B         C         D\n",
              "2013-01-01 -0.624424 -0.577360 -0.800310 -0.605505\n",
              "2013-01-02  0.532611  0.466755  0.356861  0.791726\n",
              "2013-01-03 -0.322909 -0.525981 -0.315880 -0.361835"
            ]
          },
          "metadata": {
            "tags": []
          },
          "execution_count": 21
        }
      ]
    },
    {
      "cell_type": "code",
      "metadata": {
        "colab": {
          "base_uri": "https://localhost:8080/",
          "height": 143
        },
        "id": "BknuO9lBTOPQ",
        "outputId": "76245a74-01ec-45a2-ccab-3834de939acb"
      },
      "source": [
        "df[\"20130102\":\"20130104\"]"
      ],
      "execution_count": 22,
      "outputs": [
        {
          "output_type": "execute_result",
          "data": {
            "text/html": [
              "<div>\n",
              "<style scoped>\n",
              "    .dataframe tbody tr th:only-of-type {\n",
              "        vertical-align: middle;\n",
              "    }\n",
              "\n",
              "    .dataframe tbody tr th {\n",
              "        vertical-align: top;\n",
              "    }\n",
              "\n",
              "    .dataframe thead th {\n",
              "        text-align: right;\n",
              "    }\n",
              "</style>\n",
              "<table border=\"1\" class=\"dataframe\">\n",
              "  <thead>\n",
              "    <tr style=\"text-align: right;\">\n",
              "      <th></th>\n",
              "      <th>A</th>\n",
              "      <th>B</th>\n",
              "      <th>C</th>\n",
              "      <th>D</th>\n",
              "    </tr>\n",
              "  </thead>\n",
              "  <tbody>\n",
              "    <tr>\n",
              "      <th>2013-01-02</th>\n",
              "      <td>0.532611</td>\n",
              "      <td>0.466755</td>\n",
              "      <td>0.356861</td>\n",
              "      <td>0.791726</td>\n",
              "    </tr>\n",
              "    <tr>\n",
              "      <th>2013-01-03</th>\n",
              "      <td>-0.322909</td>\n",
              "      <td>-0.525981</td>\n",
              "      <td>-0.315880</td>\n",
              "      <td>-0.361835</td>\n",
              "    </tr>\n",
              "    <tr>\n",
              "      <th>2013-01-04</th>\n",
              "      <td>0.971271</td>\n",
              "      <td>-0.127001</td>\n",
              "      <td>-0.667725</td>\n",
              "      <td>1.910612</td>\n",
              "    </tr>\n",
              "  </tbody>\n",
              "</table>\n",
              "</div>"
            ],
            "text/plain": [
              "                   A         B         C         D\n",
              "2013-01-02  0.532611  0.466755  0.356861  0.791726\n",
              "2013-01-03 -0.322909 -0.525981 -0.315880 -0.361835\n",
              "2013-01-04  0.971271 -0.127001 -0.667725  1.910612"
            ]
          },
          "metadata": {
            "tags": []
          },
          "execution_count": 22
        }
      ]
    },
    {
      "cell_type": "markdown",
      "metadata": {
        "id": "6N6gvzinTSVG"
      },
      "source": [
        "# 레이블별 선택"
      ]
    },
    {
      "cell_type": "markdown",
      "metadata": {
        "id": "Tt7gjsYXTe9R"
      },
      "source": [
        "레이블을 사용하여 가져오기"
      ]
    },
    {
      "cell_type": "code",
      "metadata": {
        "colab": {
          "base_uri": "https://localhost:8080/"
        },
        "id": "CfIVV_NuTnyg",
        "outputId": "4e391945-7b27-4fa2-d65e-04810f6a1a08"
      },
      "source": [
        "df.loc[dates[0]]"
      ],
      "execution_count": 23,
      "outputs": [
        {
          "output_type": "execute_result",
          "data": {
            "text/plain": [
              "A   -0.624424\n",
              "B   -0.577360\n",
              "C   -0.800310\n",
              "D   -0.605505\n",
              "Name: 2013-01-01 00:00:00, dtype: float64"
            ]
          },
          "metadata": {
            "tags": []
          },
          "execution_count": 23
        }
      ]
    },
    {
      "cell_type": "markdown",
      "metadata": {
        "id": "bT0x0_EGTpCk"
      },
      "source": [
        "컬럼을 다중으로 선택하여 가져오기"
      ]
    },
    {
      "cell_type": "code",
      "metadata": {
        "colab": {
          "base_uri": "https://localhost:8080/",
          "height": 237
        },
        "id": "KDkcryxkT2_T",
        "outputId": "81b2b4d2-6fd9-433b-ab81-1fe930ae706d"
      },
      "source": [
        "df.loc[:, [\"A\", \"B\"]]"
      ],
      "execution_count": 24,
      "outputs": [
        {
          "output_type": "execute_result",
          "data": {
            "text/html": [
              "<div>\n",
              "<style scoped>\n",
              "    .dataframe tbody tr th:only-of-type {\n",
              "        vertical-align: middle;\n",
              "    }\n",
              "\n",
              "    .dataframe tbody tr th {\n",
              "        vertical-align: top;\n",
              "    }\n",
              "\n",
              "    .dataframe thead th {\n",
              "        text-align: right;\n",
              "    }\n",
              "</style>\n",
              "<table border=\"1\" class=\"dataframe\">\n",
              "  <thead>\n",
              "    <tr style=\"text-align: right;\">\n",
              "      <th></th>\n",
              "      <th>A</th>\n",
              "      <th>B</th>\n",
              "    </tr>\n",
              "  </thead>\n",
              "  <tbody>\n",
              "    <tr>\n",
              "      <th>2013-01-01</th>\n",
              "      <td>-0.624424</td>\n",
              "      <td>-0.577360</td>\n",
              "    </tr>\n",
              "    <tr>\n",
              "      <th>2013-01-02</th>\n",
              "      <td>0.532611</td>\n",
              "      <td>0.466755</td>\n",
              "    </tr>\n",
              "    <tr>\n",
              "      <th>2013-01-03</th>\n",
              "      <td>-0.322909</td>\n",
              "      <td>-0.525981</td>\n",
              "    </tr>\n",
              "    <tr>\n",
              "      <th>2013-01-04</th>\n",
              "      <td>0.971271</td>\n",
              "      <td>-0.127001</td>\n",
              "    </tr>\n",
              "    <tr>\n",
              "      <th>2013-01-05</th>\n",
              "      <td>0.261758</td>\n",
              "      <td>-0.299979</td>\n",
              "    </tr>\n",
              "    <tr>\n",
              "      <th>2013-01-06</th>\n",
              "      <td>0.612693</td>\n",
              "      <td>-1.837019</td>\n",
              "    </tr>\n",
              "  </tbody>\n",
              "</table>\n",
              "</div>"
            ],
            "text/plain": [
              "                   A         B\n",
              "2013-01-01 -0.624424 -0.577360\n",
              "2013-01-02  0.532611  0.466755\n",
              "2013-01-03 -0.322909 -0.525981\n",
              "2013-01-04  0.971271 -0.127001\n",
              "2013-01-05  0.261758 -0.299979\n",
              "2013-01-06  0.612693 -1.837019"
            ]
          },
          "metadata": {
            "tags": []
          },
          "execution_count": 24
        }
      ]
    },
    {
      "cell_type": "markdown",
      "metadata": {
        "id": "K6Vt032_T5yz"
      },
      "source": [
        "종료지점을 포함한 슬라이싱"
      ]
    },
    {
      "cell_type": "code",
      "metadata": {
        "colab": {
          "base_uri": "https://localhost:8080/",
          "height": 143
        },
        "id": "1yXVywS6UDzY",
        "outputId": "6c32df92-a6c9-4c2f-b226-29deb289c429"
      },
      "source": [
        "df.loc[\"20130102\" : \"20130104\", [\"A\",\"B\"]]"
      ],
      "execution_count": 25,
      "outputs": [
        {
          "output_type": "execute_result",
          "data": {
            "text/html": [
              "<div>\n",
              "<style scoped>\n",
              "    .dataframe tbody tr th:only-of-type {\n",
              "        vertical-align: middle;\n",
              "    }\n",
              "\n",
              "    .dataframe tbody tr th {\n",
              "        vertical-align: top;\n",
              "    }\n",
              "\n",
              "    .dataframe thead th {\n",
              "        text-align: right;\n",
              "    }\n",
              "</style>\n",
              "<table border=\"1\" class=\"dataframe\">\n",
              "  <thead>\n",
              "    <tr style=\"text-align: right;\">\n",
              "      <th></th>\n",
              "      <th>A</th>\n",
              "      <th>B</th>\n",
              "    </tr>\n",
              "  </thead>\n",
              "  <tbody>\n",
              "    <tr>\n",
              "      <th>2013-01-02</th>\n",
              "      <td>0.532611</td>\n",
              "      <td>0.466755</td>\n",
              "    </tr>\n",
              "    <tr>\n",
              "      <th>2013-01-03</th>\n",
              "      <td>-0.322909</td>\n",
              "      <td>-0.525981</td>\n",
              "    </tr>\n",
              "    <tr>\n",
              "      <th>2013-01-04</th>\n",
              "      <td>0.971271</td>\n",
              "      <td>-0.127001</td>\n",
              "    </tr>\n",
              "  </tbody>\n",
              "</table>\n",
              "</div>"
            ],
            "text/plain": [
              "                   A         B\n",
              "2013-01-02  0.532611  0.466755\n",
              "2013-01-03 -0.322909 -0.525981\n",
              "2013-01-04  0.971271 -0.127001"
            ]
          },
          "metadata": {
            "tags": []
          },
          "execution_count": 25
        }
      ]
    },
    {
      "cell_type": "markdown",
      "metadata": {
        "id": "7LuZbaMSUTx3"
      },
      "source": [
        "객체가 반환하는 차원이 감소합니다."
      ]
    },
    {
      "cell_type": "code",
      "metadata": {
        "colab": {
          "base_uri": "https://localhost:8080/"
        },
        "id": "AWJKW0uLUHpY",
        "outputId": "ede0a54a-6491-4a49-eb3b-bc482468cefb"
      },
      "source": [
        "df.loc[\"20130102\", [\"A\",\"B\"]]"
      ],
      "execution_count": 26,
      "outputs": [
        {
          "output_type": "execute_result",
          "data": {
            "text/plain": [
              "A    0.532611\n",
              "B    0.466755\n",
              "Name: 2013-01-02 00:00:00, dtype: float64"
            ]
          },
          "metadata": {
            "tags": []
          },
          "execution_count": 26
        }
      ]
    },
    {
      "cell_type": "markdown",
      "metadata": {
        "id": "Y1lEwei4UQ87"
      },
      "source": [
        "scalar 값을 가져옵니다"
      ]
    },
    {
      "cell_type": "code",
      "metadata": {
        "colab": {
          "base_uri": "https://localhost:8080/"
        },
        "id": "1YQIvMpdUaEE",
        "outputId": "5cf849df-1d9d-45f9-ab9e-f9108ad4215a"
      },
      "source": [
        "df.loc[dates[0], \"A\"]"
      ],
      "execution_count": 27,
      "outputs": [
        {
          "output_type": "execute_result",
          "data": {
            "text/plain": [
              "-0.6244240756413102"
            ]
          },
          "metadata": {
            "tags": []
          },
          "execution_count": 27
        }
      ]
    },
    {
      "cell_type": "markdown",
      "metadata": {
        "id": "ZCtA9AcEUdVE"
      },
      "source": [
        "scalar에 빠르게 엑세스하여 가져오는 방법입니다."
      ]
    },
    {
      "cell_type": "code",
      "metadata": {
        "colab": {
          "base_uri": "https://localhost:8080/"
        },
        "id": "mQdU6hpyUoH4",
        "outputId": "66fd39b8-062b-471b-fefc-8abcb8a8d9e4"
      },
      "source": [
        "# df.at[\"20130101\",\"A\"]\n",
        "df.at[dates[0],\"A\"]"
      ],
      "execution_count": 28,
      "outputs": [
        {
          "output_type": "execute_result",
          "data": {
            "text/plain": [
              "-0.6244240756413102"
            ]
          },
          "metadata": {
            "tags": []
          },
          "execution_count": 28
        }
      ]
    },
    {
      "cell_type": "markdown",
      "metadata": {
        "id": "tck16pWdUp2E"
      },
      "source": [
        "# 위치(position)별로 선택"
      ]
    },
    {
      "cell_type": "markdown",
      "metadata": {
        "id": "125XTh123r9u"
      },
      "source": [
        "전달된 정수(integers)의 위치를 통해 다음을 선택\n"
      ]
    },
    {
      "cell_type": "code",
      "metadata": {
        "colab": {
          "base_uri": "https://localhost:8080/"
        },
        "id": "U1m1qi1t4PXj",
        "outputId": "604f3a22-c179-452b-e432-e8ed6c6e5447"
      },
      "source": [
        "df.iloc[3]"
      ],
      "execution_count": 32,
      "outputs": [
        {
          "output_type": "execute_result",
          "data": {
            "text/plain": [
              "A    0.971271\n",
              "B   -0.127001\n",
              "C   -0.667725\n",
              "D    1.910612\n",
              "Name: 2013-01-04 00:00:00, dtype: float64"
            ]
          },
          "metadata": {
            "tags": []
          },
          "execution_count": 32
        }
      ]
    },
    {
      "cell_type": "markdown",
      "metadata": {
        "id": "j2cWlsJ74ce4"
      },
      "source": [
        "슬라이싱을 통해 Numpy/Python과 유사하게 작동합니다."
      ]
    },
    {
      "cell_type": "code",
      "metadata": {
        "colab": {
          "base_uri": "https://localhost:8080/",
          "height": 112
        },
        "id": "TRaHBSvb4QhU",
        "outputId": "c1d83ab5-12d9-43d1-ca8e-1e4a73462876"
      },
      "source": [
        "df.iloc[3:5, 0:2]"
      ],
      "execution_count": 33,
      "outputs": [
        {
          "output_type": "execute_result",
          "data": {
            "text/html": [
              "<div>\n",
              "<style scoped>\n",
              "    .dataframe tbody tr th:only-of-type {\n",
              "        vertical-align: middle;\n",
              "    }\n",
              "\n",
              "    .dataframe tbody tr th {\n",
              "        vertical-align: top;\n",
              "    }\n",
              "\n",
              "    .dataframe thead th {\n",
              "        text-align: right;\n",
              "    }\n",
              "</style>\n",
              "<table border=\"1\" class=\"dataframe\">\n",
              "  <thead>\n",
              "    <tr style=\"text-align: right;\">\n",
              "      <th></th>\n",
              "      <th>A</th>\n",
              "      <th>B</th>\n",
              "    </tr>\n",
              "  </thead>\n",
              "  <tbody>\n",
              "    <tr>\n",
              "      <th>2013-01-04</th>\n",
              "      <td>0.971271</td>\n",
              "      <td>-0.127001</td>\n",
              "    </tr>\n",
              "    <tr>\n",
              "      <th>2013-01-05</th>\n",
              "      <td>0.261758</td>\n",
              "      <td>-0.299979</td>\n",
              "    </tr>\n",
              "  </tbody>\n",
              "</table>\n",
              "</div>"
            ],
            "text/plain": [
              "                   A         B\n",
              "2013-01-04  0.971271 -0.127001\n",
              "2013-01-05  0.261758 -0.299979"
            ]
          },
          "metadata": {
            "tags": []
          },
          "execution_count": 33
        }
      ]
    },
    {
      "cell_type": "markdown",
      "metadata": {
        "id": "cCrSph7c4kA6"
      },
      "source": [
        "정수 리스트를 통해 표현"
      ]
    },
    {
      "cell_type": "code",
      "metadata": {
        "colab": {
          "base_uri": "https://localhost:8080/",
          "height": 143
        },
        "id": "B62OfjMU42ok",
        "outputId": "5f2158c1-3488-4b2e-ef3d-63890f793597"
      },
      "source": [
        "df.iloc[[1,2,4],[0,2]]\n"
      ],
      "execution_count": 34,
      "outputs": [
        {
          "output_type": "execute_result",
          "data": {
            "text/html": [
              "<div>\n",
              "<style scoped>\n",
              "    .dataframe tbody tr th:only-of-type {\n",
              "        vertical-align: middle;\n",
              "    }\n",
              "\n",
              "    .dataframe tbody tr th {\n",
              "        vertical-align: top;\n",
              "    }\n",
              "\n",
              "    .dataframe thead th {\n",
              "        text-align: right;\n",
              "    }\n",
              "</style>\n",
              "<table border=\"1\" class=\"dataframe\">\n",
              "  <thead>\n",
              "    <tr style=\"text-align: right;\">\n",
              "      <th></th>\n",
              "      <th>A</th>\n",
              "      <th>C</th>\n",
              "    </tr>\n",
              "  </thead>\n",
              "  <tbody>\n",
              "    <tr>\n",
              "      <th>2013-01-02</th>\n",
              "      <td>0.532611</td>\n",
              "      <td>0.356861</td>\n",
              "    </tr>\n",
              "    <tr>\n",
              "      <th>2013-01-03</th>\n",
              "      <td>-0.322909</td>\n",
              "      <td>-0.315880</td>\n",
              "    </tr>\n",
              "    <tr>\n",
              "      <th>2013-01-05</th>\n",
              "      <td>0.261758</td>\n",
              "      <td>0.267228</td>\n",
              "    </tr>\n",
              "  </tbody>\n",
              "</table>\n",
              "</div>"
            ],
            "text/plain": [
              "                   A         C\n",
              "2013-01-02  0.532611  0.356861\n",
              "2013-01-03 -0.322909 -0.315880\n",
              "2013-01-05  0.261758  0.267228"
            ]
          },
          "metadata": {
            "tags": []
          },
          "execution_count": 34
        }
      ]
    },
    {
      "cell_type": "markdown",
      "metadata": {
        "id": "5nmHF4Gx48AH"
      },
      "source": [
        "row(행)만 슬라이싱을 합니다."
      ]
    },
    {
      "cell_type": "code",
      "metadata": {
        "colab": {
          "base_uri": "https://localhost:8080/",
          "height": 112
        },
        "id": "LaKmst7R46QM",
        "outputId": "a2a062ab-4add-49c7-dea2-9750b307661f"
      },
      "source": [
        "df.iloc[1:3, :]"
      ],
      "execution_count": 35,
      "outputs": [
        {
          "output_type": "execute_result",
          "data": {
            "text/html": [
              "<div>\n",
              "<style scoped>\n",
              "    .dataframe tbody tr th:only-of-type {\n",
              "        vertical-align: middle;\n",
              "    }\n",
              "\n",
              "    .dataframe tbody tr th {\n",
              "        vertical-align: top;\n",
              "    }\n",
              "\n",
              "    .dataframe thead th {\n",
              "        text-align: right;\n",
              "    }\n",
              "</style>\n",
              "<table border=\"1\" class=\"dataframe\">\n",
              "  <thead>\n",
              "    <tr style=\"text-align: right;\">\n",
              "      <th></th>\n",
              "      <th>A</th>\n",
              "      <th>B</th>\n",
              "      <th>C</th>\n",
              "      <th>D</th>\n",
              "    </tr>\n",
              "  </thead>\n",
              "  <tbody>\n",
              "    <tr>\n",
              "      <th>2013-01-02</th>\n",
              "      <td>0.532611</td>\n",
              "      <td>0.466755</td>\n",
              "      <td>0.356861</td>\n",
              "      <td>0.791726</td>\n",
              "    </tr>\n",
              "    <tr>\n",
              "      <th>2013-01-03</th>\n",
              "      <td>-0.322909</td>\n",
              "      <td>-0.525981</td>\n",
              "      <td>-0.315880</td>\n",
              "      <td>-0.361835</td>\n",
              "    </tr>\n",
              "  </tbody>\n",
              "</table>\n",
              "</div>"
            ],
            "text/plain": [
              "                   A         B         C         D\n",
              "2013-01-02  0.532611  0.466755  0.356861  0.791726\n",
              "2013-01-03 -0.322909 -0.525981 -0.315880 -0.361835"
            ]
          },
          "metadata": {
            "tags": []
          },
          "execution_count": 35
        }
      ]
    },
    {
      "cell_type": "markdown",
      "metadata": {
        "id": "2CqPzUc95AuZ"
      },
      "source": [
        "columns(열)만 슬라이싱 합니다."
      ]
    },
    {
      "cell_type": "code",
      "metadata": {
        "colab": {
          "base_uri": "https://localhost:8080/",
          "height": 237
        },
        "id": "81A5dEsT5Fjw",
        "outputId": "808a536c-4b0d-4b5d-a584-d99ca21da644"
      },
      "source": [
        "df.iloc[:, 1:3]"
      ],
      "execution_count": 36,
      "outputs": [
        {
          "output_type": "execute_result",
          "data": {
            "text/html": [
              "<div>\n",
              "<style scoped>\n",
              "    .dataframe tbody tr th:only-of-type {\n",
              "        vertical-align: middle;\n",
              "    }\n",
              "\n",
              "    .dataframe tbody tr th {\n",
              "        vertical-align: top;\n",
              "    }\n",
              "\n",
              "    .dataframe thead th {\n",
              "        text-align: right;\n",
              "    }\n",
              "</style>\n",
              "<table border=\"1\" class=\"dataframe\">\n",
              "  <thead>\n",
              "    <tr style=\"text-align: right;\">\n",
              "      <th></th>\n",
              "      <th>B</th>\n",
              "      <th>C</th>\n",
              "    </tr>\n",
              "  </thead>\n",
              "  <tbody>\n",
              "    <tr>\n",
              "      <th>2013-01-01</th>\n",
              "      <td>-0.577360</td>\n",
              "      <td>-0.800310</td>\n",
              "    </tr>\n",
              "    <tr>\n",
              "      <th>2013-01-02</th>\n",
              "      <td>0.466755</td>\n",
              "      <td>0.356861</td>\n",
              "    </tr>\n",
              "    <tr>\n",
              "      <th>2013-01-03</th>\n",
              "      <td>-0.525981</td>\n",
              "      <td>-0.315880</td>\n",
              "    </tr>\n",
              "    <tr>\n",
              "      <th>2013-01-04</th>\n",
              "      <td>-0.127001</td>\n",
              "      <td>-0.667725</td>\n",
              "    </tr>\n",
              "    <tr>\n",
              "      <th>2013-01-05</th>\n",
              "      <td>-0.299979</td>\n",
              "      <td>0.267228</td>\n",
              "    </tr>\n",
              "    <tr>\n",
              "      <th>2013-01-06</th>\n",
              "      <td>-1.837019</td>\n",
              "      <td>1.139148</td>\n",
              "    </tr>\n",
              "  </tbody>\n",
              "</table>\n",
              "</div>"
            ],
            "text/plain": [
              "                   B         C\n",
              "2013-01-01 -0.577360 -0.800310\n",
              "2013-01-02  0.466755  0.356861\n",
              "2013-01-03 -0.525981 -0.315880\n",
              "2013-01-04 -0.127001 -0.667725\n",
              "2013-01-05 -0.299979  0.267228\n",
              "2013-01-06 -1.837019  1.139148"
            ]
          },
          "metadata": {
            "tags": []
          },
          "execution_count": 36
        }
      ]
    },
    {
      "cell_type": "markdown",
      "metadata": {
        "id": "sEgHTk0O5G2V"
      },
      "source": [
        "value(값)로 가져옵니다."
      ]
    },
    {
      "cell_type": "code",
      "metadata": {
        "colab": {
          "base_uri": "https://localhost:8080/"
        },
        "id": "IbcyjwKW5OmQ",
        "outputId": "89a9a911-0240-4654-8288-cae122cac123"
      },
      "source": [
        "df.iloc[1,1]"
      ],
      "execution_count": 37,
      "outputs": [
        {
          "output_type": "execute_result",
          "data": {
            "text/plain": [
              "0.46675468918349966"
            ]
          },
          "metadata": {
            "tags": []
          },
          "execution_count": 37
        }
      ]
    },
    {
      "cell_type": "markdown",
      "metadata": {
        "id": "9AnVgVyX5PnN"
      },
      "source": [
        "scalar를 빠르게 엑세스하여 가져옵니다."
      ]
    },
    {
      "cell_type": "code",
      "metadata": {
        "colab": {
          "base_uri": "https://localhost:8080/"
        },
        "id": "cVHauL2Y5UWR",
        "outputId": "623e51fe-4bea-458a-8046-a327ee4d4671"
      },
      "source": [
        "df.iat[1,1]"
      ],
      "execution_count": 38,
      "outputs": [
        {
          "output_type": "execute_result",
          "data": {
            "text/plain": [
              "0.46675468918349966"
            ]
          },
          "metadata": {
            "tags": []
          },
          "execution_count": 38
        }
      ]
    },
    {
      "cell_type": "markdown",
      "metadata": {
        "id": "z6-ICp6f5VQE"
      },
      "source": [
        "#Boolean indexing"
      ]
    },
    {
      "cell_type": "markdown",
      "metadata": {
        "id": "b1mu9QQ65bYO"
      },
      "source": [
        "single column의 value를 통해 선택합니다."
      ]
    },
    {
      "cell_type": "code",
      "metadata": {
        "colab": {
          "base_uri": "https://localhost:8080/",
          "height": 175
        },
        "id": "b4EGfsS15ieO",
        "outputId": "3d1d02eb-8933-4ea6-cc43-5df989d47e9c"
      },
      "source": [
        "df[df[\"A\"]>0]"
      ],
      "execution_count": 42,
      "outputs": [
        {
          "output_type": "execute_result",
          "data": {
            "text/html": [
              "<div>\n",
              "<style scoped>\n",
              "    .dataframe tbody tr th:only-of-type {\n",
              "        vertical-align: middle;\n",
              "    }\n",
              "\n",
              "    .dataframe tbody tr th {\n",
              "        vertical-align: top;\n",
              "    }\n",
              "\n",
              "    .dataframe thead th {\n",
              "        text-align: right;\n",
              "    }\n",
              "</style>\n",
              "<table border=\"1\" class=\"dataframe\">\n",
              "  <thead>\n",
              "    <tr style=\"text-align: right;\">\n",
              "      <th></th>\n",
              "      <th>A</th>\n",
              "      <th>B</th>\n",
              "      <th>C</th>\n",
              "      <th>D</th>\n",
              "    </tr>\n",
              "  </thead>\n",
              "  <tbody>\n",
              "    <tr>\n",
              "      <th>2013-01-02</th>\n",
              "      <td>0.532611</td>\n",
              "      <td>0.466755</td>\n",
              "      <td>0.356861</td>\n",
              "      <td>0.791726</td>\n",
              "    </tr>\n",
              "    <tr>\n",
              "      <th>2013-01-04</th>\n",
              "      <td>0.971271</td>\n",
              "      <td>-0.127001</td>\n",
              "      <td>-0.667725</td>\n",
              "      <td>1.910612</td>\n",
              "    </tr>\n",
              "    <tr>\n",
              "      <th>2013-01-05</th>\n",
              "      <td>0.261758</td>\n",
              "      <td>-0.299979</td>\n",
              "      <td>0.267228</td>\n",
              "      <td>2.429107</td>\n",
              "    </tr>\n",
              "    <tr>\n",
              "      <th>2013-01-06</th>\n",
              "      <td>0.612693</td>\n",
              "      <td>-1.837019</td>\n",
              "      <td>1.139148</td>\n",
              "      <td>-0.973891</td>\n",
              "    </tr>\n",
              "  </tbody>\n",
              "</table>\n",
              "</div>"
            ],
            "text/plain": [
              "                   A         B         C         D\n",
              "2013-01-02  0.532611  0.466755  0.356861  0.791726\n",
              "2013-01-04  0.971271 -0.127001 -0.667725  1.910612\n",
              "2013-01-05  0.261758 -0.299979  0.267228  2.429107\n",
              "2013-01-06  0.612693 -1.837019  1.139148 -0.973891"
            ]
          },
          "metadata": {
            "tags": []
          },
          "execution_count": 42
        }
      ]
    },
    {
      "cell_type": "code",
      "metadata": {
        "colab": {
          "base_uri": "https://localhost:8080/",
          "height": 237
        },
        "id": "25A7v5jn5yJF",
        "outputId": "2482c0bc-19e6-4448-fd4a-792f0fdbd6b1"
      },
      "source": [
        "df"
      ],
      "execution_count": 44,
      "outputs": [
        {
          "output_type": "execute_result",
          "data": {
            "text/html": [
              "<div>\n",
              "<style scoped>\n",
              "    .dataframe tbody tr th:only-of-type {\n",
              "        vertical-align: middle;\n",
              "    }\n",
              "\n",
              "    .dataframe tbody tr th {\n",
              "        vertical-align: top;\n",
              "    }\n",
              "\n",
              "    .dataframe thead th {\n",
              "        text-align: right;\n",
              "    }\n",
              "</style>\n",
              "<table border=\"1\" class=\"dataframe\">\n",
              "  <thead>\n",
              "    <tr style=\"text-align: right;\">\n",
              "      <th></th>\n",
              "      <th>A</th>\n",
              "      <th>B</th>\n",
              "      <th>C</th>\n",
              "      <th>D</th>\n",
              "    </tr>\n",
              "  </thead>\n",
              "  <tbody>\n",
              "    <tr>\n",
              "      <th>2013-01-01</th>\n",
              "      <td>-0.624424</td>\n",
              "      <td>-0.577360</td>\n",
              "      <td>-0.800310</td>\n",
              "      <td>-0.605505</td>\n",
              "    </tr>\n",
              "    <tr>\n",
              "      <th>2013-01-02</th>\n",
              "      <td>0.532611</td>\n",
              "      <td>0.466755</td>\n",
              "      <td>0.356861</td>\n",
              "      <td>0.791726</td>\n",
              "    </tr>\n",
              "    <tr>\n",
              "      <th>2013-01-03</th>\n",
              "      <td>-0.322909</td>\n",
              "      <td>-0.525981</td>\n",
              "      <td>-0.315880</td>\n",
              "      <td>-0.361835</td>\n",
              "    </tr>\n",
              "    <tr>\n",
              "      <th>2013-01-04</th>\n",
              "      <td>0.971271</td>\n",
              "      <td>-0.127001</td>\n",
              "      <td>-0.667725</td>\n",
              "      <td>1.910612</td>\n",
              "    </tr>\n",
              "    <tr>\n",
              "      <th>2013-01-05</th>\n",
              "      <td>0.261758</td>\n",
              "      <td>-0.299979</td>\n",
              "      <td>0.267228</td>\n",
              "      <td>2.429107</td>\n",
              "    </tr>\n",
              "    <tr>\n",
              "      <th>2013-01-06</th>\n",
              "      <td>0.612693</td>\n",
              "      <td>-1.837019</td>\n",
              "      <td>1.139148</td>\n",
              "      <td>-0.973891</td>\n",
              "    </tr>\n",
              "  </tbody>\n",
              "</table>\n",
              "</div>"
            ],
            "text/plain": [
              "                   A         B         C         D\n",
              "2013-01-01 -0.624424 -0.577360 -0.800310 -0.605505\n",
              "2013-01-02  0.532611  0.466755  0.356861  0.791726\n",
              "2013-01-03 -0.322909 -0.525981 -0.315880 -0.361835\n",
              "2013-01-04  0.971271 -0.127001 -0.667725  1.910612\n",
              "2013-01-05  0.261758 -0.299979  0.267228  2.429107\n",
              "2013-01-06  0.612693 -1.837019  1.139148 -0.973891"
            ]
          },
          "metadata": {
            "tags": []
          },
          "execution_count": 44
        }
      ]
    },
    {
      "cell_type": "code",
      "metadata": {
        "colab": {
          "base_uri": "https://localhost:8080/",
          "height": 237
        },
        "id": "NxJWrAzS5kBz",
        "outputId": "3f987736-3de0-406e-cfc6-ebda7292351d"
      },
      "source": [
        "df[df>0]"
      ],
      "execution_count": 43,
      "outputs": [
        {
          "output_type": "execute_result",
          "data": {
            "text/html": [
              "<div>\n",
              "<style scoped>\n",
              "    .dataframe tbody tr th:only-of-type {\n",
              "        vertical-align: middle;\n",
              "    }\n",
              "\n",
              "    .dataframe tbody tr th {\n",
              "        vertical-align: top;\n",
              "    }\n",
              "\n",
              "    .dataframe thead th {\n",
              "        text-align: right;\n",
              "    }\n",
              "</style>\n",
              "<table border=\"1\" class=\"dataframe\">\n",
              "  <thead>\n",
              "    <tr style=\"text-align: right;\">\n",
              "      <th></th>\n",
              "      <th>A</th>\n",
              "      <th>B</th>\n",
              "      <th>C</th>\n",
              "      <th>D</th>\n",
              "    </tr>\n",
              "  </thead>\n",
              "  <tbody>\n",
              "    <tr>\n",
              "      <th>2013-01-01</th>\n",
              "      <td>NaN</td>\n",
              "      <td>NaN</td>\n",
              "      <td>NaN</td>\n",
              "      <td>NaN</td>\n",
              "    </tr>\n",
              "    <tr>\n",
              "      <th>2013-01-02</th>\n",
              "      <td>0.532611</td>\n",
              "      <td>0.466755</td>\n",
              "      <td>0.356861</td>\n",
              "      <td>0.791726</td>\n",
              "    </tr>\n",
              "    <tr>\n",
              "      <th>2013-01-03</th>\n",
              "      <td>NaN</td>\n",
              "      <td>NaN</td>\n",
              "      <td>NaN</td>\n",
              "      <td>NaN</td>\n",
              "    </tr>\n",
              "    <tr>\n",
              "      <th>2013-01-04</th>\n",
              "      <td>0.971271</td>\n",
              "      <td>NaN</td>\n",
              "      <td>NaN</td>\n",
              "      <td>1.910612</td>\n",
              "    </tr>\n",
              "    <tr>\n",
              "      <th>2013-01-05</th>\n",
              "      <td>0.261758</td>\n",
              "      <td>NaN</td>\n",
              "      <td>0.267228</td>\n",
              "      <td>2.429107</td>\n",
              "    </tr>\n",
              "    <tr>\n",
              "      <th>2013-01-06</th>\n",
              "      <td>0.612693</td>\n",
              "      <td>NaN</td>\n",
              "      <td>1.139148</td>\n",
              "      <td>NaN</td>\n",
              "    </tr>\n",
              "  </tbody>\n",
              "</table>\n",
              "</div>"
            ],
            "text/plain": [
              "                   A         B         C         D\n",
              "2013-01-01       NaN       NaN       NaN       NaN\n",
              "2013-01-02  0.532611  0.466755  0.356861  0.791726\n",
              "2013-01-03       NaN       NaN       NaN       NaN\n",
              "2013-01-04  0.971271       NaN       NaN  1.910612\n",
              "2013-01-05  0.261758       NaN  0.267228  2.429107\n",
              "2013-01-06  0.612693       NaN  1.139148       NaN"
            ]
          },
          "metadata": {
            "tags": []
          },
          "execution_count": 43
        }
      ]
    },
    {
      "cell_type": "markdown",
      "metadata": {
        "id": "h1GDfwla51D_"
      },
      "source": [
        "isin() method를 통해 필터링"
      ]
    },
    {
      "cell_type": "code",
      "metadata": {
        "colab": {
          "base_uri": "https://localhost:8080/",
          "height": 237
        },
        "id": "NU-sJgA75wG6",
        "outputId": "3f2350d6-8ae5-4ac7-eac9-c284aec8d154"
      },
      "source": [
        "df2 = df.copy()\n",
        "df2['E'] = [\"one\",\"one\",\"two\",\"three\",\"four\",\"three\"]\n",
        "df2"
      ],
      "execution_count": 45,
      "outputs": [
        {
          "output_type": "execute_result",
          "data": {
            "text/html": [
              "<div>\n",
              "<style scoped>\n",
              "    .dataframe tbody tr th:only-of-type {\n",
              "        vertical-align: middle;\n",
              "    }\n",
              "\n",
              "    .dataframe tbody tr th {\n",
              "        vertical-align: top;\n",
              "    }\n",
              "\n",
              "    .dataframe thead th {\n",
              "        text-align: right;\n",
              "    }\n",
              "</style>\n",
              "<table border=\"1\" class=\"dataframe\">\n",
              "  <thead>\n",
              "    <tr style=\"text-align: right;\">\n",
              "      <th></th>\n",
              "      <th>A</th>\n",
              "      <th>B</th>\n",
              "      <th>C</th>\n",
              "      <th>D</th>\n",
              "      <th>E</th>\n",
              "    </tr>\n",
              "  </thead>\n",
              "  <tbody>\n",
              "    <tr>\n",
              "      <th>2013-01-01</th>\n",
              "      <td>-0.624424</td>\n",
              "      <td>-0.577360</td>\n",
              "      <td>-0.800310</td>\n",
              "      <td>-0.605505</td>\n",
              "      <td>one</td>\n",
              "    </tr>\n",
              "    <tr>\n",
              "      <th>2013-01-02</th>\n",
              "      <td>0.532611</td>\n",
              "      <td>0.466755</td>\n",
              "      <td>0.356861</td>\n",
              "      <td>0.791726</td>\n",
              "      <td>one</td>\n",
              "    </tr>\n",
              "    <tr>\n",
              "      <th>2013-01-03</th>\n",
              "      <td>-0.322909</td>\n",
              "      <td>-0.525981</td>\n",
              "      <td>-0.315880</td>\n",
              "      <td>-0.361835</td>\n",
              "      <td>two</td>\n",
              "    </tr>\n",
              "    <tr>\n",
              "      <th>2013-01-04</th>\n",
              "      <td>0.971271</td>\n",
              "      <td>-0.127001</td>\n",
              "      <td>-0.667725</td>\n",
              "      <td>1.910612</td>\n",
              "      <td>three</td>\n",
              "    </tr>\n",
              "    <tr>\n",
              "      <th>2013-01-05</th>\n",
              "      <td>0.261758</td>\n",
              "      <td>-0.299979</td>\n",
              "      <td>0.267228</td>\n",
              "      <td>2.429107</td>\n",
              "      <td>four</td>\n",
              "    </tr>\n",
              "    <tr>\n",
              "      <th>2013-01-06</th>\n",
              "      <td>0.612693</td>\n",
              "      <td>-1.837019</td>\n",
              "      <td>1.139148</td>\n",
              "      <td>-0.973891</td>\n",
              "      <td>three</td>\n",
              "    </tr>\n",
              "  </tbody>\n",
              "</table>\n",
              "</div>"
            ],
            "text/plain": [
              "                   A         B         C         D      E\n",
              "2013-01-01 -0.624424 -0.577360 -0.800310 -0.605505    one\n",
              "2013-01-02  0.532611  0.466755  0.356861  0.791726    one\n",
              "2013-01-03 -0.322909 -0.525981 -0.315880 -0.361835    two\n",
              "2013-01-04  0.971271 -0.127001 -0.667725  1.910612  three\n",
              "2013-01-05  0.261758 -0.299979  0.267228  2.429107   four\n",
              "2013-01-06  0.612693 -1.837019  1.139148 -0.973891  three"
            ]
          },
          "metadata": {
            "tags": []
          },
          "execution_count": 45
        }
      ]
    },
    {
      "cell_type": "code",
      "metadata": {
        "colab": {
          "base_uri": "https://localhost:8080/",
          "height": 112
        },
        "id": "vTQt0FxY5_HG",
        "outputId": "abac23bb-5cfe-4721-96b6-a162c5c64479"
      },
      "source": [
        "df2[df2['E'].isin([\"two\",\"four\"])]"
      ],
      "execution_count": 46,
      "outputs": [
        {
          "output_type": "execute_result",
          "data": {
            "text/html": [
              "<div>\n",
              "<style scoped>\n",
              "    .dataframe tbody tr th:only-of-type {\n",
              "        vertical-align: middle;\n",
              "    }\n",
              "\n",
              "    .dataframe tbody tr th {\n",
              "        vertical-align: top;\n",
              "    }\n",
              "\n",
              "    .dataframe thead th {\n",
              "        text-align: right;\n",
              "    }\n",
              "</style>\n",
              "<table border=\"1\" class=\"dataframe\">\n",
              "  <thead>\n",
              "    <tr style=\"text-align: right;\">\n",
              "      <th></th>\n",
              "      <th>A</th>\n",
              "      <th>B</th>\n",
              "      <th>C</th>\n",
              "      <th>D</th>\n",
              "      <th>E</th>\n",
              "    </tr>\n",
              "  </thead>\n",
              "  <tbody>\n",
              "    <tr>\n",
              "      <th>2013-01-03</th>\n",
              "      <td>-0.322909</td>\n",
              "      <td>-0.525981</td>\n",
              "      <td>-0.315880</td>\n",
              "      <td>-0.361835</td>\n",
              "      <td>two</td>\n",
              "    </tr>\n",
              "    <tr>\n",
              "      <th>2013-01-05</th>\n",
              "      <td>0.261758</td>\n",
              "      <td>-0.299979</td>\n",
              "      <td>0.267228</td>\n",
              "      <td>2.429107</td>\n",
              "      <td>four</td>\n",
              "    </tr>\n",
              "  </tbody>\n",
              "</table>\n",
              "</div>"
            ],
            "text/plain": [
              "                   A         B         C         D     E\n",
              "2013-01-03 -0.322909 -0.525981 -0.315880 -0.361835   two\n",
              "2013-01-05  0.261758 -0.299979  0.267228  2.429107  four"
            ]
          },
          "metadata": {
            "tags": []
          },
          "execution_count": 46
        }
      ]
    },
    {
      "cell_type": "code",
      "metadata": {
        "id": "-6FJ9hzW6DF1"
      },
      "source": [
        ""
      ],
      "execution_count": null,
      "outputs": []
    }
  ]
}