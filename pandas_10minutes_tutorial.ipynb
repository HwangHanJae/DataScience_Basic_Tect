{
  "nbformat": 4,
  "nbformat_minor": 0,
  "metadata": {
    "colab": {
      "name": "pandas_10minutes_tutorial.ipynb",
      "provenance": [],
      "collapsed_sections": [],
      "toc_visible": true,
      "authorship_tag": "ABX9TyNLxbNMarja3cSx8qCX0/wO",
      "include_colab_link": true
    },
    "kernelspec": {
      "name": "python3",
      "display_name": "Python 3"
    },
    "language_info": {
      "name": "python"
    }
  },
  "cells": [
    {
      "cell_type": "markdown",
      "metadata": {
        "id": "view-in-github",
        "colab_type": "text"
      },
      "source": [
        "<a href=\"https://colab.research.google.com/github/HwangHanJae/datascience-basic-tect/blob/main/pandas_10minutes_tutorial.ipynb\" target=\"_parent\"><img src=\"https://colab.research.google.com/assets/colab-badge.svg\" alt=\"Open In Colab\"/></a>"
      ]
    },
    {
      "cell_type": "markdown",
      "metadata": {
        "id": "ZuwNx8zv0osT"
      },
      "source": [
        "# Pandas Tutorial\n",
        "- 10 minutes to pandas"
      ]
    },
    {
      "cell_type": "markdown",
      "metadata": {
        "id": "Mevz6U9500jL"
      },
      "source": [
        "# 라이브러리 로드"
      ]
    },
    {
      "cell_type": "code",
      "metadata": {
        "id": "wNpQQYEq0i6X"
      },
      "source": [
        "import numpy as np\n",
        "import pandas as pd"
      ],
      "execution_count": 1,
      "outputs": []
    },
    {
      "cell_type": "markdown",
      "metadata": {
        "id": "obj52xHz1Evg"
      },
      "source": [
        "# 객체 생성\n",
        "\n"
      ]
    },
    {
      "cell_type": "markdown",
      "metadata": {
        "id": "7hIsrsMs1aQM"
      },
      "source": [
        "value의 리스트를 전달하여 Series 타입을 생성하고 pandas의 기본 인덱스를 적용합니다."
      ]
    },
    {
      "cell_type": "code",
      "metadata": {
        "colab": {
          "base_uri": "https://localhost:8080/"
        },
        "id": "f2W1iNIF1YLX",
        "outputId": "6ec52fe8-0bc6-4d95-9bda-67c119ec1bcd"
      },
      "source": [
        "#Input\n",
        "s = pd.Series([1,3,5, np.nan, 6,8])\n",
        "#Output\n",
        "s"
      ],
      "execution_count": 2,
      "outputs": [
        {
          "output_type": "execute_result",
          "data": {
            "text/plain": [
              "0    1.0\n",
              "1    3.0\n",
              "2    5.0\n",
              "3    NaN\n",
              "4    6.0\n",
              "5    8.0\n",
              "dtype: float64"
            ]
          },
          "metadata": {
            "tags": []
          },
          "execution_count": 2
        }
      ]
    },
    {
      "cell_type": "markdown",
      "metadata": {
        "id": "A_BTVKtc1vo7"
      },
      "source": [
        "datatime 타입과 레이블이있는 column과 Numpy array를 전달하여 Dataframe을 생성합니다."
      ]
    },
    {
      "cell_type": "code",
      "metadata": {
        "colab": {
          "base_uri": "https://localhost:8080/"
        },
        "id": "Lv28pYXw1eR8",
        "outputId": "a2aab14b-60a1-43d7-dc62-f69fa5dd798b"
      },
      "source": [
        "dates = pd.date_range(\"20130101\", periods=6)\n",
        "dates"
      ],
      "execution_count": 3,
      "outputs": [
        {
          "output_type": "execute_result",
          "data": {
            "text/plain": [
              "DatetimeIndex(['2013-01-01', '2013-01-02', '2013-01-03', '2013-01-04',\n",
              "               '2013-01-05', '2013-01-06'],\n",
              "              dtype='datetime64[ns]', freq='D')"
            ]
          },
          "metadata": {
            "tags": []
          },
          "execution_count": 3
        }
      ]
    },
    {
      "cell_type": "code",
      "metadata": {
        "colab": {
          "base_uri": "https://localhost:8080/",
          "height": 237
        },
        "id": "BIkIY54Y1--g",
        "outputId": "462326e3-6e1d-4972-c5c3-45ce3050f3c8"
      },
      "source": [
        "df = pd.DataFrame(np.random.randn(6,4), index=dates, columns=list(\"ABCD\"))\n",
        "df"
      ],
      "execution_count": 4,
      "outputs": [
        {
          "output_type": "execute_result",
          "data": {
            "text/html": [
              "<div>\n",
              "<style scoped>\n",
              "    .dataframe tbody tr th:only-of-type {\n",
              "        vertical-align: middle;\n",
              "    }\n",
              "\n",
              "    .dataframe tbody tr th {\n",
              "        vertical-align: top;\n",
              "    }\n",
              "\n",
              "    .dataframe thead th {\n",
              "        text-align: right;\n",
              "    }\n",
              "</style>\n",
              "<table border=\"1\" class=\"dataframe\">\n",
              "  <thead>\n",
              "    <tr style=\"text-align: right;\">\n",
              "      <th></th>\n",
              "      <th>A</th>\n",
              "      <th>B</th>\n",
              "      <th>C</th>\n",
              "      <th>D</th>\n",
              "    </tr>\n",
              "  </thead>\n",
              "  <tbody>\n",
              "    <tr>\n",
              "      <th>2013-01-01</th>\n",
              "      <td>1.180271</td>\n",
              "      <td>-0.602856</td>\n",
              "      <td>-0.317214</td>\n",
              "      <td>0.362123</td>\n",
              "    </tr>\n",
              "    <tr>\n",
              "      <th>2013-01-02</th>\n",
              "      <td>0.300031</td>\n",
              "      <td>-0.037352</td>\n",
              "      <td>-1.033264</td>\n",
              "      <td>-2.356745</td>\n",
              "    </tr>\n",
              "    <tr>\n",
              "      <th>2013-01-03</th>\n",
              "      <td>1.424727</td>\n",
              "      <td>0.445893</td>\n",
              "      <td>0.085154</td>\n",
              "      <td>-0.301223</td>\n",
              "    </tr>\n",
              "    <tr>\n",
              "      <th>2013-01-04</th>\n",
              "      <td>0.241239</td>\n",
              "      <td>0.314981</td>\n",
              "      <td>-0.488092</td>\n",
              "      <td>-0.774441</td>\n",
              "    </tr>\n",
              "    <tr>\n",
              "      <th>2013-01-05</th>\n",
              "      <td>-0.075114</td>\n",
              "      <td>-0.890753</td>\n",
              "      <td>0.103083</td>\n",
              "      <td>0.940285</td>\n",
              "    </tr>\n",
              "    <tr>\n",
              "      <th>2013-01-06</th>\n",
              "      <td>-1.018115</td>\n",
              "      <td>-0.366363</td>\n",
              "      <td>-0.468451</td>\n",
              "      <td>-1.512358</td>\n",
              "    </tr>\n",
              "  </tbody>\n",
              "</table>\n",
              "</div>"
            ],
            "text/plain": [
              "                   A         B         C         D\n",
              "2013-01-01  1.180271 -0.602856 -0.317214  0.362123\n",
              "2013-01-02  0.300031 -0.037352 -1.033264 -2.356745\n",
              "2013-01-03  1.424727  0.445893  0.085154 -0.301223\n",
              "2013-01-04  0.241239  0.314981 -0.488092 -0.774441\n",
              "2013-01-05 -0.075114 -0.890753  0.103083  0.940285\n",
              "2013-01-06 -1.018115 -0.366363 -0.468451 -1.512358"
            ]
          },
          "metadata": {
            "tags": []
          },
          "execution_count": 4
        }
      ]
    },
    {
      "cell_type": "markdown",
      "metadata": {
        "id": "pUIQtVnM2djQ"
      },
      "source": [
        "Series 타입처럼 변환할수 있는 객체의 dict 타입을 전달하여 DataFrame을 생성합니다."
      ]
    },
    {
      "cell_type": "code",
      "metadata": {
        "colab": {
          "base_uri": "https://localhost:8080/",
          "height": 175
        },
        "id": "KqouzYfo2Puz",
        "outputId": "bc492cd7-c835-4f1c-c323-27c40e9ee492"
      },
      "source": [
        "df2 = pd.DataFrame(\n",
        "    {\"A\" : 1.0,\n",
        "    \"B\" : pd.Timestamp(\"20130102\"),\n",
        "    \"C\" : pd.Series(1, index=list(range(4)), dtype=\"float32\"),\n",
        "    \"D\" : np.array([3] *4, dtype=\"int32\"),\n",
        "    \"E\" : pd.Categorical([\"test\",\"train\",\"test\",\"train\"]),\n",
        "    \"F\" : 'foo',}\n",
        ")\n",
        "\n",
        "df2"
      ],
      "execution_count": 5,
      "outputs": [
        {
          "output_type": "execute_result",
          "data": {
            "text/html": [
              "<div>\n",
              "<style scoped>\n",
              "    .dataframe tbody tr th:only-of-type {\n",
              "        vertical-align: middle;\n",
              "    }\n",
              "\n",
              "    .dataframe tbody tr th {\n",
              "        vertical-align: top;\n",
              "    }\n",
              "\n",
              "    .dataframe thead th {\n",
              "        text-align: right;\n",
              "    }\n",
              "</style>\n",
              "<table border=\"1\" class=\"dataframe\">\n",
              "  <thead>\n",
              "    <tr style=\"text-align: right;\">\n",
              "      <th></th>\n",
              "      <th>A</th>\n",
              "      <th>B</th>\n",
              "      <th>C</th>\n",
              "      <th>D</th>\n",
              "      <th>E</th>\n",
              "      <th>F</th>\n",
              "    </tr>\n",
              "  </thead>\n",
              "  <tbody>\n",
              "    <tr>\n",
              "      <th>0</th>\n",
              "      <td>1.0</td>\n",
              "      <td>2013-01-02</td>\n",
              "      <td>1.0</td>\n",
              "      <td>3</td>\n",
              "      <td>test</td>\n",
              "      <td>foo</td>\n",
              "    </tr>\n",
              "    <tr>\n",
              "      <th>1</th>\n",
              "      <td>1.0</td>\n",
              "      <td>2013-01-02</td>\n",
              "      <td>1.0</td>\n",
              "      <td>3</td>\n",
              "      <td>train</td>\n",
              "      <td>foo</td>\n",
              "    </tr>\n",
              "    <tr>\n",
              "      <th>2</th>\n",
              "      <td>1.0</td>\n",
              "      <td>2013-01-02</td>\n",
              "      <td>1.0</td>\n",
              "      <td>3</td>\n",
              "      <td>test</td>\n",
              "      <td>foo</td>\n",
              "    </tr>\n",
              "    <tr>\n",
              "      <th>3</th>\n",
              "      <td>1.0</td>\n",
              "      <td>2013-01-02</td>\n",
              "      <td>1.0</td>\n",
              "      <td>3</td>\n",
              "      <td>train</td>\n",
              "      <td>foo</td>\n",
              "    </tr>\n",
              "  </tbody>\n",
              "</table>\n",
              "</div>"
            ],
            "text/plain": [
              "     A          B    C  D      E    F\n",
              "0  1.0 2013-01-02  1.0  3   test  foo\n",
              "1  1.0 2013-01-02  1.0  3  train  foo\n",
              "2  1.0 2013-01-02  1.0  3   test  foo\n",
              "3  1.0 2013-01-02  1.0  3  train  foo"
            ]
          },
          "metadata": {
            "tags": []
          },
          "execution_count": 5
        }
      ]
    },
    {
      "cell_type": "markdown",
      "metadata": {
        "id": "Z-cwgLLt3b2G"
      },
      "source": [
        "Dataframe의 columns 들은 다른 dtypes를 가지고 있습니다."
      ]
    },
    {
      "cell_type": "code",
      "metadata": {
        "colab": {
          "base_uri": "https://localhost:8080/"
        },
        "id": "uXn_366F3JKa",
        "outputId": "200ebfa6-a1d3-487b-cbf3-e88753c0a8fe"
      },
      "source": [
        "df2.dtypes"
      ],
      "execution_count": 6,
      "outputs": [
        {
          "output_type": "execute_result",
          "data": {
            "text/plain": [
              "A           float64\n",
              "B    datetime64[ns]\n",
              "C           float32\n",
              "D             int32\n",
              "E          category\n",
              "F            object\n",
              "dtype: object"
            ]
          },
          "metadata": {
            "tags": []
          },
          "execution_count": 6
        }
      ]
    },
    {
      "cell_type": "markdown",
      "metadata": {
        "id": "gXFSKoIQEQ1i"
      },
      "source": [
        "# 데이터 관찰"
      ]
    },
    {
      "cell_type": "markdown",
      "metadata": {
        "id": "dY1pn3YTEWjZ"
      },
      "source": [
        "데이터 프레임의 상단, 하단을 보는 방법입니다."
      ]
    },
    {
      "cell_type": "code",
      "metadata": {
        "colab": {
          "base_uri": "https://localhost:8080/",
          "height": 206
        },
        "id": "L5MVIIndEY_0",
        "outputId": "c03268d2-bc7f-4c13-8e6e-51257034c417"
      },
      "source": [
        "df.head()"
      ],
      "execution_count": 7,
      "outputs": [
        {
          "output_type": "execute_result",
          "data": {
            "text/html": [
              "<div>\n",
              "<style scoped>\n",
              "    .dataframe tbody tr th:only-of-type {\n",
              "        vertical-align: middle;\n",
              "    }\n",
              "\n",
              "    .dataframe tbody tr th {\n",
              "        vertical-align: top;\n",
              "    }\n",
              "\n",
              "    .dataframe thead th {\n",
              "        text-align: right;\n",
              "    }\n",
              "</style>\n",
              "<table border=\"1\" class=\"dataframe\">\n",
              "  <thead>\n",
              "    <tr style=\"text-align: right;\">\n",
              "      <th></th>\n",
              "      <th>A</th>\n",
              "      <th>B</th>\n",
              "      <th>C</th>\n",
              "      <th>D</th>\n",
              "    </tr>\n",
              "  </thead>\n",
              "  <tbody>\n",
              "    <tr>\n",
              "      <th>2013-01-01</th>\n",
              "      <td>1.180271</td>\n",
              "      <td>-0.602856</td>\n",
              "      <td>-0.317214</td>\n",
              "      <td>0.362123</td>\n",
              "    </tr>\n",
              "    <tr>\n",
              "      <th>2013-01-02</th>\n",
              "      <td>0.300031</td>\n",
              "      <td>-0.037352</td>\n",
              "      <td>-1.033264</td>\n",
              "      <td>-2.356745</td>\n",
              "    </tr>\n",
              "    <tr>\n",
              "      <th>2013-01-03</th>\n",
              "      <td>1.424727</td>\n",
              "      <td>0.445893</td>\n",
              "      <td>0.085154</td>\n",
              "      <td>-0.301223</td>\n",
              "    </tr>\n",
              "    <tr>\n",
              "      <th>2013-01-04</th>\n",
              "      <td>0.241239</td>\n",
              "      <td>0.314981</td>\n",
              "      <td>-0.488092</td>\n",
              "      <td>-0.774441</td>\n",
              "    </tr>\n",
              "    <tr>\n",
              "      <th>2013-01-05</th>\n",
              "      <td>-0.075114</td>\n",
              "      <td>-0.890753</td>\n",
              "      <td>0.103083</td>\n",
              "      <td>0.940285</td>\n",
              "    </tr>\n",
              "  </tbody>\n",
              "</table>\n",
              "</div>"
            ],
            "text/plain": [
              "                   A         B         C         D\n",
              "2013-01-01  1.180271 -0.602856 -0.317214  0.362123\n",
              "2013-01-02  0.300031 -0.037352 -1.033264 -2.356745\n",
              "2013-01-03  1.424727  0.445893  0.085154 -0.301223\n",
              "2013-01-04  0.241239  0.314981 -0.488092 -0.774441\n",
              "2013-01-05 -0.075114 -0.890753  0.103083  0.940285"
            ]
          },
          "metadata": {
            "tags": []
          },
          "execution_count": 7
        }
      ]
    },
    {
      "cell_type": "code",
      "metadata": {
        "colab": {
          "base_uri": "https://localhost:8080/",
          "height": 206
        },
        "id": "6Wjy6CU7EaAO",
        "outputId": "7d2acd1a-79c4-408c-83fd-66776ed6bfc7"
      },
      "source": [
        "df.tail()"
      ],
      "execution_count": 8,
      "outputs": [
        {
          "output_type": "execute_result",
          "data": {
            "text/html": [
              "<div>\n",
              "<style scoped>\n",
              "    .dataframe tbody tr th:only-of-type {\n",
              "        vertical-align: middle;\n",
              "    }\n",
              "\n",
              "    .dataframe tbody tr th {\n",
              "        vertical-align: top;\n",
              "    }\n",
              "\n",
              "    .dataframe thead th {\n",
              "        text-align: right;\n",
              "    }\n",
              "</style>\n",
              "<table border=\"1\" class=\"dataframe\">\n",
              "  <thead>\n",
              "    <tr style=\"text-align: right;\">\n",
              "      <th></th>\n",
              "      <th>A</th>\n",
              "      <th>B</th>\n",
              "      <th>C</th>\n",
              "      <th>D</th>\n",
              "    </tr>\n",
              "  </thead>\n",
              "  <tbody>\n",
              "    <tr>\n",
              "      <th>2013-01-02</th>\n",
              "      <td>0.300031</td>\n",
              "      <td>-0.037352</td>\n",
              "      <td>-1.033264</td>\n",
              "      <td>-2.356745</td>\n",
              "    </tr>\n",
              "    <tr>\n",
              "      <th>2013-01-03</th>\n",
              "      <td>1.424727</td>\n",
              "      <td>0.445893</td>\n",
              "      <td>0.085154</td>\n",
              "      <td>-0.301223</td>\n",
              "    </tr>\n",
              "    <tr>\n",
              "      <th>2013-01-04</th>\n",
              "      <td>0.241239</td>\n",
              "      <td>0.314981</td>\n",
              "      <td>-0.488092</td>\n",
              "      <td>-0.774441</td>\n",
              "    </tr>\n",
              "    <tr>\n",
              "      <th>2013-01-05</th>\n",
              "      <td>-0.075114</td>\n",
              "      <td>-0.890753</td>\n",
              "      <td>0.103083</td>\n",
              "      <td>0.940285</td>\n",
              "    </tr>\n",
              "    <tr>\n",
              "      <th>2013-01-06</th>\n",
              "      <td>-1.018115</td>\n",
              "      <td>-0.366363</td>\n",
              "      <td>-0.468451</td>\n",
              "      <td>-1.512358</td>\n",
              "    </tr>\n",
              "  </tbody>\n",
              "</table>\n",
              "</div>"
            ],
            "text/plain": [
              "                   A         B         C         D\n",
              "2013-01-02  0.300031 -0.037352 -1.033264 -2.356745\n",
              "2013-01-03  1.424727  0.445893  0.085154 -0.301223\n",
              "2013-01-04  0.241239  0.314981 -0.488092 -0.774441\n",
              "2013-01-05 -0.075114 -0.890753  0.103083  0.940285\n",
              "2013-01-06 -1.018115 -0.366363 -0.468451 -1.512358"
            ]
          },
          "metadata": {
            "tags": []
          },
          "execution_count": 8
        }
      ]
    },
    {
      "cell_type": "markdown",
      "metadata": {
        "id": "wurG2mjMEdFr"
      },
      "source": [
        "index, columns를 표현합니다."
      ]
    },
    {
      "cell_type": "code",
      "metadata": {
        "colab": {
          "base_uri": "https://localhost:8080/"
        },
        "id": "HQ_YDCN7EiM6",
        "outputId": "fc3d292a-2235-4aed-d7c0-1d2e11ed5f0f"
      },
      "source": [
        "df.index"
      ],
      "execution_count": 9,
      "outputs": [
        {
          "output_type": "execute_result",
          "data": {
            "text/plain": [
              "DatetimeIndex(['2013-01-01', '2013-01-02', '2013-01-03', '2013-01-04',\n",
              "               '2013-01-05', '2013-01-06'],\n",
              "              dtype='datetime64[ns]', freq='D')"
            ]
          },
          "metadata": {
            "tags": []
          },
          "execution_count": 9
        }
      ]
    },
    {
      "cell_type": "code",
      "metadata": {
        "colab": {
          "base_uri": "https://localhost:8080/"
        },
        "id": "XaX0y1CPEjUG",
        "outputId": "22374cd0-0598-40ce-d606-5c5ea08aa3c4"
      },
      "source": [
        "df.columns"
      ],
      "execution_count": 10,
      "outputs": [
        {
          "output_type": "execute_result",
          "data": {
            "text/plain": [
              "Index(['A', 'B', 'C', 'D'], dtype='object')"
            ]
          },
          "metadata": {
            "tags": []
          },
          "execution_count": 10
        }
      ]
    },
    {
      "cell_type": "markdown",
      "metadata": {
        "id": "ffEzz2l5EkME"
      },
      "source": [
        "DataFrame.to_numpy()는 NumPy 표현을 제공합니다."
      ]
    },
    {
      "cell_type": "code",
      "metadata": {
        "colab": {
          "base_uri": "https://localhost:8080/",
          "height": 237
        },
        "id": "1KDxP-fmFCIn",
        "outputId": "85b28b64-e47a-4f15-b07e-d2757f10bfe9"
      },
      "source": [
        "df"
      ],
      "execution_count": 11,
      "outputs": [
        {
          "output_type": "execute_result",
          "data": {
            "text/html": [
              "<div>\n",
              "<style scoped>\n",
              "    .dataframe tbody tr th:only-of-type {\n",
              "        vertical-align: middle;\n",
              "    }\n",
              "\n",
              "    .dataframe tbody tr th {\n",
              "        vertical-align: top;\n",
              "    }\n",
              "\n",
              "    .dataframe thead th {\n",
              "        text-align: right;\n",
              "    }\n",
              "</style>\n",
              "<table border=\"1\" class=\"dataframe\">\n",
              "  <thead>\n",
              "    <tr style=\"text-align: right;\">\n",
              "      <th></th>\n",
              "      <th>A</th>\n",
              "      <th>B</th>\n",
              "      <th>C</th>\n",
              "      <th>D</th>\n",
              "    </tr>\n",
              "  </thead>\n",
              "  <tbody>\n",
              "    <tr>\n",
              "      <th>2013-01-01</th>\n",
              "      <td>1.180271</td>\n",
              "      <td>-0.602856</td>\n",
              "      <td>-0.317214</td>\n",
              "      <td>0.362123</td>\n",
              "    </tr>\n",
              "    <tr>\n",
              "      <th>2013-01-02</th>\n",
              "      <td>0.300031</td>\n",
              "      <td>-0.037352</td>\n",
              "      <td>-1.033264</td>\n",
              "      <td>-2.356745</td>\n",
              "    </tr>\n",
              "    <tr>\n",
              "      <th>2013-01-03</th>\n",
              "      <td>1.424727</td>\n",
              "      <td>0.445893</td>\n",
              "      <td>0.085154</td>\n",
              "      <td>-0.301223</td>\n",
              "    </tr>\n",
              "    <tr>\n",
              "      <th>2013-01-04</th>\n",
              "      <td>0.241239</td>\n",
              "      <td>0.314981</td>\n",
              "      <td>-0.488092</td>\n",
              "      <td>-0.774441</td>\n",
              "    </tr>\n",
              "    <tr>\n",
              "      <th>2013-01-05</th>\n",
              "      <td>-0.075114</td>\n",
              "      <td>-0.890753</td>\n",
              "      <td>0.103083</td>\n",
              "      <td>0.940285</td>\n",
              "    </tr>\n",
              "    <tr>\n",
              "      <th>2013-01-06</th>\n",
              "      <td>-1.018115</td>\n",
              "      <td>-0.366363</td>\n",
              "      <td>-0.468451</td>\n",
              "      <td>-1.512358</td>\n",
              "    </tr>\n",
              "  </tbody>\n",
              "</table>\n",
              "</div>"
            ],
            "text/plain": [
              "                   A         B         C         D\n",
              "2013-01-01  1.180271 -0.602856 -0.317214  0.362123\n",
              "2013-01-02  0.300031 -0.037352 -1.033264 -2.356745\n",
              "2013-01-03  1.424727  0.445893  0.085154 -0.301223\n",
              "2013-01-04  0.241239  0.314981 -0.488092 -0.774441\n",
              "2013-01-05 -0.075114 -0.890753  0.103083  0.940285\n",
              "2013-01-06 -1.018115 -0.366363 -0.468451 -1.512358"
            ]
          },
          "metadata": {
            "tags": []
          },
          "execution_count": 11
        }
      ]
    },
    {
      "cell_type": "code",
      "metadata": {
        "colab": {
          "base_uri": "https://localhost:8080/"
        },
        "id": "wKqInYkvE0gU",
        "outputId": "779f13ec-a78b-4c0e-c1dd-15f13d93c467"
      },
      "source": [
        "df.to_numpy()"
      ],
      "execution_count": 12,
      "outputs": [
        {
          "output_type": "execute_result",
          "data": {
            "text/plain": [
              "array([[ 1.18027097, -0.60285609, -0.31721353,  0.36212257],\n",
              "       [ 0.30003056, -0.03735183, -1.03326396, -2.35674533],\n",
              "       [ 1.42472688,  0.44589319,  0.0851544 , -0.30122281],\n",
              "       [ 0.24123943,  0.31498079, -0.48809236, -0.77444148],\n",
              "       [-0.07511409, -0.89075318,  0.10308321,  0.9402846 ],\n",
              "       [-1.0181149 , -0.3663625 , -0.46845057, -1.51235755]])"
            ]
          },
          "metadata": {
            "tags": []
          },
          "execution_count": 12
        }
      ]
    },
    {
      "cell_type": "code",
      "metadata": {
        "id": "uA7GXea8E_de",
        "colab": {
          "base_uri": "https://localhost:8080/",
          "height": 175
        },
        "outputId": "8fd6001f-ba41-45e2-c96f-70d7ae9d2b1f"
      },
      "source": [
        "df2"
      ],
      "execution_count": 13,
      "outputs": [
        {
          "output_type": "execute_result",
          "data": {
            "text/html": [
              "<div>\n",
              "<style scoped>\n",
              "    .dataframe tbody tr th:only-of-type {\n",
              "        vertical-align: middle;\n",
              "    }\n",
              "\n",
              "    .dataframe tbody tr th {\n",
              "        vertical-align: top;\n",
              "    }\n",
              "\n",
              "    .dataframe thead th {\n",
              "        text-align: right;\n",
              "    }\n",
              "</style>\n",
              "<table border=\"1\" class=\"dataframe\">\n",
              "  <thead>\n",
              "    <tr style=\"text-align: right;\">\n",
              "      <th></th>\n",
              "      <th>A</th>\n",
              "      <th>B</th>\n",
              "      <th>C</th>\n",
              "      <th>D</th>\n",
              "      <th>E</th>\n",
              "      <th>F</th>\n",
              "    </tr>\n",
              "  </thead>\n",
              "  <tbody>\n",
              "    <tr>\n",
              "      <th>0</th>\n",
              "      <td>1.0</td>\n",
              "      <td>2013-01-02</td>\n",
              "      <td>1.0</td>\n",
              "      <td>3</td>\n",
              "      <td>test</td>\n",
              "      <td>foo</td>\n",
              "    </tr>\n",
              "    <tr>\n",
              "      <th>1</th>\n",
              "      <td>1.0</td>\n",
              "      <td>2013-01-02</td>\n",
              "      <td>1.0</td>\n",
              "      <td>3</td>\n",
              "      <td>train</td>\n",
              "      <td>foo</td>\n",
              "    </tr>\n",
              "    <tr>\n",
              "      <th>2</th>\n",
              "      <td>1.0</td>\n",
              "      <td>2013-01-02</td>\n",
              "      <td>1.0</td>\n",
              "      <td>3</td>\n",
              "      <td>test</td>\n",
              "      <td>foo</td>\n",
              "    </tr>\n",
              "    <tr>\n",
              "      <th>3</th>\n",
              "      <td>1.0</td>\n",
              "      <td>2013-01-02</td>\n",
              "      <td>1.0</td>\n",
              "      <td>3</td>\n",
              "      <td>train</td>\n",
              "      <td>foo</td>\n",
              "    </tr>\n",
              "  </tbody>\n",
              "</table>\n",
              "</div>"
            ],
            "text/plain": [
              "     A          B    C  D      E    F\n",
              "0  1.0 2013-01-02  1.0  3   test  foo\n",
              "1  1.0 2013-01-02  1.0  3  train  foo\n",
              "2  1.0 2013-01-02  1.0  3   test  foo\n",
              "3  1.0 2013-01-02  1.0  3  train  foo"
            ]
          },
          "metadata": {
            "tags": []
          },
          "execution_count": 13
        }
      ]
    },
    {
      "cell_type": "code",
      "metadata": {
        "colab": {
          "base_uri": "https://localhost:8080/"
        },
        "id": "worljdmrE2iE",
        "outputId": "92ae5140-7de6-43b3-9e41-9b35f80bc3f0"
      },
      "source": [
        "df2.to_numpy()"
      ],
      "execution_count": 14,
      "outputs": [
        {
          "output_type": "execute_result",
          "data": {
            "text/plain": [
              "array([[1.0, Timestamp('2013-01-02 00:00:00'), 1.0, 3, 'test', 'foo'],\n",
              "       [1.0, Timestamp('2013-01-02 00:00:00'), 1.0, 3, 'train', 'foo'],\n",
              "       [1.0, Timestamp('2013-01-02 00:00:00'), 1.0, 3, 'test', 'foo'],\n",
              "       [1.0, Timestamp('2013-01-02 00:00:00'), 1.0, 3, 'train', 'foo']],\n",
              "      dtype=object)"
            ]
          },
          "metadata": {
            "tags": []
          },
          "execution_count": 14
        }
      ]
    },
    {
      "cell_type": "markdown",
      "metadata": {
        "id": "NcnAybdKE93k"
      },
      "source": [
        "DataFrame.to_numpy()는 index와 columns를 포함하지 않습니다."
      ]
    },
    {
      "cell_type": "markdown",
      "metadata": {
        "id": "IzQJgkBPFL4g"
      },
      "source": [
        "Data를 T(transpose)합니다."
      ]
    },
    {
      "cell_type": "code",
      "metadata": {
        "colab": {
          "base_uri": "https://localhost:8080/",
          "height": 237
        },
        "id": "ZplehJKmFYG6",
        "outputId": "1a9849d3-75e4-4c86-c981-0b1ed3c6cfb8"
      },
      "source": [
        "df"
      ],
      "execution_count": 15,
      "outputs": [
        {
          "output_type": "execute_result",
          "data": {
            "text/html": [
              "<div>\n",
              "<style scoped>\n",
              "    .dataframe tbody tr th:only-of-type {\n",
              "        vertical-align: middle;\n",
              "    }\n",
              "\n",
              "    .dataframe tbody tr th {\n",
              "        vertical-align: top;\n",
              "    }\n",
              "\n",
              "    .dataframe thead th {\n",
              "        text-align: right;\n",
              "    }\n",
              "</style>\n",
              "<table border=\"1\" class=\"dataframe\">\n",
              "  <thead>\n",
              "    <tr style=\"text-align: right;\">\n",
              "      <th></th>\n",
              "      <th>A</th>\n",
              "      <th>B</th>\n",
              "      <th>C</th>\n",
              "      <th>D</th>\n",
              "    </tr>\n",
              "  </thead>\n",
              "  <tbody>\n",
              "    <tr>\n",
              "      <th>2013-01-01</th>\n",
              "      <td>1.180271</td>\n",
              "      <td>-0.602856</td>\n",
              "      <td>-0.317214</td>\n",
              "      <td>0.362123</td>\n",
              "    </tr>\n",
              "    <tr>\n",
              "      <th>2013-01-02</th>\n",
              "      <td>0.300031</td>\n",
              "      <td>-0.037352</td>\n",
              "      <td>-1.033264</td>\n",
              "      <td>-2.356745</td>\n",
              "    </tr>\n",
              "    <tr>\n",
              "      <th>2013-01-03</th>\n",
              "      <td>1.424727</td>\n",
              "      <td>0.445893</td>\n",
              "      <td>0.085154</td>\n",
              "      <td>-0.301223</td>\n",
              "    </tr>\n",
              "    <tr>\n",
              "      <th>2013-01-04</th>\n",
              "      <td>0.241239</td>\n",
              "      <td>0.314981</td>\n",
              "      <td>-0.488092</td>\n",
              "      <td>-0.774441</td>\n",
              "    </tr>\n",
              "    <tr>\n",
              "      <th>2013-01-05</th>\n",
              "      <td>-0.075114</td>\n",
              "      <td>-0.890753</td>\n",
              "      <td>0.103083</td>\n",
              "      <td>0.940285</td>\n",
              "    </tr>\n",
              "    <tr>\n",
              "      <th>2013-01-06</th>\n",
              "      <td>-1.018115</td>\n",
              "      <td>-0.366363</td>\n",
              "      <td>-0.468451</td>\n",
              "      <td>-1.512358</td>\n",
              "    </tr>\n",
              "  </tbody>\n",
              "</table>\n",
              "</div>"
            ],
            "text/plain": [
              "                   A         B         C         D\n",
              "2013-01-01  1.180271 -0.602856 -0.317214  0.362123\n",
              "2013-01-02  0.300031 -0.037352 -1.033264 -2.356745\n",
              "2013-01-03  1.424727  0.445893  0.085154 -0.301223\n",
              "2013-01-04  0.241239  0.314981 -0.488092 -0.774441\n",
              "2013-01-05 -0.075114 -0.890753  0.103083  0.940285\n",
              "2013-01-06 -1.018115 -0.366363 -0.468451 -1.512358"
            ]
          },
          "metadata": {
            "tags": []
          },
          "execution_count": 15
        }
      ]
    },
    {
      "cell_type": "code",
      "metadata": {
        "colab": {
          "base_uri": "https://localhost:8080/",
          "height": 175
        },
        "id": "WCVY4vhYFVKG",
        "outputId": "77a7c9a6-133a-4326-be33-dcb8f4f87896"
      },
      "source": [
        "df.T"
      ],
      "execution_count": 16,
      "outputs": [
        {
          "output_type": "execute_result",
          "data": {
            "text/html": [
              "<div>\n",
              "<style scoped>\n",
              "    .dataframe tbody tr th:only-of-type {\n",
              "        vertical-align: middle;\n",
              "    }\n",
              "\n",
              "    .dataframe tbody tr th {\n",
              "        vertical-align: top;\n",
              "    }\n",
              "\n",
              "    .dataframe thead th {\n",
              "        text-align: right;\n",
              "    }\n",
              "</style>\n",
              "<table border=\"1\" class=\"dataframe\">\n",
              "  <thead>\n",
              "    <tr style=\"text-align: right;\">\n",
              "      <th></th>\n",
              "      <th>2013-01-01</th>\n",
              "      <th>2013-01-02</th>\n",
              "      <th>2013-01-03</th>\n",
              "      <th>2013-01-04</th>\n",
              "      <th>2013-01-05</th>\n",
              "      <th>2013-01-06</th>\n",
              "    </tr>\n",
              "  </thead>\n",
              "  <tbody>\n",
              "    <tr>\n",
              "      <th>A</th>\n",
              "      <td>1.180271</td>\n",
              "      <td>0.300031</td>\n",
              "      <td>1.424727</td>\n",
              "      <td>0.241239</td>\n",
              "      <td>-0.075114</td>\n",
              "      <td>-1.018115</td>\n",
              "    </tr>\n",
              "    <tr>\n",
              "      <th>B</th>\n",
              "      <td>-0.602856</td>\n",
              "      <td>-0.037352</td>\n",
              "      <td>0.445893</td>\n",
              "      <td>0.314981</td>\n",
              "      <td>-0.890753</td>\n",
              "      <td>-0.366363</td>\n",
              "    </tr>\n",
              "    <tr>\n",
              "      <th>C</th>\n",
              "      <td>-0.317214</td>\n",
              "      <td>-1.033264</td>\n",
              "      <td>0.085154</td>\n",
              "      <td>-0.488092</td>\n",
              "      <td>0.103083</td>\n",
              "      <td>-0.468451</td>\n",
              "    </tr>\n",
              "    <tr>\n",
              "      <th>D</th>\n",
              "      <td>0.362123</td>\n",
              "      <td>-2.356745</td>\n",
              "      <td>-0.301223</td>\n",
              "      <td>-0.774441</td>\n",
              "      <td>0.940285</td>\n",
              "      <td>-1.512358</td>\n",
              "    </tr>\n",
              "  </tbody>\n",
              "</table>\n",
              "</div>"
            ],
            "text/plain": [
              "   2013-01-01  2013-01-02  2013-01-03  2013-01-04  2013-01-05  2013-01-06\n",
              "A    1.180271    0.300031    1.424727    0.241239   -0.075114   -1.018115\n",
              "B   -0.602856   -0.037352    0.445893    0.314981   -0.890753   -0.366363\n",
              "C   -0.317214   -1.033264    0.085154   -0.488092    0.103083   -0.468451\n",
              "D    0.362123   -2.356745   -0.301223   -0.774441    0.940285   -1.512358"
            ]
          },
          "metadata": {
            "tags": []
          },
          "execution_count": 16
        }
      ]
    },
    {
      "cell_type": "markdown",
      "metadata": {
        "id": "3g625yTgFW3V"
      },
      "source": [
        "axis=1(열)을 기준으로 정렬합니다."
      ]
    },
    {
      "cell_type": "code",
      "metadata": {
        "colab": {
          "base_uri": "https://localhost:8080/",
          "height": 237
        },
        "id": "SlJ4tOXnFmqc",
        "outputId": "3ab873d5-7152-4c7e-f68c-fe7fb63af18f"
      },
      "source": [
        "df"
      ],
      "execution_count": 17,
      "outputs": [
        {
          "output_type": "execute_result",
          "data": {
            "text/html": [
              "<div>\n",
              "<style scoped>\n",
              "    .dataframe tbody tr th:only-of-type {\n",
              "        vertical-align: middle;\n",
              "    }\n",
              "\n",
              "    .dataframe tbody tr th {\n",
              "        vertical-align: top;\n",
              "    }\n",
              "\n",
              "    .dataframe thead th {\n",
              "        text-align: right;\n",
              "    }\n",
              "</style>\n",
              "<table border=\"1\" class=\"dataframe\">\n",
              "  <thead>\n",
              "    <tr style=\"text-align: right;\">\n",
              "      <th></th>\n",
              "      <th>A</th>\n",
              "      <th>B</th>\n",
              "      <th>C</th>\n",
              "      <th>D</th>\n",
              "    </tr>\n",
              "  </thead>\n",
              "  <tbody>\n",
              "    <tr>\n",
              "      <th>2013-01-01</th>\n",
              "      <td>1.180271</td>\n",
              "      <td>-0.602856</td>\n",
              "      <td>-0.317214</td>\n",
              "      <td>0.362123</td>\n",
              "    </tr>\n",
              "    <tr>\n",
              "      <th>2013-01-02</th>\n",
              "      <td>0.300031</td>\n",
              "      <td>-0.037352</td>\n",
              "      <td>-1.033264</td>\n",
              "      <td>-2.356745</td>\n",
              "    </tr>\n",
              "    <tr>\n",
              "      <th>2013-01-03</th>\n",
              "      <td>1.424727</td>\n",
              "      <td>0.445893</td>\n",
              "      <td>0.085154</td>\n",
              "      <td>-0.301223</td>\n",
              "    </tr>\n",
              "    <tr>\n",
              "      <th>2013-01-04</th>\n",
              "      <td>0.241239</td>\n",
              "      <td>0.314981</td>\n",
              "      <td>-0.488092</td>\n",
              "      <td>-0.774441</td>\n",
              "    </tr>\n",
              "    <tr>\n",
              "      <th>2013-01-05</th>\n",
              "      <td>-0.075114</td>\n",
              "      <td>-0.890753</td>\n",
              "      <td>0.103083</td>\n",
              "      <td>0.940285</td>\n",
              "    </tr>\n",
              "    <tr>\n",
              "      <th>2013-01-06</th>\n",
              "      <td>-1.018115</td>\n",
              "      <td>-0.366363</td>\n",
              "      <td>-0.468451</td>\n",
              "      <td>-1.512358</td>\n",
              "    </tr>\n",
              "  </tbody>\n",
              "</table>\n",
              "</div>"
            ],
            "text/plain": [
              "                   A         B         C         D\n",
              "2013-01-01  1.180271 -0.602856 -0.317214  0.362123\n",
              "2013-01-02  0.300031 -0.037352 -1.033264 -2.356745\n",
              "2013-01-03  1.424727  0.445893  0.085154 -0.301223\n",
              "2013-01-04  0.241239  0.314981 -0.488092 -0.774441\n",
              "2013-01-05 -0.075114 -0.890753  0.103083  0.940285\n",
              "2013-01-06 -1.018115 -0.366363 -0.468451 -1.512358"
            ]
          },
          "metadata": {
            "tags": []
          },
          "execution_count": 17
        }
      ]
    },
    {
      "cell_type": "code",
      "metadata": {
        "colab": {
          "base_uri": "https://localhost:8080/",
          "height": 237
        },
        "id": "37nFMi94Fgfk",
        "outputId": "fb205b8b-1070-4e1e-bcb9-91f9bedbbc0e"
      },
      "source": [
        "df.sort_index(axis=1, ascending=False)"
      ],
      "execution_count": 18,
      "outputs": [
        {
          "output_type": "execute_result",
          "data": {
            "text/html": [
              "<div>\n",
              "<style scoped>\n",
              "    .dataframe tbody tr th:only-of-type {\n",
              "        vertical-align: middle;\n",
              "    }\n",
              "\n",
              "    .dataframe tbody tr th {\n",
              "        vertical-align: top;\n",
              "    }\n",
              "\n",
              "    .dataframe thead th {\n",
              "        text-align: right;\n",
              "    }\n",
              "</style>\n",
              "<table border=\"1\" class=\"dataframe\">\n",
              "  <thead>\n",
              "    <tr style=\"text-align: right;\">\n",
              "      <th></th>\n",
              "      <th>D</th>\n",
              "      <th>C</th>\n",
              "      <th>B</th>\n",
              "      <th>A</th>\n",
              "    </tr>\n",
              "  </thead>\n",
              "  <tbody>\n",
              "    <tr>\n",
              "      <th>2013-01-01</th>\n",
              "      <td>0.362123</td>\n",
              "      <td>-0.317214</td>\n",
              "      <td>-0.602856</td>\n",
              "      <td>1.180271</td>\n",
              "    </tr>\n",
              "    <tr>\n",
              "      <th>2013-01-02</th>\n",
              "      <td>-2.356745</td>\n",
              "      <td>-1.033264</td>\n",
              "      <td>-0.037352</td>\n",
              "      <td>0.300031</td>\n",
              "    </tr>\n",
              "    <tr>\n",
              "      <th>2013-01-03</th>\n",
              "      <td>-0.301223</td>\n",
              "      <td>0.085154</td>\n",
              "      <td>0.445893</td>\n",
              "      <td>1.424727</td>\n",
              "    </tr>\n",
              "    <tr>\n",
              "      <th>2013-01-04</th>\n",
              "      <td>-0.774441</td>\n",
              "      <td>-0.488092</td>\n",
              "      <td>0.314981</td>\n",
              "      <td>0.241239</td>\n",
              "    </tr>\n",
              "    <tr>\n",
              "      <th>2013-01-05</th>\n",
              "      <td>0.940285</td>\n",
              "      <td>0.103083</td>\n",
              "      <td>-0.890753</td>\n",
              "      <td>-0.075114</td>\n",
              "    </tr>\n",
              "    <tr>\n",
              "      <th>2013-01-06</th>\n",
              "      <td>-1.512358</td>\n",
              "      <td>-0.468451</td>\n",
              "      <td>-0.366363</td>\n",
              "      <td>-1.018115</td>\n",
              "    </tr>\n",
              "  </tbody>\n",
              "</table>\n",
              "</div>"
            ],
            "text/plain": [
              "                   D         C         B         A\n",
              "2013-01-01  0.362123 -0.317214 -0.602856  1.180271\n",
              "2013-01-02 -2.356745 -1.033264 -0.037352  0.300031\n",
              "2013-01-03 -0.301223  0.085154  0.445893  1.424727\n",
              "2013-01-04 -0.774441 -0.488092  0.314981  0.241239\n",
              "2013-01-05  0.940285  0.103083 -0.890753 -0.075114\n",
              "2013-01-06 -1.512358 -0.468451 -0.366363 -1.018115"
            ]
          },
          "metadata": {
            "tags": []
          },
          "execution_count": 18
        }
      ]
    },
    {
      "cell_type": "markdown",
      "metadata": {
        "id": "qbpQocBRFkN6"
      },
      "source": [
        "values를 기준으로 정렬합니다.\n",
        "\n",
        "기본적으로 오름차순이 적용됩니다. ascending = True "
      ]
    },
    {
      "cell_type": "code",
      "metadata": {
        "colab": {
          "base_uri": "https://localhost:8080/",
          "height": 237
        },
        "id": "7w7kMRIRFuM2",
        "outputId": "291de7fe-66e6-4ba3-9b76-780f62bb7d06"
      },
      "source": [
        "df.sort_values(by=\"B\")"
      ],
      "execution_count": 19,
      "outputs": [
        {
          "output_type": "execute_result",
          "data": {
            "text/html": [
              "<div>\n",
              "<style scoped>\n",
              "    .dataframe tbody tr th:only-of-type {\n",
              "        vertical-align: middle;\n",
              "    }\n",
              "\n",
              "    .dataframe tbody tr th {\n",
              "        vertical-align: top;\n",
              "    }\n",
              "\n",
              "    .dataframe thead th {\n",
              "        text-align: right;\n",
              "    }\n",
              "</style>\n",
              "<table border=\"1\" class=\"dataframe\">\n",
              "  <thead>\n",
              "    <tr style=\"text-align: right;\">\n",
              "      <th></th>\n",
              "      <th>A</th>\n",
              "      <th>B</th>\n",
              "      <th>C</th>\n",
              "      <th>D</th>\n",
              "    </tr>\n",
              "  </thead>\n",
              "  <tbody>\n",
              "    <tr>\n",
              "      <th>2013-01-05</th>\n",
              "      <td>-0.075114</td>\n",
              "      <td>-0.890753</td>\n",
              "      <td>0.103083</td>\n",
              "      <td>0.940285</td>\n",
              "    </tr>\n",
              "    <tr>\n",
              "      <th>2013-01-01</th>\n",
              "      <td>1.180271</td>\n",
              "      <td>-0.602856</td>\n",
              "      <td>-0.317214</td>\n",
              "      <td>0.362123</td>\n",
              "    </tr>\n",
              "    <tr>\n",
              "      <th>2013-01-06</th>\n",
              "      <td>-1.018115</td>\n",
              "      <td>-0.366363</td>\n",
              "      <td>-0.468451</td>\n",
              "      <td>-1.512358</td>\n",
              "    </tr>\n",
              "    <tr>\n",
              "      <th>2013-01-02</th>\n",
              "      <td>0.300031</td>\n",
              "      <td>-0.037352</td>\n",
              "      <td>-1.033264</td>\n",
              "      <td>-2.356745</td>\n",
              "    </tr>\n",
              "    <tr>\n",
              "      <th>2013-01-04</th>\n",
              "      <td>0.241239</td>\n",
              "      <td>0.314981</td>\n",
              "      <td>-0.488092</td>\n",
              "      <td>-0.774441</td>\n",
              "    </tr>\n",
              "    <tr>\n",
              "      <th>2013-01-03</th>\n",
              "      <td>1.424727</td>\n",
              "      <td>0.445893</td>\n",
              "      <td>0.085154</td>\n",
              "      <td>-0.301223</td>\n",
              "    </tr>\n",
              "  </tbody>\n",
              "</table>\n",
              "</div>"
            ],
            "text/plain": [
              "                   A         B         C         D\n",
              "2013-01-05 -0.075114 -0.890753  0.103083  0.940285\n",
              "2013-01-01  1.180271 -0.602856 -0.317214  0.362123\n",
              "2013-01-06 -1.018115 -0.366363 -0.468451 -1.512358\n",
              "2013-01-02  0.300031 -0.037352 -1.033264 -2.356745\n",
              "2013-01-04  0.241239  0.314981 -0.488092 -0.774441\n",
              "2013-01-03  1.424727  0.445893  0.085154 -0.301223"
            ]
          },
          "metadata": {
            "tags": []
          },
          "execution_count": 19
        }
      ]
    },
    {
      "cell_type": "markdown",
      "metadata": {
        "id": "pcJqOgM3SZe8"
      },
      "source": [
        "# 가져오기"
      ]
    },
    {
      "cell_type": "markdown",
      "metadata": {
        "id": "t9aUEM7tSkwE"
      },
      "source": [
        "single column을 선택하면 Series 가 생성이 됩니다.\n",
        "\n",
        "df.A와 기능이 동등합니다."
      ]
    },
    {
      "cell_type": "code",
      "metadata": {
        "colab": {
          "base_uri": "https://localhost:8080/"
        },
        "id": "ZmSEp2dKS92g",
        "outputId": "a03658de-05a2-40ee-f8f9-230f283ae32d"
      },
      "source": [
        "df[\"A\"]"
      ],
      "execution_count": 20,
      "outputs": [
        {
          "output_type": "execute_result",
          "data": {
            "text/plain": [
              "2013-01-01    1.180271\n",
              "2013-01-02    0.300031\n",
              "2013-01-03    1.424727\n",
              "2013-01-04    0.241239\n",
              "2013-01-05   -0.075114\n",
              "2013-01-06   -1.018115\n",
              "Freq: D, Name: A, dtype: float64"
            ]
          },
          "metadata": {
            "tags": []
          },
          "execution_count": 20
        }
      ]
    },
    {
      "cell_type": "markdown",
      "metadata": {
        "id": "oo4oB5joS-uR"
      },
      "source": [
        "[]을 사용하면 행을 분할(슬라이싱) 합니다."
      ]
    },
    {
      "cell_type": "code",
      "metadata": {
        "colab": {
          "base_uri": "https://localhost:8080/",
          "height": 143
        },
        "id": "c-4744oRTMzY",
        "outputId": "f9435bde-3f16-4fc0-8f2c-2501b1b5297e"
      },
      "source": [
        "df[0:3]"
      ],
      "execution_count": 21,
      "outputs": [
        {
          "output_type": "execute_result",
          "data": {
            "text/html": [
              "<div>\n",
              "<style scoped>\n",
              "    .dataframe tbody tr th:only-of-type {\n",
              "        vertical-align: middle;\n",
              "    }\n",
              "\n",
              "    .dataframe tbody tr th {\n",
              "        vertical-align: top;\n",
              "    }\n",
              "\n",
              "    .dataframe thead th {\n",
              "        text-align: right;\n",
              "    }\n",
              "</style>\n",
              "<table border=\"1\" class=\"dataframe\">\n",
              "  <thead>\n",
              "    <tr style=\"text-align: right;\">\n",
              "      <th></th>\n",
              "      <th>A</th>\n",
              "      <th>B</th>\n",
              "      <th>C</th>\n",
              "      <th>D</th>\n",
              "    </tr>\n",
              "  </thead>\n",
              "  <tbody>\n",
              "    <tr>\n",
              "      <th>2013-01-01</th>\n",
              "      <td>1.180271</td>\n",
              "      <td>-0.602856</td>\n",
              "      <td>-0.317214</td>\n",
              "      <td>0.362123</td>\n",
              "    </tr>\n",
              "    <tr>\n",
              "      <th>2013-01-02</th>\n",
              "      <td>0.300031</td>\n",
              "      <td>-0.037352</td>\n",
              "      <td>-1.033264</td>\n",
              "      <td>-2.356745</td>\n",
              "    </tr>\n",
              "    <tr>\n",
              "      <th>2013-01-03</th>\n",
              "      <td>1.424727</td>\n",
              "      <td>0.445893</td>\n",
              "      <td>0.085154</td>\n",
              "      <td>-0.301223</td>\n",
              "    </tr>\n",
              "  </tbody>\n",
              "</table>\n",
              "</div>"
            ],
            "text/plain": [
              "                   A         B         C         D\n",
              "2013-01-01  1.180271 -0.602856 -0.317214  0.362123\n",
              "2013-01-02  0.300031 -0.037352 -1.033264 -2.356745\n",
              "2013-01-03  1.424727  0.445893  0.085154 -0.301223"
            ]
          },
          "metadata": {
            "tags": []
          },
          "execution_count": 21
        }
      ]
    },
    {
      "cell_type": "code",
      "metadata": {
        "colab": {
          "base_uri": "https://localhost:8080/",
          "height": 143
        },
        "id": "BknuO9lBTOPQ",
        "outputId": "8a537f90-83a0-43e8-9f33-619b9fd74100"
      },
      "source": [
        "df[\"20130102\":\"20130104\"]"
      ],
      "execution_count": 22,
      "outputs": [
        {
          "output_type": "execute_result",
          "data": {
            "text/html": [
              "<div>\n",
              "<style scoped>\n",
              "    .dataframe tbody tr th:only-of-type {\n",
              "        vertical-align: middle;\n",
              "    }\n",
              "\n",
              "    .dataframe tbody tr th {\n",
              "        vertical-align: top;\n",
              "    }\n",
              "\n",
              "    .dataframe thead th {\n",
              "        text-align: right;\n",
              "    }\n",
              "</style>\n",
              "<table border=\"1\" class=\"dataframe\">\n",
              "  <thead>\n",
              "    <tr style=\"text-align: right;\">\n",
              "      <th></th>\n",
              "      <th>A</th>\n",
              "      <th>B</th>\n",
              "      <th>C</th>\n",
              "      <th>D</th>\n",
              "    </tr>\n",
              "  </thead>\n",
              "  <tbody>\n",
              "    <tr>\n",
              "      <th>2013-01-02</th>\n",
              "      <td>0.300031</td>\n",
              "      <td>-0.037352</td>\n",
              "      <td>-1.033264</td>\n",
              "      <td>-2.356745</td>\n",
              "    </tr>\n",
              "    <tr>\n",
              "      <th>2013-01-03</th>\n",
              "      <td>1.424727</td>\n",
              "      <td>0.445893</td>\n",
              "      <td>0.085154</td>\n",
              "      <td>-0.301223</td>\n",
              "    </tr>\n",
              "    <tr>\n",
              "      <th>2013-01-04</th>\n",
              "      <td>0.241239</td>\n",
              "      <td>0.314981</td>\n",
              "      <td>-0.488092</td>\n",
              "      <td>-0.774441</td>\n",
              "    </tr>\n",
              "  </tbody>\n",
              "</table>\n",
              "</div>"
            ],
            "text/plain": [
              "                   A         B         C         D\n",
              "2013-01-02  0.300031 -0.037352 -1.033264 -2.356745\n",
              "2013-01-03  1.424727  0.445893  0.085154 -0.301223\n",
              "2013-01-04  0.241239  0.314981 -0.488092 -0.774441"
            ]
          },
          "metadata": {
            "tags": []
          },
          "execution_count": 22
        }
      ]
    },
    {
      "cell_type": "markdown",
      "metadata": {
        "id": "6N6gvzinTSVG"
      },
      "source": [
        "# 레이블별 선택"
      ]
    },
    {
      "cell_type": "markdown",
      "metadata": {
        "id": "Tt7gjsYXTe9R"
      },
      "source": [
        "레이블을 사용하여 가져오기"
      ]
    },
    {
      "cell_type": "code",
      "metadata": {
        "colab": {
          "base_uri": "https://localhost:8080/"
        },
        "id": "CfIVV_NuTnyg",
        "outputId": "39631c4d-e9f4-42a8-d2aa-436e231b7376"
      },
      "source": [
        "df.loc[dates[0]]"
      ],
      "execution_count": 23,
      "outputs": [
        {
          "output_type": "execute_result",
          "data": {
            "text/plain": [
              "A    1.180271\n",
              "B   -0.602856\n",
              "C   -0.317214\n",
              "D    0.362123\n",
              "Name: 2013-01-01 00:00:00, dtype: float64"
            ]
          },
          "metadata": {
            "tags": []
          },
          "execution_count": 23
        }
      ]
    },
    {
      "cell_type": "markdown",
      "metadata": {
        "id": "bT0x0_EGTpCk"
      },
      "source": [
        "컬럼을 다중으로 선택하여 가져오기"
      ]
    },
    {
      "cell_type": "code",
      "metadata": {
        "colab": {
          "base_uri": "https://localhost:8080/",
          "height": 237
        },
        "id": "KDkcryxkT2_T",
        "outputId": "0db5e57f-426c-43f3-8c95-ce2f37f5f063"
      },
      "source": [
        "df.loc[:, [\"A\", \"B\"]]"
      ],
      "execution_count": 24,
      "outputs": [
        {
          "output_type": "execute_result",
          "data": {
            "text/html": [
              "<div>\n",
              "<style scoped>\n",
              "    .dataframe tbody tr th:only-of-type {\n",
              "        vertical-align: middle;\n",
              "    }\n",
              "\n",
              "    .dataframe tbody tr th {\n",
              "        vertical-align: top;\n",
              "    }\n",
              "\n",
              "    .dataframe thead th {\n",
              "        text-align: right;\n",
              "    }\n",
              "</style>\n",
              "<table border=\"1\" class=\"dataframe\">\n",
              "  <thead>\n",
              "    <tr style=\"text-align: right;\">\n",
              "      <th></th>\n",
              "      <th>A</th>\n",
              "      <th>B</th>\n",
              "    </tr>\n",
              "  </thead>\n",
              "  <tbody>\n",
              "    <tr>\n",
              "      <th>2013-01-01</th>\n",
              "      <td>1.180271</td>\n",
              "      <td>-0.602856</td>\n",
              "    </tr>\n",
              "    <tr>\n",
              "      <th>2013-01-02</th>\n",
              "      <td>0.300031</td>\n",
              "      <td>-0.037352</td>\n",
              "    </tr>\n",
              "    <tr>\n",
              "      <th>2013-01-03</th>\n",
              "      <td>1.424727</td>\n",
              "      <td>0.445893</td>\n",
              "    </tr>\n",
              "    <tr>\n",
              "      <th>2013-01-04</th>\n",
              "      <td>0.241239</td>\n",
              "      <td>0.314981</td>\n",
              "    </tr>\n",
              "    <tr>\n",
              "      <th>2013-01-05</th>\n",
              "      <td>-0.075114</td>\n",
              "      <td>-0.890753</td>\n",
              "    </tr>\n",
              "    <tr>\n",
              "      <th>2013-01-06</th>\n",
              "      <td>-1.018115</td>\n",
              "      <td>-0.366363</td>\n",
              "    </tr>\n",
              "  </tbody>\n",
              "</table>\n",
              "</div>"
            ],
            "text/plain": [
              "                   A         B\n",
              "2013-01-01  1.180271 -0.602856\n",
              "2013-01-02  0.300031 -0.037352\n",
              "2013-01-03  1.424727  0.445893\n",
              "2013-01-04  0.241239  0.314981\n",
              "2013-01-05 -0.075114 -0.890753\n",
              "2013-01-06 -1.018115 -0.366363"
            ]
          },
          "metadata": {
            "tags": []
          },
          "execution_count": 24
        }
      ]
    },
    {
      "cell_type": "markdown",
      "metadata": {
        "id": "K6Vt032_T5yz"
      },
      "source": [
        "종료지점을 포함한 슬라이싱"
      ]
    },
    {
      "cell_type": "code",
      "metadata": {
        "colab": {
          "base_uri": "https://localhost:8080/",
          "height": 143
        },
        "id": "1yXVywS6UDzY",
        "outputId": "1652b3ce-0151-4c32-d9fc-13743469ec82"
      },
      "source": [
        "df.loc[\"20130102\" : \"20130104\", [\"A\",\"B\"]]"
      ],
      "execution_count": 25,
      "outputs": [
        {
          "output_type": "execute_result",
          "data": {
            "text/html": [
              "<div>\n",
              "<style scoped>\n",
              "    .dataframe tbody tr th:only-of-type {\n",
              "        vertical-align: middle;\n",
              "    }\n",
              "\n",
              "    .dataframe tbody tr th {\n",
              "        vertical-align: top;\n",
              "    }\n",
              "\n",
              "    .dataframe thead th {\n",
              "        text-align: right;\n",
              "    }\n",
              "</style>\n",
              "<table border=\"1\" class=\"dataframe\">\n",
              "  <thead>\n",
              "    <tr style=\"text-align: right;\">\n",
              "      <th></th>\n",
              "      <th>A</th>\n",
              "      <th>B</th>\n",
              "    </tr>\n",
              "  </thead>\n",
              "  <tbody>\n",
              "    <tr>\n",
              "      <th>2013-01-02</th>\n",
              "      <td>0.300031</td>\n",
              "      <td>-0.037352</td>\n",
              "    </tr>\n",
              "    <tr>\n",
              "      <th>2013-01-03</th>\n",
              "      <td>1.424727</td>\n",
              "      <td>0.445893</td>\n",
              "    </tr>\n",
              "    <tr>\n",
              "      <th>2013-01-04</th>\n",
              "      <td>0.241239</td>\n",
              "      <td>0.314981</td>\n",
              "    </tr>\n",
              "  </tbody>\n",
              "</table>\n",
              "</div>"
            ],
            "text/plain": [
              "                   A         B\n",
              "2013-01-02  0.300031 -0.037352\n",
              "2013-01-03  1.424727  0.445893\n",
              "2013-01-04  0.241239  0.314981"
            ]
          },
          "metadata": {
            "tags": []
          },
          "execution_count": 25
        }
      ]
    },
    {
      "cell_type": "markdown",
      "metadata": {
        "id": "7LuZbaMSUTx3"
      },
      "source": [
        "객체가 반환하는 차원이 감소합니다."
      ]
    },
    {
      "cell_type": "code",
      "metadata": {
        "colab": {
          "base_uri": "https://localhost:8080/"
        },
        "id": "AWJKW0uLUHpY",
        "outputId": "17a48921-a2ee-4566-ab7d-1b35b2344dd4"
      },
      "source": [
        "df.loc[\"20130102\", [\"A\",\"B\"]]"
      ],
      "execution_count": 26,
      "outputs": [
        {
          "output_type": "execute_result",
          "data": {
            "text/plain": [
              "A    0.300031\n",
              "B   -0.037352\n",
              "Name: 2013-01-02 00:00:00, dtype: float64"
            ]
          },
          "metadata": {
            "tags": []
          },
          "execution_count": 26
        }
      ]
    },
    {
      "cell_type": "markdown",
      "metadata": {
        "id": "Y1lEwei4UQ87"
      },
      "source": [
        "scalar 값을 가져옵니다"
      ]
    },
    {
      "cell_type": "code",
      "metadata": {
        "colab": {
          "base_uri": "https://localhost:8080/"
        },
        "id": "1YQIvMpdUaEE",
        "outputId": "c7d11d5d-65e5-4812-ec0e-0ef30b76101d"
      },
      "source": [
        "df.loc[dates[0], \"A\"]"
      ],
      "execution_count": 27,
      "outputs": [
        {
          "output_type": "execute_result",
          "data": {
            "text/plain": [
              "1.1802709698404061"
            ]
          },
          "metadata": {
            "tags": []
          },
          "execution_count": 27
        }
      ]
    },
    {
      "cell_type": "markdown",
      "metadata": {
        "id": "ZCtA9AcEUdVE"
      },
      "source": [
        "scalar에 빠르게 엑세스하여 가져오는 방법입니다."
      ]
    },
    {
      "cell_type": "code",
      "metadata": {
        "colab": {
          "base_uri": "https://localhost:8080/"
        },
        "id": "mQdU6hpyUoH4",
        "outputId": "51ef8870-8e1a-4a21-add2-a63414f972d7"
      },
      "source": [
        "# df.at[\"20130101\",\"A\"]\n",
        "df.at[dates[0],\"A\"]"
      ],
      "execution_count": 28,
      "outputs": [
        {
          "output_type": "execute_result",
          "data": {
            "text/plain": [
              "1.1802709698404061"
            ]
          },
          "metadata": {
            "tags": []
          },
          "execution_count": 28
        }
      ]
    },
    {
      "cell_type": "markdown",
      "metadata": {
        "id": "tck16pWdUp2E"
      },
      "source": [
        "# 위치(position)별로 선택"
      ]
    },
    {
      "cell_type": "markdown",
      "metadata": {
        "id": "125XTh123r9u"
      },
      "source": [
        "전달된 정수(integers)의 위치를 통해 다음을 선택\n"
      ]
    },
    {
      "cell_type": "code",
      "metadata": {
        "colab": {
          "base_uri": "https://localhost:8080/"
        },
        "id": "U1m1qi1t4PXj",
        "outputId": "10195196-a6b4-411e-bb14-7b8908d79044"
      },
      "source": [
        "df.iloc[3]"
      ],
      "execution_count": 29,
      "outputs": [
        {
          "output_type": "execute_result",
          "data": {
            "text/plain": [
              "A    0.241239\n",
              "B    0.314981\n",
              "C   -0.488092\n",
              "D   -0.774441\n",
              "Name: 2013-01-04 00:00:00, dtype: float64"
            ]
          },
          "metadata": {
            "tags": []
          },
          "execution_count": 29
        }
      ]
    },
    {
      "cell_type": "markdown",
      "metadata": {
        "id": "j2cWlsJ74ce4"
      },
      "source": [
        "슬라이싱을 통해 Numpy/Python과 유사하게 작동합니다."
      ]
    },
    {
      "cell_type": "code",
      "metadata": {
        "colab": {
          "base_uri": "https://localhost:8080/",
          "height": 112
        },
        "id": "TRaHBSvb4QhU",
        "outputId": "3e7445a9-2757-4816-c30e-096801d1673f"
      },
      "source": [
        "df.iloc[3:5, 0:2]"
      ],
      "execution_count": 30,
      "outputs": [
        {
          "output_type": "execute_result",
          "data": {
            "text/html": [
              "<div>\n",
              "<style scoped>\n",
              "    .dataframe tbody tr th:only-of-type {\n",
              "        vertical-align: middle;\n",
              "    }\n",
              "\n",
              "    .dataframe tbody tr th {\n",
              "        vertical-align: top;\n",
              "    }\n",
              "\n",
              "    .dataframe thead th {\n",
              "        text-align: right;\n",
              "    }\n",
              "</style>\n",
              "<table border=\"1\" class=\"dataframe\">\n",
              "  <thead>\n",
              "    <tr style=\"text-align: right;\">\n",
              "      <th></th>\n",
              "      <th>A</th>\n",
              "      <th>B</th>\n",
              "    </tr>\n",
              "  </thead>\n",
              "  <tbody>\n",
              "    <tr>\n",
              "      <th>2013-01-04</th>\n",
              "      <td>0.241239</td>\n",
              "      <td>0.314981</td>\n",
              "    </tr>\n",
              "    <tr>\n",
              "      <th>2013-01-05</th>\n",
              "      <td>-0.075114</td>\n",
              "      <td>-0.890753</td>\n",
              "    </tr>\n",
              "  </tbody>\n",
              "</table>\n",
              "</div>"
            ],
            "text/plain": [
              "                   A         B\n",
              "2013-01-04  0.241239  0.314981\n",
              "2013-01-05 -0.075114 -0.890753"
            ]
          },
          "metadata": {
            "tags": []
          },
          "execution_count": 30
        }
      ]
    },
    {
      "cell_type": "markdown",
      "metadata": {
        "id": "cCrSph7c4kA6"
      },
      "source": [
        "정수 리스트를 통해 표현"
      ]
    },
    {
      "cell_type": "code",
      "metadata": {
        "colab": {
          "base_uri": "https://localhost:8080/",
          "height": 143
        },
        "id": "B62OfjMU42ok",
        "outputId": "e24288f0-74fd-44da-de70-0cb9c1d09c2b"
      },
      "source": [
        "df.iloc[[1,2,4],[0,2]]\n"
      ],
      "execution_count": 31,
      "outputs": [
        {
          "output_type": "execute_result",
          "data": {
            "text/html": [
              "<div>\n",
              "<style scoped>\n",
              "    .dataframe tbody tr th:only-of-type {\n",
              "        vertical-align: middle;\n",
              "    }\n",
              "\n",
              "    .dataframe tbody tr th {\n",
              "        vertical-align: top;\n",
              "    }\n",
              "\n",
              "    .dataframe thead th {\n",
              "        text-align: right;\n",
              "    }\n",
              "</style>\n",
              "<table border=\"1\" class=\"dataframe\">\n",
              "  <thead>\n",
              "    <tr style=\"text-align: right;\">\n",
              "      <th></th>\n",
              "      <th>A</th>\n",
              "      <th>C</th>\n",
              "    </tr>\n",
              "  </thead>\n",
              "  <tbody>\n",
              "    <tr>\n",
              "      <th>2013-01-02</th>\n",
              "      <td>0.300031</td>\n",
              "      <td>-1.033264</td>\n",
              "    </tr>\n",
              "    <tr>\n",
              "      <th>2013-01-03</th>\n",
              "      <td>1.424727</td>\n",
              "      <td>0.085154</td>\n",
              "    </tr>\n",
              "    <tr>\n",
              "      <th>2013-01-05</th>\n",
              "      <td>-0.075114</td>\n",
              "      <td>0.103083</td>\n",
              "    </tr>\n",
              "  </tbody>\n",
              "</table>\n",
              "</div>"
            ],
            "text/plain": [
              "                   A         C\n",
              "2013-01-02  0.300031 -1.033264\n",
              "2013-01-03  1.424727  0.085154\n",
              "2013-01-05 -0.075114  0.103083"
            ]
          },
          "metadata": {
            "tags": []
          },
          "execution_count": 31
        }
      ]
    },
    {
      "cell_type": "markdown",
      "metadata": {
        "id": "5nmHF4Gx48AH"
      },
      "source": [
        "row(행)만 슬라이싱을 합니다."
      ]
    },
    {
      "cell_type": "code",
      "metadata": {
        "colab": {
          "base_uri": "https://localhost:8080/",
          "height": 112
        },
        "id": "LaKmst7R46QM",
        "outputId": "4211a4d9-fcb5-46c7-8a25-622bb245ae36"
      },
      "source": [
        "df.iloc[1:3, :]"
      ],
      "execution_count": 32,
      "outputs": [
        {
          "output_type": "execute_result",
          "data": {
            "text/html": [
              "<div>\n",
              "<style scoped>\n",
              "    .dataframe tbody tr th:only-of-type {\n",
              "        vertical-align: middle;\n",
              "    }\n",
              "\n",
              "    .dataframe tbody tr th {\n",
              "        vertical-align: top;\n",
              "    }\n",
              "\n",
              "    .dataframe thead th {\n",
              "        text-align: right;\n",
              "    }\n",
              "</style>\n",
              "<table border=\"1\" class=\"dataframe\">\n",
              "  <thead>\n",
              "    <tr style=\"text-align: right;\">\n",
              "      <th></th>\n",
              "      <th>A</th>\n",
              "      <th>B</th>\n",
              "      <th>C</th>\n",
              "      <th>D</th>\n",
              "    </tr>\n",
              "  </thead>\n",
              "  <tbody>\n",
              "    <tr>\n",
              "      <th>2013-01-02</th>\n",
              "      <td>0.300031</td>\n",
              "      <td>-0.037352</td>\n",
              "      <td>-1.033264</td>\n",
              "      <td>-2.356745</td>\n",
              "    </tr>\n",
              "    <tr>\n",
              "      <th>2013-01-03</th>\n",
              "      <td>1.424727</td>\n",
              "      <td>0.445893</td>\n",
              "      <td>0.085154</td>\n",
              "      <td>-0.301223</td>\n",
              "    </tr>\n",
              "  </tbody>\n",
              "</table>\n",
              "</div>"
            ],
            "text/plain": [
              "                   A         B         C         D\n",
              "2013-01-02  0.300031 -0.037352 -1.033264 -2.356745\n",
              "2013-01-03  1.424727  0.445893  0.085154 -0.301223"
            ]
          },
          "metadata": {
            "tags": []
          },
          "execution_count": 32
        }
      ]
    },
    {
      "cell_type": "markdown",
      "metadata": {
        "id": "2CqPzUc95AuZ"
      },
      "source": [
        "columns(열)만 슬라이싱 합니다."
      ]
    },
    {
      "cell_type": "code",
      "metadata": {
        "colab": {
          "base_uri": "https://localhost:8080/",
          "height": 237
        },
        "id": "81A5dEsT5Fjw",
        "outputId": "2f236a93-12c3-42d2-eb0b-334c0d3eed64"
      },
      "source": [
        "df.iloc[:, 1:3]"
      ],
      "execution_count": 33,
      "outputs": [
        {
          "output_type": "execute_result",
          "data": {
            "text/html": [
              "<div>\n",
              "<style scoped>\n",
              "    .dataframe tbody tr th:only-of-type {\n",
              "        vertical-align: middle;\n",
              "    }\n",
              "\n",
              "    .dataframe tbody tr th {\n",
              "        vertical-align: top;\n",
              "    }\n",
              "\n",
              "    .dataframe thead th {\n",
              "        text-align: right;\n",
              "    }\n",
              "</style>\n",
              "<table border=\"1\" class=\"dataframe\">\n",
              "  <thead>\n",
              "    <tr style=\"text-align: right;\">\n",
              "      <th></th>\n",
              "      <th>B</th>\n",
              "      <th>C</th>\n",
              "    </tr>\n",
              "  </thead>\n",
              "  <tbody>\n",
              "    <tr>\n",
              "      <th>2013-01-01</th>\n",
              "      <td>-0.602856</td>\n",
              "      <td>-0.317214</td>\n",
              "    </tr>\n",
              "    <tr>\n",
              "      <th>2013-01-02</th>\n",
              "      <td>-0.037352</td>\n",
              "      <td>-1.033264</td>\n",
              "    </tr>\n",
              "    <tr>\n",
              "      <th>2013-01-03</th>\n",
              "      <td>0.445893</td>\n",
              "      <td>0.085154</td>\n",
              "    </tr>\n",
              "    <tr>\n",
              "      <th>2013-01-04</th>\n",
              "      <td>0.314981</td>\n",
              "      <td>-0.488092</td>\n",
              "    </tr>\n",
              "    <tr>\n",
              "      <th>2013-01-05</th>\n",
              "      <td>-0.890753</td>\n",
              "      <td>0.103083</td>\n",
              "    </tr>\n",
              "    <tr>\n",
              "      <th>2013-01-06</th>\n",
              "      <td>-0.366363</td>\n",
              "      <td>-0.468451</td>\n",
              "    </tr>\n",
              "  </tbody>\n",
              "</table>\n",
              "</div>"
            ],
            "text/plain": [
              "                   B         C\n",
              "2013-01-01 -0.602856 -0.317214\n",
              "2013-01-02 -0.037352 -1.033264\n",
              "2013-01-03  0.445893  0.085154\n",
              "2013-01-04  0.314981 -0.488092\n",
              "2013-01-05 -0.890753  0.103083\n",
              "2013-01-06 -0.366363 -0.468451"
            ]
          },
          "metadata": {
            "tags": []
          },
          "execution_count": 33
        }
      ]
    },
    {
      "cell_type": "markdown",
      "metadata": {
        "id": "sEgHTk0O5G2V"
      },
      "source": [
        "value(값)로 가져옵니다."
      ]
    },
    {
      "cell_type": "code",
      "metadata": {
        "colab": {
          "base_uri": "https://localhost:8080/"
        },
        "id": "IbcyjwKW5OmQ",
        "outputId": "50e9a365-7f8e-4d86-f670-ae570c4de1be"
      },
      "source": [
        "df.iloc[1,1]"
      ],
      "execution_count": 34,
      "outputs": [
        {
          "output_type": "execute_result",
          "data": {
            "text/plain": [
              "-0.037351828443568554"
            ]
          },
          "metadata": {
            "tags": []
          },
          "execution_count": 34
        }
      ]
    },
    {
      "cell_type": "markdown",
      "metadata": {
        "id": "9AnVgVyX5PnN"
      },
      "source": [
        "scalar를 빠르게 엑세스하여 가져옵니다."
      ]
    },
    {
      "cell_type": "code",
      "metadata": {
        "colab": {
          "base_uri": "https://localhost:8080/"
        },
        "id": "cVHauL2Y5UWR",
        "outputId": "4258c032-da5b-4ee5-d198-e189dd33e9ef"
      },
      "source": [
        "df.iat[1,1]"
      ],
      "execution_count": 35,
      "outputs": [
        {
          "output_type": "execute_result",
          "data": {
            "text/plain": [
              "-0.037351828443568554"
            ]
          },
          "metadata": {
            "tags": []
          },
          "execution_count": 35
        }
      ]
    },
    {
      "cell_type": "markdown",
      "metadata": {
        "id": "z6-ICp6f5VQE"
      },
      "source": [
        "#Boolean indexing"
      ]
    },
    {
      "cell_type": "markdown",
      "metadata": {
        "id": "b1mu9QQ65bYO"
      },
      "source": [
        "single column의 value를 통해 선택합니다."
      ]
    },
    {
      "cell_type": "code",
      "metadata": {
        "colab": {
          "base_uri": "https://localhost:8080/",
          "height": 175
        },
        "id": "b4EGfsS15ieO",
        "outputId": "3e708427-1a20-4a66-ba12-685b20222589"
      },
      "source": [
        "df[df[\"A\"]>0]"
      ],
      "execution_count": 36,
      "outputs": [
        {
          "output_type": "execute_result",
          "data": {
            "text/html": [
              "<div>\n",
              "<style scoped>\n",
              "    .dataframe tbody tr th:only-of-type {\n",
              "        vertical-align: middle;\n",
              "    }\n",
              "\n",
              "    .dataframe tbody tr th {\n",
              "        vertical-align: top;\n",
              "    }\n",
              "\n",
              "    .dataframe thead th {\n",
              "        text-align: right;\n",
              "    }\n",
              "</style>\n",
              "<table border=\"1\" class=\"dataframe\">\n",
              "  <thead>\n",
              "    <tr style=\"text-align: right;\">\n",
              "      <th></th>\n",
              "      <th>A</th>\n",
              "      <th>B</th>\n",
              "      <th>C</th>\n",
              "      <th>D</th>\n",
              "    </tr>\n",
              "  </thead>\n",
              "  <tbody>\n",
              "    <tr>\n",
              "      <th>2013-01-01</th>\n",
              "      <td>1.180271</td>\n",
              "      <td>-0.602856</td>\n",
              "      <td>-0.317214</td>\n",
              "      <td>0.362123</td>\n",
              "    </tr>\n",
              "    <tr>\n",
              "      <th>2013-01-02</th>\n",
              "      <td>0.300031</td>\n",
              "      <td>-0.037352</td>\n",
              "      <td>-1.033264</td>\n",
              "      <td>-2.356745</td>\n",
              "    </tr>\n",
              "    <tr>\n",
              "      <th>2013-01-03</th>\n",
              "      <td>1.424727</td>\n",
              "      <td>0.445893</td>\n",
              "      <td>0.085154</td>\n",
              "      <td>-0.301223</td>\n",
              "    </tr>\n",
              "    <tr>\n",
              "      <th>2013-01-04</th>\n",
              "      <td>0.241239</td>\n",
              "      <td>0.314981</td>\n",
              "      <td>-0.488092</td>\n",
              "      <td>-0.774441</td>\n",
              "    </tr>\n",
              "  </tbody>\n",
              "</table>\n",
              "</div>"
            ],
            "text/plain": [
              "                   A         B         C         D\n",
              "2013-01-01  1.180271 -0.602856 -0.317214  0.362123\n",
              "2013-01-02  0.300031 -0.037352 -1.033264 -2.356745\n",
              "2013-01-03  1.424727  0.445893  0.085154 -0.301223\n",
              "2013-01-04  0.241239  0.314981 -0.488092 -0.774441"
            ]
          },
          "metadata": {
            "tags": []
          },
          "execution_count": 36
        }
      ]
    },
    {
      "cell_type": "code",
      "metadata": {
        "colab": {
          "base_uri": "https://localhost:8080/",
          "height": 237
        },
        "id": "25A7v5jn5yJF",
        "outputId": "5bc041f5-d81b-4607-9937-35061a86e679"
      },
      "source": [
        "df"
      ],
      "execution_count": 37,
      "outputs": [
        {
          "output_type": "execute_result",
          "data": {
            "text/html": [
              "<div>\n",
              "<style scoped>\n",
              "    .dataframe tbody tr th:only-of-type {\n",
              "        vertical-align: middle;\n",
              "    }\n",
              "\n",
              "    .dataframe tbody tr th {\n",
              "        vertical-align: top;\n",
              "    }\n",
              "\n",
              "    .dataframe thead th {\n",
              "        text-align: right;\n",
              "    }\n",
              "</style>\n",
              "<table border=\"1\" class=\"dataframe\">\n",
              "  <thead>\n",
              "    <tr style=\"text-align: right;\">\n",
              "      <th></th>\n",
              "      <th>A</th>\n",
              "      <th>B</th>\n",
              "      <th>C</th>\n",
              "      <th>D</th>\n",
              "    </tr>\n",
              "  </thead>\n",
              "  <tbody>\n",
              "    <tr>\n",
              "      <th>2013-01-01</th>\n",
              "      <td>1.180271</td>\n",
              "      <td>-0.602856</td>\n",
              "      <td>-0.317214</td>\n",
              "      <td>0.362123</td>\n",
              "    </tr>\n",
              "    <tr>\n",
              "      <th>2013-01-02</th>\n",
              "      <td>0.300031</td>\n",
              "      <td>-0.037352</td>\n",
              "      <td>-1.033264</td>\n",
              "      <td>-2.356745</td>\n",
              "    </tr>\n",
              "    <tr>\n",
              "      <th>2013-01-03</th>\n",
              "      <td>1.424727</td>\n",
              "      <td>0.445893</td>\n",
              "      <td>0.085154</td>\n",
              "      <td>-0.301223</td>\n",
              "    </tr>\n",
              "    <tr>\n",
              "      <th>2013-01-04</th>\n",
              "      <td>0.241239</td>\n",
              "      <td>0.314981</td>\n",
              "      <td>-0.488092</td>\n",
              "      <td>-0.774441</td>\n",
              "    </tr>\n",
              "    <tr>\n",
              "      <th>2013-01-05</th>\n",
              "      <td>-0.075114</td>\n",
              "      <td>-0.890753</td>\n",
              "      <td>0.103083</td>\n",
              "      <td>0.940285</td>\n",
              "    </tr>\n",
              "    <tr>\n",
              "      <th>2013-01-06</th>\n",
              "      <td>-1.018115</td>\n",
              "      <td>-0.366363</td>\n",
              "      <td>-0.468451</td>\n",
              "      <td>-1.512358</td>\n",
              "    </tr>\n",
              "  </tbody>\n",
              "</table>\n",
              "</div>"
            ],
            "text/plain": [
              "                   A         B         C         D\n",
              "2013-01-01  1.180271 -0.602856 -0.317214  0.362123\n",
              "2013-01-02  0.300031 -0.037352 -1.033264 -2.356745\n",
              "2013-01-03  1.424727  0.445893  0.085154 -0.301223\n",
              "2013-01-04  0.241239  0.314981 -0.488092 -0.774441\n",
              "2013-01-05 -0.075114 -0.890753  0.103083  0.940285\n",
              "2013-01-06 -1.018115 -0.366363 -0.468451 -1.512358"
            ]
          },
          "metadata": {
            "tags": []
          },
          "execution_count": 37
        }
      ]
    },
    {
      "cell_type": "code",
      "metadata": {
        "colab": {
          "base_uri": "https://localhost:8080/",
          "height": 237
        },
        "id": "NxJWrAzS5kBz",
        "outputId": "1ceeed85-47ab-4979-bd14-fb8c7470658f"
      },
      "source": [
        "df[df>0]"
      ],
      "execution_count": 38,
      "outputs": [
        {
          "output_type": "execute_result",
          "data": {
            "text/html": [
              "<div>\n",
              "<style scoped>\n",
              "    .dataframe tbody tr th:only-of-type {\n",
              "        vertical-align: middle;\n",
              "    }\n",
              "\n",
              "    .dataframe tbody tr th {\n",
              "        vertical-align: top;\n",
              "    }\n",
              "\n",
              "    .dataframe thead th {\n",
              "        text-align: right;\n",
              "    }\n",
              "</style>\n",
              "<table border=\"1\" class=\"dataframe\">\n",
              "  <thead>\n",
              "    <tr style=\"text-align: right;\">\n",
              "      <th></th>\n",
              "      <th>A</th>\n",
              "      <th>B</th>\n",
              "      <th>C</th>\n",
              "      <th>D</th>\n",
              "    </tr>\n",
              "  </thead>\n",
              "  <tbody>\n",
              "    <tr>\n",
              "      <th>2013-01-01</th>\n",
              "      <td>1.180271</td>\n",
              "      <td>NaN</td>\n",
              "      <td>NaN</td>\n",
              "      <td>0.362123</td>\n",
              "    </tr>\n",
              "    <tr>\n",
              "      <th>2013-01-02</th>\n",
              "      <td>0.300031</td>\n",
              "      <td>NaN</td>\n",
              "      <td>NaN</td>\n",
              "      <td>NaN</td>\n",
              "    </tr>\n",
              "    <tr>\n",
              "      <th>2013-01-03</th>\n",
              "      <td>1.424727</td>\n",
              "      <td>0.445893</td>\n",
              "      <td>0.085154</td>\n",
              "      <td>NaN</td>\n",
              "    </tr>\n",
              "    <tr>\n",
              "      <th>2013-01-04</th>\n",
              "      <td>0.241239</td>\n",
              "      <td>0.314981</td>\n",
              "      <td>NaN</td>\n",
              "      <td>NaN</td>\n",
              "    </tr>\n",
              "    <tr>\n",
              "      <th>2013-01-05</th>\n",
              "      <td>NaN</td>\n",
              "      <td>NaN</td>\n",
              "      <td>0.103083</td>\n",
              "      <td>0.940285</td>\n",
              "    </tr>\n",
              "    <tr>\n",
              "      <th>2013-01-06</th>\n",
              "      <td>NaN</td>\n",
              "      <td>NaN</td>\n",
              "      <td>NaN</td>\n",
              "      <td>NaN</td>\n",
              "    </tr>\n",
              "  </tbody>\n",
              "</table>\n",
              "</div>"
            ],
            "text/plain": [
              "                   A         B         C         D\n",
              "2013-01-01  1.180271       NaN       NaN  0.362123\n",
              "2013-01-02  0.300031       NaN       NaN       NaN\n",
              "2013-01-03  1.424727  0.445893  0.085154       NaN\n",
              "2013-01-04  0.241239  0.314981       NaN       NaN\n",
              "2013-01-05       NaN       NaN  0.103083  0.940285\n",
              "2013-01-06       NaN       NaN       NaN       NaN"
            ]
          },
          "metadata": {
            "tags": []
          },
          "execution_count": 38
        }
      ]
    },
    {
      "cell_type": "markdown",
      "metadata": {
        "id": "h1GDfwla51D_"
      },
      "source": [
        "isin() method를 통해 필터링"
      ]
    },
    {
      "cell_type": "code",
      "metadata": {
        "colab": {
          "base_uri": "https://localhost:8080/",
          "height": 237
        },
        "id": "NU-sJgA75wG6",
        "outputId": "a72f958c-dceb-4484-85b9-b1c3b7176513"
      },
      "source": [
        "df2 = df.copy()\n",
        "df2['E'] = [\"one\",\"one\",\"two\",\"three\",\"four\",\"three\"]\n",
        "df2"
      ],
      "execution_count": 39,
      "outputs": [
        {
          "output_type": "execute_result",
          "data": {
            "text/html": [
              "<div>\n",
              "<style scoped>\n",
              "    .dataframe tbody tr th:only-of-type {\n",
              "        vertical-align: middle;\n",
              "    }\n",
              "\n",
              "    .dataframe tbody tr th {\n",
              "        vertical-align: top;\n",
              "    }\n",
              "\n",
              "    .dataframe thead th {\n",
              "        text-align: right;\n",
              "    }\n",
              "</style>\n",
              "<table border=\"1\" class=\"dataframe\">\n",
              "  <thead>\n",
              "    <tr style=\"text-align: right;\">\n",
              "      <th></th>\n",
              "      <th>A</th>\n",
              "      <th>B</th>\n",
              "      <th>C</th>\n",
              "      <th>D</th>\n",
              "      <th>E</th>\n",
              "    </tr>\n",
              "  </thead>\n",
              "  <tbody>\n",
              "    <tr>\n",
              "      <th>2013-01-01</th>\n",
              "      <td>1.180271</td>\n",
              "      <td>-0.602856</td>\n",
              "      <td>-0.317214</td>\n",
              "      <td>0.362123</td>\n",
              "      <td>one</td>\n",
              "    </tr>\n",
              "    <tr>\n",
              "      <th>2013-01-02</th>\n",
              "      <td>0.300031</td>\n",
              "      <td>-0.037352</td>\n",
              "      <td>-1.033264</td>\n",
              "      <td>-2.356745</td>\n",
              "      <td>one</td>\n",
              "    </tr>\n",
              "    <tr>\n",
              "      <th>2013-01-03</th>\n",
              "      <td>1.424727</td>\n",
              "      <td>0.445893</td>\n",
              "      <td>0.085154</td>\n",
              "      <td>-0.301223</td>\n",
              "      <td>two</td>\n",
              "    </tr>\n",
              "    <tr>\n",
              "      <th>2013-01-04</th>\n",
              "      <td>0.241239</td>\n",
              "      <td>0.314981</td>\n",
              "      <td>-0.488092</td>\n",
              "      <td>-0.774441</td>\n",
              "      <td>three</td>\n",
              "    </tr>\n",
              "    <tr>\n",
              "      <th>2013-01-05</th>\n",
              "      <td>-0.075114</td>\n",
              "      <td>-0.890753</td>\n",
              "      <td>0.103083</td>\n",
              "      <td>0.940285</td>\n",
              "      <td>four</td>\n",
              "    </tr>\n",
              "    <tr>\n",
              "      <th>2013-01-06</th>\n",
              "      <td>-1.018115</td>\n",
              "      <td>-0.366363</td>\n",
              "      <td>-0.468451</td>\n",
              "      <td>-1.512358</td>\n",
              "      <td>three</td>\n",
              "    </tr>\n",
              "  </tbody>\n",
              "</table>\n",
              "</div>"
            ],
            "text/plain": [
              "                   A         B         C         D      E\n",
              "2013-01-01  1.180271 -0.602856 -0.317214  0.362123    one\n",
              "2013-01-02  0.300031 -0.037352 -1.033264 -2.356745    one\n",
              "2013-01-03  1.424727  0.445893  0.085154 -0.301223    two\n",
              "2013-01-04  0.241239  0.314981 -0.488092 -0.774441  three\n",
              "2013-01-05 -0.075114 -0.890753  0.103083  0.940285   four\n",
              "2013-01-06 -1.018115 -0.366363 -0.468451 -1.512358  three"
            ]
          },
          "metadata": {
            "tags": []
          },
          "execution_count": 39
        }
      ]
    },
    {
      "cell_type": "code",
      "metadata": {
        "colab": {
          "base_uri": "https://localhost:8080/",
          "height": 112
        },
        "id": "vTQt0FxY5_HG",
        "outputId": "616f7214-c6ca-4464-af9d-207902ba5d0c"
      },
      "source": [
        "df2[df2['E'].isin([\"two\",\"four\"])]"
      ],
      "execution_count": 40,
      "outputs": [
        {
          "output_type": "execute_result",
          "data": {
            "text/html": [
              "<div>\n",
              "<style scoped>\n",
              "    .dataframe tbody tr th:only-of-type {\n",
              "        vertical-align: middle;\n",
              "    }\n",
              "\n",
              "    .dataframe tbody tr th {\n",
              "        vertical-align: top;\n",
              "    }\n",
              "\n",
              "    .dataframe thead th {\n",
              "        text-align: right;\n",
              "    }\n",
              "</style>\n",
              "<table border=\"1\" class=\"dataframe\">\n",
              "  <thead>\n",
              "    <tr style=\"text-align: right;\">\n",
              "      <th></th>\n",
              "      <th>A</th>\n",
              "      <th>B</th>\n",
              "      <th>C</th>\n",
              "      <th>D</th>\n",
              "      <th>E</th>\n",
              "    </tr>\n",
              "  </thead>\n",
              "  <tbody>\n",
              "    <tr>\n",
              "      <th>2013-01-03</th>\n",
              "      <td>1.424727</td>\n",
              "      <td>0.445893</td>\n",
              "      <td>0.085154</td>\n",
              "      <td>-0.301223</td>\n",
              "      <td>two</td>\n",
              "    </tr>\n",
              "    <tr>\n",
              "      <th>2013-01-05</th>\n",
              "      <td>-0.075114</td>\n",
              "      <td>-0.890753</td>\n",
              "      <td>0.103083</td>\n",
              "      <td>0.940285</td>\n",
              "      <td>four</td>\n",
              "    </tr>\n",
              "  </tbody>\n",
              "</table>\n",
              "</div>"
            ],
            "text/plain": [
              "                   A         B         C         D     E\n",
              "2013-01-03  1.424727  0.445893  0.085154 -0.301223   two\n",
              "2013-01-05 -0.075114 -0.890753  0.103083  0.940285  four"
            ]
          },
          "metadata": {
            "tags": []
          },
          "execution_count": 40
        }
      ]
    },
    {
      "cell_type": "markdown",
      "metadata": {
        "id": "-6FJ9hzW6DF1"
      },
      "source": [
        "# Setting"
      ]
    },
    {
      "cell_type": "markdown",
      "metadata": {
        "id": "37A39qgQS3no"
      },
      "source": [
        "새로운 column을 설정하면 index별로 데이터가 자동으로 정렬됩니다."
      ]
    },
    {
      "cell_type": "code",
      "metadata": {
        "colab": {
          "base_uri": "https://localhost:8080/"
        },
        "id": "aujp-AgVTCzL",
        "outputId": "fa8fd035-b8b4-428e-a77e-f0f23085b402"
      },
      "source": [
        "s1 = pd.Series([1,2,3,4,5,6], index=pd.date_range(\"20130102\", periods=6))\n",
        "s1"
      ],
      "execution_count": 41,
      "outputs": [
        {
          "output_type": "execute_result",
          "data": {
            "text/plain": [
              "2013-01-02    1\n",
              "2013-01-03    2\n",
              "2013-01-04    3\n",
              "2013-01-05    4\n",
              "2013-01-06    5\n",
              "2013-01-07    6\n",
              "Freq: D, dtype: int64"
            ]
          },
          "metadata": {
            "tags": []
          },
          "execution_count": 41
        }
      ]
    },
    {
      "cell_type": "code",
      "metadata": {
        "id": "9jdbFZb4TJ4W"
      },
      "source": [
        "df['F'] = s1"
      ],
      "execution_count": 42,
      "outputs": []
    },
    {
      "cell_type": "code",
      "metadata": {
        "colab": {
          "base_uri": "https://localhost:8080/",
          "height": 237
        },
        "id": "0sKI9syWTOnb",
        "outputId": "5730eac5-2e8d-4bea-c8cd-e691582a3aa5"
      },
      "source": [
        "df"
      ],
      "execution_count": 43,
      "outputs": [
        {
          "output_type": "execute_result",
          "data": {
            "text/html": [
              "<div>\n",
              "<style scoped>\n",
              "    .dataframe tbody tr th:only-of-type {\n",
              "        vertical-align: middle;\n",
              "    }\n",
              "\n",
              "    .dataframe tbody tr th {\n",
              "        vertical-align: top;\n",
              "    }\n",
              "\n",
              "    .dataframe thead th {\n",
              "        text-align: right;\n",
              "    }\n",
              "</style>\n",
              "<table border=\"1\" class=\"dataframe\">\n",
              "  <thead>\n",
              "    <tr style=\"text-align: right;\">\n",
              "      <th></th>\n",
              "      <th>A</th>\n",
              "      <th>B</th>\n",
              "      <th>C</th>\n",
              "      <th>D</th>\n",
              "      <th>F</th>\n",
              "    </tr>\n",
              "  </thead>\n",
              "  <tbody>\n",
              "    <tr>\n",
              "      <th>2013-01-01</th>\n",
              "      <td>1.180271</td>\n",
              "      <td>-0.602856</td>\n",
              "      <td>-0.317214</td>\n",
              "      <td>0.362123</td>\n",
              "      <td>NaN</td>\n",
              "    </tr>\n",
              "    <tr>\n",
              "      <th>2013-01-02</th>\n",
              "      <td>0.300031</td>\n",
              "      <td>-0.037352</td>\n",
              "      <td>-1.033264</td>\n",
              "      <td>-2.356745</td>\n",
              "      <td>1.0</td>\n",
              "    </tr>\n",
              "    <tr>\n",
              "      <th>2013-01-03</th>\n",
              "      <td>1.424727</td>\n",
              "      <td>0.445893</td>\n",
              "      <td>0.085154</td>\n",
              "      <td>-0.301223</td>\n",
              "      <td>2.0</td>\n",
              "    </tr>\n",
              "    <tr>\n",
              "      <th>2013-01-04</th>\n",
              "      <td>0.241239</td>\n",
              "      <td>0.314981</td>\n",
              "      <td>-0.488092</td>\n",
              "      <td>-0.774441</td>\n",
              "      <td>3.0</td>\n",
              "    </tr>\n",
              "    <tr>\n",
              "      <th>2013-01-05</th>\n",
              "      <td>-0.075114</td>\n",
              "      <td>-0.890753</td>\n",
              "      <td>0.103083</td>\n",
              "      <td>0.940285</td>\n",
              "      <td>4.0</td>\n",
              "    </tr>\n",
              "    <tr>\n",
              "      <th>2013-01-06</th>\n",
              "      <td>-1.018115</td>\n",
              "      <td>-0.366363</td>\n",
              "      <td>-0.468451</td>\n",
              "      <td>-1.512358</td>\n",
              "      <td>5.0</td>\n",
              "    </tr>\n",
              "  </tbody>\n",
              "</table>\n",
              "</div>"
            ],
            "text/plain": [
              "                   A         B         C         D    F\n",
              "2013-01-01  1.180271 -0.602856 -0.317214  0.362123  NaN\n",
              "2013-01-02  0.300031 -0.037352 -1.033264 -2.356745  1.0\n",
              "2013-01-03  1.424727  0.445893  0.085154 -0.301223  2.0\n",
              "2013-01-04  0.241239  0.314981 -0.488092 -0.774441  3.0\n",
              "2013-01-05 -0.075114 -0.890753  0.103083  0.940285  4.0\n",
              "2013-01-06 -1.018115 -0.366363 -0.468451 -1.512358  5.0"
            ]
          },
          "metadata": {
            "tags": []
          },
          "execution_count": 43
        }
      ]
    },
    {
      "cell_type": "markdown",
      "metadata": {
        "id": "YcKq4AehTQ31"
      },
      "source": [
        "label 별로 value를 설정합니다."
      ]
    },
    {
      "cell_type": "code",
      "metadata": {
        "colab": {
          "base_uri": "https://localhost:8080/",
          "height": 237
        },
        "id": "nd98z549TVZs",
        "outputId": "9c181dc8-92bd-4336-921c-cb70ddb5c2eb"
      },
      "source": [
        "df.at[dates[0], \"A\"] = 0\n",
        "df"
      ],
      "execution_count": 44,
      "outputs": [
        {
          "output_type": "execute_result",
          "data": {
            "text/html": [
              "<div>\n",
              "<style scoped>\n",
              "    .dataframe tbody tr th:only-of-type {\n",
              "        vertical-align: middle;\n",
              "    }\n",
              "\n",
              "    .dataframe tbody tr th {\n",
              "        vertical-align: top;\n",
              "    }\n",
              "\n",
              "    .dataframe thead th {\n",
              "        text-align: right;\n",
              "    }\n",
              "</style>\n",
              "<table border=\"1\" class=\"dataframe\">\n",
              "  <thead>\n",
              "    <tr style=\"text-align: right;\">\n",
              "      <th></th>\n",
              "      <th>A</th>\n",
              "      <th>B</th>\n",
              "      <th>C</th>\n",
              "      <th>D</th>\n",
              "      <th>F</th>\n",
              "    </tr>\n",
              "  </thead>\n",
              "  <tbody>\n",
              "    <tr>\n",
              "      <th>2013-01-01</th>\n",
              "      <td>0.000000</td>\n",
              "      <td>-0.602856</td>\n",
              "      <td>-0.317214</td>\n",
              "      <td>0.362123</td>\n",
              "      <td>NaN</td>\n",
              "    </tr>\n",
              "    <tr>\n",
              "      <th>2013-01-02</th>\n",
              "      <td>0.300031</td>\n",
              "      <td>-0.037352</td>\n",
              "      <td>-1.033264</td>\n",
              "      <td>-2.356745</td>\n",
              "      <td>1.0</td>\n",
              "    </tr>\n",
              "    <tr>\n",
              "      <th>2013-01-03</th>\n",
              "      <td>1.424727</td>\n",
              "      <td>0.445893</td>\n",
              "      <td>0.085154</td>\n",
              "      <td>-0.301223</td>\n",
              "      <td>2.0</td>\n",
              "    </tr>\n",
              "    <tr>\n",
              "      <th>2013-01-04</th>\n",
              "      <td>0.241239</td>\n",
              "      <td>0.314981</td>\n",
              "      <td>-0.488092</td>\n",
              "      <td>-0.774441</td>\n",
              "      <td>3.0</td>\n",
              "    </tr>\n",
              "    <tr>\n",
              "      <th>2013-01-05</th>\n",
              "      <td>-0.075114</td>\n",
              "      <td>-0.890753</td>\n",
              "      <td>0.103083</td>\n",
              "      <td>0.940285</td>\n",
              "      <td>4.0</td>\n",
              "    </tr>\n",
              "    <tr>\n",
              "      <th>2013-01-06</th>\n",
              "      <td>-1.018115</td>\n",
              "      <td>-0.366363</td>\n",
              "      <td>-0.468451</td>\n",
              "      <td>-1.512358</td>\n",
              "      <td>5.0</td>\n",
              "    </tr>\n",
              "  </tbody>\n",
              "</table>\n",
              "</div>"
            ],
            "text/plain": [
              "                   A         B         C         D    F\n",
              "2013-01-01  0.000000 -0.602856 -0.317214  0.362123  NaN\n",
              "2013-01-02  0.300031 -0.037352 -1.033264 -2.356745  1.0\n",
              "2013-01-03  1.424727  0.445893  0.085154 -0.301223  2.0\n",
              "2013-01-04  0.241239  0.314981 -0.488092 -0.774441  3.0\n",
              "2013-01-05 -0.075114 -0.890753  0.103083  0.940285  4.0\n",
              "2013-01-06 -1.018115 -0.366363 -0.468451 -1.512358  5.0"
            ]
          },
          "metadata": {
            "tags": []
          },
          "execution_count": 44
        }
      ]
    },
    {
      "cell_type": "markdown",
      "metadata": {
        "id": "Vtu3QHFNTb2w"
      },
      "source": [
        "position 별로 value를 설정합니다."
      ]
    },
    {
      "cell_type": "code",
      "metadata": {
        "colab": {
          "base_uri": "https://localhost:8080/",
          "height": 237
        },
        "id": "lrdvdkPZTcVR",
        "outputId": "a7389c28-c398-4f4d-c94c-577f88e55edf"
      },
      "source": [
        "df.iat[0,1] = 0\n",
        "df"
      ],
      "execution_count": 45,
      "outputs": [
        {
          "output_type": "execute_result",
          "data": {
            "text/html": [
              "<div>\n",
              "<style scoped>\n",
              "    .dataframe tbody tr th:only-of-type {\n",
              "        vertical-align: middle;\n",
              "    }\n",
              "\n",
              "    .dataframe tbody tr th {\n",
              "        vertical-align: top;\n",
              "    }\n",
              "\n",
              "    .dataframe thead th {\n",
              "        text-align: right;\n",
              "    }\n",
              "</style>\n",
              "<table border=\"1\" class=\"dataframe\">\n",
              "  <thead>\n",
              "    <tr style=\"text-align: right;\">\n",
              "      <th></th>\n",
              "      <th>A</th>\n",
              "      <th>B</th>\n",
              "      <th>C</th>\n",
              "      <th>D</th>\n",
              "      <th>F</th>\n",
              "    </tr>\n",
              "  </thead>\n",
              "  <tbody>\n",
              "    <tr>\n",
              "      <th>2013-01-01</th>\n",
              "      <td>0.000000</td>\n",
              "      <td>0.000000</td>\n",
              "      <td>-0.317214</td>\n",
              "      <td>0.362123</td>\n",
              "      <td>NaN</td>\n",
              "    </tr>\n",
              "    <tr>\n",
              "      <th>2013-01-02</th>\n",
              "      <td>0.300031</td>\n",
              "      <td>-0.037352</td>\n",
              "      <td>-1.033264</td>\n",
              "      <td>-2.356745</td>\n",
              "      <td>1.0</td>\n",
              "    </tr>\n",
              "    <tr>\n",
              "      <th>2013-01-03</th>\n",
              "      <td>1.424727</td>\n",
              "      <td>0.445893</td>\n",
              "      <td>0.085154</td>\n",
              "      <td>-0.301223</td>\n",
              "      <td>2.0</td>\n",
              "    </tr>\n",
              "    <tr>\n",
              "      <th>2013-01-04</th>\n",
              "      <td>0.241239</td>\n",
              "      <td>0.314981</td>\n",
              "      <td>-0.488092</td>\n",
              "      <td>-0.774441</td>\n",
              "      <td>3.0</td>\n",
              "    </tr>\n",
              "    <tr>\n",
              "      <th>2013-01-05</th>\n",
              "      <td>-0.075114</td>\n",
              "      <td>-0.890753</td>\n",
              "      <td>0.103083</td>\n",
              "      <td>0.940285</td>\n",
              "      <td>4.0</td>\n",
              "    </tr>\n",
              "    <tr>\n",
              "      <th>2013-01-06</th>\n",
              "      <td>-1.018115</td>\n",
              "      <td>-0.366363</td>\n",
              "      <td>-0.468451</td>\n",
              "      <td>-1.512358</td>\n",
              "      <td>5.0</td>\n",
              "    </tr>\n",
              "  </tbody>\n",
              "</table>\n",
              "</div>"
            ],
            "text/plain": [
              "                   A         B         C         D    F\n",
              "2013-01-01  0.000000  0.000000 -0.317214  0.362123  NaN\n",
              "2013-01-02  0.300031 -0.037352 -1.033264 -2.356745  1.0\n",
              "2013-01-03  1.424727  0.445893  0.085154 -0.301223  2.0\n",
              "2013-01-04  0.241239  0.314981 -0.488092 -0.774441  3.0\n",
              "2013-01-05 -0.075114 -0.890753  0.103083  0.940285  4.0\n",
              "2013-01-06 -1.018115 -0.366363 -0.468451 -1.512358  5.0"
            ]
          },
          "metadata": {
            "tags": []
          },
          "execution_count": 45
        }
      ]
    },
    {
      "cell_type": "markdown",
      "metadata": {
        "id": "sIPFNhgqTiID"
      },
      "source": [
        "NumPy array를 할당하여 설정합니다."
      ]
    },
    {
      "cell_type": "code",
      "metadata": {
        "colab": {
          "base_uri": "https://localhost:8080/",
          "height": 237
        },
        "id": "xUOd5mbNTwI-",
        "outputId": "4d24bbbd-5555-4eda-9f09-5bc114c82f1c"
      },
      "source": [
        "df.loc[:,\"D\"] = np.array([5] * len(df))\n",
        "df"
      ],
      "execution_count": 46,
      "outputs": [
        {
          "output_type": "execute_result",
          "data": {
            "text/html": [
              "<div>\n",
              "<style scoped>\n",
              "    .dataframe tbody tr th:only-of-type {\n",
              "        vertical-align: middle;\n",
              "    }\n",
              "\n",
              "    .dataframe tbody tr th {\n",
              "        vertical-align: top;\n",
              "    }\n",
              "\n",
              "    .dataframe thead th {\n",
              "        text-align: right;\n",
              "    }\n",
              "</style>\n",
              "<table border=\"1\" class=\"dataframe\">\n",
              "  <thead>\n",
              "    <tr style=\"text-align: right;\">\n",
              "      <th></th>\n",
              "      <th>A</th>\n",
              "      <th>B</th>\n",
              "      <th>C</th>\n",
              "      <th>D</th>\n",
              "      <th>F</th>\n",
              "    </tr>\n",
              "  </thead>\n",
              "  <tbody>\n",
              "    <tr>\n",
              "      <th>2013-01-01</th>\n",
              "      <td>0.000000</td>\n",
              "      <td>0.000000</td>\n",
              "      <td>-0.317214</td>\n",
              "      <td>5</td>\n",
              "      <td>NaN</td>\n",
              "    </tr>\n",
              "    <tr>\n",
              "      <th>2013-01-02</th>\n",
              "      <td>0.300031</td>\n",
              "      <td>-0.037352</td>\n",
              "      <td>-1.033264</td>\n",
              "      <td>5</td>\n",
              "      <td>1.0</td>\n",
              "    </tr>\n",
              "    <tr>\n",
              "      <th>2013-01-03</th>\n",
              "      <td>1.424727</td>\n",
              "      <td>0.445893</td>\n",
              "      <td>0.085154</td>\n",
              "      <td>5</td>\n",
              "      <td>2.0</td>\n",
              "    </tr>\n",
              "    <tr>\n",
              "      <th>2013-01-04</th>\n",
              "      <td>0.241239</td>\n",
              "      <td>0.314981</td>\n",
              "      <td>-0.488092</td>\n",
              "      <td>5</td>\n",
              "      <td>3.0</td>\n",
              "    </tr>\n",
              "    <tr>\n",
              "      <th>2013-01-05</th>\n",
              "      <td>-0.075114</td>\n",
              "      <td>-0.890753</td>\n",
              "      <td>0.103083</td>\n",
              "      <td>5</td>\n",
              "      <td>4.0</td>\n",
              "    </tr>\n",
              "    <tr>\n",
              "      <th>2013-01-06</th>\n",
              "      <td>-1.018115</td>\n",
              "      <td>-0.366363</td>\n",
              "      <td>-0.468451</td>\n",
              "      <td>5</td>\n",
              "      <td>5.0</td>\n",
              "    </tr>\n",
              "  </tbody>\n",
              "</table>\n",
              "</div>"
            ],
            "text/plain": [
              "                   A         B         C  D    F\n",
              "2013-01-01  0.000000  0.000000 -0.317214  5  NaN\n",
              "2013-01-02  0.300031 -0.037352 -1.033264  5  1.0\n",
              "2013-01-03  1.424727  0.445893  0.085154  5  2.0\n",
              "2013-01-04  0.241239  0.314981 -0.488092  5  3.0\n",
              "2013-01-05 -0.075114 -0.890753  0.103083  5  4.0\n",
              "2013-01-06 -1.018115 -0.366363 -0.468451  5  5.0"
            ]
          },
          "metadata": {
            "tags": []
          },
          "execution_count": 46
        }
      ]
    },
    {
      "cell_type": "code",
      "metadata": {
        "id": "Lzz7JudGTxdZ",
        "colab": {
          "base_uri": "https://localhost:8080/",
          "height": 237
        },
        "outputId": "2380ab94-1afc-451c-be4f-2cfc83e1d486"
      },
      "source": [
        "df2 = df.copy()\n",
        "df2[df2 > 0] = -df2\n",
        "df2"
      ],
      "execution_count": 47,
      "outputs": [
        {
          "output_type": "execute_result",
          "data": {
            "text/html": [
              "<div>\n",
              "<style scoped>\n",
              "    .dataframe tbody tr th:only-of-type {\n",
              "        vertical-align: middle;\n",
              "    }\n",
              "\n",
              "    .dataframe tbody tr th {\n",
              "        vertical-align: top;\n",
              "    }\n",
              "\n",
              "    .dataframe thead th {\n",
              "        text-align: right;\n",
              "    }\n",
              "</style>\n",
              "<table border=\"1\" class=\"dataframe\">\n",
              "  <thead>\n",
              "    <tr style=\"text-align: right;\">\n",
              "      <th></th>\n",
              "      <th>A</th>\n",
              "      <th>B</th>\n",
              "      <th>C</th>\n",
              "      <th>D</th>\n",
              "      <th>F</th>\n",
              "    </tr>\n",
              "  </thead>\n",
              "  <tbody>\n",
              "    <tr>\n",
              "      <th>2013-01-01</th>\n",
              "      <td>0.000000</td>\n",
              "      <td>0.000000</td>\n",
              "      <td>-0.317214</td>\n",
              "      <td>-5</td>\n",
              "      <td>NaN</td>\n",
              "    </tr>\n",
              "    <tr>\n",
              "      <th>2013-01-02</th>\n",
              "      <td>-0.300031</td>\n",
              "      <td>-0.037352</td>\n",
              "      <td>-1.033264</td>\n",
              "      <td>-5</td>\n",
              "      <td>-1.0</td>\n",
              "    </tr>\n",
              "    <tr>\n",
              "      <th>2013-01-03</th>\n",
              "      <td>-1.424727</td>\n",
              "      <td>-0.445893</td>\n",
              "      <td>-0.085154</td>\n",
              "      <td>-5</td>\n",
              "      <td>-2.0</td>\n",
              "    </tr>\n",
              "    <tr>\n",
              "      <th>2013-01-04</th>\n",
              "      <td>-0.241239</td>\n",
              "      <td>-0.314981</td>\n",
              "      <td>-0.488092</td>\n",
              "      <td>-5</td>\n",
              "      <td>-3.0</td>\n",
              "    </tr>\n",
              "    <tr>\n",
              "      <th>2013-01-05</th>\n",
              "      <td>-0.075114</td>\n",
              "      <td>-0.890753</td>\n",
              "      <td>-0.103083</td>\n",
              "      <td>-5</td>\n",
              "      <td>-4.0</td>\n",
              "    </tr>\n",
              "    <tr>\n",
              "      <th>2013-01-06</th>\n",
              "      <td>-1.018115</td>\n",
              "      <td>-0.366363</td>\n",
              "      <td>-0.468451</td>\n",
              "      <td>-5</td>\n",
              "      <td>-5.0</td>\n",
              "    </tr>\n",
              "  </tbody>\n",
              "</table>\n",
              "</div>"
            ],
            "text/plain": [
              "                   A         B         C  D    F\n",
              "2013-01-01  0.000000  0.000000 -0.317214 -5  NaN\n",
              "2013-01-02 -0.300031 -0.037352 -1.033264 -5 -1.0\n",
              "2013-01-03 -1.424727 -0.445893 -0.085154 -5 -2.0\n",
              "2013-01-04 -0.241239 -0.314981 -0.488092 -5 -3.0\n",
              "2013-01-05 -0.075114 -0.890753 -0.103083 -5 -4.0\n",
              "2013-01-06 -1.018115 -0.366363 -0.468451 -5 -5.0"
            ]
          },
          "metadata": {
            "tags": []
          },
          "execution_count": 47
        }
      ]
    },
    {
      "cell_type": "markdown",
      "metadata": {
        "id": "RALisJaDUE4t"
      },
      "source": [
        "# 결측치"
      ]
    },
    {
      "cell_type": "markdown",
      "metadata": {
        "id": "YyVw0LjMMbIE"
      },
      "source": [
        "pandas는 주로  np.nan값을 누락 데이터를 나타내기 위하여 사용합니다."
      ]
    },
    {
      "cell_type": "code",
      "metadata": {
        "colab": {
          "base_uri": "https://localhost:8080/",
          "height": 175
        },
        "id": "F8diBDc7Mr04",
        "outputId": "971a4565-c8a6-441a-e5fc-4ae89c877254"
      },
      "source": [
        "df1 = df.reindex(index=dates[0:4], columns=list(df.columns)+[\"E\"])\n",
        "df1.loc[dates[0] : dates[1], \"E\"] = 1\n",
        "df1"
      ],
      "execution_count": 48,
      "outputs": [
        {
          "output_type": "execute_result",
          "data": {
            "text/html": [
              "<div>\n",
              "<style scoped>\n",
              "    .dataframe tbody tr th:only-of-type {\n",
              "        vertical-align: middle;\n",
              "    }\n",
              "\n",
              "    .dataframe tbody tr th {\n",
              "        vertical-align: top;\n",
              "    }\n",
              "\n",
              "    .dataframe thead th {\n",
              "        text-align: right;\n",
              "    }\n",
              "</style>\n",
              "<table border=\"1\" class=\"dataframe\">\n",
              "  <thead>\n",
              "    <tr style=\"text-align: right;\">\n",
              "      <th></th>\n",
              "      <th>A</th>\n",
              "      <th>B</th>\n",
              "      <th>C</th>\n",
              "      <th>D</th>\n",
              "      <th>F</th>\n",
              "      <th>E</th>\n",
              "    </tr>\n",
              "  </thead>\n",
              "  <tbody>\n",
              "    <tr>\n",
              "      <th>2013-01-01</th>\n",
              "      <td>0.000000</td>\n",
              "      <td>0.000000</td>\n",
              "      <td>-0.317214</td>\n",
              "      <td>5</td>\n",
              "      <td>NaN</td>\n",
              "      <td>1.0</td>\n",
              "    </tr>\n",
              "    <tr>\n",
              "      <th>2013-01-02</th>\n",
              "      <td>0.300031</td>\n",
              "      <td>-0.037352</td>\n",
              "      <td>-1.033264</td>\n",
              "      <td>5</td>\n",
              "      <td>1.0</td>\n",
              "      <td>1.0</td>\n",
              "    </tr>\n",
              "    <tr>\n",
              "      <th>2013-01-03</th>\n",
              "      <td>1.424727</td>\n",
              "      <td>0.445893</td>\n",
              "      <td>0.085154</td>\n",
              "      <td>5</td>\n",
              "      <td>2.0</td>\n",
              "      <td>NaN</td>\n",
              "    </tr>\n",
              "    <tr>\n",
              "      <th>2013-01-04</th>\n",
              "      <td>0.241239</td>\n",
              "      <td>0.314981</td>\n",
              "      <td>-0.488092</td>\n",
              "      <td>5</td>\n",
              "      <td>3.0</td>\n",
              "      <td>NaN</td>\n",
              "    </tr>\n",
              "  </tbody>\n",
              "</table>\n",
              "</div>"
            ],
            "text/plain": [
              "                   A         B         C  D    F    E\n",
              "2013-01-01  0.000000  0.000000 -0.317214  5  NaN  1.0\n",
              "2013-01-02  0.300031 -0.037352 -1.033264  5  1.0  1.0\n",
              "2013-01-03  1.424727  0.445893  0.085154  5  2.0  NaN\n",
              "2013-01-04  0.241239  0.314981 -0.488092  5  3.0  NaN"
            ]
          },
          "metadata": {
            "tags": []
          },
          "execution_count": 48
        }
      ]
    },
    {
      "cell_type": "markdown",
      "metadata": {
        "id": "fOMr1BVCMtG4"
      },
      "source": [
        "how = 'any' 옵션을 사용하여 결측치를 가지고 있지 않는 데이터를 보여줍니다."
      ]
    },
    {
      "cell_type": "code",
      "metadata": {
        "colab": {
          "base_uri": "https://localhost:8080/",
          "height": 81
        },
        "id": "xDHrX3kuMxfp",
        "outputId": "eb67cf72-ff9d-4f3f-b5f6-627239ce7201"
      },
      "source": [
        "df1.dropna(how='any')"
      ],
      "execution_count": 49,
      "outputs": [
        {
          "output_type": "execute_result",
          "data": {
            "text/html": [
              "<div>\n",
              "<style scoped>\n",
              "    .dataframe tbody tr th:only-of-type {\n",
              "        vertical-align: middle;\n",
              "    }\n",
              "\n",
              "    .dataframe tbody tr th {\n",
              "        vertical-align: top;\n",
              "    }\n",
              "\n",
              "    .dataframe thead th {\n",
              "        text-align: right;\n",
              "    }\n",
              "</style>\n",
              "<table border=\"1\" class=\"dataframe\">\n",
              "  <thead>\n",
              "    <tr style=\"text-align: right;\">\n",
              "      <th></th>\n",
              "      <th>A</th>\n",
              "      <th>B</th>\n",
              "      <th>C</th>\n",
              "      <th>D</th>\n",
              "      <th>F</th>\n",
              "      <th>E</th>\n",
              "    </tr>\n",
              "  </thead>\n",
              "  <tbody>\n",
              "    <tr>\n",
              "      <th>2013-01-02</th>\n",
              "      <td>0.300031</td>\n",
              "      <td>-0.037352</td>\n",
              "      <td>-1.033264</td>\n",
              "      <td>5</td>\n",
              "      <td>1.0</td>\n",
              "      <td>1.0</td>\n",
              "    </tr>\n",
              "  </tbody>\n",
              "</table>\n",
              "</div>"
            ],
            "text/plain": [
              "                   A         B         C  D    F    E\n",
              "2013-01-02  0.300031 -0.037352 -1.033264  5  1.0  1.0"
            ]
          },
          "metadata": {
            "tags": []
          },
          "execution_count": 49
        }
      ]
    },
    {
      "cell_type": "markdown",
      "metadata": {
        "id": "R2K369xANImz"
      },
      "source": [
        "결측치를 채우기"
      ]
    },
    {
      "cell_type": "code",
      "metadata": {
        "colab": {
          "base_uri": "https://localhost:8080/",
          "height": 175
        },
        "id": "OQ4LqM1INMA-",
        "outputId": "648250e6-ba83-42ff-d253-d89b372d7a2b"
      },
      "source": [
        "df1.fillna(value=5)"
      ],
      "execution_count": 50,
      "outputs": [
        {
          "output_type": "execute_result",
          "data": {
            "text/html": [
              "<div>\n",
              "<style scoped>\n",
              "    .dataframe tbody tr th:only-of-type {\n",
              "        vertical-align: middle;\n",
              "    }\n",
              "\n",
              "    .dataframe tbody tr th {\n",
              "        vertical-align: top;\n",
              "    }\n",
              "\n",
              "    .dataframe thead th {\n",
              "        text-align: right;\n",
              "    }\n",
              "</style>\n",
              "<table border=\"1\" class=\"dataframe\">\n",
              "  <thead>\n",
              "    <tr style=\"text-align: right;\">\n",
              "      <th></th>\n",
              "      <th>A</th>\n",
              "      <th>B</th>\n",
              "      <th>C</th>\n",
              "      <th>D</th>\n",
              "      <th>F</th>\n",
              "      <th>E</th>\n",
              "    </tr>\n",
              "  </thead>\n",
              "  <tbody>\n",
              "    <tr>\n",
              "      <th>2013-01-01</th>\n",
              "      <td>0.000000</td>\n",
              "      <td>0.000000</td>\n",
              "      <td>-0.317214</td>\n",
              "      <td>5</td>\n",
              "      <td>5.0</td>\n",
              "      <td>1.0</td>\n",
              "    </tr>\n",
              "    <tr>\n",
              "      <th>2013-01-02</th>\n",
              "      <td>0.300031</td>\n",
              "      <td>-0.037352</td>\n",
              "      <td>-1.033264</td>\n",
              "      <td>5</td>\n",
              "      <td>1.0</td>\n",
              "      <td>1.0</td>\n",
              "    </tr>\n",
              "    <tr>\n",
              "      <th>2013-01-03</th>\n",
              "      <td>1.424727</td>\n",
              "      <td>0.445893</td>\n",
              "      <td>0.085154</td>\n",
              "      <td>5</td>\n",
              "      <td>2.0</td>\n",
              "      <td>5.0</td>\n",
              "    </tr>\n",
              "    <tr>\n",
              "      <th>2013-01-04</th>\n",
              "      <td>0.241239</td>\n",
              "      <td>0.314981</td>\n",
              "      <td>-0.488092</td>\n",
              "      <td>5</td>\n",
              "      <td>3.0</td>\n",
              "      <td>5.0</td>\n",
              "    </tr>\n",
              "  </tbody>\n",
              "</table>\n",
              "</div>"
            ],
            "text/plain": [
              "                   A         B         C  D    F    E\n",
              "2013-01-01  0.000000  0.000000 -0.317214  5  5.0  1.0\n",
              "2013-01-02  0.300031 -0.037352 -1.033264  5  1.0  1.0\n",
              "2013-01-03  1.424727  0.445893  0.085154  5  2.0  5.0\n",
              "2013-01-04  0.241239  0.314981 -0.488092  5  3.0  5.0"
            ]
          },
          "metadata": {
            "tags": []
          },
          "execution_count": 50
        }
      ]
    },
    {
      "cell_type": "markdown",
      "metadata": {
        "id": "FnnMKlaKNOjq"
      },
      "source": [
        "nan값을 가진 value를 boolean mask로 가져옵니다."
      ]
    },
    {
      "cell_type": "code",
      "metadata": {
        "colab": {
          "base_uri": "https://localhost:8080/",
          "height": 175
        },
        "id": "UBU05t9xNm6Q",
        "outputId": "2a71726b-2cb3-4811-8c4c-89660c99dc5d"
      },
      "source": [
        "df1"
      ],
      "execution_count": 51,
      "outputs": [
        {
          "output_type": "execute_result",
          "data": {
            "text/html": [
              "<div>\n",
              "<style scoped>\n",
              "    .dataframe tbody tr th:only-of-type {\n",
              "        vertical-align: middle;\n",
              "    }\n",
              "\n",
              "    .dataframe tbody tr th {\n",
              "        vertical-align: top;\n",
              "    }\n",
              "\n",
              "    .dataframe thead th {\n",
              "        text-align: right;\n",
              "    }\n",
              "</style>\n",
              "<table border=\"1\" class=\"dataframe\">\n",
              "  <thead>\n",
              "    <tr style=\"text-align: right;\">\n",
              "      <th></th>\n",
              "      <th>A</th>\n",
              "      <th>B</th>\n",
              "      <th>C</th>\n",
              "      <th>D</th>\n",
              "      <th>F</th>\n",
              "      <th>E</th>\n",
              "    </tr>\n",
              "  </thead>\n",
              "  <tbody>\n",
              "    <tr>\n",
              "      <th>2013-01-01</th>\n",
              "      <td>0.000000</td>\n",
              "      <td>0.000000</td>\n",
              "      <td>-0.317214</td>\n",
              "      <td>5</td>\n",
              "      <td>NaN</td>\n",
              "      <td>1.0</td>\n",
              "    </tr>\n",
              "    <tr>\n",
              "      <th>2013-01-02</th>\n",
              "      <td>0.300031</td>\n",
              "      <td>-0.037352</td>\n",
              "      <td>-1.033264</td>\n",
              "      <td>5</td>\n",
              "      <td>1.0</td>\n",
              "      <td>1.0</td>\n",
              "    </tr>\n",
              "    <tr>\n",
              "      <th>2013-01-03</th>\n",
              "      <td>1.424727</td>\n",
              "      <td>0.445893</td>\n",
              "      <td>0.085154</td>\n",
              "      <td>5</td>\n",
              "      <td>2.0</td>\n",
              "      <td>NaN</td>\n",
              "    </tr>\n",
              "    <tr>\n",
              "      <th>2013-01-04</th>\n",
              "      <td>0.241239</td>\n",
              "      <td>0.314981</td>\n",
              "      <td>-0.488092</td>\n",
              "      <td>5</td>\n",
              "      <td>3.0</td>\n",
              "      <td>NaN</td>\n",
              "    </tr>\n",
              "  </tbody>\n",
              "</table>\n",
              "</div>"
            ],
            "text/plain": [
              "                   A         B         C  D    F    E\n",
              "2013-01-01  0.000000  0.000000 -0.317214  5  NaN  1.0\n",
              "2013-01-02  0.300031 -0.037352 -1.033264  5  1.0  1.0\n",
              "2013-01-03  1.424727  0.445893  0.085154  5  2.0  NaN\n",
              "2013-01-04  0.241239  0.314981 -0.488092  5  3.0  NaN"
            ]
          },
          "metadata": {
            "tags": []
          },
          "execution_count": 51
        }
      ]
    },
    {
      "cell_type": "code",
      "metadata": {
        "colab": {
          "base_uri": "https://localhost:8080/",
          "height": 175
        },
        "id": "m-fBaUIYNkgz",
        "outputId": "9fdf1744-2d1e-489d-8c54-67906ce2418e"
      },
      "source": [
        "pd.isna(df1)"
      ],
      "execution_count": 52,
      "outputs": [
        {
          "output_type": "execute_result",
          "data": {
            "text/html": [
              "<div>\n",
              "<style scoped>\n",
              "    .dataframe tbody tr th:only-of-type {\n",
              "        vertical-align: middle;\n",
              "    }\n",
              "\n",
              "    .dataframe tbody tr th {\n",
              "        vertical-align: top;\n",
              "    }\n",
              "\n",
              "    .dataframe thead th {\n",
              "        text-align: right;\n",
              "    }\n",
              "</style>\n",
              "<table border=\"1\" class=\"dataframe\">\n",
              "  <thead>\n",
              "    <tr style=\"text-align: right;\">\n",
              "      <th></th>\n",
              "      <th>A</th>\n",
              "      <th>B</th>\n",
              "      <th>C</th>\n",
              "      <th>D</th>\n",
              "      <th>F</th>\n",
              "      <th>E</th>\n",
              "    </tr>\n",
              "  </thead>\n",
              "  <tbody>\n",
              "    <tr>\n",
              "      <th>2013-01-01</th>\n",
              "      <td>False</td>\n",
              "      <td>False</td>\n",
              "      <td>False</td>\n",
              "      <td>False</td>\n",
              "      <td>True</td>\n",
              "      <td>False</td>\n",
              "    </tr>\n",
              "    <tr>\n",
              "      <th>2013-01-02</th>\n",
              "      <td>False</td>\n",
              "      <td>False</td>\n",
              "      <td>False</td>\n",
              "      <td>False</td>\n",
              "      <td>False</td>\n",
              "      <td>False</td>\n",
              "    </tr>\n",
              "    <tr>\n",
              "      <th>2013-01-03</th>\n",
              "      <td>False</td>\n",
              "      <td>False</td>\n",
              "      <td>False</td>\n",
              "      <td>False</td>\n",
              "      <td>False</td>\n",
              "      <td>True</td>\n",
              "    </tr>\n",
              "    <tr>\n",
              "      <th>2013-01-04</th>\n",
              "      <td>False</td>\n",
              "      <td>False</td>\n",
              "      <td>False</td>\n",
              "      <td>False</td>\n",
              "      <td>False</td>\n",
              "      <td>True</td>\n",
              "    </tr>\n",
              "  </tbody>\n",
              "</table>\n",
              "</div>"
            ],
            "text/plain": [
              "                A      B      C      D      F      E\n",
              "2013-01-01  False  False  False  False   True  False\n",
              "2013-01-02  False  False  False  False  False  False\n",
              "2013-01-03  False  False  False  False  False   True\n",
              "2013-01-04  False  False  False  False  False   True"
            ]
          },
          "metadata": {
            "tags": []
          },
          "execution_count": 52
        }
      ]
    },
    {
      "cell_type": "markdown",
      "metadata": {
        "id": "hDGs-OkVNlod"
      },
      "source": [
        "# Stats"
      ]
    },
    {
      "cell_type": "code",
      "metadata": {
        "colab": {
          "base_uri": "https://localhost:8080/",
          "height": 237
        },
        "id": "aaDZjtye-AB_",
        "outputId": "f960aa3a-16f7-459d-fafb-5a79004aedf9"
      },
      "source": [
        "df"
      ],
      "execution_count": 53,
      "outputs": [
        {
          "output_type": "execute_result",
          "data": {
            "text/html": [
              "<div>\n",
              "<style scoped>\n",
              "    .dataframe tbody tr th:only-of-type {\n",
              "        vertical-align: middle;\n",
              "    }\n",
              "\n",
              "    .dataframe tbody tr th {\n",
              "        vertical-align: top;\n",
              "    }\n",
              "\n",
              "    .dataframe thead th {\n",
              "        text-align: right;\n",
              "    }\n",
              "</style>\n",
              "<table border=\"1\" class=\"dataframe\">\n",
              "  <thead>\n",
              "    <tr style=\"text-align: right;\">\n",
              "      <th></th>\n",
              "      <th>A</th>\n",
              "      <th>B</th>\n",
              "      <th>C</th>\n",
              "      <th>D</th>\n",
              "      <th>F</th>\n",
              "    </tr>\n",
              "  </thead>\n",
              "  <tbody>\n",
              "    <tr>\n",
              "      <th>2013-01-01</th>\n",
              "      <td>0.000000</td>\n",
              "      <td>0.000000</td>\n",
              "      <td>-0.317214</td>\n",
              "      <td>5</td>\n",
              "      <td>NaN</td>\n",
              "    </tr>\n",
              "    <tr>\n",
              "      <th>2013-01-02</th>\n",
              "      <td>0.300031</td>\n",
              "      <td>-0.037352</td>\n",
              "      <td>-1.033264</td>\n",
              "      <td>5</td>\n",
              "      <td>1.0</td>\n",
              "    </tr>\n",
              "    <tr>\n",
              "      <th>2013-01-03</th>\n",
              "      <td>1.424727</td>\n",
              "      <td>0.445893</td>\n",
              "      <td>0.085154</td>\n",
              "      <td>5</td>\n",
              "      <td>2.0</td>\n",
              "    </tr>\n",
              "    <tr>\n",
              "      <th>2013-01-04</th>\n",
              "      <td>0.241239</td>\n",
              "      <td>0.314981</td>\n",
              "      <td>-0.488092</td>\n",
              "      <td>5</td>\n",
              "      <td>3.0</td>\n",
              "    </tr>\n",
              "    <tr>\n",
              "      <th>2013-01-05</th>\n",
              "      <td>-0.075114</td>\n",
              "      <td>-0.890753</td>\n",
              "      <td>0.103083</td>\n",
              "      <td>5</td>\n",
              "      <td>4.0</td>\n",
              "    </tr>\n",
              "    <tr>\n",
              "      <th>2013-01-06</th>\n",
              "      <td>-1.018115</td>\n",
              "      <td>-0.366363</td>\n",
              "      <td>-0.468451</td>\n",
              "      <td>5</td>\n",
              "      <td>5.0</td>\n",
              "    </tr>\n",
              "  </tbody>\n",
              "</table>\n",
              "</div>"
            ],
            "text/plain": [
              "                   A         B         C  D    F\n",
              "2013-01-01  0.000000  0.000000 -0.317214  5  NaN\n",
              "2013-01-02  0.300031 -0.037352 -1.033264  5  1.0\n",
              "2013-01-03  1.424727  0.445893  0.085154  5  2.0\n",
              "2013-01-04  0.241239  0.314981 -0.488092  5  3.0\n",
              "2013-01-05 -0.075114 -0.890753  0.103083  5  4.0\n",
              "2013-01-06 -1.018115 -0.366363 -0.468451  5  5.0"
            ]
          },
          "metadata": {
            "tags": []
          },
          "execution_count": 53
        }
      ]
    },
    {
      "cell_type": "code",
      "metadata": {
        "colab": {
          "base_uri": "https://localhost:8080/"
        },
        "id": "DZPMQhqt9zoZ",
        "outputId": "cc3be452-249c-4464-9cde-0d6999176cf1"
      },
      "source": [
        "df.mean()"
      ],
      "execution_count": 54,
      "outputs": [
        {
          "output_type": "execute_result",
          "data": {
            "text/plain": [
              "A    0.145461\n",
              "B   -0.088932\n",
              "C   -0.353130\n",
              "D    5.000000\n",
              "F    3.000000\n",
              "dtype: float64"
            ]
          },
          "metadata": {
            "tags": []
          },
          "execution_count": 54
        }
      ]
    },
    {
      "cell_type": "code",
      "metadata": {
        "colab": {
          "base_uri": "https://localhost:8080/"
        },
        "id": "WKdnnJrn91Fz",
        "outputId": "d9a6e7b6-4927-4c33-9268-73de2e28ff98"
      },
      "source": [
        "df.mean(1)"
      ],
      "execution_count": 55,
      "outputs": [
        {
          "output_type": "execute_result",
          "data": {
            "text/plain": [
              "2013-01-01    1.170697\n",
              "2013-01-02    1.045883\n",
              "2013-01-03    1.791155\n",
              "2013-01-04    1.613626\n",
              "2013-01-05    1.627443\n",
              "2013-01-06    1.629414\n",
              "Freq: D, dtype: float64"
            ]
          },
          "metadata": {
            "tags": []
          },
          "execution_count": 55
        }
      ]
    },
    {
      "cell_type": "code",
      "metadata": {
        "colab": {
          "base_uri": "https://localhost:8080/"
        },
        "id": "Z6OTZiQA98Bu",
        "outputId": "4b375750-6724-44e0-dd9e-aab881e888c7"
      },
      "source": [
        "s = pd.Series([1,3,5,np.nan,6,8], index=dates).shift(2)\n",
        "s"
      ],
      "execution_count": 56,
      "outputs": [
        {
          "output_type": "execute_result",
          "data": {
            "text/plain": [
              "2013-01-01    NaN\n",
              "2013-01-02    NaN\n",
              "2013-01-03    1.0\n",
              "2013-01-04    3.0\n",
              "2013-01-05    5.0\n",
              "2013-01-06    NaN\n",
              "Freq: D, dtype: float64"
            ]
          },
          "metadata": {
            "tags": []
          },
          "execution_count": 56
        }
      ]
    },
    {
      "cell_type": "markdown",
      "metadata": {
        "id": "gHDDDZIcZ9gt"
      },
      "source": [
        "크기가 다르고 정렬이 필요한 객체로 작업합니다.\n",
        "\n",
        "pandas는 지정된 차원을 따라 자동으로 broadcast합니다."
      ]
    },
    {
      "cell_type": "code",
      "metadata": {
        "colab": {
          "base_uri": "https://localhost:8080/",
          "height": 237
        },
        "id": "h7S65jxM-RFk",
        "outputId": "b60557bf-5a17-4aff-8a3b-5eec1fa4097d"
      },
      "source": [
        "df.sub(s, axis='index')"
      ],
      "execution_count": 58,
      "outputs": [
        {
          "output_type": "execute_result",
          "data": {
            "text/html": [
              "<div>\n",
              "<style scoped>\n",
              "    .dataframe tbody tr th:only-of-type {\n",
              "        vertical-align: middle;\n",
              "    }\n",
              "\n",
              "    .dataframe tbody tr th {\n",
              "        vertical-align: top;\n",
              "    }\n",
              "\n",
              "    .dataframe thead th {\n",
              "        text-align: right;\n",
              "    }\n",
              "</style>\n",
              "<table border=\"1\" class=\"dataframe\">\n",
              "  <thead>\n",
              "    <tr style=\"text-align: right;\">\n",
              "      <th></th>\n",
              "      <th>A</th>\n",
              "      <th>B</th>\n",
              "      <th>C</th>\n",
              "      <th>D</th>\n",
              "      <th>F</th>\n",
              "    </tr>\n",
              "  </thead>\n",
              "  <tbody>\n",
              "    <tr>\n",
              "      <th>2013-01-01</th>\n",
              "      <td>NaN</td>\n",
              "      <td>NaN</td>\n",
              "      <td>NaN</td>\n",
              "      <td>NaN</td>\n",
              "      <td>NaN</td>\n",
              "    </tr>\n",
              "    <tr>\n",
              "      <th>2013-01-02</th>\n",
              "      <td>NaN</td>\n",
              "      <td>NaN</td>\n",
              "      <td>NaN</td>\n",
              "      <td>NaN</td>\n",
              "      <td>NaN</td>\n",
              "    </tr>\n",
              "    <tr>\n",
              "      <th>2013-01-03</th>\n",
              "      <td>0.424727</td>\n",
              "      <td>-0.554107</td>\n",
              "      <td>-0.914846</td>\n",
              "      <td>4.0</td>\n",
              "      <td>1.0</td>\n",
              "    </tr>\n",
              "    <tr>\n",
              "      <th>2013-01-04</th>\n",
              "      <td>-2.758761</td>\n",
              "      <td>-2.685019</td>\n",
              "      <td>-3.488092</td>\n",
              "      <td>2.0</td>\n",
              "      <td>0.0</td>\n",
              "    </tr>\n",
              "    <tr>\n",
              "      <th>2013-01-05</th>\n",
              "      <td>-5.075114</td>\n",
              "      <td>-5.890753</td>\n",
              "      <td>-4.896917</td>\n",
              "      <td>0.0</td>\n",
              "      <td>-1.0</td>\n",
              "    </tr>\n",
              "    <tr>\n",
              "      <th>2013-01-06</th>\n",
              "      <td>NaN</td>\n",
              "      <td>NaN</td>\n",
              "      <td>NaN</td>\n",
              "      <td>NaN</td>\n",
              "      <td>NaN</td>\n",
              "    </tr>\n",
              "  </tbody>\n",
              "</table>\n",
              "</div>"
            ],
            "text/plain": [
              "                   A         B         C    D    F\n",
              "2013-01-01       NaN       NaN       NaN  NaN  NaN\n",
              "2013-01-02       NaN       NaN       NaN  NaN  NaN\n",
              "2013-01-03  0.424727 -0.554107 -0.914846  4.0  1.0\n",
              "2013-01-04 -2.758761 -2.685019 -3.488092  2.0  0.0\n",
              "2013-01-05 -5.075114 -5.890753 -4.896917  0.0 -1.0\n",
              "2013-01-06       NaN       NaN       NaN  NaN  NaN"
            ]
          },
          "metadata": {
            "tags": []
          },
          "execution_count": 58
        }
      ]
    },
    {
      "cell_type": "markdown",
      "metadata": {
        "id": "HyNeBsIjZU_d"
      },
      "source": [
        "# Apply"
      ]
    },
    {
      "cell_type": "code",
      "metadata": {
        "colab": {
          "base_uri": "https://localhost:8080/",
          "height": 237
        },
        "id": "oM6gOzhXaQ-g",
        "outputId": "d7929c84-845c-44ef-82d5-f50f1380c729"
      },
      "source": [
        "df"
      ],
      "execution_count": 60,
      "outputs": [
        {
          "output_type": "execute_result",
          "data": {
            "text/html": [
              "<div>\n",
              "<style scoped>\n",
              "    .dataframe tbody tr th:only-of-type {\n",
              "        vertical-align: middle;\n",
              "    }\n",
              "\n",
              "    .dataframe tbody tr th {\n",
              "        vertical-align: top;\n",
              "    }\n",
              "\n",
              "    .dataframe thead th {\n",
              "        text-align: right;\n",
              "    }\n",
              "</style>\n",
              "<table border=\"1\" class=\"dataframe\">\n",
              "  <thead>\n",
              "    <tr style=\"text-align: right;\">\n",
              "      <th></th>\n",
              "      <th>A</th>\n",
              "      <th>B</th>\n",
              "      <th>C</th>\n",
              "      <th>D</th>\n",
              "      <th>F</th>\n",
              "    </tr>\n",
              "  </thead>\n",
              "  <tbody>\n",
              "    <tr>\n",
              "      <th>2013-01-01</th>\n",
              "      <td>0.000000</td>\n",
              "      <td>0.000000</td>\n",
              "      <td>-0.317214</td>\n",
              "      <td>5</td>\n",
              "      <td>NaN</td>\n",
              "    </tr>\n",
              "    <tr>\n",
              "      <th>2013-01-02</th>\n",
              "      <td>0.300031</td>\n",
              "      <td>-0.037352</td>\n",
              "      <td>-1.033264</td>\n",
              "      <td>5</td>\n",
              "      <td>1.0</td>\n",
              "    </tr>\n",
              "    <tr>\n",
              "      <th>2013-01-03</th>\n",
              "      <td>1.424727</td>\n",
              "      <td>0.445893</td>\n",
              "      <td>0.085154</td>\n",
              "      <td>5</td>\n",
              "      <td>2.0</td>\n",
              "    </tr>\n",
              "    <tr>\n",
              "      <th>2013-01-04</th>\n",
              "      <td>0.241239</td>\n",
              "      <td>0.314981</td>\n",
              "      <td>-0.488092</td>\n",
              "      <td>5</td>\n",
              "      <td>3.0</td>\n",
              "    </tr>\n",
              "    <tr>\n",
              "      <th>2013-01-05</th>\n",
              "      <td>-0.075114</td>\n",
              "      <td>-0.890753</td>\n",
              "      <td>0.103083</td>\n",
              "      <td>5</td>\n",
              "      <td>4.0</td>\n",
              "    </tr>\n",
              "    <tr>\n",
              "      <th>2013-01-06</th>\n",
              "      <td>-1.018115</td>\n",
              "      <td>-0.366363</td>\n",
              "      <td>-0.468451</td>\n",
              "      <td>5</td>\n",
              "      <td>5.0</td>\n",
              "    </tr>\n",
              "  </tbody>\n",
              "</table>\n",
              "</div>"
            ],
            "text/plain": [
              "                   A         B         C  D    F\n",
              "2013-01-01  0.000000  0.000000 -0.317214  5  NaN\n",
              "2013-01-02  0.300031 -0.037352 -1.033264  5  1.0\n",
              "2013-01-03  1.424727  0.445893  0.085154  5  2.0\n",
              "2013-01-04  0.241239  0.314981 -0.488092  5  3.0\n",
              "2013-01-05 -0.075114 -0.890753  0.103083  5  4.0\n",
              "2013-01-06 -1.018115 -0.366363 -0.468451  5  5.0"
            ]
          },
          "metadata": {
            "tags": []
          },
          "execution_count": 60
        }
      ]
    },
    {
      "cell_type": "code",
      "metadata": {
        "colab": {
          "base_uri": "https://localhost:8080/",
          "height": 237
        },
        "id": "AUwCemCwaIva",
        "outputId": "bb9bda9e-6bad-4ae2-8976-31758e110d2f"
      },
      "source": [
        "df.apply(np.cumsum)"
      ],
      "execution_count": 59,
      "outputs": [
        {
          "output_type": "execute_result",
          "data": {
            "text/html": [
              "<div>\n",
              "<style scoped>\n",
              "    .dataframe tbody tr th:only-of-type {\n",
              "        vertical-align: middle;\n",
              "    }\n",
              "\n",
              "    .dataframe tbody tr th {\n",
              "        vertical-align: top;\n",
              "    }\n",
              "\n",
              "    .dataframe thead th {\n",
              "        text-align: right;\n",
              "    }\n",
              "</style>\n",
              "<table border=\"1\" class=\"dataframe\">\n",
              "  <thead>\n",
              "    <tr style=\"text-align: right;\">\n",
              "      <th></th>\n",
              "      <th>A</th>\n",
              "      <th>B</th>\n",
              "      <th>C</th>\n",
              "      <th>D</th>\n",
              "      <th>F</th>\n",
              "    </tr>\n",
              "  </thead>\n",
              "  <tbody>\n",
              "    <tr>\n",
              "      <th>2013-01-01</th>\n",
              "      <td>0.000000</td>\n",
              "      <td>0.000000</td>\n",
              "      <td>-0.317214</td>\n",
              "      <td>5</td>\n",
              "      <td>NaN</td>\n",
              "    </tr>\n",
              "    <tr>\n",
              "      <th>2013-01-02</th>\n",
              "      <td>0.300031</td>\n",
              "      <td>-0.037352</td>\n",
              "      <td>-1.350477</td>\n",
              "      <td>10</td>\n",
              "      <td>1.0</td>\n",
              "    </tr>\n",
              "    <tr>\n",
              "      <th>2013-01-03</th>\n",
              "      <td>1.724757</td>\n",
              "      <td>0.408541</td>\n",
              "      <td>-1.265323</td>\n",
              "      <td>15</td>\n",
              "      <td>3.0</td>\n",
              "    </tr>\n",
              "    <tr>\n",
              "      <th>2013-01-04</th>\n",
              "      <td>1.965997</td>\n",
              "      <td>0.723522</td>\n",
              "      <td>-1.753415</td>\n",
              "      <td>20</td>\n",
              "      <td>6.0</td>\n",
              "    </tr>\n",
              "    <tr>\n",
              "      <th>2013-01-05</th>\n",
              "      <td>1.890883</td>\n",
              "      <td>-0.167231</td>\n",
              "      <td>-1.650332</td>\n",
              "      <td>25</td>\n",
              "      <td>10.0</td>\n",
              "    </tr>\n",
              "    <tr>\n",
              "      <th>2013-01-06</th>\n",
              "      <td>0.872768</td>\n",
              "      <td>-0.533594</td>\n",
              "      <td>-2.118783</td>\n",
              "      <td>30</td>\n",
              "      <td>15.0</td>\n",
              "    </tr>\n",
              "  </tbody>\n",
              "</table>\n",
              "</div>"
            ],
            "text/plain": [
              "                   A         B         C   D     F\n",
              "2013-01-01  0.000000  0.000000 -0.317214   5   NaN\n",
              "2013-01-02  0.300031 -0.037352 -1.350477  10   1.0\n",
              "2013-01-03  1.724757  0.408541 -1.265323  15   3.0\n",
              "2013-01-04  1.965997  0.723522 -1.753415  20   6.0\n",
              "2013-01-05  1.890883 -0.167231 -1.650332  25  10.0\n",
              "2013-01-06  0.872768 -0.533594 -2.118783  30  15.0"
            ]
          },
          "metadata": {
            "tags": []
          },
          "execution_count": 59
        }
      ]
    },
    {
      "cell_type": "code",
      "metadata": {
        "colab": {
          "base_uri": "https://localhost:8080/"
        },
        "id": "k1dvGedcaPOZ",
        "outputId": "f60ae6b5-5bcf-4a49-93db-13b700a4e454"
      },
      "source": [
        "df.apply(lambda x : x.max() - x.min())"
      ],
      "execution_count": 65,
      "outputs": [
        {
          "output_type": "execute_result",
          "data": {
            "text/plain": [
              "A    2.442842\n",
              "B    1.336646\n",
              "C    1.136347\n",
              "D    0.000000\n",
              "F    4.000000\n",
              "dtype: float64"
            ]
          },
          "metadata": {
            "tags": []
          },
          "execution_count": 65
        }
      ]
    },
    {
      "cell_type": "code",
      "metadata": {
        "id": "BlGxGIFPaaBh"
      },
      "source": [
        ""
      ],
      "execution_count": null,
      "outputs": []
    }
  ]
}