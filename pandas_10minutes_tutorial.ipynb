{
  "nbformat": 4,
  "nbformat_minor": 0,
  "metadata": {
    "colab": {
      "name": "pandas_10minutes_tutorial.ipynb",
      "provenance": [],
      "collapsed_sections": [],
      "toc_visible": true,
      "authorship_tag": "ABX9TyMlzpPEkAoSQpN5gT7MY5dk",
      "include_colab_link": true
    },
    "kernelspec": {
      "name": "python3",
      "display_name": "Python 3"
    },
    "language_info": {
      "name": "python"
    }
  },
  "cells": [
    {
      "cell_type": "markdown",
      "metadata": {
        "id": "view-in-github",
        "colab_type": "text"
      },
      "source": [
        "<a href=\"https://colab.research.google.com/github/HwangHanJae/datascience-basic-tect/blob/main/pandas_10minutes_tutorial.ipynb\" target=\"_parent\"><img src=\"https://colab.research.google.com/assets/colab-badge.svg\" alt=\"Open In Colab\"/></a>"
      ]
    },
    {
      "cell_type": "markdown",
      "metadata": {
        "id": "ZuwNx8zv0osT"
      },
      "source": [
        "# Pandas Tutorial\n",
        "- 10 minutes to pandas"
      ]
    },
    {
      "cell_type": "markdown",
      "metadata": {
        "id": "Mevz6U9500jL"
      },
      "source": [
        "# 라이브러리 로드"
      ]
    },
    {
      "cell_type": "code",
      "metadata": {
        "id": "wNpQQYEq0i6X"
      },
      "source": [
        "import numpy as np\n",
        "import pandas as pd"
      ],
      "execution_count": 1,
      "outputs": []
    },
    {
      "cell_type": "markdown",
      "metadata": {
        "id": "obj52xHz1Evg"
      },
      "source": [
        "# 객체 생성\n",
        "\n"
      ]
    },
    {
      "cell_type": "markdown",
      "metadata": {
        "id": "7hIsrsMs1aQM"
      },
      "source": [
        "value의 리스트를 전달하여 Series 타입을 생성하고 pandas의 기본 인덱스를 적용합니다."
      ]
    },
    {
      "cell_type": "code",
      "metadata": {
        "colab": {
          "base_uri": "https://localhost:8080/"
        },
        "id": "f2W1iNIF1YLX",
        "outputId": "0d9cb1a8-3767-496a-d63d-bb419a510bb2"
      },
      "source": [
        "#Input\n",
        "s = pd.Series([1,3,5, np.nan, 6,8])\n",
        "#Output\n",
        "s"
      ],
      "execution_count": 2,
      "outputs": [
        {
          "output_type": "execute_result",
          "data": {
            "text/plain": [
              "0    1.0\n",
              "1    3.0\n",
              "2    5.0\n",
              "3    NaN\n",
              "4    6.0\n",
              "5    8.0\n",
              "dtype: float64"
            ]
          },
          "metadata": {
            "tags": []
          },
          "execution_count": 2
        }
      ]
    },
    {
      "cell_type": "markdown",
      "metadata": {
        "id": "A_BTVKtc1vo7"
      },
      "source": [
        "datatime 타입과 레이블이있는 column과 Numpy array를 전달하여 Dataframe을 생성합니다."
      ]
    },
    {
      "cell_type": "code",
      "metadata": {
        "colab": {
          "base_uri": "https://localhost:8080/"
        },
        "id": "Lv28pYXw1eR8",
        "outputId": "39983195-70f0-4389-b06e-1ed88fee2372"
      },
      "source": [
        "dates = pd.date_range(\"20130101\", periods=6)\n",
        "dates"
      ],
      "execution_count": 3,
      "outputs": [
        {
          "output_type": "execute_result",
          "data": {
            "text/plain": [
              "DatetimeIndex(['2013-01-01', '2013-01-02', '2013-01-03', '2013-01-04',\n",
              "               '2013-01-05', '2013-01-06'],\n",
              "              dtype='datetime64[ns]', freq='D')"
            ]
          },
          "metadata": {
            "tags": []
          },
          "execution_count": 3
        }
      ]
    },
    {
      "cell_type": "code",
      "metadata": {
        "colab": {
          "base_uri": "https://localhost:8080/",
          "height": 237
        },
        "id": "BIkIY54Y1--g",
        "outputId": "61cbf862-36df-4a12-81a9-3d9a52a70f01"
      },
      "source": [
        "df = pd.DataFrame(np.random.randn(6,4), index=dates, columns=list(\"ABCD\"))\n",
        "df"
      ],
      "execution_count": 4,
      "outputs": [
        {
          "output_type": "execute_result",
          "data": {
            "text/html": [
              "<div>\n",
              "<style scoped>\n",
              "    .dataframe tbody tr th:only-of-type {\n",
              "        vertical-align: middle;\n",
              "    }\n",
              "\n",
              "    .dataframe tbody tr th {\n",
              "        vertical-align: top;\n",
              "    }\n",
              "\n",
              "    .dataframe thead th {\n",
              "        text-align: right;\n",
              "    }\n",
              "</style>\n",
              "<table border=\"1\" class=\"dataframe\">\n",
              "  <thead>\n",
              "    <tr style=\"text-align: right;\">\n",
              "      <th></th>\n",
              "      <th>A</th>\n",
              "      <th>B</th>\n",
              "      <th>C</th>\n",
              "      <th>D</th>\n",
              "    </tr>\n",
              "  </thead>\n",
              "  <tbody>\n",
              "    <tr>\n",
              "      <th>2013-01-01</th>\n",
              "      <td>2.260516</td>\n",
              "      <td>-1.736147</td>\n",
              "      <td>-0.828662</td>\n",
              "      <td>-0.209926</td>\n",
              "    </tr>\n",
              "    <tr>\n",
              "      <th>2013-01-02</th>\n",
              "      <td>0.221587</td>\n",
              "      <td>-0.589722</td>\n",
              "      <td>0.231308</td>\n",
              "      <td>0.362772</td>\n",
              "    </tr>\n",
              "    <tr>\n",
              "      <th>2013-01-03</th>\n",
              "      <td>-1.583195</td>\n",
              "      <td>0.712675</td>\n",
              "      <td>-1.585282</td>\n",
              "      <td>-1.454039</td>\n",
              "    </tr>\n",
              "    <tr>\n",
              "      <th>2013-01-04</th>\n",
              "      <td>0.131762</td>\n",
              "      <td>-0.060625</td>\n",
              "      <td>-0.272838</td>\n",
              "      <td>1.058352</td>\n",
              "    </tr>\n",
              "    <tr>\n",
              "      <th>2013-01-05</th>\n",
              "      <td>-0.348674</td>\n",
              "      <td>-0.175192</td>\n",
              "      <td>0.506863</td>\n",
              "      <td>1.010490</td>\n",
              "    </tr>\n",
              "    <tr>\n",
              "      <th>2013-01-06</th>\n",
              "      <td>-0.239107</td>\n",
              "      <td>-0.359601</td>\n",
              "      <td>-0.549022</td>\n",
              "      <td>0.801406</td>\n",
              "    </tr>\n",
              "  </tbody>\n",
              "</table>\n",
              "</div>"
            ],
            "text/plain": [
              "                   A         B         C         D\n",
              "2013-01-01  2.260516 -1.736147 -0.828662 -0.209926\n",
              "2013-01-02  0.221587 -0.589722  0.231308  0.362772\n",
              "2013-01-03 -1.583195  0.712675 -1.585282 -1.454039\n",
              "2013-01-04  0.131762 -0.060625 -0.272838  1.058352\n",
              "2013-01-05 -0.348674 -0.175192  0.506863  1.010490\n",
              "2013-01-06 -0.239107 -0.359601 -0.549022  0.801406"
            ]
          },
          "metadata": {
            "tags": []
          },
          "execution_count": 4
        }
      ]
    },
    {
      "cell_type": "markdown",
      "metadata": {
        "id": "pUIQtVnM2djQ"
      },
      "source": [
        "Series 타입처럼 변환할수 있는 객체의 dict 타입을 전달하여 DataFrame을 생성합니다."
      ]
    },
    {
      "cell_type": "code",
      "metadata": {
        "colab": {
          "base_uri": "https://localhost:8080/",
          "height": 175
        },
        "id": "KqouzYfo2Puz",
        "outputId": "b47f3913-973d-436e-93b2-c006822fa209"
      },
      "source": [
        "df2 = pd.DataFrame(\n",
        "    {\"A\" : 1.0,\n",
        "    \"B\" : pd.Timestamp(\"20130102\"),\n",
        "    \"C\" : pd.Series(1, index=list(range(4)), dtype=\"float32\"),\n",
        "    \"D\" : np.array([3] *4, dtype=\"int32\"),\n",
        "    \"E\" : pd.Categorical([\"test\",\"train\",\"test\",\"train\"]),\n",
        "    \"F\" : 'foo',}\n",
        ")\n",
        "\n",
        "df2"
      ],
      "execution_count": 5,
      "outputs": [
        {
          "output_type": "execute_result",
          "data": {
            "text/html": [
              "<div>\n",
              "<style scoped>\n",
              "    .dataframe tbody tr th:only-of-type {\n",
              "        vertical-align: middle;\n",
              "    }\n",
              "\n",
              "    .dataframe tbody tr th {\n",
              "        vertical-align: top;\n",
              "    }\n",
              "\n",
              "    .dataframe thead th {\n",
              "        text-align: right;\n",
              "    }\n",
              "</style>\n",
              "<table border=\"1\" class=\"dataframe\">\n",
              "  <thead>\n",
              "    <tr style=\"text-align: right;\">\n",
              "      <th></th>\n",
              "      <th>A</th>\n",
              "      <th>B</th>\n",
              "      <th>C</th>\n",
              "      <th>D</th>\n",
              "      <th>E</th>\n",
              "      <th>F</th>\n",
              "    </tr>\n",
              "  </thead>\n",
              "  <tbody>\n",
              "    <tr>\n",
              "      <th>0</th>\n",
              "      <td>1.0</td>\n",
              "      <td>2013-01-02</td>\n",
              "      <td>1.0</td>\n",
              "      <td>3</td>\n",
              "      <td>test</td>\n",
              "      <td>foo</td>\n",
              "    </tr>\n",
              "    <tr>\n",
              "      <th>1</th>\n",
              "      <td>1.0</td>\n",
              "      <td>2013-01-02</td>\n",
              "      <td>1.0</td>\n",
              "      <td>3</td>\n",
              "      <td>train</td>\n",
              "      <td>foo</td>\n",
              "    </tr>\n",
              "    <tr>\n",
              "      <th>2</th>\n",
              "      <td>1.0</td>\n",
              "      <td>2013-01-02</td>\n",
              "      <td>1.0</td>\n",
              "      <td>3</td>\n",
              "      <td>test</td>\n",
              "      <td>foo</td>\n",
              "    </tr>\n",
              "    <tr>\n",
              "      <th>3</th>\n",
              "      <td>1.0</td>\n",
              "      <td>2013-01-02</td>\n",
              "      <td>1.0</td>\n",
              "      <td>3</td>\n",
              "      <td>train</td>\n",
              "      <td>foo</td>\n",
              "    </tr>\n",
              "  </tbody>\n",
              "</table>\n",
              "</div>"
            ],
            "text/plain": [
              "     A          B    C  D      E    F\n",
              "0  1.0 2013-01-02  1.0  3   test  foo\n",
              "1  1.0 2013-01-02  1.0  3  train  foo\n",
              "2  1.0 2013-01-02  1.0  3   test  foo\n",
              "3  1.0 2013-01-02  1.0  3  train  foo"
            ]
          },
          "metadata": {
            "tags": []
          },
          "execution_count": 5
        }
      ]
    },
    {
      "cell_type": "markdown",
      "metadata": {
        "id": "Z-cwgLLt3b2G"
      },
      "source": [
        "Dataframe의 columns 들은 다른 dtypes를 가지고 있습니다."
      ]
    },
    {
      "cell_type": "code",
      "metadata": {
        "colab": {
          "base_uri": "https://localhost:8080/"
        },
        "id": "uXn_366F3JKa",
        "outputId": "ff292e48-69a7-4c4b-9941-e8b36a99c4ae"
      },
      "source": [
        "df2.dtypes"
      ],
      "execution_count": 6,
      "outputs": [
        {
          "output_type": "execute_result",
          "data": {
            "text/plain": [
              "A           float64\n",
              "B    datetime64[ns]\n",
              "C           float32\n",
              "D             int32\n",
              "E          category\n",
              "F            object\n",
              "dtype: object"
            ]
          },
          "metadata": {
            "tags": []
          },
          "execution_count": 6
        }
      ]
    },
    {
      "cell_type": "markdown",
      "metadata": {
        "id": "gXFSKoIQEQ1i"
      },
      "source": [
        "# 데이터 관찰"
      ]
    },
    {
      "cell_type": "markdown",
      "metadata": {
        "id": "dY1pn3YTEWjZ"
      },
      "source": [
        "데이터 프레임의 상단, 하단을 보는 방법입니다."
      ]
    },
    {
      "cell_type": "code",
      "metadata": {
        "colab": {
          "base_uri": "https://localhost:8080/",
          "height": 206
        },
        "id": "L5MVIIndEY_0",
        "outputId": "9316e7b6-1253-484d-aeac-f504ce9f7423"
      },
      "source": [
        "df.head()"
      ],
      "execution_count": 7,
      "outputs": [
        {
          "output_type": "execute_result",
          "data": {
            "text/html": [
              "<div>\n",
              "<style scoped>\n",
              "    .dataframe tbody tr th:only-of-type {\n",
              "        vertical-align: middle;\n",
              "    }\n",
              "\n",
              "    .dataframe tbody tr th {\n",
              "        vertical-align: top;\n",
              "    }\n",
              "\n",
              "    .dataframe thead th {\n",
              "        text-align: right;\n",
              "    }\n",
              "</style>\n",
              "<table border=\"1\" class=\"dataframe\">\n",
              "  <thead>\n",
              "    <tr style=\"text-align: right;\">\n",
              "      <th></th>\n",
              "      <th>A</th>\n",
              "      <th>B</th>\n",
              "      <th>C</th>\n",
              "      <th>D</th>\n",
              "    </tr>\n",
              "  </thead>\n",
              "  <tbody>\n",
              "    <tr>\n",
              "      <th>2013-01-01</th>\n",
              "      <td>2.260516</td>\n",
              "      <td>-1.736147</td>\n",
              "      <td>-0.828662</td>\n",
              "      <td>-0.209926</td>\n",
              "    </tr>\n",
              "    <tr>\n",
              "      <th>2013-01-02</th>\n",
              "      <td>0.221587</td>\n",
              "      <td>-0.589722</td>\n",
              "      <td>0.231308</td>\n",
              "      <td>0.362772</td>\n",
              "    </tr>\n",
              "    <tr>\n",
              "      <th>2013-01-03</th>\n",
              "      <td>-1.583195</td>\n",
              "      <td>0.712675</td>\n",
              "      <td>-1.585282</td>\n",
              "      <td>-1.454039</td>\n",
              "    </tr>\n",
              "    <tr>\n",
              "      <th>2013-01-04</th>\n",
              "      <td>0.131762</td>\n",
              "      <td>-0.060625</td>\n",
              "      <td>-0.272838</td>\n",
              "      <td>1.058352</td>\n",
              "    </tr>\n",
              "    <tr>\n",
              "      <th>2013-01-05</th>\n",
              "      <td>-0.348674</td>\n",
              "      <td>-0.175192</td>\n",
              "      <td>0.506863</td>\n",
              "      <td>1.010490</td>\n",
              "    </tr>\n",
              "  </tbody>\n",
              "</table>\n",
              "</div>"
            ],
            "text/plain": [
              "                   A         B         C         D\n",
              "2013-01-01  2.260516 -1.736147 -0.828662 -0.209926\n",
              "2013-01-02  0.221587 -0.589722  0.231308  0.362772\n",
              "2013-01-03 -1.583195  0.712675 -1.585282 -1.454039\n",
              "2013-01-04  0.131762 -0.060625 -0.272838  1.058352\n",
              "2013-01-05 -0.348674 -0.175192  0.506863  1.010490"
            ]
          },
          "metadata": {
            "tags": []
          },
          "execution_count": 7
        }
      ]
    },
    {
      "cell_type": "code",
      "metadata": {
        "colab": {
          "base_uri": "https://localhost:8080/",
          "height": 206
        },
        "id": "6Wjy6CU7EaAO",
        "outputId": "8561dfb5-e9e9-4585-f0df-1ba91078a899"
      },
      "source": [
        "df.tail()"
      ],
      "execution_count": 8,
      "outputs": [
        {
          "output_type": "execute_result",
          "data": {
            "text/html": [
              "<div>\n",
              "<style scoped>\n",
              "    .dataframe tbody tr th:only-of-type {\n",
              "        vertical-align: middle;\n",
              "    }\n",
              "\n",
              "    .dataframe tbody tr th {\n",
              "        vertical-align: top;\n",
              "    }\n",
              "\n",
              "    .dataframe thead th {\n",
              "        text-align: right;\n",
              "    }\n",
              "</style>\n",
              "<table border=\"1\" class=\"dataframe\">\n",
              "  <thead>\n",
              "    <tr style=\"text-align: right;\">\n",
              "      <th></th>\n",
              "      <th>A</th>\n",
              "      <th>B</th>\n",
              "      <th>C</th>\n",
              "      <th>D</th>\n",
              "    </tr>\n",
              "  </thead>\n",
              "  <tbody>\n",
              "    <tr>\n",
              "      <th>2013-01-02</th>\n",
              "      <td>0.221587</td>\n",
              "      <td>-0.589722</td>\n",
              "      <td>0.231308</td>\n",
              "      <td>0.362772</td>\n",
              "    </tr>\n",
              "    <tr>\n",
              "      <th>2013-01-03</th>\n",
              "      <td>-1.583195</td>\n",
              "      <td>0.712675</td>\n",
              "      <td>-1.585282</td>\n",
              "      <td>-1.454039</td>\n",
              "    </tr>\n",
              "    <tr>\n",
              "      <th>2013-01-04</th>\n",
              "      <td>0.131762</td>\n",
              "      <td>-0.060625</td>\n",
              "      <td>-0.272838</td>\n",
              "      <td>1.058352</td>\n",
              "    </tr>\n",
              "    <tr>\n",
              "      <th>2013-01-05</th>\n",
              "      <td>-0.348674</td>\n",
              "      <td>-0.175192</td>\n",
              "      <td>0.506863</td>\n",
              "      <td>1.010490</td>\n",
              "    </tr>\n",
              "    <tr>\n",
              "      <th>2013-01-06</th>\n",
              "      <td>-0.239107</td>\n",
              "      <td>-0.359601</td>\n",
              "      <td>-0.549022</td>\n",
              "      <td>0.801406</td>\n",
              "    </tr>\n",
              "  </tbody>\n",
              "</table>\n",
              "</div>"
            ],
            "text/plain": [
              "                   A         B         C         D\n",
              "2013-01-02  0.221587 -0.589722  0.231308  0.362772\n",
              "2013-01-03 -1.583195  0.712675 -1.585282 -1.454039\n",
              "2013-01-04  0.131762 -0.060625 -0.272838  1.058352\n",
              "2013-01-05 -0.348674 -0.175192  0.506863  1.010490\n",
              "2013-01-06 -0.239107 -0.359601 -0.549022  0.801406"
            ]
          },
          "metadata": {
            "tags": []
          },
          "execution_count": 8
        }
      ]
    },
    {
      "cell_type": "markdown",
      "metadata": {
        "id": "wurG2mjMEdFr"
      },
      "source": [
        "index, columns를 표현합니다."
      ]
    },
    {
      "cell_type": "code",
      "metadata": {
        "colab": {
          "base_uri": "https://localhost:8080/"
        },
        "id": "HQ_YDCN7EiM6",
        "outputId": "82bfd723-21ff-41f2-c8b4-4353f48b4016"
      },
      "source": [
        "df.index"
      ],
      "execution_count": 9,
      "outputs": [
        {
          "output_type": "execute_result",
          "data": {
            "text/plain": [
              "DatetimeIndex(['2013-01-01', '2013-01-02', '2013-01-03', '2013-01-04',\n",
              "               '2013-01-05', '2013-01-06'],\n",
              "              dtype='datetime64[ns]', freq='D')"
            ]
          },
          "metadata": {
            "tags": []
          },
          "execution_count": 9
        }
      ]
    },
    {
      "cell_type": "code",
      "metadata": {
        "colab": {
          "base_uri": "https://localhost:8080/"
        },
        "id": "XaX0y1CPEjUG",
        "outputId": "b8fa11fd-ce0e-47d9-b60b-ff54c88c77a5"
      },
      "source": [
        "df.columns"
      ],
      "execution_count": 10,
      "outputs": [
        {
          "output_type": "execute_result",
          "data": {
            "text/plain": [
              "Index(['A', 'B', 'C', 'D'], dtype='object')"
            ]
          },
          "metadata": {
            "tags": []
          },
          "execution_count": 10
        }
      ]
    },
    {
      "cell_type": "markdown",
      "metadata": {
        "id": "ffEzz2l5EkME"
      },
      "source": [
        "DataFrame.to_numpy()는 NumPy 표현을 제공합니다."
      ]
    },
    {
      "cell_type": "code",
      "metadata": {
        "colab": {
          "base_uri": "https://localhost:8080/",
          "height": 237
        },
        "id": "1KDxP-fmFCIn",
        "outputId": "a4dafa12-059b-43e1-bb2b-e39c13b09e53"
      },
      "source": [
        "df"
      ],
      "execution_count": 11,
      "outputs": [
        {
          "output_type": "execute_result",
          "data": {
            "text/html": [
              "<div>\n",
              "<style scoped>\n",
              "    .dataframe tbody tr th:only-of-type {\n",
              "        vertical-align: middle;\n",
              "    }\n",
              "\n",
              "    .dataframe tbody tr th {\n",
              "        vertical-align: top;\n",
              "    }\n",
              "\n",
              "    .dataframe thead th {\n",
              "        text-align: right;\n",
              "    }\n",
              "</style>\n",
              "<table border=\"1\" class=\"dataframe\">\n",
              "  <thead>\n",
              "    <tr style=\"text-align: right;\">\n",
              "      <th></th>\n",
              "      <th>A</th>\n",
              "      <th>B</th>\n",
              "      <th>C</th>\n",
              "      <th>D</th>\n",
              "    </tr>\n",
              "  </thead>\n",
              "  <tbody>\n",
              "    <tr>\n",
              "      <th>2013-01-01</th>\n",
              "      <td>2.260516</td>\n",
              "      <td>-1.736147</td>\n",
              "      <td>-0.828662</td>\n",
              "      <td>-0.209926</td>\n",
              "    </tr>\n",
              "    <tr>\n",
              "      <th>2013-01-02</th>\n",
              "      <td>0.221587</td>\n",
              "      <td>-0.589722</td>\n",
              "      <td>0.231308</td>\n",
              "      <td>0.362772</td>\n",
              "    </tr>\n",
              "    <tr>\n",
              "      <th>2013-01-03</th>\n",
              "      <td>-1.583195</td>\n",
              "      <td>0.712675</td>\n",
              "      <td>-1.585282</td>\n",
              "      <td>-1.454039</td>\n",
              "    </tr>\n",
              "    <tr>\n",
              "      <th>2013-01-04</th>\n",
              "      <td>0.131762</td>\n",
              "      <td>-0.060625</td>\n",
              "      <td>-0.272838</td>\n",
              "      <td>1.058352</td>\n",
              "    </tr>\n",
              "    <tr>\n",
              "      <th>2013-01-05</th>\n",
              "      <td>-0.348674</td>\n",
              "      <td>-0.175192</td>\n",
              "      <td>0.506863</td>\n",
              "      <td>1.010490</td>\n",
              "    </tr>\n",
              "    <tr>\n",
              "      <th>2013-01-06</th>\n",
              "      <td>-0.239107</td>\n",
              "      <td>-0.359601</td>\n",
              "      <td>-0.549022</td>\n",
              "      <td>0.801406</td>\n",
              "    </tr>\n",
              "  </tbody>\n",
              "</table>\n",
              "</div>"
            ],
            "text/plain": [
              "                   A         B         C         D\n",
              "2013-01-01  2.260516 -1.736147 -0.828662 -0.209926\n",
              "2013-01-02  0.221587 -0.589722  0.231308  0.362772\n",
              "2013-01-03 -1.583195  0.712675 -1.585282 -1.454039\n",
              "2013-01-04  0.131762 -0.060625 -0.272838  1.058352\n",
              "2013-01-05 -0.348674 -0.175192  0.506863  1.010490\n",
              "2013-01-06 -0.239107 -0.359601 -0.549022  0.801406"
            ]
          },
          "metadata": {
            "tags": []
          },
          "execution_count": 11
        }
      ]
    },
    {
      "cell_type": "code",
      "metadata": {
        "colab": {
          "base_uri": "https://localhost:8080/"
        },
        "id": "wKqInYkvE0gU",
        "outputId": "203db792-5a04-44c5-8a18-442f7259d902"
      },
      "source": [
        "df.to_numpy()"
      ],
      "execution_count": 12,
      "outputs": [
        {
          "output_type": "execute_result",
          "data": {
            "text/plain": [
              "array([[ 2.26051602, -1.73614705, -0.82866179, -0.20992597],\n",
              "       [ 0.22158725, -0.589722  ,  0.23130768,  0.36277249],\n",
              "       [-1.58319475,  0.71267459, -1.58528196, -1.45403878],\n",
              "       [ 0.13176152, -0.06062459, -0.27283803,  1.05835238],\n",
              "       [-0.34867433, -0.17519232,  0.50686307,  1.01049009],\n",
              "       [-0.23910749, -0.35960061, -0.54902169,  0.80140634]])"
            ]
          },
          "metadata": {
            "tags": []
          },
          "execution_count": 12
        }
      ]
    },
    {
      "cell_type": "code",
      "metadata": {
        "id": "uA7GXea8E_de",
        "colab": {
          "base_uri": "https://localhost:8080/",
          "height": 175
        },
        "outputId": "2c524a3e-277c-4411-8e60-c3c128be628d"
      },
      "source": [
        "df2"
      ],
      "execution_count": 13,
      "outputs": [
        {
          "output_type": "execute_result",
          "data": {
            "text/html": [
              "<div>\n",
              "<style scoped>\n",
              "    .dataframe tbody tr th:only-of-type {\n",
              "        vertical-align: middle;\n",
              "    }\n",
              "\n",
              "    .dataframe tbody tr th {\n",
              "        vertical-align: top;\n",
              "    }\n",
              "\n",
              "    .dataframe thead th {\n",
              "        text-align: right;\n",
              "    }\n",
              "</style>\n",
              "<table border=\"1\" class=\"dataframe\">\n",
              "  <thead>\n",
              "    <tr style=\"text-align: right;\">\n",
              "      <th></th>\n",
              "      <th>A</th>\n",
              "      <th>B</th>\n",
              "      <th>C</th>\n",
              "      <th>D</th>\n",
              "      <th>E</th>\n",
              "      <th>F</th>\n",
              "    </tr>\n",
              "  </thead>\n",
              "  <tbody>\n",
              "    <tr>\n",
              "      <th>0</th>\n",
              "      <td>1.0</td>\n",
              "      <td>2013-01-02</td>\n",
              "      <td>1.0</td>\n",
              "      <td>3</td>\n",
              "      <td>test</td>\n",
              "      <td>foo</td>\n",
              "    </tr>\n",
              "    <tr>\n",
              "      <th>1</th>\n",
              "      <td>1.0</td>\n",
              "      <td>2013-01-02</td>\n",
              "      <td>1.0</td>\n",
              "      <td>3</td>\n",
              "      <td>train</td>\n",
              "      <td>foo</td>\n",
              "    </tr>\n",
              "    <tr>\n",
              "      <th>2</th>\n",
              "      <td>1.0</td>\n",
              "      <td>2013-01-02</td>\n",
              "      <td>1.0</td>\n",
              "      <td>3</td>\n",
              "      <td>test</td>\n",
              "      <td>foo</td>\n",
              "    </tr>\n",
              "    <tr>\n",
              "      <th>3</th>\n",
              "      <td>1.0</td>\n",
              "      <td>2013-01-02</td>\n",
              "      <td>1.0</td>\n",
              "      <td>3</td>\n",
              "      <td>train</td>\n",
              "      <td>foo</td>\n",
              "    </tr>\n",
              "  </tbody>\n",
              "</table>\n",
              "</div>"
            ],
            "text/plain": [
              "     A          B    C  D      E    F\n",
              "0  1.0 2013-01-02  1.0  3   test  foo\n",
              "1  1.0 2013-01-02  1.0  3  train  foo\n",
              "2  1.0 2013-01-02  1.0  3   test  foo\n",
              "3  1.0 2013-01-02  1.0  3  train  foo"
            ]
          },
          "metadata": {
            "tags": []
          },
          "execution_count": 13
        }
      ]
    },
    {
      "cell_type": "code",
      "metadata": {
        "colab": {
          "base_uri": "https://localhost:8080/"
        },
        "id": "worljdmrE2iE",
        "outputId": "4a057374-30b0-4600-c04b-6f1b65e7b56d"
      },
      "source": [
        "df2.to_numpy()"
      ],
      "execution_count": 14,
      "outputs": [
        {
          "output_type": "execute_result",
          "data": {
            "text/plain": [
              "array([[1.0, Timestamp('2013-01-02 00:00:00'), 1.0, 3, 'test', 'foo'],\n",
              "       [1.0, Timestamp('2013-01-02 00:00:00'), 1.0, 3, 'train', 'foo'],\n",
              "       [1.0, Timestamp('2013-01-02 00:00:00'), 1.0, 3, 'test', 'foo'],\n",
              "       [1.0, Timestamp('2013-01-02 00:00:00'), 1.0, 3, 'train', 'foo']],\n",
              "      dtype=object)"
            ]
          },
          "metadata": {
            "tags": []
          },
          "execution_count": 14
        }
      ]
    },
    {
      "cell_type": "markdown",
      "metadata": {
        "id": "NcnAybdKE93k"
      },
      "source": [
        "DataFrame.to_numpy()는 index와 columns를 포함하지 않습니다."
      ]
    },
    {
      "cell_type": "markdown",
      "metadata": {
        "id": "IzQJgkBPFL4g"
      },
      "source": [
        "Data를 T(transpose)합니다."
      ]
    },
    {
      "cell_type": "code",
      "metadata": {
        "colab": {
          "base_uri": "https://localhost:8080/",
          "height": 237
        },
        "id": "ZplehJKmFYG6",
        "outputId": "2c7ab205-9290-48c3-9c82-1e3360ad117e"
      },
      "source": [
        "df"
      ],
      "execution_count": 15,
      "outputs": [
        {
          "output_type": "execute_result",
          "data": {
            "text/html": [
              "<div>\n",
              "<style scoped>\n",
              "    .dataframe tbody tr th:only-of-type {\n",
              "        vertical-align: middle;\n",
              "    }\n",
              "\n",
              "    .dataframe tbody tr th {\n",
              "        vertical-align: top;\n",
              "    }\n",
              "\n",
              "    .dataframe thead th {\n",
              "        text-align: right;\n",
              "    }\n",
              "</style>\n",
              "<table border=\"1\" class=\"dataframe\">\n",
              "  <thead>\n",
              "    <tr style=\"text-align: right;\">\n",
              "      <th></th>\n",
              "      <th>A</th>\n",
              "      <th>B</th>\n",
              "      <th>C</th>\n",
              "      <th>D</th>\n",
              "    </tr>\n",
              "  </thead>\n",
              "  <tbody>\n",
              "    <tr>\n",
              "      <th>2013-01-01</th>\n",
              "      <td>2.260516</td>\n",
              "      <td>-1.736147</td>\n",
              "      <td>-0.828662</td>\n",
              "      <td>-0.209926</td>\n",
              "    </tr>\n",
              "    <tr>\n",
              "      <th>2013-01-02</th>\n",
              "      <td>0.221587</td>\n",
              "      <td>-0.589722</td>\n",
              "      <td>0.231308</td>\n",
              "      <td>0.362772</td>\n",
              "    </tr>\n",
              "    <tr>\n",
              "      <th>2013-01-03</th>\n",
              "      <td>-1.583195</td>\n",
              "      <td>0.712675</td>\n",
              "      <td>-1.585282</td>\n",
              "      <td>-1.454039</td>\n",
              "    </tr>\n",
              "    <tr>\n",
              "      <th>2013-01-04</th>\n",
              "      <td>0.131762</td>\n",
              "      <td>-0.060625</td>\n",
              "      <td>-0.272838</td>\n",
              "      <td>1.058352</td>\n",
              "    </tr>\n",
              "    <tr>\n",
              "      <th>2013-01-05</th>\n",
              "      <td>-0.348674</td>\n",
              "      <td>-0.175192</td>\n",
              "      <td>0.506863</td>\n",
              "      <td>1.010490</td>\n",
              "    </tr>\n",
              "    <tr>\n",
              "      <th>2013-01-06</th>\n",
              "      <td>-0.239107</td>\n",
              "      <td>-0.359601</td>\n",
              "      <td>-0.549022</td>\n",
              "      <td>0.801406</td>\n",
              "    </tr>\n",
              "  </tbody>\n",
              "</table>\n",
              "</div>"
            ],
            "text/plain": [
              "                   A         B         C         D\n",
              "2013-01-01  2.260516 -1.736147 -0.828662 -0.209926\n",
              "2013-01-02  0.221587 -0.589722  0.231308  0.362772\n",
              "2013-01-03 -1.583195  0.712675 -1.585282 -1.454039\n",
              "2013-01-04  0.131762 -0.060625 -0.272838  1.058352\n",
              "2013-01-05 -0.348674 -0.175192  0.506863  1.010490\n",
              "2013-01-06 -0.239107 -0.359601 -0.549022  0.801406"
            ]
          },
          "metadata": {
            "tags": []
          },
          "execution_count": 15
        }
      ]
    },
    {
      "cell_type": "code",
      "metadata": {
        "colab": {
          "base_uri": "https://localhost:8080/",
          "height": 175
        },
        "id": "WCVY4vhYFVKG",
        "outputId": "a34845fb-f2c7-4842-c72a-21a6cc06eb87"
      },
      "source": [
        "df.T"
      ],
      "execution_count": 16,
      "outputs": [
        {
          "output_type": "execute_result",
          "data": {
            "text/html": [
              "<div>\n",
              "<style scoped>\n",
              "    .dataframe tbody tr th:only-of-type {\n",
              "        vertical-align: middle;\n",
              "    }\n",
              "\n",
              "    .dataframe tbody tr th {\n",
              "        vertical-align: top;\n",
              "    }\n",
              "\n",
              "    .dataframe thead th {\n",
              "        text-align: right;\n",
              "    }\n",
              "</style>\n",
              "<table border=\"1\" class=\"dataframe\">\n",
              "  <thead>\n",
              "    <tr style=\"text-align: right;\">\n",
              "      <th></th>\n",
              "      <th>2013-01-01</th>\n",
              "      <th>2013-01-02</th>\n",
              "      <th>2013-01-03</th>\n",
              "      <th>2013-01-04</th>\n",
              "      <th>2013-01-05</th>\n",
              "      <th>2013-01-06</th>\n",
              "    </tr>\n",
              "  </thead>\n",
              "  <tbody>\n",
              "    <tr>\n",
              "      <th>A</th>\n",
              "      <td>2.260516</td>\n",
              "      <td>0.221587</td>\n",
              "      <td>-1.583195</td>\n",
              "      <td>0.131762</td>\n",
              "      <td>-0.348674</td>\n",
              "      <td>-0.239107</td>\n",
              "    </tr>\n",
              "    <tr>\n",
              "      <th>B</th>\n",
              "      <td>-1.736147</td>\n",
              "      <td>-0.589722</td>\n",
              "      <td>0.712675</td>\n",
              "      <td>-0.060625</td>\n",
              "      <td>-0.175192</td>\n",
              "      <td>-0.359601</td>\n",
              "    </tr>\n",
              "    <tr>\n",
              "      <th>C</th>\n",
              "      <td>-0.828662</td>\n",
              "      <td>0.231308</td>\n",
              "      <td>-1.585282</td>\n",
              "      <td>-0.272838</td>\n",
              "      <td>0.506863</td>\n",
              "      <td>-0.549022</td>\n",
              "    </tr>\n",
              "    <tr>\n",
              "      <th>D</th>\n",
              "      <td>-0.209926</td>\n",
              "      <td>0.362772</td>\n",
              "      <td>-1.454039</td>\n",
              "      <td>1.058352</td>\n",
              "      <td>1.010490</td>\n",
              "      <td>0.801406</td>\n",
              "    </tr>\n",
              "  </tbody>\n",
              "</table>\n",
              "</div>"
            ],
            "text/plain": [
              "   2013-01-01  2013-01-02  2013-01-03  2013-01-04  2013-01-05  2013-01-06\n",
              "A    2.260516    0.221587   -1.583195    0.131762   -0.348674   -0.239107\n",
              "B   -1.736147   -0.589722    0.712675   -0.060625   -0.175192   -0.359601\n",
              "C   -0.828662    0.231308   -1.585282   -0.272838    0.506863   -0.549022\n",
              "D   -0.209926    0.362772   -1.454039    1.058352    1.010490    0.801406"
            ]
          },
          "metadata": {
            "tags": []
          },
          "execution_count": 16
        }
      ]
    },
    {
      "cell_type": "markdown",
      "metadata": {
        "id": "3g625yTgFW3V"
      },
      "source": [
        "axis=1(열)을 기준으로 정렬합니다."
      ]
    },
    {
      "cell_type": "code",
      "metadata": {
        "colab": {
          "base_uri": "https://localhost:8080/",
          "height": 237
        },
        "id": "SlJ4tOXnFmqc",
        "outputId": "eec916a6-d66e-45d6-90fc-746a7a8eb869"
      },
      "source": [
        "df"
      ],
      "execution_count": 17,
      "outputs": [
        {
          "output_type": "execute_result",
          "data": {
            "text/html": [
              "<div>\n",
              "<style scoped>\n",
              "    .dataframe tbody tr th:only-of-type {\n",
              "        vertical-align: middle;\n",
              "    }\n",
              "\n",
              "    .dataframe tbody tr th {\n",
              "        vertical-align: top;\n",
              "    }\n",
              "\n",
              "    .dataframe thead th {\n",
              "        text-align: right;\n",
              "    }\n",
              "</style>\n",
              "<table border=\"1\" class=\"dataframe\">\n",
              "  <thead>\n",
              "    <tr style=\"text-align: right;\">\n",
              "      <th></th>\n",
              "      <th>A</th>\n",
              "      <th>B</th>\n",
              "      <th>C</th>\n",
              "      <th>D</th>\n",
              "    </tr>\n",
              "  </thead>\n",
              "  <tbody>\n",
              "    <tr>\n",
              "      <th>2013-01-01</th>\n",
              "      <td>2.260516</td>\n",
              "      <td>-1.736147</td>\n",
              "      <td>-0.828662</td>\n",
              "      <td>-0.209926</td>\n",
              "    </tr>\n",
              "    <tr>\n",
              "      <th>2013-01-02</th>\n",
              "      <td>0.221587</td>\n",
              "      <td>-0.589722</td>\n",
              "      <td>0.231308</td>\n",
              "      <td>0.362772</td>\n",
              "    </tr>\n",
              "    <tr>\n",
              "      <th>2013-01-03</th>\n",
              "      <td>-1.583195</td>\n",
              "      <td>0.712675</td>\n",
              "      <td>-1.585282</td>\n",
              "      <td>-1.454039</td>\n",
              "    </tr>\n",
              "    <tr>\n",
              "      <th>2013-01-04</th>\n",
              "      <td>0.131762</td>\n",
              "      <td>-0.060625</td>\n",
              "      <td>-0.272838</td>\n",
              "      <td>1.058352</td>\n",
              "    </tr>\n",
              "    <tr>\n",
              "      <th>2013-01-05</th>\n",
              "      <td>-0.348674</td>\n",
              "      <td>-0.175192</td>\n",
              "      <td>0.506863</td>\n",
              "      <td>1.010490</td>\n",
              "    </tr>\n",
              "    <tr>\n",
              "      <th>2013-01-06</th>\n",
              "      <td>-0.239107</td>\n",
              "      <td>-0.359601</td>\n",
              "      <td>-0.549022</td>\n",
              "      <td>0.801406</td>\n",
              "    </tr>\n",
              "  </tbody>\n",
              "</table>\n",
              "</div>"
            ],
            "text/plain": [
              "                   A         B         C         D\n",
              "2013-01-01  2.260516 -1.736147 -0.828662 -0.209926\n",
              "2013-01-02  0.221587 -0.589722  0.231308  0.362772\n",
              "2013-01-03 -1.583195  0.712675 -1.585282 -1.454039\n",
              "2013-01-04  0.131762 -0.060625 -0.272838  1.058352\n",
              "2013-01-05 -0.348674 -0.175192  0.506863  1.010490\n",
              "2013-01-06 -0.239107 -0.359601 -0.549022  0.801406"
            ]
          },
          "metadata": {
            "tags": []
          },
          "execution_count": 17
        }
      ]
    },
    {
      "cell_type": "code",
      "metadata": {
        "colab": {
          "base_uri": "https://localhost:8080/",
          "height": 237
        },
        "id": "37nFMi94Fgfk",
        "outputId": "8f765617-1710-4c20-eb3e-1afbc20dcd64"
      },
      "source": [
        "df.sort_index(axis=1, ascending=False)"
      ],
      "execution_count": 18,
      "outputs": [
        {
          "output_type": "execute_result",
          "data": {
            "text/html": [
              "<div>\n",
              "<style scoped>\n",
              "    .dataframe tbody tr th:only-of-type {\n",
              "        vertical-align: middle;\n",
              "    }\n",
              "\n",
              "    .dataframe tbody tr th {\n",
              "        vertical-align: top;\n",
              "    }\n",
              "\n",
              "    .dataframe thead th {\n",
              "        text-align: right;\n",
              "    }\n",
              "</style>\n",
              "<table border=\"1\" class=\"dataframe\">\n",
              "  <thead>\n",
              "    <tr style=\"text-align: right;\">\n",
              "      <th></th>\n",
              "      <th>D</th>\n",
              "      <th>C</th>\n",
              "      <th>B</th>\n",
              "      <th>A</th>\n",
              "    </tr>\n",
              "  </thead>\n",
              "  <tbody>\n",
              "    <tr>\n",
              "      <th>2013-01-01</th>\n",
              "      <td>-0.209926</td>\n",
              "      <td>-0.828662</td>\n",
              "      <td>-1.736147</td>\n",
              "      <td>2.260516</td>\n",
              "    </tr>\n",
              "    <tr>\n",
              "      <th>2013-01-02</th>\n",
              "      <td>0.362772</td>\n",
              "      <td>0.231308</td>\n",
              "      <td>-0.589722</td>\n",
              "      <td>0.221587</td>\n",
              "    </tr>\n",
              "    <tr>\n",
              "      <th>2013-01-03</th>\n",
              "      <td>-1.454039</td>\n",
              "      <td>-1.585282</td>\n",
              "      <td>0.712675</td>\n",
              "      <td>-1.583195</td>\n",
              "    </tr>\n",
              "    <tr>\n",
              "      <th>2013-01-04</th>\n",
              "      <td>1.058352</td>\n",
              "      <td>-0.272838</td>\n",
              "      <td>-0.060625</td>\n",
              "      <td>0.131762</td>\n",
              "    </tr>\n",
              "    <tr>\n",
              "      <th>2013-01-05</th>\n",
              "      <td>1.010490</td>\n",
              "      <td>0.506863</td>\n",
              "      <td>-0.175192</td>\n",
              "      <td>-0.348674</td>\n",
              "    </tr>\n",
              "    <tr>\n",
              "      <th>2013-01-06</th>\n",
              "      <td>0.801406</td>\n",
              "      <td>-0.549022</td>\n",
              "      <td>-0.359601</td>\n",
              "      <td>-0.239107</td>\n",
              "    </tr>\n",
              "  </tbody>\n",
              "</table>\n",
              "</div>"
            ],
            "text/plain": [
              "                   D         C         B         A\n",
              "2013-01-01 -0.209926 -0.828662 -1.736147  2.260516\n",
              "2013-01-02  0.362772  0.231308 -0.589722  0.221587\n",
              "2013-01-03 -1.454039 -1.585282  0.712675 -1.583195\n",
              "2013-01-04  1.058352 -0.272838 -0.060625  0.131762\n",
              "2013-01-05  1.010490  0.506863 -0.175192 -0.348674\n",
              "2013-01-06  0.801406 -0.549022 -0.359601 -0.239107"
            ]
          },
          "metadata": {
            "tags": []
          },
          "execution_count": 18
        }
      ]
    },
    {
      "cell_type": "markdown",
      "metadata": {
        "id": "qbpQocBRFkN6"
      },
      "source": [
        "values를 기준으로 정렬합니다.\n",
        "\n",
        "기본적으로 오름차순이 적용됩니다. ascending = True "
      ]
    },
    {
      "cell_type": "code",
      "metadata": {
        "colab": {
          "base_uri": "https://localhost:8080/",
          "height": 237
        },
        "id": "7w7kMRIRFuM2",
        "outputId": "2327b985-8607-4b1d-aae3-d3ceb452d9b6"
      },
      "source": [
        "df.sort_values(by=\"B\")"
      ],
      "execution_count": 19,
      "outputs": [
        {
          "output_type": "execute_result",
          "data": {
            "text/html": [
              "<div>\n",
              "<style scoped>\n",
              "    .dataframe tbody tr th:only-of-type {\n",
              "        vertical-align: middle;\n",
              "    }\n",
              "\n",
              "    .dataframe tbody tr th {\n",
              "        vertical-align: top;\n",
              "    }\n",
              "\n",
              "    .dataframe thead th {\n",
              "        text-align: right;\n",
              "    }\n",
              "</style>\n",
              "<table border=\"1\" class=\"dataframe\">\n",
              "  <thead>\n",
              "    <tr style=\"text-align: right;\">\n",
              "      <th></th>\n",
              "      <th>A</th>\n",
              "      <th>B</th>\n",
              "      <th>C</th>\n",
              "      <th>D</th>\n",
              "    </tr>\n",
              "  </thead>\n",
              "  <tbody>\n",
              "    <tr>\n",
              "      <th>2013-01-01</th>\n",
              "      <td>2.260516</td>\n",
              "      <td>-1.736147</td>\n",
              "      <td>-0.828662</td>\n",
              "      <td>-0.209926</td>\n",
              "    </tr>\n",
              "    <tr>\n",
              "      <th>2013-01-02</th>\n",
              "      <td>0.221587</td>\n",
              "      <td>-0.589722</td>\n",
              "      <td>0.231308</td>\n",
              "      <td>0.362772</td>\n",
              "    </tr>\n",
              "    <tr>\n",
              "      <th>2013-01-06</th>\n",
              "      <td>-0.239107</td>\n",
              "      <td>-0.359601</td>\n",
              "      <td>-0.549022</td>\n",
              "      <td>0.801406</td>\n",
              "    </tr>\n",
              "    <tr>\n",
              "      <th>2013-01-05</th>\n",
              "      <td>-0.348674</td>\n",
              "      <td>-0.175192</td>\n",
              "      <td>0.506863</td>\n",
              "      <td>1.010490</td>\n",
              "    </tr>\n",
              "    <tr>\n",
              "      <th>2013-01-04</th>\n",
              "      <td>0.131762</td>\n",
              "      <td>-0.060625</td>\n",
              "      <td>-0.272838</td>\n",
              "      <td>1.058352</td>\n",
              "    </tr>\n",
              "    <tr>\n",
              "      <th>2013-01-03</th>\n",
              "      <td>-1.583195</td>\n",
              "      <td>0.712675</td>\n",
              "      <td>-1.585282</td>\n",
              "      <td>-1.454039</td>\n",
              "    </tr>\n",
              "  </tbody>\n",
              "</table>\n",
              "</div>"
            ],
            "text/plain": [
              "                   A         B         C         D\n",
              "2013-01-01  2.260516 -1.736147 -0.828662 -0.209926\n",
              "2013-01-02  0.221587 -0.589722  0.231308  0.362772\n",
              "2013-01-06 -0.239107 -0.359601 -0.549022  0.801406\n",
              "2013-01-05 -0.348674 -0.175192  0.506863  1.010490\n",
              "2013-01-04  0.131762 -0.060625 -0.272838  1.058352\n",
              "2013-01-03 -1.583195  0.712675 -1.585282 -1.454039"
            ]
          },
          "metadata": {
            "tags": []
          },
          "execution_count": 19
        }
      ]
    },
    {
      "cell_type": "markdown",
      "metadata": {
        "id": "pcJqOgM3SZe8"
      },
      "source": [
        "# 가져오기"
      ]
    },
    {
      "cell_type": "markdown",
      "metadata": {
        "id": "t9aUEM7tSkwE"
      },
      "source": [
        "single column을 선택하면 Series 가 생성이 됩니다.\n",
        "\n",
        "df.A와 기능이 동등합니다."
      ]
    },
    {
      "cell_type": "code",
      "metadata": {
        "colab": {
          "base_uri": "https://localhost:8080/"
        },
        "id": "ZmSEp2dKS92g",
        "outputId": "e499299d-13e1-4fc2-c418-18a251876c1c"
      },
      "source": [
        "df[\"A\"]"
      ],
      "execution_count": 20,
      "outputs": [
        {
          "output_type": "execute_result",
          "data": {
            "text/plain": [
              "2013-01-01    2.260516\n",
              "2013-01-02    0.221587\n",
              "2013-01-03   -1.583195\n",
              "2013-01-04    0.131762\n",
              "2013-01-05   -0.348674\n",
              "2013-01-06   -0.239107\n",
              "Freq: D, Name: A, dtype: float64"
            ]
          },
          "metadata": {
            "tags": []
          },
          "execution_count": 20
        }
      ]
    },
    {
      "cell_type": "markdown",
      "metadata": {
        "id": "oo4oB5joS-uR"
      },
      "source": [
        "[]을 사용하면 행을 분할(슬라이싱) 합니다."
      ]
    },
    {
      "cell_type": "code",
      "metadata": {
        "colab": {
          "base_uri": "https://localhost:8080/",
          "height": 143
        },
        "id": "c-4744oRTMzY",
        "outputId": "274f96c4-88fb-478a-9992-c6e3593b376f"
      },
      "source": [
        "df[0:3]"
      ],
      "execution_count": 21,
      "outputs": [
        {
          "output_type": "execute_result",
          "data": {
            "text/html": [
              "<div>\n",
              "<style scoped>\n",
              "    .dataframe tbody tr th:only-of-type {\n",
              "        vertical-align: middle;\n",
              "    }\n",
              "\n",
              "    .dataframe tbody tr th {\n",
              "        vertical-align: top;\n",
              "    }\n",
              "\n",
              "    .dataframe thead th {\n",
              "        text-align: right;\n",
              "    }\n",
              "</style>\n",
              "<table border=\"1\" class=\"dataframe\">\n",
              "  <thead>\n",
              "    <tr style=\"text-align: right;\">\n",
              "      <th></th>\n",
              "      <th>A</th>\n",
              "      <th>B</th>\n",
              "      <th>C</th>\n",
              "      <th>D</th>\n",
              "    </tr>\n",
              "  </thead>\n",
              "  <tbody>\n",
              "    <tr>\n",
              "      <th>2013-01-01</th>\n",
              "      <td>2.260516</td>\n",
              "      <td>-1.736147</td>\n",
              "      <td>-0.828662</td>\n",
              "      <td>-0.209926</td>\n",
              "    </tr>\n",
              "    <tr>\n",
              "      <th>2013-01-02</th>\n",
              "      <td>0.221587</td>\n",
              "      <td>-0.589722</td>\n",
              "      <td>0.231308</td>\n",
              "      <td>0.362772</td>\n",
              "    </tr>\n",
              "    <tr>\n",
              "      <th>2013-01-03</th>\n",
              "      <td>-1.583195</td>\n",
              "      <td>0.712675</td>\n",
              "      <td>-1.585282</td>\n",
              "      <td>-1.454039</td>\n",
              "    </tr>\n",
              "  </tbody>\n",
              "</table>\n",
              "</div>"
            ],
            "text/plain": [
              "                   A         B         C         D\n",
              "2013-01-01  2.260516 -1.736147 -0.828662 -0.209926\n",
              "2013-01-02  0.221587 -0.589722  0.231308  0.362772\n",
              "2013-01-03 -1.583195  0.712675 -1.585282 -1.454039"
            ]
          },
          "metadata": {
            "tags": []
          },
          "execution_count": 21
        }
      ]
    },
    {
      "cell_type": "code",
      "metadata": {
        "colab": {
          "base_uri": "https://localhost:8080/",
          "height": 143
        },
        "id": "BknuO9lBTOPQ",
        "outputId": "d00461e9-1add-46c1-a9f4-c344de672bcc"
      },
      "source": [
        "df[\"20130102\":\"20130104\"]"
      ],
      "execution_count": 22,
      "outputs": [
        {
          "output_type": "execute_result",
          "data": {
            "text/html": [
              "<div>\n",
              "<style scoped>\n",
              "    .dataframe tbody tr th:only-of-type {\n",
              "        vertical-align: middle;\n",
              "    }\n",
              "\n",
              "    .dataframe tbody tr th {\n",
              "        vertical-align: top;\n",
              "    }\n",
              "\n",
              "    .dataframe thead th {\n",
              "        text-align: right;\n",
              "    }\n",
              "</style>\n",
              "<table border=\"1\" class=\"dataframe\">\n",
              "  <thead>\n",
              "    <tr style=\"text-align: right;\">\n",
              "      <th></th>\n",
              "      <th>A</th>\n",
              "      <th>B</th>\n",
              "      <th>C</th>\n",
              "      <th>D</th>\n",
              "    </tr>\n",
              "  </thead>\n",
              "  <tbody>\n",
              "    <tr>\n",
              "      <th>2013-01-02</th>\n",
              "      <td>0.221587</td>\n",
              "      <td>-0.589722</td>\n",
              "      <td>0.231308</td>\n",
              "      <td>0.362772</td>\n",
              "    </tr>\n",
              "    <tr>\n",
              "      <th>2013-01-03</th>\n",
              "      <td>-1.583195</td>\n",
              "      <td>0.712675</td>\n",
              "      <td>-1.585282</td>\n",
              "      <td>-1.454039</td>\n",
              "    </tr>\n",
              "    <tr>\n",
              "      <th>2013-01-04</th>\n",
              "      <td>0.131762</td>\n",
              "      <td>-0.060625</td>\n",
              "      <td>-0.272838</td>\n",
              "      <td>1.058352</td>\n",
              "    </tr>\n",
              "  </tbody>\n",
              "</table>\n",
              "</div>"
            ],
            "text/plain": [
              "                   A         B         C         D\n",
              "2013-01-02  0.221587 -0.589722  0.231308  0.362772\n",
              "2013-01-03 -1.583195  0.712675 -1.585282 -1.454039\n",
              "2013-01-04  0.131762 -0.060625 -0.272838  1.058352"
            ]
          },
          "metadata": {
            "tags": []
          },
          "execution_count": 22
        }
      ]
    },
    {
      "cell_type": "markdown",
      "metadata": {
        "id": "6N6gvzinTSVG"
      },
      "source": [
        "# 레이블별 선택"
      ]
    },
    {
      "cell_type": "markdown",
      "metadata": {
        "id": "Tt7gjsYXTe9R"
      },
      "source": [
        "레이블을 사용하여 가져오기"
      ]
    },
    {
      "cell_type": "code",
      "metadata": {
        "colab": {
          "base_uri": "https://localhost:8080/"
        },
        "id": "CfIVV_NuTnyg",
        "outputId": "2f936787-99fa-47a3-f8f2-b4f2f03a3dd9"
      },
      "source": [
        "df.loc[dates[0]]"
      ],
      "execution_count": 23,
      "outputs": [
        {
          "output_type": "execute_result",
          "data": {
            "text/plain": [
              "A    2.260516\n",
              "B   -1.736147\n",
              "C   -0.828662\n",
              "D   -0.209926\n",
              "Name: 2013-01-01 00:00:00, dtype: float64"
            ]
          },
          "metadata": {
            "tags": []
          },
          "execution_count": 23
        }
      ]
    },
    {
      "cell_type": "markdown",
      "metadata": {
        "id": "bT0x0_EGTpCk"
      },
      "source": [
        "컬럼을 다중으로 선택하여 가져오기"
      ]
    },
    {
      "cell_type": "code",
      "metadata": {
        "colab": {
          "base_uri": "https://localhost:8080/",
          "height": 237
        },
        "id": "KDkcryxkT2_T",
        "outputId": "389d7e6f-e257-419b-915e-eaad7504dd20"
      },
      "source": [
        "df.loc[:, [\"A\", \"B\"]]"
      ],
      "execution_count": 24,
      "outputs": [
        {
          "output_type": "execute_result",
          "data": {
            "text/html": [
              "<div>\n",
              "<style scoped>\n",
              "    .dataframe tbody tr th:only-of-type {\n",
              "        vertical-align: middle;\n",
              "    }\n",
              "\n",
              "    .dataframe tbody tr th {\n",
              "        vertical-align: top;\n",
              "    }\n",
              "\n",
              "    .dataframe thead th {\n",
              "        text-align: right;\n",
              "    }\n",
              "</style>\n",
              "<table border=\"1\" class=\"dataframe\">\n",
              "  <thead>\n",
              "    <tr style=\"text-align: right;\">\n",
              "      <th></th>\n",
              "      <th>A</th>\n",
              "      <th>B</th>\n",
              "    </tr>\n",
              "  </thead>\n",
              "  <tbody>\n",
              "    <tr>\n",
              "      <th>2013-01-01</th>\n",
              "      <td>2.260516</td>\n",
              "      <td>-1.736147</td>\n",
              "    </tr>\n",
              "    <tr>\n",
              "      <th>2013-01-02</th>\n",
              "      <td>0.221587</td>\n",
              "      <td>-0.589722</td>\n",
              "    </tr>\n",
              "    <tr>\n",
              "      <th>2013-01-03</th>\n",
              "      <td>-1.583195</td>\n",
              "      <td>0.712675</td>\n",
              "    </tr>\n",
              "    <tr>\n",
              "      <th>2013-01-04</th>\n",
              "      <td>0.131762</td>\n",
              "      <td>-0.060625</td>\n",
              "    </tr>\n",
              "    <tr>\n",
              "      <th>2013-01-05</th>\n",
              "      <td>-0.348674</td>\n",
              "      <td>-0.175192</td>\n",
              "    </tr>\n",
              "    <tr>\n",
              "      <th>2013-01-06</th>\n",
              "      <td>-0.239107</td>\n",
              "      <td>-0.359601</td>\n",
              "    </tr>\n",
              "  </tbody>\n",
              "</table>\n",
              "</div>"
            ],
            "text/plain": [
              "                   A         B\n",
              "2013-01-01  2.260516 -1.736147\n",
              "2013-01-02  0.221587 -0.589722\n",
              "2013-01-03 -1.583195  0.712675\n",
              "2013-01-04  0.131762 -0.060625\n",
              "2013-01-05 -0.348674 -0.175192\n",
              "2013-01-06 -0.239107 -0.359601"
            ]
          },
          "metadata": {
            "tags": []
          },
          "execution_count": 24
        }
      ]
    },
    {
      "cell_type": "markdown",
      "metadata": {
        "id": "K6Vt032_T5yz"
      },
      "source": [
        "종료지점을 포함한 슬라이싱"
      ]
    },
    {
      "cell_type": "code",
      "metadata": {
        "colab": {
          "base_uri": "https://localhost:8080/",
          "height": 143
        },
        "id": "1yXVywS6UDzY",
        "outputId": "8da7bd3a-e7f3-4f7e-cc36-c068f3e64f26"
      },
      "source": [
        "df.loc[\"20130102\" : \"20130104\", [\"A\",\"B\"]]"
      ],
      "execution_count": 25,
      "outputs": [
        {
          "output_type": "execute_result",
          "data": {
            "text/html": [
              "<div>\n",
              "<style scoped>\n",
              "    .dataframe tbody tr th:only-of-type {\n",
              "        vertical-align: middle;\n",
              "    }\n",
              "\n",
              "    .dataframe tbody tr th {\n",
              "        vertical-align: top;\n",
              "    }\n",
              "\n",
              "    .dataframe thead th {\n",
              "        text-align: right;\n",
              "    }\n",
              "</style>\n",
              "<table border=\"1\" class=\"dataframe\">\n",
              "  <thead>\n",
              "    <tr style=\"text-align: right;\">\n",
              "      <th></th>\n",
              "      <th>A</th>\n",
              "      <th>B</th>\n",
              "    </tr>\n",
              "  </thead>\n",
              "  <tbody>\n",
              "    <tr>\n",
              "      <th>2013-01-02</th>\n",
              "      <td>0.221587</td>\n",
              "      <td>-0.589722</td>\n",
              "    </tr>\n",
              "    <tr>\n",
              "      <th>2013-01-03</th>\n",
              "      <td>-1.583195</td>\n",
              "      <td>0.712675</td>\n",
              "    </tr>\n",
              "    <tr>\n",
              "      <th>2013-01-04</th>\n",
              "      <td>0.131762</td>\n",
              "      <td>-0.060625</td>\n",
              "    </tr>\n",
              "  </tbody>\n",
              "</table>\n",
              "</div>"
            ],
            "text/plain": [
              "                   A         B\n",
              "2013-01-02  0.221587 -0.589722\n",
              "2013-01-03 -1.583195  0.712675\n",
              "2013-01-04  0.131762 -0.060625"
            ]
          },
          "metadata": {
            "tags": []
          },
          "execution_count": 25
        }
      ]
    },
    {
      "cell_type": "markdown",
      "metadata": {
        "id": "7LuZbaMSUTx3"
      },
      "source": [
        "객체가 반환하는 차원이 감소합니다."
      ]
    },
    {
      "cell_type": "code",
      "metadata": {
        "colab": {
          "base_uri": "https://localhost:8080/"
        },
        "id": "AWJKW0uLUHpY",
        "outputId": "f43f406d-c678-4410-e5a3-8239feaa05b6"
      },
      "source": [
        "df.loc[\"20130102\", [\"A\",\"B\"]]"
      ],
      "execution_count": 26,
      "outputs": [
        {
          "output_type": "execute_result",
          "data": {
            "text/plain": [
              "A    0.221587\n",
              "B   -0.589722\n",
              "Name: 2013-01-02 00:00:00, dtype: float64"
            ]
          },
          "metadata": {
            "tags": []
          },
          "execution_count": 26
        }
      ]
    },
    {
      "cell_type": "markdown",
      "metadata": {
        "id": "Y1lEwei4UQ87"
      },
      "source": [
        "scalar 값을 가져옵니다"
      ]
    },
    {
      "cell_type": "code",
      "metadata": {
        "colab": {
          "base_uri": "https://localhost:8080/"
        },
        "id": "1YQIvMpdUaEE",
        "outputId": "bfeb6413-0702-4477-e2e7-2c49d712c153"
      },
      "source": [
        "df.loc[dates[0], \"A\"]"
      ],
      "execution_count": 27,
      "outputs": [
        {
          "output_type": "execute_result",
          "data": {
            "text/plain": [
              "2.2605160225981367"
            ]
          },
          "metadata": {
            "tags": []
          },
          "execution_count": 27
        }
      ]
    },
    {
      "cell_type": "markdown",
      "metadata": {
        "id": "ZCtA9AcEUdVE"
      },
      "source": [
        "scalar에 빠르게 엑세스하여 가져오는 방법입니다."
      ]
    },
    {
      "cell_type": "code",
      "metadata": {
        "colab": {
          "base_uri": "https://localhost:8080/"
        },
        "id": "mQdU6hpyUoH4",
        "outputId": "05dfc3a2-4b5f-4797-8e4c-daa6bd80d0ec"
      },
      "source": [
        "# df.at[\"20130101\",\"A\"]\n",
        "df.at[dates[0],\"A\"]"
      ],
      "execution_count": 28,
      "outputs": [
        {
          "output_type": "execute_result",
          "data": {
            "text/plain": [
              "2.2605160225981367"
            ]
          },
          "metadata": {
            "tags": []
          },
          "execution_count": 28
        }
      ]
    },
    {
      "cell_type": "markdown",
      "metadata": {
        "id": "tck16pWdUp2E"
      },
      "source": [
        "# 위치(position)별로 선택"
      ]
    },
    {
      "cell_type": "markdown",
      "metadata": {
        "id": "125XTh123r9u"
      },
      "source": [
        "전달된 정수(integers)의 위치를 통해 다음을 선택\n"
      ]
    },
    {
      "cell_type": "code",
      "metadata": {
        "colab": {
          "base_uri": "https://localhost:8080/"
        },
        "id": "U1m1qi1t4PXj",
        "outputId": "13068170-cba1-4fec-f12c-a513c323d358"
      },
      "source": [
        "df.iloc[3]"
      ],
      "execution_count": 29,
      "outputs": [
        {
          "output_type": "execute_result",
          "data": {
            "text/plain": [
              "A    0.131762\n",
              "B   -0.060625\n",
              "C   -0.272838\n",
              "D    1.058352\n",
              "Name: 2013-01-04 00:00:00, dtype: float64"
            ]
          },
          "metadata": {
            "tags": []
          },
          "execution_count": 29
        }
      ]
    },
    {
      "cell_type": "markdown",
      "metadata": {
        "id": "j2cWlsJ74ce4"
      },
      "source": [
        "슬라이싱을 통해 Numpy/Python과 유사하게 작동합니다."
      ]
    },
    {
      "cell_type": "code",
      "metadata": {
        "colab": {
          "base_uri": "https://localhost:8080/",
          "height": 112
        },
        "id": "TRaHBSvb4QhU",
        "outputId": "17e3da9e-1cfc-47d0-beda-7fd1dcfef68d"
      },
      "source": [
        "df.iloc[3:5, 0:2]"
      ],
      "execution_count": 30,
      "outputs": [
        {
          "output_type": "execute_result",
          "data": {
            "text/html": [
              "<div>\n",
              "<style scoped>\n",
              "    .dataframe tbody tr th:only-of-type {\n",
              "        vertical-align: middle;\n",
              "    }\n",
              "\n",
              "    .dataframe tbody tr th {\n",
              "        vertical-align: top;\n",
              "    }\n",
              "\n",
              "    .dataframe thead th {\n",
              "        text-align: right;\n",
              "    }\n",
              "</style>\n",
              "<table border=\"1\" class=\"dataframe\">\n",
              "  <thead>\n",
              "    <tr style=\"text-align: right;\">\n",
              "      <th></th>\n",
              "      <th>A</th>\n",
              "      <th>B</th>\n",
              "    </tr>\n",
              "  </thead>\n",
              "  <tbody>\n",
              "    <tr>\n",
              "      <th>2013-01-04</th>\n",
              "      <td>0.131762</td>\n",
              "      <td>-0.060625</td>\n",
              "    </tr>\n",
              "    <tr>\n",
              "      <th>2013-01-05</th>\n",
              "      <td>-0.348674</td>\n",
              "      <td>-0.175192</td>\n",
              "    </tr>\n",
              "  </tbody>\n",
              "</table>\n",
              "</div>"
            ],
            "text/plain": [
              "                   A         B\n",
              "2013-01-04  0.131762 -0.060625\n",
              "2013-01-05 -0.348674 -0.175192"
            ]
          },
          "metadata": {
            "tags": []
          },
          "execution_count": 30
        }
      ]
    },
    {
      "cell_type": "markdown",
      "metadata": {
        "id": "cCrSph7c4kA6"
      },
      "source": [
        "정수 리스트를 통해 표현"
      ]
    },
    {
      "cell_type": "code",
      "metadata": {
        "colab": {
          "base_uri": "https://localhost:8080/",
          "height": 143
        },
        "id": "B62OfjMU42ok",
        "outputId": "158c7dc8-52a5-489a-d73f-974f62124c52"
      },
      "source": [
        "df.iloc[[1,2,4],[0,2]]\n"
      ],
      "execution_count": 31,
      "outputs": [
        {
          "output_type": "execute_result",
          "data": {
            "text/html": [
              "<div>\n",
              "<style scoped>\n",
              "    .dataframe tbody tr th:only-of-type {\n",
              "        vertical-align: middle;\n",
              "    }\n",
              "\n",
              "    .dataframe tbody tr th {\n",
              "        vertical-align: top;\n",
              "    }\n",
              "\n",
              "    .dataframe thead th {\n",
              "        text-align: right;\n",
              "    }\n",
              "</style>\n",
              "<table border=\"1\" class=\"dataframe\">\n",
              "  <thead>\n",
              "    <tr style=\"text-align: right;\">\n",
              "      <th></th>\n",
              "      <th>A</th>\n",
              "      <th>C</th>\n",
              "    </tr>\n",
              "  </thead>\n",
              "  <tbody>\n",
              "    <tr>\n",
              "      <th>2013-01-02</th>\n",
              "      <td>0.221587</td>\n",
              "      <td>0.231308</td>\n",
              "    </tr>\n",
              "    <tr>\n",
              "      <th>2013-01-03</th>\n",
              "      <td>-1.583195</td>\n",
              "      <td>-1.585282</td>\n",
              "    </tr>\n",
              "    <tr>\n",
              "      <th>2013-01-05</th>\n",
              "      <td>-0.348674</td>\n",
              "      <td>0.506863</td>\n",
              "    </tr>\n",
              "  </tbody>\n",
              "</table>\n",
              "</div>"
            ],
            "text/plain": [
              "                   A         C\n",
              "2013-01-02  0.221587  0.231308\n",
              "2013-01-03 -1.583195 -1.585282\n",
              "2013-01-05 -0.348674  0.506863"
            ]
          },
          "metadata": {
            "tags": []
          },
          "execution_count": 31
        }
      ]
    },
    {
      "cell_type": "markdown",
      "metadata": {
        "id": "5nmHF4Gx48AH"
      },
      "source": [
        "row(행)만 슬라이싱을 합니다."
      ]
    },
    {
      "cell_type": "code",
      "metadata": {
        "colab": {
          "base_uri": "https://localhost:8080/",
          "height": 112
        },
        "id": "LaKmst7R46QM",
        "outputId": "d63a315c-345c-4ede-9e94-8ea3155e84e4"
      },
      "source": [
        "df.iloc[1:3, :]"
      ],
      "execution_count": 32,
      "outputs": [
        {
          "output_type": "execute_result",
          "data": {
            "text/html": [
              "<div>\n",
              "<style scoped>\n",
              "    .dataframe tbody tr th:only-of-type {\n",
              "        vertical-align: middle;\n",
              "    }\n",
              "\n",
              "    .dataframe tbody tr th {\n",
              "        vertical-align: top;\n",
              "    }\n",
              "\n",
              "    .dataframe thead th {\n",
              "        text-align: right;\n",
              "    }\n",
              "</style>\n",
              "<table border=\"1\" class=\"dataframe\">\n",
              "  <thead>\n",
              "    <tr style=\"text-align: right;\">\n",
              "      <th></th>\n",
              "      <th>A</th>\n",
              "      <th>B</th>\n",
              "      <th>C</th>\n",
              "      <th>D</th>\n",
              "    </tr>\n",
              "  </thead>\n",
              "  <tbody>\n",
              "    <tr>\n",
              "      <th>2013-01-02</th>\n",
              "      <td>0.221587</td>\n",
              "      <td>-0.589722</td>\n",
              "      <td>0.231308</td>\n",
              "      <td>0.362772</td>\n",
              "    </tr>\n",
              "    <tr>\n",
              "      <th>2013-01-03</th>\n",
              "      <td>-1.583195</td>\n",
              "      <td>0.712675</td>\n",
              "      <td>-1.585282</td>\n",
              "      <td>-1.454039</td>\n",
              "    </tr>\n",
              "  </tbody>\n",
              "</table>\n",
              "</div>"
            ],
            "text/plain": [
              "                   A         B         C         D\n",
              "2013-01-02  0.221587 -0.589722  0.231308  0.362772\n",
              "2013-01-03 -1.583195  0.712675 -1.585282 -1.454039"
            ]
          },
          "metadata": {
            "tags": []
          },
          "execution_count": 32
        }
      ]
    },
    {
      "cell_type": "markdown",
      "metadata": {
        "id": "2CqPzUc95AuZ"
      },
      "source": [
        "columns(열)만 슬라이싱 합니다."
      ]
    },
    {
      "cell_type": "code",
      "metadata": {
        "colab": {
          "base_uri": "https://localhost:8080/",
          "height": 237
        },
        "id": "81A5dEsT5Fjw",
        "outputId": "e542ce1c-a8ba-4d73-ef2e-f531dcf24e37"
      },
      "source": [
        "df.iloc[:, 1:3]"
      ],
      "execution_count": 33,
      "outputs": [
        {
          "output_type": "execute_result",
          "data": {
            "text/html": [
              "<div>\n",
              "<style scoped>\n",
              "    .dataframe tbody tr th:only-of-type {\n",
              "        vertical-align: middle;\n",
              "    }\n",
              "\n",
              "    .dataframe tbody tr th {\n",
              "        vertical-align: top;\n",
              "    }\n",
              "\n",
              "    .dataframe thead th {\n",
              "        text-align: right;\n",
              "    }\n",
              "</style>\n",
              "<table border=\"1\" class=\"dataframe\">\n",
              "  <thead>\n",
              "    <tr style=\"text-align: right;\">\n",
              "      <th></th>\n",
              "      <th>B</th>\n",
              "      <th>C</th>\n",
              "    </tr>\n",
              "  </thead>\n",
              "  <tbody>\n",
              "    <tr>\n",
              "      <th>2013-01-01</th>\n",
              "      <td>-1.736147</td>\n",
              "      <td>-0.828662</td>\n",
              "    </tr>\n",
              "    <tr>\n",
              "      <th>2013-01-02</th>\n",
              "      <td>-0.589722</td>\n",
              "      <td>0.231308</td>\n",
              "    </tr>\n",
              "    <tr>\n",
              "      <th>2013-01-03</th>\n",
              "      <td>0.712675</td>\n",
              "      <td>-1.585282</td>\n",
              "    </tr>\n",
              "    <tr>\n",
              "      <th>2013-01-04</th>\n",
              "      <td>-0.060625</td>\n",
              "      <td>-0.272838</td>\n",
              "    </tr>\n",
              "    <tr>\n",
              "      <th>2013-01-05</th>\n",
              "      <td>-0.175192</td>\n",
              "      <td>0.506863</td>\n",
              "    </tr>\n",
              "    <tr>\n",
              "      <th>2013-01-06</th>\n",
              "      <td>-0.359601</td>\n",
              "      <td>-0.549022</td>\n",
              "    </tr>\n",
              "  </tbody>\n",
              "</table>\n",
              "</div>"
            ],
            "text/plain": [
              "                   B         C\n",
              "2013-01-01 -1.736147 -0.828662\n",
              "2013-01-02 -0.589722  0.231308\n",
              "2013-01-03  0.712675 -1.585282\n",
              "2013-01-04 -0.060625 -0.272838\n",
              "2013-01-05 -0.175192  0.506863\n",
              "2013-01-06 -0.359601 -0.549022"
            ]
          },
          "metadata": {
            "tags": []
          },
          "execution_count": 33
        }
      ]
    },
    {
      "cell_type": "markdown",
      "metadata": {
        "id": "sEgHTk0O5G2V"
      },
      "source": [
        "value(값)로 가져옵니다."
      ]
    },
    {
      "cell_type": "code",
      "metadata": {
        "colab": {
          "base_uri": "https://localhost:8080/"
        },
        "id": "IbcyjwKW5OmQ",
        "outputId": "6f9e5938-a552-4d06-ecd5-da2b485f1995"
      },
      "source": [
        "df.iloc[1,1]"
      ],
      "execution_count": 34,
      "outputs": [
        {
          "output_type": "execute_result",
          "data": {
            "text/plain": [
              "-0.58972200351146"
            ]
          },
          "metadata": {
            "tags": []
          },
          "execution_count": 34
        }
      ]
    },
    {
      "cell_type": "markdown",
      "metadata": {
        "id": "9AnVgVyX5PnN"
      },
      "source": [
        "scalar를 빠르게 엑세스하여 가져옵니다."
      ]
    },
    {
      "cell_type": "code",
      "metadata": {
        "colab": {
          "base_uri": "https://localhost:8080/"
        },
        "id": "cVHauL2Y5UWR",
        "outputId": "599f8eae-f749-44dc-df59-5b978cd5f170"
      },
      "source": [
        "df.iat[1,1]"
      ],
      "execution_count": 35,
      "outputs": [
        {
          "output_type": "execute_result",
          "data": {
            "text/plain": [
              "-0.58972200351146"
            ]
          },
          "metadata": {
            "tags": []
          },
          "execution_count": 35
        }
      ]
    },
    {
      "cell_type": "markdown",
      "metadata": {
        "id": "z6-ICp6f5VQE"
      },
      "source": [
        "#Boolean indexing"
      ]
    },
    {
      "cell_type": "markdown",
      "metadata": {
        "id": "b1mu9QQ65bYO"
      },
      "source": [
        "single column의 value를 통해 선택합니다."
      ]
    },
    {
      "cell_type": "code",
      "metadata": {
        "colab": {
          "base_uri": "https://localhost:8080/",
          "height": 143
        },
        "id": "b4EGfsS15ieO",
        "outputId": "7cf8b46b-6982-43fd-f5c1-f6deecaf0710"
      },
      "source": [
        "df[df[\"A\"]>0]"
      ],
      "execution_count": 36,
      "outputs": [
        {
          "output_type": "execute_result",
          "data": {
            "text/html": [
              "<div>\n",
              "<style scoped>\n",
              "    .dataframe tbody tr th:only-of-type {\n",
              "        vertical-align: middle;\n",
              "    }\n",
              "\n",
              "    .dataframe tbody tr th {\n",
              "        vertical-align: top;\n",
              "    }\n",
              "\n",
              "    .dataframe thead th {\n",
              "        text-align: right;\n",
              "    }\n",
              "</style>\n",
              "<table border=\"1\" class=\"dataframe\">\n",
              "  <thead>\n",
              "    <tr style=\"text-align: right;\">\n",
              "      <th></th>\n",
              "      <th>A</th>\n",
              "      <th>B</th>\n",
              "      <th>C</th>\n",
              "      <th>D</th>\n",
              "    </tr>\n",
              "  </thead>\n",
              "  <tbody>\n",
              "    <tr>\n",
              "      <th>2013-01-01</th>\n",
              "      <td>2.260516</td>\n",
              "      <td>-1.736147</td>\n",
              "      <td>-0.828662</td>\n",
              "      <td>-0.209926</td>\n",
              "    </tr>\n",
              "    <tr>\n",
              "      <th>2013-01-02</th>\n",
              "      <td>0.221587</td>\n",
              "      <td>-0.589722</td>\n",
              "      <td>0.231308</td>\n",
              "      <td>0.362772</td>\n",
              "    </tr>\n",
              "    <tr>\n",
              "      <th>2013-01-04</th>\n",
              "      <td>0.131762</td>\n",
              "      <td>-0.060625</td>\n",
              "      <td>-0.272838</td>\n",
              "      <td>1.058352</td>\n",
              "    </tr>\n",
              "  </tbody>\n",
              "</table>\n",
              "</div>"
            ],
            "text/plain": [
              "                   A         B         C         D\n",
              "2013-01-01  2.260516 -1.736147 -0.828662 -0.209926\n",
              "2013-01-02  0.221587 -0.589722  0.231308  0.362772\n",
              "2013-01-04  0.131762 -0.060625 -0.272838  1.058352"
            ]
          },
          "metadata": {
            "tags": []
          },
          "execution_count": 36
        }
      ]
    },
    {
      "cell_type": "code",
      "metadata": {
        "colab": {
          "base_uri": "https://localhost:8080/",
          "height": 237
        },
        "id": "25A7v5jn5yJF",
        "outputId": "ee16a67c-b144-4b0f-cd79-3fd034156745"
      },
      "source": [
        "df"
      ],
      "execution_count": 37,
      "outputs": [
        {
          "output_type": "execute_result",
          "data": {
            "text/html": [
              "<div>\n",
              "<style scoped>\n",
              "    .dataframe tbody tr th:only-of-type {\n",
              "        vertical-align: middle;\n",
              "    }\n",
              "\n",
              "    .dataframe tbody tr th {\n",
              "        vertical-align: top;\n",
              "    }\n",
              "\n",
              "    .dataframe thead th {\n",
              "        text-align: right;\n",
              "    }\n",
              "</style>\n",
              "<table border=\"1\" class=\"dataframe\">\n",
              "  <thead>\n",
              "    <tr style=\"text-align: right;\">\n",
              "      <th></th>\n",
              "      <th>A</th>\n",
              "      <th>B</th>\n",
              "      <th>C</th>\n",
              "      <th>D</th>\n",
              "    </tr>\n",
              "  </thead>\n",
              "  <tbody>\n",
              "    <tr>\n",
              "      <th>2013-01-01</th>\n",
              "      <td>2.260516</td>\n",
              "      <td>-1.736147</td>\n",
              "      <td>-0.828662</td>\n",
              "      <td>-0.209926</td>\n",
              "    </tr>\n",
              "    <tr>\n",
              "      <th>2013-01-02</th>\n",
              "      <td>0.221587</td>\n",
              "      <td>-0.589722</td>\n",
              "      <td>0.231308</td>\n",
              "      <td>0.362772</td>\n",
              "    </tr>\n",
              "    <tr>\n",
              "      <th>2013-01-03</th>\n",
              "      <td>-1.583195</td>\n",
              "      <td>0.712675</td>\n",
              "      <td>-1.585282</td>\n",
              "      <td>-1.454039</td>\n",
              "    </tr>\n",
              "    <tr>\n",
              "      <th>2013-01-04</th>\n",
              "      <td>0.131762</td>\n",
              "      <td>-0.060625</td>\n",
              "      <td>-0.272838</td>\n",
              "      <td>1.058352</td>\n",
              "    </tr>\n",
              "    <tr>\n",
              "      <th>2013-01-05</th>\n",
              "      <td>-0.348674</td>\n",
              "      <td>-0.175192</td>\n",
              "      <td>0.506863</td>\n",
              "      <td>1.010490</td>\n",
              "    </tr>\n",
              "    <tr>\n",
              "      <th>2013-01-06</th>\n",
              "      <td>-0.239107</td>\n",
              "      <td>-0.359601</td>\n",
              "      <td>-0.549022</td>\n",
              "      <td>0.801406</td>\n",
              "    </tr>\n",
              "  </tbody>\n",
              "</table>\n",
              "</div>"
            ],
            "text/plain": [
              "                   A         B         C         D\n",
              "2013-01-01  2.260516 -1.736147 -0.828662 -0.209926\n",
              "2013-01-02  0.221587 -0.589722  0.231308  0.362772\n",
              "2013-01-03 -1.583195  0.712675 -1.585282 -1.454039\n",
              "2013-01-04  0.131762 -0.060625 -0.272838  1.058352\n",
              "2013-01-05 -0.348674 -0.175192  0.506863  1.010490\n",
              "2013-01-06 -0.239107 -0.359601 -0.549022  0.801406"
            ]
          },
          "metadata": {
            "tags": []
          },
          "execution_count": 37
        }
      ]
    },
    {
      "cell_type": "code",
      "metadata": {
        "colab": {
          "base_uri": "https://localhost:8080/",
          "height": 237
        },
        "id": "NxJWrAzS5kBz",
        "outputId": "96480e1a-2c2d-46c8-ce34-9d06449fb746"
      },
      "source": [
        "df[df>0]"
      ],
      "execution_count": 38,
      "outputs": [
        {
          "output_type": "execute_result",
          "data": {
            "text/html": [
              "<div>\n",
              "<style scoped>\n",
              "    .dataframe tbody tr th:only-of-type {\n",
              "        vertical-align: middle;\n",
              "    }\n",
              "\n",
              "    .dataframe tbody tr th {\n",
              "        vertical-align: top;\n",
              "    }\n",
              "\n",
              "    .dataframe thead th {\n",
              "        text-align: right;\n",
              "    }\n",
              "</style>\n",
              "<table border=\"1\" class=\"dataframe\">\n",
              "  <thead>\n",
              "    <tr style=\"text-align: right;\">\n",
              "      <th></th>\n",
              "      <th>A</th>\n",
              "      <th>B</th>\n",
              "      <th>C</th>\n",
              "      <th>D</th>\n",
              "    </tr>\n",
              "  </thead>\n",
              "  <tbody>\n",
              "    <tr>\n",
              "      <th>2013-01-01</th>\n",
              "      <td>2.260516</td>\n",
              "      <td>NaN</td>\n",
              "      <td>NaN</td>\n",
              "      <td>NaN</td>\n",
              "    </tr>\n",
              "    <tr>\n",
              "      <th>2013-01-02</th>\n",
              "      <td>0.221587</td>\n",
              "      <td>NaN</td>\n",
              "      <td>0.231308</td>\n",
              "      <td>0.362772</td>\n",
              "    </tr>\n",
              "    <tr>\n",
              "      <th>2013-01-03</th>\n",
              "      <td>NaN</td>\n",
              "      <td>0.712675</td>\n",
              "      <td>NaN</td>\n",
              "      <td>NaN</td>\n",
              "    </tr>\n",
              "    <tr>\n",
              "      <th>2013-01-04</th>\n",
              "      <td>0.131762</td>\n",
              "      <td>NaN</td>\n",
              "      <td>NaN</td>\n",
              "      <td>1.058352</td>\n",
              "    </tr>\n",
              "    <tr>\n",
              "      <th>2013-01-05</th>\n",
              "      <td>NaN</td>\n",
              "      <td>NaN</td>\n",
              "      <td>0.506863</td>\n",
              "      <td>1.010490</td>\n",
              "    </tr>\n",
              "    <tr>\n",
              "      <th>2013-01-06</th>\n",
              "      <td>NaN</td>\n",
              "      <td>NaN</td>\n",
              "      <td>NaN</td>\n",
              "      <td>0.801406</td>\n",
              "    </tr>\n",
              "  </tbody>\n",
              "</table>\n",
              "</div>"
            ],
            "text/plain": [
              "                   A         B         C         D\n",
              "2013-01-01  2.260516       NaN       NaN       NaN\n",
              "2013-01-02  0.221587       NaN  0.231308  0.362772\n",
              "2013-01-03       NaN  0.712675       NaN       NaN\n",
              "2013-01-04  0.131762       NaN       NaN  1.058352\n",
              "2013-01-05       NaN       NaN  0.506863  1.010490\n",
              "2013-01-06       NaN       NaN       NaN  0.801406"
            ]
          },
          "metadata": {
            "tags": []
          },
          "execution_count": 38
        }
      ]
    },
    {
      "cell_type": "markdown",
      "metadata": {
        "id": "h1GDfwla51D_"
      },
      "source": [
        "isin() method를 통해 필터링"
      ]
    },
    {
      "cell_type": "code",
      "metadata": {
        "colab": {
          "base_uri": "https://localhost:8080/",
          "height": 237
        },
        "id": "NU-sJgA75wG6",
        "outputId": "1c01a4d3-15d6-48fb-cce8-40d41c73b032"
      },
      "source": [
        "df2 = df.copy()\n",
        "df2['E'] = [\"one\",\"one\",\"two\",\"three\",\"four\",\"three\"]\n",
        "df2"
      ],
      "execution_count": 39,
      "outputs": [
        {
          "output_type": "execute_result",
          "data": {
            "text/html": [
              "<div>\n",
              "<style scoped>\n",
              "    .dataframe tbody tr th:only-of-type {\n",
              "        vertical-align: middle;\n",
              "    }\n",
              "\n",
              "    .dataframe tbody tr th {\n",
              "        vertical-align: top;\n",
              "    }\n",
              "\n",
              "    .dataframe thead th {\n",
              "        text-align: right;\n",
              "    }\n",
              "</style>\n",
              "<table border=\"1\" class=\"dataframe\">\n",
              "  <thead>\n",
              "    <tr style=\"text-align: right;\">\n",
              "      <th></th>\n",
              "      <th>A</th>\n",
              "      <th>B</th>\n",
              "      <th>C</th>\n",
              "      <th>D</th>\n",
              "      <th>E</th>\n",
              "    </tr>\n",
              "  </thead>\n",
              "  <tbody>\n",
              "    <tr>\n",
              "      <th>2013-01-01</th>\n",
              "      <td>2.260516</td>\n",
              "      <td>-1.736147</td>\n",
              "      <td>-0.828662</td>\n",
              "      <td>-0.209926</td>\n",
              "      <td>one</td>\n",
              "    </tr>\n",
              "    <tr>\n",
              "      <th>2013-01-02</th>\n",
              "      <td>0.221587</td>\n",
              "      <td>-0.589722</td>\n",
              "      <td>0.231308</td>\n",
              "      <td>0.362772</td>\n",
              "      <td>one</td>\n",
              "    </tr>\n",
              "    <tr>\n",
              "      <th>2013-01-03</th>\n",
              "      <td>-1.583195</td>\n",
              "      <td>0.712675</td>\n",
              "      <td>-1.585282</td>\n",
              "      <td>-1.454039</td>\n",
              "      <td>two</td>\n",
              "    </tr>\n",
              "    <tr>\n",
              "      <th>2013-01-04</th>\n",
              "      <td>0.131762</td>\n",
              "      <td>-0.060625</td>\n",
              "      <td>-0.272838</td>\n",
              "      <td>1.058352</td>\n",
              "      <td>three</td>\n",
              "    </tr>\n",
              "    <tr>\n",
              "      <th>2013-01-05</th>\n",
              "      <td>-0.348674</td>\n",
              "      <td>-0.175192</td>\n",
              "      <td>0.506863</td>\n",
              "      <td>1.010490</td>\n",
              "      <td>four</td>\n",
              "    </tr>\n",
              "    <tr>\n",
              "      <th>2013-01-06</th>\n",
              "      <td>-0.239107</td>\n",
              "      <td>-0.359601</td>\n",
              "      <td>-0.549022</td>\n",
              "      <td>0.801406</td>\n",
              "      <td>three</td>\n",
              "    </tr>\n",
              "  </tbody>\n",
              "</table>\n",
              "</div>"
            ],
            "text/plain": [
              "                   A         B         C         D      E\n",
              "2013-01-01  2.260516 -1.736147 -0.828662 -0.209926    one\n",
              "2013-01-02  0.221587 -0.589722  0.231308  0.362772    one\n",
              "2013-01-03 -1.583195  0.712675 -1.585282 -1.454039    two\n",
              "2013-01-04  0.131762 -0.060625 -0.272838  1.058352  three\n",
              "2013-01-05 -0.348674 -0.175192  0.506863  1.010490   four\n",
              "2013-01-06 -0.239107 -0.359601 -0.549022  0.801406  three"
            ]
          },
          "metadata": {
            "tags": []
          },
          "execution_count": 39
        }
      ]
    },
    {
      "cell_type": "code",
      "metadata": {
        "colab": {
          "base_uri": "https://localhost:8080/",
          "height": 112
        },
        "id": "vTQt0FxY5_HG",
        "outputId": "14455054-f0fc-489c-edc3-bf3f41365e0d"
      },
      "source": [
        "df2[df2['E'].isin([\"two\",\"four\"])]"
      ],
      "execution_count": 40,
      "outputs": [
        {
          "output_type": "execute_result",
          "data": {
            "text/html": [
              "<div>\n",
              "<style scoped>\n",
              "    .dataframe tbody tr th:only-of-type {\n",
              "        vertical-align: middle;\n",
              "    }\n",
              "\n",
              "    .dataframe tbody tr th {\n",
              "        vertical-align: top;\n",
              "    }\n",
              "\n",
              "    .dataframe thead th {\n",
              "        text-align: right;\n",
              "    }\n",
              "</style>\n",
              "<table border=\"1\" class=\"dataframe\">\n",
              "  <thead>\n",
              "    <tr style=\"text-align: right;\">\n",
              "      <th></th>\n",
              "      <th>A</th>\n",
              "      <th>B</th>\n",
              "      <th>C</th>\n",
              "      <th>D</th>\n",
              "      <th>E</th>\n",
              "    </tr>\n",
              "  </thead>\n",
              "  <tbody>\n",
              "    <tr>\n",
              "      <th>2013-01-03</th>\n",
              "      <td>-1.583195</td>\n",
              "      <td>0.712675</td>\n",
              "      <td>-1.585282</td>\n",
              "      <td>-1.454039</td>\n",
              "      <td>two</td>\n",
              "    </tr>\n",
              "    <tr>\n",
              "      <th>2013-01-05</th>\n",
              "      <td>-0.348674</td>\n",
              "      <td>-0.175192</td>\n",
              "      <td>0.506863</td>\n",
              "      <td>1.010490</td>\n",
              "      <td>four</td>\n",
              "    </tr>\n",
              "  </tbody>\n",
              "</table>\n",
              "</div>"
            ],
            "text/plain": [
              "                   A         B         C         D     E\n",
              "2013-01-03 -1.583195  0.712675 -1.585282 -1.454039   two\n",
              "2013-01-05 -0.348674 -0.175192  0.506863  1.010490  four"
            ]
          },
          "metadata": {
            "tags": []
          },
          "execution_count": 40
        }
      ]
    },
    {
      "cell_type": "markdown",
      "metadata": {
        "id": "-6FJ9hzW6DF1"
      },
      "source": [
        "# Setting"
      ]
    },
    {
      "cell_type": "markdown",
      "metadata": {
        "id": "37A39qgQS3no"
      },
      "source": [
        "새로운 column을 설정하면 index별로 데이터가 자동으로 정렬됩니다."
      ]
    },
    {
      "cell_type": "code",
      "metadata": {
        "colab": {
          "base_uri": "https://localhost:8080/"
        },
        "id": "aujp-AgVTCzL",
        "outputId": "77700b35-c0b4-4136-cbfc-559f3a86d1e9"
      },
      "source": [
        "s1 = pd.Series([1,2,3,4,5,6], index=pd.date_range(\"20130102\", periods=6))\n",
        "s1"
      ],
      "execution_count": 41,
      "outputs": [
        {
          "output_type": "execute_result",
          "data": {
            "text/plain": [
              "2013-01-02    1\n",
              "2013-01-03    2\n",
              "2013-01-04    3\n",
              "2013-01-05    4\n",
              "2013-01-06    5\n",
              "2013-01-07    6\n",
              "Freq: D, dtype: int64"
            ]
          },
          "metadata": {
            "tags": []
          },
          "execution_count": 41
        }
      ]
    },
    {
      "cell_type": "code",
      "metadata": {
        "id": "9jdbFZb4TJ4W"
      },
      "source": [
        "df['F'] = s1"
      ],
      "execution_count": 42,
      "outputs": []
    },
    {
      "cell_type": "code",
      "metadata": {
        "colab": {
          "base_uri": "https://localhost:8080/",
          "height": 237
        },
        "id": "0sKI9syWTOnb",
        "outputId": "8a87393b-fe38-4b30-ee96-ce44fd8747e3"
      },
      "source": [
        "df"
      ],
      "execution_count": 43,
      "outputs": [
        {
          "output_type": "execute_result",
          "data": {
            "text/html": [
              "<div>\n",
              "<style scoped>\n",
              "    .dataframe tbody tr th:only-of-type {\n",
              "        vertical-align: middle;\n",
              "    }\n",
              "\n",
              "    .dataframe tbody tr th {\n",
              "        vertical-align: top;\n",
              "    }\n",
              "\n",
              "    .dataframe thead th {\n",
              "        text-align: right;\n",
              "    }\n",
              "</style>\n",
              "<table border=\"1\" class=\"dataframe\">\n",
              "  <thead>\n",
              "    <tr style=\"text-align: right;\">\n",
              "      <th></th>\n",
              "      <th>A</th>\n",
              "      <th>B</th>\n",
              "      <th>C</th>\n",
              "      <th>D</th>\n",
              "      <th>F</th>\n",
              "    </tr>\n",
              "  </thead>\n",
              "  <tbody>\n",
              "    <tr>\n",
              "      <th>2013-01-01</th>\n",
              "      <td>2.260516</td>\n",
              "      <td>-1.736147</td>\n",
              "      <td>-0.828662</td>\n",
              "      <td>-0.209926</td>\n",
              "      <td>NaN</td>\n",
              "    </tr>\n",
              "    <tr>\n",
              "      <th>2013-01-02</th>\n",
              "      <td>0.221587</td>\n",
              "      <td>-0.589722</td>\n",
              "      <td>0.231308</td>\n",
              "      <td>0.362772</td>\n",
              "      <td>1.0</td>\n",
              "    </tr>\n",
              "    <tr>\n",
              "      <th>2013-01-03</th>\n",
              "      <td>-1.583195</td>\n",
              "      <td>0.712675</td>\n",
              "      <td>-1.585282</td>\n",
              "      <td>-1.454039</td>\n",
              "      <td>2.0</td>\n",
              "    </tr>\n",
              "    <tr>\n",
              "      <th>2013-01-04</th>\n",
              "      <td>0.131762</td>\n",
              "      <td>-0.060625</td>\n",
              "      <td>-0.272838</td>\n",
              "      <td>1.058352</td>\n",
              "      <td>3.0</td>\n",
              "    </tr>\n",
              "    <tr>\n",
              "      <th>2013-01-05</th>\n",
              "      <td>-0.348674</td>\n",
              "      <td>-0.175192</td>\n",
              "      <td>0.506863</td>\n",
              "      <td>1.010490</td>\n",
              "      <td>4.0</td>\n",
              "    </tr>\n",
              "    <tr>\n",
              "      <th>2013-01-06</th>\n",
              "      <td>-0.239107</td>\n",
              "      <td>-0.359601</td>\n",
              "      <td>-0.549022</td>\n",
              "      <td>0.801406</td>\n",
              "      <td>5.0</td>\n",
              "    </tr>\n",
              "  </tbody>\n",
              "</table>\n",
              "</div>"
            ],
            "text/plain": [
              "                   A         B         C         D    F\n",
              "2013-01-01  2.260516 -1.736147 -0.828662 -0.209926  NaN\n",
              "2013-01-02  0.221587 -0.589722  0.231308  0.362772  1.0\n",
              "2013-01-03 -1.583195  0.712675 -1.585282 -1.454039  2.0\n",
              "2013-01-04  0.131762 -0.060625 -0.272838  1.058352  3.0\n",
              "2013-01-05 -0.348674 -0.175192  0.506863  1.010490  4.0\n",
              "2013-01-06 -0.239107 -0.359601 -0.549022  0.801406  5.0"
            ]
          },
          "metadata": {
            "tags": []
          },
          "execution_count": 43
        }
      ]
    },
    {
      "cell_type": "markdown",
      "metadata": {
        "id": "YcKq4AehTQ31"
      },
      "source": [
        "label 별로 value를 설정합니다."
      ]
    },
    {
      "cell_type": "code",
      "metadata": {
        "colab": {
          "base_uri": "https://localhost:8080/",
          "height": 237
        },
        "id": "nd98z549TVZs",
        "outputId": "9ca36795-27b3-4ab8-b8a3-1a801dd9fce1"
      },
      "source": [
        "df.at[dates[0], \"A\"] = 0\n",
        "df"
      ],
      "execution_count": 44,
      "outputs": [
        {
          "output_type": "execute_result",
          "data": {
            "text/html": [
              "<div>\n",
              "<style scoped>\n",
              "    .dataframe tbody tr th:only-of-type {\n",
              "        vertical-align: middle;\n",
              "    }\n",
              "\n",
              "    .dataframe tbody tr th {\n",
              "        vertical-align: top;\n",
              "    }\n",
              "\n",
              "    .dataframe thead th {\n",
              "        text-align: right;\n",
              "    }\n",
              "</style>\n",
              "<table border=\"1\" class=\"dataframe\">\n",
              "  <thead>\n",
              "    <tr style=\"text-align: right;\">\n",
              "      <th></th>\n",
              "      <th>A</th>\n",
              "      <th>B</th>\n",
              "      <th>C</th>\n",
              "      <th>D</th>\n",
              "      <th>F</th>\n",
              "    </tr>\n",
              "  </thead>\n",
              "  <tbody>\n",
              "    <tr>\n",
              "      <th>2013-01-01</th>\n",
              "      <td>0.000000</td>\n",
              "      <td>-1.736147</td>\n",
              "      <td>-0.828662</td>\n",
              "      <td>-0.209926</td>\n",
              "      <td>NaN</td>\n",
              "    </tr>\n",
              "    <tr>\n",
              "      <th>2013-01-02</th>\n",
              "      <td>0.221587</td>\n",
              "      <td>-0.589722</td>\n",
              "      <td>0.231308</td>\n",
              "      <td>0.362772</td>\n",
              "      <td>1.0</td>\n",
              "    </tr>\n",
              "    <tr>\n",
              "      <th>2013-01-03</th>\n",
              "      <td>-1.583195</td>\n",
              "      <td>0.712675</td>\n",
              "      <td>-1.585282</td>\n",
              "      <td>-1.454039</td>\n",
              "      <td>2.0</td>\n",
              "    </tr>\n",
              "    <tr>\n",
              "      <th>2013-01-04</th>\n",
              "      <td>0.131762</td>\n",
              "      <td>-0.060625</td>\n",
              "      <td>-0.272838</td>\n",
              "      <td>1.058352</td>\n",
              "      <td>3.0</td>\n",
              "    </tr>\n",
              "    <tr>\n",
              "      <th>2013-01-05</th>\n",
              "      <td>-0.348674</td>\n",
              "      <td>-0.175192</td>\n",
              "      <td>0.506863</td>\n",
              "      <td>1.010490</td>\n",
              "      <td>4.0</td>\n",
              "    </tr>\n",
              "    <tr>\n",
              "      <th>2013-01-06</th>\n",
              "      <td>-0.239107</td>\n",
              "      <td>-0.359601</td>\n",
              "      <td>-0.549022</td>\n",
              "      <td>0.801406</td>\n",
              "      <td>5.0</td>\n",
              "    </tr>\n",
              "  </tbody>\n",
              "</table>\n",
              "</div>"
            ],
            "text/plain": [
              "                   A         B         C         D    F\n",
              "2013-01-01  0.000000 -1.736147 -0.828662 -0.209926  NaN\n",
              "2013-01-02  0.221587 -0.589722  0.231308  0.362772  1.0\n",
              "2013-01-03 -1.583195  0.712675 -1.585282 -1.454039  2.0\n",
              "2013-01-04  0.131762 -0.060625 -0.272838  1.058352  3.0\n",
              "2013-01-05 -0.348674 -0.175192  0.506863  1.010490  4.0\n",
              "2013-01-06 -0.239107 -0.359601 -0.549022  0.801406  5.0"
            ]
          },
          "metadata": {
            "tags": []
          },
          "execution_count": 44
        }
      ]
    },
    {
      "cell_type": "markdown",
      "metadata": {
        "id": "Vtu3QHFNTb2w"
      },
      "source": [
        "position 별로 value를 설정합니다."
      ]
    },
    {
      "cell_type": "code",
      "metadata": {
        "colab": {
          "base_uri": "https://localhost:8080/",
          "height": 237
        },
        "id": "lrdvdkPZTcVR",
        "outputId": "e838758c-483e-4c7b-d98c-436993031015"
      },
      "source": [
        "df.iat[0,1] = 0\n",
        "df"
      ],
      "execution_count": 45,
      "outputs": [
        {
          "output_type": "execute_result",
          "data": {
            "text/html": [
              "<div>\n",
              "<style scoped>\n",
              "    .dataframe tbody tr th:only-of-type {\n",
              "        vertical-align: middle;\n",
              "    }\n",
              "\n",
              "    .dataframe tbody tr th {\n",
              "        vertical-align: top;\n",
              "    }\n",
              "\n",
              "    .dataframe thead th {\n",
              "        text-align: right;\n",
              "    }\n",
              "</style>\n",
              "<table border=\"1\" class=\"dataframe\">\n",
              "  <thead>\n",
              "    <tr style=\"text-align: right;\">\n",
              "      <th></th>\n",
              "      <th>A</th>\n",
              "      <th>B</th>\n",
              "      <th>C</th>\n",
              "      <th>D</th>\n",
              "      <th>F</th>\n",
              "    </tr>\n",
              "  </thead>\n",
              "  <tbody>\n",
              "    <tr>\n",
              "      <th>2013-01-01</th>\n",
              "      <td>0.000000</td>\n",
              "      <td>0.000000</td>\n",
              "      <td>-0.828662</td>\n",
              "      <td>-0.209926</td>\n",
              "      <td>NaN</td>\n",
              "    </tr>\n",
              "    <tr>\n",
              "      <th>2013-01-02</th>\n",
              "      <td>0.221587</td>\n",
              "      <td>-0.589722</td>\n",
              "      <td>0.231308</td>\n",
              "      <td>0.362772</td>\n",
              "      <td>1.0</td>\n",
              "    </tr>\n",
              "    <tr>\n",
              "      <th>2013-01-03</th>\n",
              "      <td>-1.583195</td>\n",
              "      <td>0.712675</td>\n",
              "      <td>-1.585282</td>\n",
              "      <td>-1.454039</td>\n",
              "      <td>2.0</td>\n",
              "    </tr>\n",
              "    <tr>\n",
              "      <th>2013-01-04</th>\n",
              "      <td>0.131762</td>\n",
              "      <td>-0.060625</td>\n",
              "      <td>-0.272838</td>\n",
              "      <td>1.058352</td>\n",
              "      <td>3.0</td>\n",
              "    </tr>\n",
              "    <tr>\n",
              "      <th>2013-01-05</th>\n",
              "      <td>-0.348674</td>\n",
              "      <td>-0.175192</td>\n",
              "      <td>0.506863</td>\n",
              "      <td>1.010490</td>\n",
              "      <td>4.0</td>\n",
              "    </tr>\n",
              "    <tr>\n",
              "      <th>2013-01-06</th>\n",
              "      <td>-0.239107</td>\n",
              "      <td>-0.359601</td>\n",
              "      <td>-0.549022</td>\n",
              "      <td>0.801406</td>\n",
              "      <td>5.0</td>\n",
              "    </tr>\n",
              "  </tbody>\n",
              "</table>\n",
              "</div>"
            ],
            "text/plain": [
              "                   A         B         C         D    F\n",
              "2013-01-01  0.000000  0.000000 -0.828662 -0.209926  NaN\n",
              "2013-01-02  0.221587 -0.589722  0.231308  0.362772  1.0\n",
              "2013-01-03 -1.583195  0.712675 -1.585282 -1.454039  2.0\n",
              "2013-01-04  0.131762 -0.060625 -0.272838  1.058352  3.0\n",
              "2013-01-05 -0.348674 -0.175192  0.506863  1.010490  4.0\n",
              "2013-01-06 -0.239107 -0.359601 -0.549022  0.801406  5.0"
            ]
          },
          "metadata": {
            "tags": []
          },
          "execution_count": 45
        }
      ]
    },
    {
      "cell_type": "markdown",
      "metadata": {
        "id": "sIPFNhgqTiID"
      },
      "source": [
        "NumPy array를 할당하여 설정합니다."
      ]
    },
    {
      "cell_type": "code",
      "metadata": {
        "colab": {
          "base_uri": "https://localhost:8080/",
          "height": 237
        },
        "id": "xUOd5mbNTwI-",
        "outputId": "a4298227-8993-4116-e31e-e1eba208044e"
      },
      "source": [
        "df.loc[:,\"D\"] = np.array([5] * len(df))\n",
        "df"
      ],
      "execution_count": 46,
      "outputs": [
        {
          "output_type": "execute_result",
          "data": {
            "text/html": [
              "<div>\n",
              "<style scoped>\n",
              "    .dataframe tbody tr th:only-of-type {\n",
              "        vertical-align: middle;\n",
              "    }\n",
              "\n",
              "    .dataframe tbody tr th {\n",
              "        vertical-align: top;\n",
              "    }\n",
              "\n",
              "    .dataframe thead th {\n",
              "        text-align: right;\n",
              "    }\n",
              "</style>\n",
              "<table border=\"1\" class=\"dataframe\">\n",
              "  <thead>\n",
              "    <tr style=\"text-align: right;\">\n",
              "      <th></th>\n",
              "      <th>A</th>\n",
              "      <th>B</th>\n",
              "      <th>C</th>\n",
              "      <th>D</th>\n",
              "      <th>F</th>\n",
              "    </tr>\n",
              "  </thead>\n",
              "  <tbody>\n",
              "    <tr>\n",
              "      <th>2013-01-01</th>\n",
              "      <td>0.000000</td>\n",
              "      <td>0.000000</td>\n",
              "      <td>-0.828662</td>\n",
              "      <td>5</td>\n",
              "      <td>NaN</td>\n",
              "    </tr>\n",
              "    <tr>\n",
              "      <th>2013-01-02</th>\n",
              "      <td>0.221587</td>\n",
              "      <td>-0.589722</td>\n",
              "      <td>0.231308</td>\n",
              "      <td>5</td>\n",
              "      <td>1.0</td>\n",
              "    </tr>\n",
              "    <tr>\n",
              "      <th>2013-01-03</th>\n",
              "      <td>-1.583195</td>\n",
              "      <td>0.712675</td>\n",
              "      <td>-1.585282</td>\n",
              "      <td>5</td>\n",
              "      <td>2.0</td>\n",
              "    </tr>\n",
              "    <tr>\n",
              "      <th>2013-01-04</th>\n",
              "      <td>0.131762</td>\n",
              "      <td>-0.060625</td>\n",
              "      <td>-0.272838</td>\n",
              "      <td>5</td>\n",
              "      <td>3.0</td>\n",
              "    </tr>\n",
              "    <tr>\n",
              "      <th>2013-01-05</th>\n",
              "      <td>-0.348674</td>\n",
              "      <td>-0.175192</td>\n",
              "      <td>0.506863</td>\n",
              "      <td>5</td>\n",
              "      <td>4.0</td>\n",
              "    </tr>\n",
              "    <tr>\n",
              "      <th>2013-01-06</th>\n",
              "      <td>-0.239107</td>\n",
              "      <td>-0.359601</td>\n",
              "      <td>-0.549022</td>\n",
              "      <td>5</td>\n",
              "      <td>5.0</td>\n",
              "    </tr>\n",
              "  </tbody>\n",
              "</table>\n",
              "</div>"
            ],
            "text/plain": [
              "                   A         B         C  D    F\n",
              "2013-01-01  0.000000  0.000000 -0.828662  5  NaN\n",
              "2013-01-02  0.221587 -0.589722  0.231308  5  1.0\n",
              "2013-01-03 -1.583195  0.712675 -1.585282  5  2.0\n",
              "2013-01-04  0.131762 -0.060625 -0.272838  5  3.0\n",
              "2013-01-05 -0.348674 -0.175192  0.506863  5  4.0\n",
              "2013-01-06 -0.239107 -0.359601 -0.549022  5  5.0"
            ]
          },
          "metadata": {
            "tags": []
          },
          "execution_count": 46
        }
      ]
    },
    {
      "cell_type": "code",
      "metadata": {
        "id": "Lzz7JudGTxdZ",
        "colab": {
          "base_uri": "https://localhost:8080/",
          "height": 237
        },
        "outputId": "8158a57b-fd2c-42aa-bc2e-009589c5d3c1"
      },
      "source": [
        "df2 = df.copy()\n",
        "df2[df2 > 0] = -df2\n",
        "df2"
      ],
      "execution_count": 47,
      "outputs": [
        {
          "output_type": "execute_result",
          "data": {
            "text/html": [
              "<div>\n",
              "<style scoped>\n",
              "    .dataframe tbody tr th:only-of-type {\n",
              "        vertical-align: middle;\n",
              "    }\n",
              "\n",
              "    .dataframe tbody tr th {\n",
              "        vertical-align: top;\n",
              "    }\n",
              "\n",
              "    .dataframe thead th {\n",
              "        text-align: right;\n",
              "    }\n",
              "</style>\n",
              "<table border=\"1\" class=\"dataframe\">\n",
              "  <thead>\n",
              "    <tr style=\"text-align: right;\">\n",
              "      <th></th>\n",
              "      <th>A</th>\n",
              "      <th>B</th>\n",
              "      <th>C</th>\n",
              "      <th>D</th>\n",
              "      <th>F</th>\n",
              "    </tr>\n",
              "  </thead>\n",
              "  <tbody>\n",
              "    <tr>\n",
              "      <th>2013-01-01</th>\n",
              "      <td>0.000000</td>\n",
              "      <td>0.000000</td>\n",
              "      <td>-0.828662</td>\n",
              "      <td>-5</td>\n",
              "      <td>NaN</td>\n",
              "    </tr>\n",
              "    <tr>\n",
              "      <th>2013-01-02</th>\n",
              "      <td>-0.221587</td>\n",
              "      <td>-0.589722</td>\n",
              "      <td>-0.231308</td>\n",
              "      <td>-5</td>\n",
              "      <td>-1.0</td>\n",
              "    </tr>\n",
              "    <tr>\n",
              "      <th>2013-01-03</th>\n",
              "      <td>-1.583195</td>\n",
              "      <td>-0.712675</td>\n",
              "      <td>-1.585282</td>\n",
              "      <td>-5</td>\n",
              "      <td>-2.0</td>\n",
              "    </tr>\n",
              "    <tr>\n",
              "      <th>2013-01-04</th>\n",
              "      <td>-0.131762</td>\n",
              "      <td>-0.060625</td>\n",
              "      <td>-0.272838</td>\n",
              "      <td>-5</td>\n",
              "      <td>-3.0</td>\n",
              "    </tr>\n",
              "    <tr>\n",
              "      <th>2013-01-05</th>\n",
              "      <td>-0.348674</td>\n",
              "      <td>-0.175192</td>\n",
              "      <td>-0.506863</td>\n",
              "      <td>-5</td>\n",
              "      <td>-4.0</td>\n",
              "    </tr>\n",
              "    <tr>\n",
              "      <th>2013-01-06</th>\n",
              "      <td>-0.239107</td>\n",
              "      <td>-0.359601</td>\n",
              "      <td>-0.549022</td>\n",
              "      <td>-5</td>\n",
              "      <td>-5.0</td>\n",
              "    </tr>\n",
              "  </tbody>\n",
              "</table>\n",
              "</div>"
            ],
            "text/plain": [
              "                   A         B         C  D    F\n",
              "2013-01-01  0.000000  0.000000 -0.828662 -5  NaN\n",
              "2013-01-02 -0.221587 -0.589722 -0.231308 -5 -1.0\n",
              "2013-01-03 -1.583195 -0.712675 -1.585282 -5 -2.0\n",
              "2013-01-04 -0.131762 -0.060625 -0.272838 -5 -3.0\n",
              "2013-01-05 -0.348674 -0.175192 -0.506863 -5 -4.0\n",
              "2013-01-06 -0.239107 -0.359601 -0.549022 -5 -5.0"
            ]
          },
          "metadata": {
            "tags": []
          },
          "execution_count": 47
        }
      ]
    },
    {
      "cell_type": "markdown",
      "metadata": {
        "id": "RALisJaDUE4t"
      },
      "source": [
        "# 결측치"
      ]
    },
    {
      "cell_type": "markdown",
      "metadata": {
        "id": "YyVw0LjMMbIE"
      },
      "source": [
        "pandas는 주로  np.nan값을 누락 데이터를 나타내기 위하여 사용합니다."
      ]
    },
    {
      "cell_type": "code",
      "metadata": {
        "colab": {
          "base_uri": "https://localhost:8080/",
          "height": 175
        },
        "id": "F8diBDc7Mr04",
        "outputId": "215f65f0-c0de-4a06-ca28-f22683388e55"
      },
      "source": [
        "df1 = df.reindex(index=dates[0:4], columns=list(df.columns)+[\"E\"])\n",
        "df1.loc[dates[0] : dates[1], \"E\"] = 1\n",
        "df1"
      ],
      "execution_count": 48,
      "outputs": [
        {
          "output_type": "execute_result",
          "data": {
            "text/html": [
              "<div>\n",
              "<style scoped>\n",
              "    .dataframe tbody tr th:only-of-type {\n",
              "        vertical-align: middle;\n",
              "    }\n",
              "\n",
              "    .dataframe tbody tr th {\n",
              "        vertical-align: top;\n",
              "    }\n",
              "\n",
              "    .dataframe thead th {\n",
              "        text-align: right;\n",
              "    }\n",
              "</style>\n",
              "<table border=\"1\" class=\"dataframe\">\n",
              "  <thead>\n",
              "    <tr style=\"text-align: right;\">\n",
              "      <th></th>\n",
              "      <th>A</th>\n",
              "      <th>B</th>\n",
              "      <th>C</th>\n",
              "      <th>D</th>\n",
              "      <th>F</th>\n",
              "      <th>E</th>\n",
              "    </tr>\n",
              "  </thead>\n",
              "  <tbody>\n",
              "    <tr>\n",
              "      <th>2013-01-01</th>\n",
              "      <td>0.000000</td>\n",
              "      <td>0.000000</td>\n",
              "      <td>-0.828662</td>\n",
              "      <td>5</td>\n",
              "      <td>NaN</td>\n",
              "      <td>1.0</td>\n",
              "    </tr>\n",
              "    <tr>\n",
              "      <th>2013-01-02</th>\n",
              "      <td>0.221587</td>\n",
              "      <td>-0.589722</td>\n",
              "      <td>0.231308</td>\n",
              "      <td>5</td>\n",
              "      <td>1.0</td>\n",
              "      <td>1.0</td>\n",
              "    </tr>\n",
              "    <tr>\n",
              "      <th>2013-01-03</th>\n",
              "      <td>-1.583195</td>\n",
              "      <td>0.712675</td>\n",
              "      <td>-1.585282</td>\n",
              "      <td>5</td>\n",
              "      <td>2.0</td>\n",
              "      <td>NaN</td>\n",
              "    </tr>\n",
              "    <tr>\n",
              "      <th>2013-01-04</th>\n",
              "      <td>0.131762</td>\n",
              "      <td>-0.060625</td>\n",
              "      <td>-0.272838</td>\n",
              "      <td>5</td>\n",
              "      <td>3.0</td>\n",
              "      <td>NaN</td>\n",
              "    </tr>\n",
              "  </tbody>\n",
              "</table>\n",
              "</div>"
            ],
            "text/plain": [
              "                   A         B         C  D    F    E\n",
              "2013-01-01  0.000000  0.000000 -0.828662  5  NaN  1.0\n",
              "2013-01-02  0.221587 -0.589722  0.231308  5  1.0  1.0\n",
              "2013-01-03 -1.583195  0.712675 -1.585282  5  2.0  NaN\n",
              "2013-01-04  0.131762 -0.060625 -0.272838  5  3.0  NaN"
            ]
          },
          "metadata": {
            "tags": []
          },
          "execution_count": 48
        }
      ]
    },
    {
      "cell_type": "markdown",
      "metadata": {
        "id": "fOMr1BVCMtG4"
      },
      "source": [
        "how = 'any' 옵션을 사용하여 결측치를 가지고 있지 않는 데이터를 보여줍니다."
      ]
    },
    {
      "cell_type": "code",
      "metadata": {
        "colab": {
          "base_uri": "https://localhost:8080/",
          "height": 81
        },
        "id": "xDHrX3kuMxfp",
        "outputId": "9b33b77d-12ba-46cd-ad5f-530c49c87f47"
      },
      "source": [
        "df1.dropna(how='any')"
      ],
      "execution_count": 49,
      "outputs": [
        {
          "output_type": "execute_result",
          "data": {
            "text/html": [
              "<div>\n",
              "<style scoped>\n",
              "    .dataframe tbody tr th:only-of-type {\n",
              "        vertical-align: middle;\n",
              "    }\n",
              "\n",
              "    .dataframe tbody tr th {\n",
              "        vertical-align: top;\n",
              "    }\n",
              "\n",
              "    .dataframe thead th {\n",
              "        text-align: right;\n",
              "    }\n",
              "</style>\n",
              "<table border=\"1\" class=\"dataframe\">\n",
              "  <thead>\n",
              "    <tr style=\"text-align: right;\">\n",
              "      <th></th>\n",
              "      <th>A</th>\n",
              "      <th>B</th>\n",
              "      <th>C</th>\n",
              "      <th>D</th>\n",
              "      <th>F</th>\n",
              "      <th>E</th>\n",
              "    </tr>\n",
              "  </thead>\n",
              "  <tbody>\n",
              "    <tr>\n",
              "      <th>2013-01-02</th>\n",
              "      <td>0.221587</td>\n",
              "      <td>-0.589722</td>\n",
              "      <td>0.231308</td>\n",
              "      <td>5</td>\n",
              "      <td>1.0</td>\n",
              "      <td>1.0</td>\n",
              "    </tr>\n",
              "  </tbody>\n",
              "</table>\n",
              "</div>"
            ],
            "text/plain": [
              "                   A         B         C  D    F    E\n",
              "2013-01-02  0.221587 -0.589722  0.231308  5  1.0  1.0"
            ]
          },
          "metadata": {
            "tags": []
          },
          "execution_count": 49
        }
      ]
    },
    {
      "cell_type": "markdown",
      "metadata": {
        "id": "R2K369xANImz"
      },
      "source": [
        "결측치를 채우기"
      ]
    },
    {
      "cell_type": "code",
      "metadata": {
        "colab": {
          "base_uri": "https://localhost:8080/",
          "height": 175
        },
        "id": "OQ4LqM1INMA-",
        "outputId": "6eea1759-32c1-4be3-cf1c-3554128bb82f"
      },
      "source": [
        "df1.fillna(value=5)"
      ],
      "execution_count": 50,
      "outputs": [
        {
          "output_type": "execute_result",
          "data": {
            "text/html": [
              "<div>\n",
              "<style scoped>\n",
              "    .dataframe tbody tr th:only-of-type {\n",
              "        vertical-align: middle;\n",
              "    }\n",
              "\n",
              "    .dataframe tbody tr th {\n",
              "        vertical-align: top;\n",
              "    }\n",
              "\n",
              "    .dataframe thead th {\n",
              "        text-align: right;\n",
              "    }\n",
              "</style>\n",
              "<table border=\"1\" class=\"dataframe\">\n",
              "  <thead>\n",
              "    <tr style=\"text-align: right;\">\n",
              "      <th></th>\n",
              "      <th>A</th>\n",
              "      <th>B</th>\n",
              "      <th>C</th>\n",
              "      <th>D</th>\n",
              "      <th>F</th>\n",
              "      <th>E</th>\n",
              "    </tr>\n",
              "  </thead>\n",
              "  <tbody>\n",
              "    <tr>\n",
              "      <th>2013-01-01</th>\n",
              "      <td>0.000000</td>\n",
              "      <td>0.000000</td>\n",
              "      <td>-0.828662</td>\n",
              "      <td>5</td>\n",
              "      <td>5.0</td>\n",
              "      <td>1.0</td>\n",
              "    </tr>\n",
              "    <tr>\n",
              "      <th>2013-01-02</th>\n",
              "      <td>0.221587</td>\n",
              "      <td>-0.589722</td>\n",
              "      <td>0.231308</td>\n",
              "      <td>5</td>\n",
              "      <td>1.0</td>\n",
              "      <td>1.0</td>\n",
              "    </tr>\n",
              "    <tr>\n",
              "      <th>2013-01-03</th>\n",
              "      <td>-1.583195</td>\n",
              "      <td>0.712675</td>\n",
              "      <td>-1.585282</td>\n",
              "      <td>5</td>\n",
              "      <td>2.0</td>\n",
              "      <td>5.0</td>\n",
              "    </tr>\n",
              "    <tr>\n",
              "      <th>2013-01-04</th>\n",
              "      <td>0.131762</td>\n",
              "      <td>-0.060625</td>\n",
              "      <td>-0.272838</td>\n",
              "      <td>5</td>\n",
              "      <td>3.0</td>\n",
              "      <td>5.0</td>\n",
              "    </tr>\n",
              "  </tbody>\n",
              "</table>\n",
              "</div>"
            ],
            "text/plain": [
              "                   A         B         C  D    F    E\n",
              "2013-01-01  0.000000  0.000000 -0.828662  5  5.0  1.0\n",
              "2013-01-02  0.221587 -0.589722  0.231308  5  1.0  1.0\n",
              "2013-01-03 -1.583195  0.712675 -1.585282  5  2.0  5.0\n",
              "2013-01-04  0.131762 -0.060625 -0.272838  5  3.0  5.0"
            ]
          },
          "metadata": {
            "tags": []
          },
          "execution_count": 50
        }
      ]
    },
    {
      "cell_type": "markdown",
      "metadata": {
        "id": "FnnMKlaKNOjq"
      },
      "source": [
        "nan값을 가진 value를 boolean mask로 가져옵니다."
      ]
    },
    {
      "cell_type": "code",
      "metadata": {
        "colab": {
          "base_uri": "https://localhost:8080/",
          "height": 175
        },
        "id": "UBU05t9xNm6Q",
        "outputId": "e7180a4a-c778-4e88-e2f7-74c21b7e1960"
      },
      "source": [
        "df1"
      ],
      "execution_count": 51,
      "outputs": [
        {
          "output_type": "execute_result",
          "data": {
            "text/html": [
              "<div>\n",
              "<style scoped>\n",
              "    .dataframe tbody tr th:only-of-type {\n",
              "        vertical-align: middle;\n",
              "    }\n",
              "\n",
              "    .dataframe tbody tr th {\n",
              "        vertical-align: top;\n",
              "    }\n",
              "\n",
              "    .dataframe thead th {\n",
              "        text-align: right;\n",
              "    }\n",
              "</style>\n",
              "<table border=\"1\" class=\"dataframe\">\n",
              "  <thead>\n",
              "    <tr style=\"text-align: right;\">\n",
              "      <th></th>\n",
              "      <th>A</th>\n",
              "      <th>B</th>\n",
              "      <th>C</th>\n",
              "      <th>D</th>\n",
              "      <th>F</th>\n",
              "      <th>E</th>\n",
              "    </tr>\n",
              "  </thead>\n",
              "  <tbody>\n",
              "    <tr>\n",
              "      <th>2013-01-01</th>\n",
              "      <td>0.000000</td>\n",
              "      <td>0.000000</td>\n",
              "      <td>-0.828662</td>\n",
              "      <td>5</td>\n",
              "      <td>NaN</td>\n",
              "      <td>1.0</td>\n",
              "    </tr>\n",
              "    <tr>\n",
              "      <th>2013-01-02</th>\n",
              "      <td>0.221587</td>\n",
              "      <td>-0.589722</td>\n",
              "      <td>0.231308</td>\n",
              "      <td>5</td>\n",
              "      <td>1.0</td>\n",
              "      <td>1.0</td>\n",
              "    </tr>\n",
              "    <tr>\n",
              "      <th>2013-01-03</th>\n",
              "      <td>-1.583195</td>\n",
              "      <td>0.712675</td>\n",
              "      <td>-1.585282</td>\n",
              "      <td>5</td>\n",
              "      <td>2.0</td>\n",
              "      <td>NaN</td>\n",
              "    </tr>\n",
              "    <tr>\n",
              "      <th>2013-01-04</th>\n",
              "      <td>0.131762</td>\n",
              "      <td>-0.060625</td>\n",
              "      <td>-0.272838</td>\n",
              "      <td>5</td>\n",
              "      <td>3.0</td>\n",
              "      <td>NaN</td>\n",
              "    </tr>\n",
              "  </tbody>\n",
              "</table>\n",
              "</div>"
            ],
            "text/plain": [
              "                   A         B         C  D    F    E\n",
              "2013-01-01  0.000000  0.000000 -0.828662  5  NaN  1.0\n",
              "2013-01-02  0.221587 -0.589722  0.231308  5  1.0  1.0\n",
              "2013-01-03 -1.583195  0.712675 -1.585282  5  2.0  NaN\n",
              "2013-01-04  0.131762 -0.060625 -0.272838  5  3.0  NaN"
            ]
          },
          "metadata": {
            "tags": []
          },
          "execution_count": 51
        }
      ]
    },
    {
      "cell_type": "code",
      "metadata": {
        "colab": {
          "base_uri": "https://localhost:8080/",
          "height": 175
        },
        "id": "m-fBaUIYNkgz",
        "outputId": "62336cd8-2fa3-49dd-ad4b-a7c6f5b1aba8"
      },
      "source": [
        "pd.isna(df1)"
      ],
      "execution_count": 52,
      "outputs": [
        {
          "output_type": "execute_result",
          "data": {
            "text/html": [
              "<div>\n",
              "<style scoped>\n",
              "    .dataframe tbody tr th:only-of-type {\n",
              "        vertical-align: middle;\n",
              "    }\n",
              "\n",
              "    .dataframe tbody tr th {\n",
              "        vertical-align: top;\n",
              "    }\n",
              "\n",
              "    .dataframe thead th {\n",
              "        text-align: right;\n",
              "    }\n",
              "</style>\n",
              "<table border=\"1\" class=\"dataframe\">\n",
              "  <thead>\n",
              "    <tr style=\"text-align: right;\">\n",
              "      <th></th>\n",
              "      <th>A</th>\n",
              "      <th>B</th>\n",
              "      <th>C</th>\n",
              "      <th>D</th>\n",
              "      <th>F</th>\n",
              "      <th>E</th>\n",
              "    </tr>\n",
              "  </thead>\n",
              "  <tbody>\n",
              "    <tr>\n",
              "      <th>2013-01-01</th>\n",
              "      <td>False</td>\n",
              "      <td>False</td>\n",
              "      <td>False</td>\n",
              "      <td>False</td>\n",
              "      <td>True</td>\n",
              "      <td>False</td>\n",
              "    </tr>\n",
              "    <tr>\n",
              "      <th>2013-01-02</th>\n",
              "      <td>False</td>\n",
              "      <td>False</td>\n",
              "      <td>False</td>\n",
              "      <td>False</td>\n",
              "      <td>False</td>\n",
              "      <td>False</td>\n",
              "    </tr>\n",
              "    <tr>\n",
              "      <th>2013-01-03</th>\n",
              "      <td>False</td>\n",
              "      <td>False</td>\n",
              "      <td>False</td>\n",
              "      <td>False</td>\n",
              "      <td>False</td>\n",
              "      <td>True</td>\n",
              "    </tr>\n",
              "    <tr>\n",
              "      <th>2013-01-04</th>\n",
              "      <td>False</td>\n",
              "      <td>False</td>\n",
              "      <td>False</td>\n",
              "      <td>False</td>\n",
              "      <td>False</td>\n",
              "      <td>True</td>\n",
              "    </tr>\n",
              "  </tbody>\n",
              "</table>\n",
              "</div>"
            ],
            "text/plain": [
              "                A      B      C      D      F      E\n",
              "2013-01-01  False  False  False  False   True  False\n",
              "2013-01-02  False  False  False  False  False  False\n",
              "2013-01-03  False  False  False  False  False   True\n",
              "2013-01-04  False  False  False  False  False   True"
            ]
          },
          "metadata": {
            "tags": []
          },
          "execution_count": 52
        }
      ]
    },
    {
      "cell_type": "markdown",
      "metadata": {
        "id": "hDGs-OkVNlod"
      },
      "source": [
        "# Stats"
      ]
    },
    {
      "cell_type": "code",
      "metadata": {
        "colab": {
          "base_uri": "https://localhost:8080/",
          "height": 237
        },
        "id": "aaDZjtye-AB_",
        "outputId": "2349af9b-475e-4f44-f7bf-241e1cb00ce8"
      },
      "source": [
        "df"
      ],
      "execution_count": 53,
      "outputs": [
        {
          "output_type": "execute_result",
          "data": {
            "text/html": [
              "<div>\n",
              "<style scoped>\n",
              "    .dataframe tbody tr th:only-of-type {\n",
              "        vertical-align: middle;\n",
              "    }\n",
              "\n",
              "    .dataframe tbody tr th {\n",
              "        vertical-align: top;\n",
              "    }\n",
              "\n",
              "    .dataframe thead th {\n",
              "        text-align: right;\n",
              "    }\n",
              "</style>\n",
              "<table border=\"1\" class=\"dataframe\">\n",
              "  <thead>\n",
              "    <tr style=\"text-align: right;\">\n",
              "      <th></th>\n",
              "      <th>A</th>\n",
              "      <th>B</th>\n",
              "      <th>C</th>\n",
              "      <th>D</th>\n",
              "      <th>F</th>\n",
              "    </tr>\n",
              "  </thead>\n",
              "  <tbody>\n",
              "    <tr>\n",
              "      <th>2013-01-01</th>\n",
              "      <td>0.000000</td>\n",
              "      <td>0.000000</td>\n",
              "      <td>-0.828662</td>\n",
              "      <td>5</td>\n",
              "      <td>NaN</td>\n",
              "    </tr>\n",
              "    <tr>\n",
              "      <th>2013-01-02</th>\n",
              "      <td>0.221587</td>\n",
              "      <td>-0.589722</td>\n",
              "      <td>0.231308</td>\n",
              "      <td>5</td>\n",
              "      <td>1.0</td>\n",
              "    </tr>\n",
              "    <tr>\n",
              "      <th>2013-01-03</th>\n",
              "      <td>-1.583195</td>\n",
              "      <td>0.712675</td>\n",
              "      <td>-1.585282</td>\n",
              "      <td>5</td>\n",
              "      <td>2.0</td>\n",
              "    </tr>\n",
              "    <tr>\n",
              "      <th>2013-01-04</th>\n",
              "      <td>0.131762</td>\n",
              "      <td>-0.060625</td>\n",
              "      <td>-0.272838</td>\n",
              "      <td>5</td>\n",
              "      <td>3.0</td>\n",
              "    </tr>\n",
              "    <tr>\n",
              "      <th>2013-01-05</th>\n",
              "      <td>-0.348674</td>\n",
              "      <td>-0.175192</td>\n",
              "      <td>0.506863</td>\n",
              "      <td>5</td>\n",
              "      <td>4.0</td>\n",
              "    </tr>\n",
              "    <tr>\n",
              "      <th>2013-01-06</th>\n",
              "      <td>-0.239107</td>\n",
              "      <td>-0.359601</td>\n",
              "      <td>-0.549022</td>\n",
              "      <td>5</td>\n",
              "      <td>5.0</td>\n",
              "    </tr>\n",
              "  </tbody>\n",
              "</table>\n",
              "</div>"
            ],
            "text/plain": [
              "                   A         B         C  D    F\n",
              "2013-01-01  0.000000  0.000000 -0.828662  5  NaN\n",
              "2013-01-02  0.221587 -0.589722  0.231308  5  1.0\n",
              "2013-01-03 -1.583195  0.712675 -1.585282  5  2.0\n",
              "2013-01-04  0.131762 -0.060625 -0.272838  5  3.0\n",
              "2013-01-05 -0.348674 -0.175192  0.506863  5  4.0\n",
              "2013-01-06 -0.239107 -0.359601 -0.549022  5  5.0"
            ]
          },
          "metadata": {
            "tags": []
          },
          "execution_count": 53
        }
      ]
    },
    {
      "cell_type": "code",
      "metadata": {
        "colab": {
          "base_uri": "https://localhost:8080/"
        },
        "id": "DZPMQhqt9zoZ",
        "outputId": "ef8a0a2a-eca6-4285-f729-0d5a5757b7ba"
      },
      "source": [
        "df.mean()"
      ],
      "execution_count": 54,
      "outputs": [
        {
          "output_type": "execute_result",
          "data": {
            "text/plain": [
              "A   -0.302938\n",
              "B   -0.078744\n",
              "C   -0.416272\n",
              "D    5.000000\n",
              "F    3.000000\n",
              "dtype: float64"
            ]
          },
          "metadata": {
            "tags": []
          },
          "execution_count": 54
        }
      ]
    },
    {
      "cell_type": "code",
      "metadata": {
        "colab": {
          "base_uri": "https://localhost:8080/"
        },
        "id": "WKdnnJrn91Fz",
        "outputId": "e655bc73-dcf4-4cdf-a85e-1f97edd2d4c3"
      },
      "source": [
        "df.mean(1)"
      ],
      "execution_count": 55,
      "outputs": [
        {
          "output_type": "execute_result",
          "data": {
            "text/plain": [
              "2013-01-01    1.042835\n",
              "2013-01-02    1.172635\n",
              "2013-01-03    0.908840\n",
              "2013-01-04    1.559660\n",
              "2013-01-05    1.796599\n",
              "2013-01-06    1.770454\n",
              "Freq: D, dtype: float64"
            ]
          },
          "metadata": {
            "tags": []
          },
          "execution_count": 55
        }
      ]
    },
    {
      "cell_type": "code",
      "metadata": {
        "colab": {
          "base_uri": "https://localhost:8080/"
        },
        "id": "Z6OTZiQA98Bu",
        "outputId": "4d2d6c27-2f41-458e-8fb3-c9969dbacd98"
      },
      "source": [
        "s = pd.Series([1,3,5,np.nan,6,8], index=dates).shift(2)\n",
        "s"
      ],
      "execution_count": 56,
      "outputs": [
        {
          "output_type": "execute_result",
          "data": {
            "text/plain": [
              "2013-01-01    NaN\n",
              "2013-01-02    NaN\n",
              "2013-01-03    1.0\n",
              "2013-01-04    3.0\n",
              "2013-01-05    5.0\n",
              "2013-01-06    NaN\n",
              "Freq: D, dtype: float64"
            ]
          },
          "metadata": {
            "tags": []
          },
          "execution_count": 56
        }
      ]
    },
    {
      "cell_type": "markdown",
      "metadata": {
        "id": "gHDDDZIcZ9gt"
      },
      "source": [
        "크기가 다르고 정렬이 필요한 객체로 작업합니다.\n",
        "\n",
        "pandas는 지정된 차원을 따라 자동으로 broadcast합니다."
      ]
    },
    {
      "cell_type": "code",
      "metadata": {
        "colab": {
          "base_uri": "https://localhost:8080/",
          "height": 237
        },
        "id": "h7S65jxM-RFk",
        "outputId": "ecb3bfa7-33ec-4dcb-b05b-04765ac2a879"
      },
      "source": [
        "df.sub(s, axis='index')"
      ],
      "execution_count": 57,
      "outputs": [
        {
          "output_type": "execute_result",
          "data": {
            "text/html": [
              "<div>\n",
              "<style scoped>\n",
              "    .dataframe tbody tr th:only-of-type {\n",
              "        vertical-align: middle;\n",
              "    }\n",
              "\n",
              "    .dataframe tbody tr th {\n",
              "        vertical-align: top;\n",
              "    }\n",
              "\n",
              "    .dataframe thead th {\n",
              "        text-align: right;\n",
              "    }\n",
              "</style>\n",
              "<table border=\"1\" class=\"dataframe\">\n",
              "  <thead>\n",
              "    <tr style=\"text-align: right;\">\n",
              "      <th></th>\n",
              "      <th>A</th>\n",
              "      <th>B</th>\n",
              "      <th>C</th>\n",
              "      <th>D</th>\n",
              "      <th>F</th>\n",
              "    </tr>\n",
              "  </thead>\n",
              "  <tbody>\n",
              "    <tr>\n",
              "      <th>2013-01-01</th>\n",
              "      <td>NaN</td>\n",
              "      <td>NaN</td>\n",
              "      <td>NaN</td>\n",
              "      <td>NaN</td>\n",
              "      <td>NaN</td>\n",
              "    </tr>\n",
              "    <tr>\n",
              "      <th>2013-01-02</th>\n",
              "      <td>NaN</td>\n",
              "      <td>NaN</td>\n",
              "      <td>NaN</td>\n",
              "      <td>NaN</td>\n",
              "      <td>NaN</td>\n",
              "    </tr>\n",
              "    <tr>\n",
              "      <th>2013-01-03</th>\n",
              "      <td>-2.583195</td>\n",
              "      <td>-0.287325</td>\n",
              "      <td>-2.585282</td>\n",
              "      <td>4.0</td>\n",
              "      <td>1.0</td>\n",
              "    </tr>\n",
              "    <tr>\n",
              "      <th>2013-01-04</th>\n",
              "      <td>-2.868238</td>\n",
              "      <td>-3.060625</td>\n",
              "      <td>-3.272838</td>\n",
              "      <td>2.0</td>\n",
              "      <td>0.0</td>\n",
              "    </tr>\n",
              "    <tr>\n",
              "      <th>2013-01-05</th>\n",
              "      <td>-5.348674</td>\n",
              "      <td>-5.175192</td>\n",
              "      <td>-4.493137</td>\n",
              "      <td>0.0</td>\n",
              "      <td>-1.0</td>\n",
              "    </tr>\n",
              "    <tr>\n",
              "      <th>2013-01-06</th>\n",
              "      <td>NaN</td>\n",
              "      <td>NaN</td>\n",
              "      <td>NaN</td>\n",
              "      <td>NaN</td>\n",
              "      <td>NaN</td>\n",
              "    </tr>\n",
              "  </tbody>\n",
              "</table>\n",
              "</div>"
            ],
            "text/plain": [
              "                   A         B         C    D    F\n",
              "2013-01-01       NaN       NaN       NaN  NaN  NaN\n",
              "2013-01-02       NaN       NaN       NaN  NaN  NaN\n",
              "2013-01-03 -2.583195 -0.287325 -2.585282  4.0  1.0\n",
              "2013-01-04 -2.868238 -3.060625 -3.272838  2.0  0.0\n",
              "2013-01-05 -5.348674 -5.175192 -4.493137  0.0 -1.0\n",
              "2013-01-06       NaN       NaN       NaN  NaN  NaN"
            ]
          },
          "metadata": {
            "tags": []
          },
          "execution_count": 57
        }
      ]
    },
    {
      "cell_type": "markdown",
      "metadata": {
        "id": "HyNeBsIjZU_d"
      },
      "source": [
        "# Apply"
      ]
    },
    {
      "cell_type": "code",
      "metadata": {
        "colab": {
          "base_uri": "https://localhost:8080/",
          "height": 237
        },
        "id": "oM6gOzhXaQ-g",
        "outputId": "fbe30a09-1d53-4da2-824c-02d81427a5f8"
      },
      "source": [
        "df"
      ],
      "execution_count": 58,
      "outputs": [
        {
          "output_type": "execute_result",
          "data": {
            "text/html": [
              "<div>\n",
              "<style scoped>\n",
              "    .dataframe tbody tr th:only-of-type {\n",
              "        vertical-align: middle;\n",
              "    }\n",
              "\n",
              "    .dataframe tbody tr th {\n",
              "        vertical-align: top;\n",
              "    }\n",
              "\n",
              "    .dataframe thead th {\n",
              "        text-align: right;\n",
              "    }\n",
              "</style>\n",
              "<table border=\"1\" class=\"dataframe\">\n",
              "  <thead>\n",
              "    <tr style=\"text-align: right;\">\n",
              "      <th></th>\n",
              "      <th>A</th>\n",
              "      <th>B</th>\n",
              "      <th>C</th>\n",
              "      <th>D</th>\n",
              "      <th>F</th>\n",
              "    </tr>\n",
              "  </thead>\n",
              "  <tbody>\n",
              "    <tr>\n",
              "      <th>2013-01-01</th>\n",
              "      <td>0.000000</td>\n",
              "      <td>0.000000</td>\n",
              "      <td>-0.828662</td>\n",
              "      <td>5</td>\n",
              "      <td>NaN</td>\n",
              "    </tr>\n",
              "    <tr>\n",
              "      <th>2013-01-02</th>\n",
              "      <td>0.221587</td>\n",
              "      <td>-0.589722</td>\n",
              "      <td>0.231308</td>\n",
              "      <td>5</td>\n",
              "      <td>1.0</td>\n",
              "    </tr>\n",
              "    <tr>\n",
              "      <th>2013-01-03</th>\n",
              "      <td>-1.583195</td>\n",
              "      <td>0.712675</td>\n",
              "      <td>-1.585282</td>\n",
              "      <td>5</td>\n",
              "      <td>2.0</td>\n",
              "    </tr>\n",
              "    <tr>\n",
              "      <th>2013-01-04</th>\n",
              "      <td>0.131762</td>\n",
              "      <td>-0.060625</td>\n",
              "      <td>-0.272838</td>\n",
              "      <td>5</td>\n",
              "      <td>3.0</td>\n",
              "    </tr>\n",
              "    <tr>\n",
              "      <th>2013-01-05</th>\n",
              "      <td>-0.348674</td>\n",
              "      <td>-0.175192</td>\n",
              "      <td>0.506863</td>\n",
              "      <td>5</td>\n",
              "      <td>4.0</td>\n",
              "    </tr>\n",
              "    <tr>\n",
              "      <th>2013-01-06</th>\n",
              "      <td>-0.239107</td>\n",
              "      <td>-0.359601</td>\n",
              "      <td>-0.549022</td>\n",
              "      <td>5</td>\n",
              "      <td>5.0</td>\n",
              "    </tr>\n",
              "  </tbody>\n",
              "</table>\n",
              "</div>"
            ],
            "text/plain": [
              "                   A         B         C  D    F\n",
              "2013-01-01  0.000000  0.000000 -0.828662  5  NaN\n",
              "2013-01-02  0.221587 -0.589722  0.231308  5  1.0\n",
              "2013-01-03 -1.583195  0.712675 -1.585282  5  2.0\n",
              "2013-01-04  0.131762 -0.060625 -0.272838  5  3.0\n",
              "2013-01-05 -0.348674 -0.175192  0.506863  5  4.0\n",
              "2013-01-06 -0.239107 -0.359601 -0.549022  5  5.0"
            ]
          },
          "metadata": {
            "tags": []
          },
          "execution_count": 58
        }
      ]
    },
    {
      "cell_type": "code",
      "metadata": {
        "colab": {
          "base_uri": "https://localhost:8080/",
          "height": 237
        },
        "id": "AUwCemCwaIva",
        "outputId": "329f5282-5019-413f-9578-8b30d3ef0b2b"
      },
      "source": [
        "df.apply(np.cumsum)"
      ],
      "execution_count": 59,
      "outputs": [
        {
          "output_type": "execute_result",
          "data": {
            "text/html": [
              "<div>\n",
              "<style scoped>\n",
              "    .dataframe tbody tr th:only-of-type {\n",
              "        vertical-align: middle;\n",
              "    }\n",
              "\n",
              "    .dataframe tbody tr th {\n",
              "        vertical-align: top;\n",
              "    }\n",
              "\n",
              "    .dataframe thead th {\n",
              "        text-align: right;\n",
              "    }\n",
              "</style>\n",
              "<table border=\"1\" class=\"dataframe\">\n",
              "  <thead>\n",
              "    <tr style=\"text-align: right;\">\n",
              "      <th></th>\n",
              "      <th>A</th>\n",
              "      <th>B</th>\n",
              "      <th>C</th>\n",
              "      <th>D</th>\n",
              "      <th>F</th>\n",
              "    </tr>\n",
              "  </thead>\n",
              "  <tbody>\n",
              "    <tr>\n",
              "      <th>2013-01-01</th>\n",
              "      <td>0.000000</td>\n",
              "      <td>0.000000</td>\n",
              "      <td>-0.828662</td>\n",
              "      <td>5</td>\n",
              "      <td>NaN</td>\n",
              "    </tr>\n",
              "    <tr>\n",
              "      <th>2013-01-02</th>\n",
              "      <td>0.221587</td>\n",
              "      <td>-0.589722</td>\n",
              "      <td>-0.597354</td>\n",
              "      <td>10</td>\n",
              "      <td>1.0</td>\n",
              "    </tr>\n",
              "    <tr>\n",
              "      <th>2013-01-03</th>\n",
              "      <td>-1.361607</td>\n",
              "      <td>0.122953</td>\n",
              "      <td>-2.182636</td>\n",
              "      <td>15</td>\n",
              "      <td>3.0</td>\n",
              "    </tr>\n",
              "    <tr>\n",
              "      <th>2013-01-04</th>\n",
              "      <td>-1.229846</td>\n",
              "      <td>0.062328</td>\n",
              "      <td>-2.455474</td>\n",
              "      <td>20</td>\n",
              "      <td>6.0</td>\n",
              "    </tr>\n",
              "    <tr>\n",
              "      <th>2013-01-05</th>\n",
              "      <td>-1.578520</td>\n",
              "      <td>-0.112864</td>\n",
              "      <td>-1.948611</td>\n",
              "      <td>25</td>\n",
              "      <td>10.0</td>\n",
              "    </tr>\n",
              "    <tr>\n",
              "      <th>2013-01-06</th>\n",
              "      <td>-1.817628</td>\n",
              "      <td>-0.472465</td>\n",
              "      <td>-2.497633</td>\n",
              "      <td>30</td>\n",
              "      <td>15.0</td>\n",
              "    </tr>\n",
              "  </tbody>\n",
              "</table>\n",
              "</div>"
            ],
            "text/plain": [
              "                   A         B         C   D     F\n",
              "2013-01-01  0.000000  0.000000 -0.828662   5   NaN\n",
              "2013-01-02  0.221587 -0.589722 -0.597354  10   1.0\n",
              "2013-01-03 -1.361607  0.122953 -2.182636  15   3.0\n",
              "2013-01-04 -1.229846  0.062328 -2.455474  20   6.0\n",
              "2013-01-05 -1.578520 -0.112864 -1.948611  25  10.0\n",
              "2013-01-06 -1.817628 -0.472465 -2.497633  30  15.0"
            ]
          },
          "metadata": {
            "tags": []
          },
          "execution_count": 59
        }
      ]
    },
    {
      "cell_type": "code",
      "metadata": {
        "colab": {
          "base_uri": "https://localhost:8080/"
        },
        "id": "k1dvGedcaPOZ",
        "outputId": "6b6612e2-317d-4b9f-dd14-897c3effa187"
      },
      "source": [
        "df.apply(lambda x : x.max() - x.min())"
      ],
      "execution_count": 60,
      "outputs": [
        {
          "output_type": "execute_result",
          "data": {
            "text/plain": [
              "A    1.804782\n",
              "B    1.302397\n",
              "C    2.092145\n",
              "D    0.000000\n",
              "F    4.000000\n",
              "dtype: float64"
            ]
          },
          "metadata": {
            "tags": []
          },
          "execution_count": 60
        }
      ]
    },
    {
      "cell_type": "markdown",
      "metadata": {
        "id": "d1AtVgcQVzXm"
      },
      "source": [
        "# Histogramming"
      ]
    },
    {
      "cell_type": "code",
      "metadata": {
        "colab": {
          "base_uri": "https://localhost:8080/"
        },
        "id": "3ygHPhQhV2lq",
        "outputId": "743e14e8-04e8-40e4-e982-3d11eba9e93e"
      },
      "source": [
        "s = pd.Series(np.random.randint(0,7,size=10))\n",
        "s"
      ],
      "execution_count": 61,
      "outputs": [
        {
          "output_type": "execute_result",
          "data": {
            "text/plain": [
              "0    2\n",
              "1    3\n",
              "2    5\n",
              "3    2\n",
              "4    5\n",
              "5    4\n",
              "6    5\n",
              "7    1\n",
              "8    6\n",
              "9    4\n",
              "dtype: int64"
            ]
          },
          "metadata": {
            "tags": []
          },
          "execution_count": 61
        }
      ]
    },
    {
      "cell_type": "code",
      "metadata": {
        "colab": {
          "base_uri": "https://localhost:8080/"
        },
        "id": "s3TZ6t2fV8jK",
        "outputId": "5d128045-ca43-46e9-862d-42aaa4bd660d"
      },
      "source": [
        "s.value_counts()"
      ],
      "execution_count": 62,
      "outputs": [
        {
          "output_type": "execute_result",
          "data": {
            "text/plain": [
              "5    3\n",
              "4    2\n",
              "2    2\n",
              "6    1\n",
              "3    1\n",
              "1    1\n",
              "dtype: int64"
            ]
          },
          "metadata": {
            "tags": []
          },
          "execution_count": 62
        }
      ]
    },
    {
      "cell_type": "markdown",
      "metadata": {
        "id": "nVg7wDStV_uh"
      },
      "source": [
        "# String Methods "
      ]
    },
    {
      "cell_type": "code",
      "metadata": {
        "colab": {
          "base_uri": "https://localhost:8080/"
        },
        "id": "2UqtxUFxWE7j",
        "outputId": "40887085-9ee8-4b1f-e79c-d705ff8bcb8e"
      },
      "source": [
        "s = pd.Series(['A', \"B\",\"C\",\"Aaba\",\"Baca\",np.nan,\"CABA\",\"dog\",\"cat\"])\n",
        "s.str.lower()"
      ],
      "execution_count": 63,
      "outputs": [
        {
          "output_type": "execute_result",
          "data": {
            "text/plain": [
              "0       a\n",
              "1       b\n",
              "2       c\n",
              "3    aaba\n",
              "4    baca\n",
              "5     NaN\n",
              "6    caba\n",
              "7     dog\n",
              "8     cat\n",
              "dtype: object"
            ]
          },
          "metadata": {
            "tags": []
          },
          "execution_count": 63
        }
      ]
    },
    {
      "cell_type": "markdown",
      "metadata": {
        "id": "eJMgO8leqteA"
      },
      "source": [
        "# Merge(병합)\n"
      ]
    },
    {
      "cell_type": "markdown",
      "metadata": {
        "id": "w2qA_W53rlvy"
      },
      "source": [
        "## Concat\n",
        "\n",
        "pandas는 Series와 DataFrame 객체를 쉽게 결합할 수 있는 다양한 기능을 제공합니다.\n",
        "\n",
        "Join, Merge 연산의 경우 index와 관계 대수를 위한 다양한 로직을 제공합니다."
      ]
    },
    {
      "cell_type": "code",
      "metadata": {
        "colab": {
          "base_uri": "https://localhost:8080/",
          "height": 363
        },
        "id": "Xr4ydbObr823",
        "outputId": "259ae307-4352-411f-cc05-12ca053e0068"
      },
      "source": [
        "df = pd.DataFrame(np.random.randn(10,4))\n",
        "df"
      ],
      "execution_count": 64,
      "outputs": [
        {
          "output_type": "execute_result",
          "data": {
            "text/html": [
              "<div>\n",
              "<style scoped>\n",
              "    .dataframe tbody tr th:only-of-type {\n",
              "        vertical-align: middle;\n",
              "    }\n",
              "\n",
              "    .dataframe tbody tr th {\n",
              "        vertical-align: top;\n",
              "    }\n",
              "\n",
              "    .dataframe thead th {\n",
              "        text-align: right;\n",
              "    }\n",
              "</style>\n",
              "<table border=\"1\" class=\"dataframe\">\n",
              "  <thead>\n",
              "    <tr style=\"text-align: right;\">\n",
              "      <th></th>\n",
              "      <th>0</th>\n",
              "      <th>1</th>\n",
              "      <th>2</th>\n",
              "      <th>3</th>\n",
              "    </tr>\n",
              "  </thead>\n",
              "  <tbody>\n",
              "    <tr>\n",
              "      <th>0</th>\n",
              "      <td>0.359585</td>\n",
              "      <td>1.215542</td>\n",
              "      <td>0.892177</td>\n",
              "      <td>1.329678</td>\n",
              "    </tr>\n",
              "    <tr>\n",
              "      <th>1</th>\n",
              "      <td>-0.617157</td>\n",
              "      <td>-0.654074</td>\n",
              "      <td>-2.057540</td>\n",
              "      <td>0.819397</td>\n",
              "    </tr>\n",
              "    <tr>\n",
              "      <th>2</th>\n",
              "      <td>-0.395263</td>\n",
              "      <td>-0.213881</td>\n",
              "      <td>-1.480265</td>\n",
              "      <td>-0.218335</td>\n",
              "    </tr>\n",
              "    <tr>\n",
              "      <th>3</th>\n",
              "      <td>-0.225600</td>\n",
              "      <td>1.144069</td>\n",
              "      <td>-0.195683</td>\n",
              "      <td>-0.514230</td>\n",
              "    </tr>\n",
              "    <tr>\n",
              "      <th>4</th>\n",
              "      <td>-0.108167</td>\n",
              "      <td>-0.965395</td>\n",
              "      <td>-1.617879</td>\n",
              "      <td>-0.241313</td>\n",
              "    </tr>\n",
              "    <tr>\n",
              "      <th>5</th>\n",
              "      <td>-0.076053</td>\n",
              "      <td>-0.068182</td>\n",
              "      <td>-0.137252</td>\n",
              "      <td>-0.446022</td>\n",
              "    </tr>\n",
              "    <tr>\n",
              "      <th>6</th>\n",
              "      <td>0.005562</td>\n",
              "      <td>0.375384</td>\n",
              "      <td>0.183405</td>\n",
              "      <td>-0.079463</td>\n",
              "    </tr>\n",
              "    <tr>\n",
              "      <th>7</th>\n",
              "      <td>0.023188</td>\n",
              "      <td>0.382853</td>\n",
              "      <td>-0.422008</td>\n",
              "      <td>0.953948</td>\n",
              "    </tr>\n",
              "    <tr>\n",
              "      <th>8</th>\n",
              "      <td>-0.092660</td>\n",
              "      <td>-0.619111</td>\n",
              "      <td>0.962517</td>\n",
              "      <td>-0.546054</td>\n",
              "    </tr>\n",
              "    <tr>\n",
              "      <th>9</th>\n",
              "      <td>0.614741</td>\n",
              "      <td>0.709864</td>\n",
              "      <td>2.358741</td>\n",
              "      <td>-3.828968</td>\n",
              "    </tr>\n",
              "  </tbody>\n",
              "</table>\n",
              "</div>"
            ],
            "text/plain": [
              "          0         1         2         3\n",
              "0  0.359585  1.215542  0.892177  1.329678\n",
              "1 -0.617157 -0.654074 -2.057540  0.819397\n",
              "2 -0.395263 -0.213881 -1.480265 -0.218335\n",
              "3 -0.225600  1.144069 -0.195683 -0.514230\n",
              "4 -0.108167 -0.965395 -1.617879 -0.241313\n",
              "5 -0.076053 -0.068182 -0.137252 -0.446022\n",
              "6  0.005562  0.375384  0.183405 -0.079463\n",
              "7  0.023188  0.382853 -0.422008  0.953948\n",
              "8 -0.092660 -0.619111  0.962517 -0.546054\n",
              "9  0.614741  0.709864  2.358741 -3.828968"
            ]
          },
          "metadata": {
            "tags": []
          },
          "execution_count": 64
        }
      ]
    },
    {
      "cell_type": "code",
      "metadata": {
        "colab": {
          "base_uri": "https://localhost:8080/"
        },
        "id": "q-MLHVSKsE-S",
        "outputId": "e6c0737b-447f-40ec-bf35-5ce1ea0a4596"
      },
      "source": [
        "pieces = [df[:3], df[3:7],df[7:]]\n",
        "pieces"
      ],
      "execution_count": 65,
      "outputs": [
        {
          "output_type": "execute_result",
          "data": {
            "text/plain": [
              "[          0         1         2         3\n",
              " 0  0.359585  1.215542  0.892177  1.329678\n",
              " 1 -0.617157 -0.654074 -2.057540  0.819397\n",
              " 2 -0.395263 -0.213881 -1.480265 -0.218335,\n",
              "           0         1         2         3\n",
              " 3 -0.225600  1.144069 -0.195683 -0.514230\n",
              " 4 -0.108167 -0.965395 -1.617879 -0.241313\n",
              " 5 -0.076053 -0.068182 -0.137252 -0.446022\n",
              " 6  0.005562  0.375384  0.183405 -0.079463,\n",
              "           0         1         2         3\n",
              " 7  0.023188  0.382853 -0.422008  0.953948\n",
              " 8 -0.092660 -0.619111  0.962517 -0.546054\n",
              " 9  0.614741  0.709864  2.358741 -3.828968]"
            ]
          },
          "metadata": {
            "tags": []
          },
          "execution_count": 65
        }
      ]
    },
    {
      "cell_type": "code",
      "metadata": {
        "colab": {
          "base_uri": "https://localhost:8080/",
          "height": 363
        },
        "id": "LKMnoXfusK5u",
        "outputId": "5fad018e-97be-42f8-8419-0e853a37fc18"
      },
      "source": [
        "pd.concat(pieces)"
      ],
      "execution_count": 66,
      "outputs": [
        {
          "output_type": "execute_result",
          "data": {
            "text/html": [
              "<div>\n",
              "<style scoped>\n",
              "    .dataframe tbody tr th:only-of-type {\n",
              "        vertical-align: middle;\n",
              "    }\n",
              "\n",
              "    .dataframe tbody tr th {\n",
              "        vertical-align: top;\n",
              "    }\n",
              "\n",
              "    .dataframe thead th {\n",
              "        text-align: right;\n",
              "    }\n",
              "</style>\n",
              "<table border=\"1\" class=\"dataframe\">\n",
              "  <thead>\n",
              "    <tr style=\"text-align: right;\">\n",
              "      <th></th>\n",
              "      <th>0</th>\n",
              "      <th>1</th>\n",
              "      <th>2</th>\n",
              "      <th>3</th>\n",
              "    </tr>\n",
              "  </thead>\n",
              "  <tbody>\n",
              "    <tr>\n",
              "      <th>0</th>\n",
              "      <td>0.359585</td>\n",
              "      <td>1.215542</td>\n",
              "      <td>0.892177</td>\n",
              "      <td>1.329678</td>\n",
              "    </tr>\n",
              "    <tr>\n",
              "      <th>1</th>\n",
              "      <td>-0.617157</td>\n",
              "      <td>-0.654074</td>\n",
              "      <td>-2.057540</td>\n",
              "      <td>0.819397</td>\n",
              "    </tr>\n",
              "    <tr>\n",
              "      <th>2</th>\n",
              "      <td>-0.395263</td>\n",
              "      <td>-0.213881</td>\n",
              "      <td>-1.480265</td>\n",
              "      <td>-0.218335</td>\n",
              "    </tr>\n",
              "    <tr>\n",
              "      <th>3</th>\n",
              "      <td>-0.225600</td>\n",
              "      <td>1.144069</td>\n",
              "      <td>-0.195683</td>\n",
              "      <td>-0.514230</td>\n",
              "    </tr>\n",
              "    <tr>\n",
              "      <th>4</th>\n",
              "      <td>-0.108167</td>\n",
              "      <td>-0.965395</td>\n",
              "      <td>-1.617879</td>\n",
              "      <td>-0.241313</td>\n",
              "    </tr>\n",
              "    <tr>\n",
              "      <th>5</th>\n",
              "      <td>-0.076053</td>\n",
              "      <td>-0.068182</td>\n",
              "      <td>-0.137252</td>\n",
              "      <td>-0.446022</td>\n",
              "    </tr>\n",
              "    <tr>\n",
              "      <th>6</th>\n",
              "      <td>0.005562</td>\n",
              "      <td>0.375384</td>\n",
              "      <td>0.183405</td>\n",
              "      <td>-0.079463</td>\n",
              "    </tr>\n",
              "    <tr>\n",
              "      <th>7</th>\n",
              "      <td>0.023188</td>\n",
              "      <td>0.382853</td>\n",
              "      <td>-0.422008</td>\n",
              "      <td>0.953948</td>\n",
              "    </tr>\n",
              "    <tr>\n",
              "      <th>8</th>\n",
              "      <td>-0.092660</td>\n",
              "      <td>-0.619111</td>\n",
              "      <td>0.962517</td>\n",
              "      <td>-0.546054</td>\n",
              "    </tr>\n",
              "    <tr>\n",
              "      <th>9</th>\n",
              "      <td>0.614741</td>\n",
              "      <td>0.709864</td>\n",
              "      <td>2.358741</td>\n",
              "      <td>-3.828968</td>\n",
              "    </tr>\n",
              "  </tbody>\n",
              "</table>\n",
              "</div>"
            ],
            "text/plain": [
              "          0         1         2         3\n",
              "0  0.359585  1.215542  0.892177  1.329678\n",
              "1 -0.617157 -0.654074 -2.057540  0.819397\n",
              "2 -0.395263 -0.213881 -1.480265 -0.218335\n",
              "3 -0.225600  1.144069 -0.195683 -0.514230\n",
              "4 -0.108167 -0.965395 -1.617879 -0.241313\n",
              "5 -0.076053 -0.068182 -0.137252 -0.446022\n",
              "6  0.005562  0.375384  0.183405 -0.079463\n",
              "7  0.023188  0.382853 -0.422008  0.953948\n",
              "8 -0.092660 -0.619111  0.962517 -0.546054\n",
              "9  0.614741  0.709864  2.358741 -3.828968"
            ]
          },
          "metadata": {
            "tags": []
          },
          "execution_count": 66
        }
      ]
    },
    {
      "cell_type": "markdown",
      "metadata": {
        "id": "zMDUwZobsO9J"
      },
      "source": [
        "## Join\n",
        "\n",
        "SQL 스타일로 병합이 됩니다."
      ]
    },
    {
      "cell_type": "code",
      "metadata": {
        "colab": {
          "base_uri": "https://localhost:8080/",
          "height": 112
        },
        "id": "unlKN_UHsobN",
        "outputId": "23b6df6e-fc2a-4b6b-8938-bd7635981b2a"
      },
      "source": [
        "left = pd.DataFrame({\"key\" :[\"foo\",\"foo\"], \"lval\" : [1,2]})\n",
        "left"
      ],
      "execution_count": 67,
      "outputs": [
        {
          "output_type": "execute_result",
          "data": {
            "text/html": [
              "<div>\n",
              "<style scoped>\n",
              "    .dataframe tbody tr th:only-of-type {\n",
              "        vertical-align: middle;\n",
              "    }\n",
              "\n",
              "    .dataframe tbody tr th {\n",
              "        vertical-align: top;\n",
              "    }\n",
              "\n",
              "    .dataframe thead th {\n",
              "        text-align: right;\n",
              "    }\n",
              "</style>\n",
              "<table border=\"1\" class=\"dataframe\">\n",
              "  <thead>\n",
              "    <tr style=\"text-align: right;\">\n",
              "      <th></th>\n",
              "      <th>key</th>\n",
              "      <th>lval</th>\n",
              "    </tr>\n",
              "  </thead>\n",
              "  <tbody>\n",
              "    <tr>\n",
              "      <th>0</th>\n",
              "      <td>foo</td>\n",
              "      <td>1</td>\n",
              "    </tr>\n",
              "    <tr>\n",
              "      <th>1</th>\n",
              "      <td>foo</td>\n",
              "      <td>2</td>\n",
              "    </tr>\n",
              "  </tbody>\n",
              "</table>\n",
              "</div>"
            ],
            "text/plain": [
              "   key  lval\n",
              "0  foo     1\n",
              "1  foo     2"
            ]
          },
          "metadata": {
            "tags": []
          },
          "execution_count": 67
        }
      ]
    },
    {
      "cell_type": "code",
      "metadata": {
        "colab": {
          "base_uri": "https://localhost:8080/",
          "height": 112
        },
        "id": "owM6iz7ss2YF",
        "outputId": "407eab48-4d2e-44f5-fd17-c0b2a0622f2c"
      },
      "source": [
        "right = pd.DataFrame({\"key\" :[\"foo\",\"foo\"], \"lval\" : [4,5]})\n",
        "right"
      ],
      "execution_count": 68,
      "outputs": [
        {
          "output_type": "execute_result",
          "data": {
            "text/html": [
              "<div>\n",
              "<style scoped>\n",
              "    .dataframe tbody tr th:only-of-type {\n",
              "        vertical-align: middle;\n",
              "    }\n",
              "\n",
              "    .dataframe tbody tr th {\n",
              "        vertical-align: top;\n",
              "    }\n",
              "\n",
              "    .dataframe thead th {\n",
              "        text-align: right;\n",
              "    }\n",
              "</style>\n",
              "<table border=\"1\" class=\"dataframe\">\n",
              "  <thead>\n",
              "    <tr style=\"text-align: right;\">\n",
              "      <th></th>\n",
              "      <th>key</th>\n",
              "      <th>lval</th>\n",
              "    </tr>\n",
              "  </thead>\n",
              "  <tbody>\n",
              "    <tr>\n",
              "      <th>0</th>\n",
              "      <td>foo</td>\n",
              "      <td>4</td>\n",
              "    </tr>\n",
              "    <tr>\n",
              "      <th>1</th>\n",
              "      <td>foo</td>\n",
              "      <td>5</td>\n",
              "    </tr>\n",
              "  </tbody>\n",
              "</table>\n",
              "</div>"
            ],
            "text/plain": [
              "   key  lval\n",
              "0  foo     4\n",
              "1  foo     5"
            ]
          },
          "metadata": {
            "tags": []
          },
          "execution_count": 68
        }
      ]
    },
    {
      "cell_type": "code",
      "metadata": {
        "colab": {
          "base_uri": "https://localhost:8080/",
          "height": 175
        },
        "id": "Cdcntm1cs3Az",
        "outputId": "a3c26203-4a62-48e9-9616-6966fc3f06c3"
      },
      "source": [
        "pd.merge(left, right, on='key')"
      ],
      "execution_count": 69,
      "outputs": [
        {
          "output_type": "execute_result",
          "data": {
            "text/html": [
              "<div>\n",
              "<style scoped>\n",
              "    .dataframe tbody tr th:only-of-type {\n",
              "        vertical-align: middle;\n",
              "    }\n",
              "\n",
              "    .dataframe tbody tr th {\n",
              "        vertical-align: top;\n",
              "    }\n",
              "\n",
              "    .dataframe thead th {\n",
              "        text-align: right;\n",
              "    }\n",
              "</style>\n",
              "<table border=\"1\" class=\"dataframe\">\n",
              "  <thead>\n",
              "    <tr style=\"text-align: right;\">\n",
              "      <th></th>\n",
              "      <th>key</th>\n",
              "      <th>lval_x</th>\n",
              "      <th>lval_y</th>\n",
              "    </tr>\n",
              "  </thead>\n",
              "  <tbody>\n",
              "    <tr>\n",
              "      <th>0</th>\n",
              "      <td>foo</td>\n",
              "      <td>1</td>\n",
              "      <td>4</td>\n",
              "    </tr>\n",
              "    <tr>\n",
              "      <th>1</th>\n",
              "      <td>foo</td>\n",
              "      <td>1</td>\n",
              "      <td>5</td>\n",
              "    </tr>\n",
              "    <tr>\n",
              "      <th>2</th>\n",
              "      <td>foo</td>\n",
              "      <td>2</td>\n",
              "      <td>4</td>\n",
              "    </tr>\n",
              "    <tr>\n",
              "      <th>3</th>\n",
              "      <td>foo</td>\n",
              "      <td>2</td>\n",
              "      <td>5</td>\n",
              "    </tr>\n",
              "  </tbody>\n",
              "</table>\n",
              "</div>"
            ],
            "text/plain": [
              "   key  lval_x  lval_y\n",
              "0  foo       1       4\n",
              "1  foo       1       5\n",
              "2  foo       2       4\n",
              "3  foo       2       5"
            ]
          },
          "metadata": {
            "tags": []
          },
          "execution_count": 69
        }
      ]
    },
    {
      "cell_type": "markdown",
      "metadata": {
        "id": "AkIsgmpqtJ_o"
      },
      "source": [
        "다른 예를 보자면"
      ]
    },
    {
      "cell_type": "code",
      "metadata": {
        "colab": {
          "base_uri": "https://localhost:8080/",
          "height": 112
        },
        "id": "HeOvJI_zs_44",
        "outputId": "1973f2bc-2dbc-4e45-b68e-264074d74211"
      },
      "source": [
        "left = pd.DataFrame({\"key\" : [\"foo\",\"bar\"], \"lval\" : [1,2]})\n",
        "left"
      ],
      "execution_count": 70,
      "outputs": [
        {
          "output_type": "execute_result",
          "data": {
            "text/html": [
              "<div>\n",
              "<style scoped>\n",
              "    .dataframe tbody tr th:only-of-type {\n",
              "        vertical-align: middle;\n",
              "    }\n",
              "\n",
              "    .dataframe tbody tr th {\n",
              "        vertical-align: top;\n",
              "    }\n",
              "\n",
              "    .dataframe thead th {\n",
              "        text-align: right;\n",
              "    }\n",
              "</style>\n",
              "<table border=\"1\" class=\"dataframe\">\n",
              "  <thead>\n",
              "    <tr style=\"text-align: right;\">\n",
              "      <th></th>\n",
              "      <th>key</th>\n",
              "      <th>lval</th>\n",
              "    </tr>\n",
              "  </thead>\n",
              "  <tbody>\n",
              "    <tr>\n",
              "      <th>0</th>\n",
              "      <td>foo</td>\n",
              "      <td>1</td>\n",
              "    </tr>\n",
              "    <tr>\n",
              "      <th>1</th>\n",
              "      <td>bar</td>\n",
              "      <td>2</td>\n",
              "    </tr>\n",
              "  </tbody>\n",
              "</table>\n",
              "</div>"
            ],
            "text/plain": [
              "   key  lval\n",
              "0  foo     1\n",
              "1  bar     2"
            ]
          },
          "metadata": {
            "tags": []
          },
          "execution_count": 70
        }
      ]
    },
    {
      "cell_type": "code",
      "metadata": {
        "colab": {
          "base_uri": "https://localhost:8080/",
          "height": 112
        },
        "id": "yWMdb3OstYIF",
        "outputId": "1f1422a8-c06e-41f5-a8c4-9fa7baa98ce6"
      },
      "source": [
        "right = pd.DataFrame({\"key\" :[\"foo\",\"bar\"], \"lval\" : [4,5]})\n",
        "right"
      ],
      "execution_count": 71,
      "outputs": [
        {
          "output_type": "execute_result",
          "data": {
            "text/html": [
              "<div>\n",
              "<style scoped>\n",
              "    .dataframe tbody tr th:only-of-type {\n",
              "        vertical-align: middle;\n",
              "    }\n",
              "\n",
              "    .dataframe tbody tr th {\n",
              "        vertical-align: top;\n",
              "    }\n",
              "\n",
              "    .dataframe thead th {\n",
              "        text-align: right;\n",
              "    }\n",
              "</style>\n",
              "<table border=\"1\" class=\"dataframe\">\n",
              "  <thead>\n",
              "    <tr style=\"text-align: right;\">\n",
              "      <th></th>\n",
              "      <th>key</th>\n",
              "      <th>lval</th>\n",
              "    </tr>\n",
              "  </thead>\n",
              "  <tbody>\n",
              "    <tr>\n",
              "      <th>0</th>\n",
              "      <td>foo</td>\n",
              "      <td>4</td>\n",
              "    </tr>\n",
              "    <tr>\n",
              "      <th>1</th>\n",
              "      <td>bar</td>\n",
              "      <td>5</td>\n",
              "    </tr>\n",
              "  </tbody>\n",
              "</table>\n",
              "</div>"
            ],
            "text/plain": [
              "   key  lval\n",
              "0  foo     4\n",
              "1  bar     5"
            ]
          },
          "metadata": {
            "tags": []
          },
          "execution_count": 71
        }
      ]
    },
    {
      "cell_type": "code",
      "metadata": {
        "colab": {
          "base_uri": "https://localhost:8080/",
          "height": 112
        },
        "id": "ru_lM6YxtaFU",
        "outputId": "655c1c46-aebc-45d9-ea11-366e8ed50a80"
      },
      "source": [
        "pd.merge(left, right, on='key')"
      ],
      "execution_count": 72,
      "outputs": [
        {
          "output_type": "execute_result",
          "data": {
            "text/html": [
              "<div>\n",
              "<style scoped>\n",
              "    .dataframe tbody tr th:only-of-type {\n",
              "        vertical-align: middle;\n",
              "    }\n",
              "\n",
              "    .dataframe tbody tr th {\n",
              "        vertical-align: top;\n",
              "    }\n",
              "\n",
              "    .dataframe thead th {\n",
              "        text-align: right;\n",
              "    }\n",
              "</style>\n",
              "<table border=\"1\" class=\"dataframe\">\n",
              "  <thead>\n",
              "    <tr style=\"text-align: right;\">\n",
              "      <th></th>\n",
              "      <th>key</th>\n",
              "      <th>lval_x</th>\n",
              "      <th>lval_y</th>\n",
              "    </tr>\n",
              "  </thead>\n",
              "  <tbody>\n",
              "    <tr>\n",
              "      <th>0</th>\n",
              "      <td>foo</td>\n",
              "      <td>1</td>\n",
              "      <td>4</td>\n",
              "    </tr>\n",
              "    <tr>\n",
              "      <th>1</th>\n",
              "      <td>bar</td>\n",
              "      <td>2</td>\n",
              "      <td>5</td>\n",
              "    </tr>\n",
              "  </tbody>\n",
              "</table>\n",
              "</div>"
            ],
            "text/plain": [
              "   key  lval_x  lval_y\n",
              "0  foo       1       4\n",
              "1  bar       2       5"
            ]
          },
          "metadata": {
            "tags": []
          },
          "execution_count": 72
        }
      ]
    },
    {
      "cell_type": "markdown",
      "metadata": {
        "id": "Dkftr4Uz-e5J"
      },
      "source": [
        "# Grouping\n",
        "'group by' 란 다음 단계 중 하나이상을 포함하는 프로세스를 의미합니다.\n",
        "- 일부 기준에 따라 데이터를 그룹으로 나눕니다.\n",
        "- 각 그룹에 독립적으로 기능을 적용합니다.\n",
        "- 결과를 데이터 구조로 결합합니다.\n"
      ]
    },
    {
      "cell_type": "code",
      "metadata": {
        "colab": {
          "base_uri": "https://localhost:8080/",
          "height": 300
        },
        "id": "3-bJMmDp-3OL",
        "outputId": "9b88eb6f-21fc-4598-da64-043fb0920731"
      },
      "source": [
        "df = pd.DataFrame(\n",
        "    {\n",
        "        \"A\" : [\"foo\",'bar','foo','bar','foo','bar','foo','foo'],\n",
        "        \"B\" : [\"one\",\"one\",\"two\",\"three\",\"two\",'two','one','three'],\n",
        "        \"C\" : np.random.randn(8),\n",
        "        \"D\" : np.random.randn(8)\n",
        "    }\n",
        ")\n",
        "df"
      ],
      "execution_count": 73,
      "outputs": [
        {
          "output_type": "execute_result",
          "data": {
            "text/html": [
              "<div>\n",
              "<style scoped>\n",
              "    .dataframe tbody tr th:only-of-type {\n",
              "        vertical-align: middle;\n",
              "    }\n",
              "\n",
              "    .dataframe tbody tr th {\n",
              "        vertical-align: top;\n",
              "    }\n",
              "\n",
              "    .dataframe thead th {\n",
              "        text-align: right;\n",
              "    }\n",
              "</style>\n",
              "<table border=\"1\" class=\"dataframe\">\n",
              "  <thead>\n",
              "    <tr style=\"text-align: right;\">\n",
              "      <th></th>\n",
              "      <th>A</th>\n",
              "      <th>B</th>\n",
              "      <th>C</th>\n",
              "      <th>D</th>\n",
              "    </tr>\n",
              "  </thead>\n",
              "  <tbody>\n",
              "    <tr>\n",
              "      <th>0</th>\n",
              "      <td>foo</td>\n",
              "      <td>one</td>\n",
              "      <td>0.853571</td>\n",
              "      <td>0.358362</td>\n",
              "    </tr>\n",
              "    <tr>\n",
              "      <th>1</th>\n",
              "      <td>bar</td>\n",
              "      <td>one</td>\n",
              "      <td>-0.143814</td>\n",
              "      <td>0.238882</td>\n",
              "    </tr>\n",
              "    <tr>\n",
              "      <th>2</th>\n",
              "      <td>foo</td>\n",
              "      <td>two</td>\n",
              "      <td>-0.205321</td>\n",
              "      <td>0.951495</td>\n",
              "    </tr>\n",
              "    <tr>\n",
              "      <th>3</th>\n",
              "      <td>bar</td>\n",
              "      <td>three</td>\n",
              "      <td>2.236460</td>\n",
              "      <td>-1.388791</td>\n",
              "    </tr>\n",
              "    <tr>\n",
              "      <th>4</th>\n",
              "      <td>foo</td>\n",
              "      <td>two</td>\n",
              "      <td>0.126611</td>\n",
              "      <td>0.008446</td>\n",
              "    </tr>\n",
              "    <tr>\n",
              "      <th>5</th>\n",
              "      <td>bar</td>\n",
              "      <td>two</td>\n",
              "      <td>0.115066</td>\n",
              "      <td>-0.106892</td>\n",
              "    </tr>\n",
              "    <tr>\n",
              "      <th>6</th>\n",
              "      <td>foo</td>\n",
              "      <td>one</td>\n",
              "      <td>-1.048651</td>\n",
              "      <td>0.247068</td>\n",
              "    </tr>\n",
              "    <tr>\n",
              "      <th>7</th>\n",
              "      <td>foo</td>\n",
              "      <td>three</td>\n",
              "      <td>0.333300</td>\n",
              "      <td>-0.765733</td>\n",
              "    </tr>\n",
              "  </tbody>\n",
              "</table>\n",
              "</div>"
            ],
            "text/plain": [
              "     A      B         C         D\n",
              "0  foo    one  0.853571  0.358362\n",
              "1  bar    one -0.143814  0.238882\n",
              "2  foo    two -0.205321  0.951495\n",
              "3  bar  three  2.236460 -1.388791\n",
              "4  foo    two  0.126611  0.008446\n",
              "5  bar    two  0.115066 -0.106892\n",
              "6  foo    one -1.048651  0.247068\n",
              "7  foo  three  0.333300 -0.765733"
            ]
          },
          "metadata": {
            "tags": []
          },
          "execution_count": 73
        }
      ]
    },
    {
      "cell_type": "markdown",
      "metadata": {
        "id": "DG2vrtBo_S6r"
      },
      "source": [
        "그룹으로 결합후에 sum() 함수를 적용합니다.\n"
      ]
    },
    {
      "cell_type": "code",
      "metadata": {
        "colab": {
          "base_uri": "https://localhost:8080/",
          "height": 143
        },
        "id": "WpDJjQsi_OX9",
        "outputId": "0e89ae9f-79d5-41d2-9d5c-115e13342e20"
      },
      "source": [
        "df.groupby(\"A\").sum()"
      ],
      "execution_count": 74,
      "outputs": [
        {
          "output_type": "execute_result",
          "data": {
            "text/html": [
              "<div>\n",
              "<style scoped>\n",
              "    .dataframe tbody tr th:only-of-type {\n",
              "        vertical-align: middle;\n",
              "    }\n",
              "\n",
              "    .dataframe tbody tr th {\n",
              "        vertical-align: top;\n",
              "    }\n",
              "\n",
              "    .dataframe thead th {\n",
              "        text-align: right;\n",
              "    }\n",
              "</style>\n",
              "<table border=\"1\" class=\"dataframe\">\n",
              "  <thead>\n",
              "    <tr style=\"text-align: right;\">\n",
              "      <th></th>\n",
              "      <th>C</th>\n",
              "      <th>D</th>\n",
              "    </tr>\n",
              "    <tr>\n",
              "      <th>A</th>\n",
              "      <th></th>\n",
              "      <th></th>\n",
              "    </tr>\n",
              "  </thead>\n",
              "  <tbody>\n",
              "    <tr>\n",
              "      <th>bar</th>\n",
              "      <td>2.207712</td>\n",
              "      <td>-1.256801</td>\n",
              "    </tr>\n",
              "    <tr>\n",
              "      <th>foo</th>\n",
              "      <td>0.059511</td>\n",
              "      <td>0.799638</td>\n",
              "    </tr>\n",
              "  </tbody>\n",
              "</table>\n",
              "</div>"
            ],
            "text/plain": [
              "            C         D\n",
              "A                      \n",
              "bar  2.207712 -1.256801\n",
              "foo  0.059511  0.799638"
            ]
          },
          "metadata": {
            "tags": []
          },
          "execution_count": 74
        }
      ]
    },
    {
      "cell_type": "markdown",
      "metadata": {
        "id": "MRJ_c3ilRdxV"
      },
      "source": [
        "# Reshaping"
      ]
    },
    {
      "cell_type": "markdown",
      "metadata": {
        "id": "Yzdtm_xoRgXK"
      },
      "source": [
        "## Stack"
      ]
    },
    {
      "cell_type": "code",
      "metadata": {
        "colab": {
          "base_uri": "https://localhost:8080/",
          "height": 206
        },
        "id": "UAIvEdC6Rm3w",
        "outputId": "4e9fb7a4-bb9d-4e92-837e-e15e9c4e7e18"
      },
      "source": [
        "tuples = list(\n",
        "    zip(\n",
        "        *[\n",
        "          [\"bar\",\"bar\",\"baz\",\"baz\",\"foo\",\"foo\",\"qux\",\"qux\"],\n",
        "          [\"one\",\"two\",\"one\",\"two\",\"one\",\"two\",\"one\",'two'],\n",
        "        ]\n",
        "    )\n",
        ")\n",
        "\n",
        "index = pd.MultiIndex.from_tuples(tuples, names=['first','second'])\n",
        "df = pd.DataFrame(np.random.randn(8,2), index=index, columns=[\"A\",\"B\"])\n",
        "df2 = df[:4]\n",
        "df2"
      ],
      "execution_count": 75,
      "outputs": [
        {
          "output_type": "execute_result",
          "data": {
            "text/html": [
              "<div>\n",
              "<style scoped>\n",
              "    .dataframe tbody tr th:only-of-type {\n",
              "        vertical-align: middle;\n",
              "    }\n",
              "\n",
              "    .dataframe tbody tr th {\n",
              "        vertical-align: top;\n",
              "    }\n",
              "\n",
              "    .dataframe thead th {\n",
              "        text-align: right;\n",
              "    }\n",
              "</style>\n",
              "<table border=\"1\" class=\"dataframe\">\n",
              "  <thead>\n",
              "    <tr style=\"text-align: right;\">\n",
              "      <th></th>\n",
              "      <th></th>\n",
              "      <th>A</th>\n",
              "      <th>B</th>\n",
              "    </tr>\n",
              "    <tr>\n",
              "      <th>first</th>\n",
              "      <th>second</th>\n",
              "      <th></th>\n",
              "      <th></th>\n",
              "    </tr>\n",
              "  </thead>\n",
              "  <tbody>\n",
              "    <tr>\n",
              "      <th rowspan=\"2\" valign=\"top\">bar</th>\n",
              "      <th>one</th>\n",
              "      <td>0.518667</td>\n",
              "      <td>-0.656676</td>\n",
              "    </tr>\n",
              "    <tr>\n",
              "      <th>two</th>\n",
              "      <td>0.531114</td>\n",
              "      <td>1.040235</td>\n",
              "    </tr>\n",
              "    <tr>\n",
              "      <th rowspan=\"2\" valign=\"top\">baz</th>\n",
              "      <th>one</th>\n",
              "      <td>-0.653219</td>\n",
              "      <td>0.892941</td>\n",
              "    </tr>\n",
              "    <tr>\n",
              "      <th>two</th>\n",
              "      <td>-1.005991</td>\n",
              "      <td>0.166583</td>\n",
              "    </tr>\n",
              "  </tbody>\n",
              "</table>\n",
              "</div>"
            ],
            "text/plain": [
              "                     A         B\n",
              "first second                    \n",
              "bar   one     0.518667 -0.656676\n",
              "      two     0.531114  1.040235\n",
              "baz   one    -0.653219  0.892941\n",
              "      two    -1.005991  0.166583"
            ]
          },
          "metadata": {
            "tags": []
          },
          "execution_count": 75
        }
      ]
    },
    {
      "cell_type": "markdown",
      "metadata": {
        "id": "slWmdSv7SpWJ"
      },
      "source": [
        "stack() 메서드는 DataFrame 열의 수준을 압축합니다."
      ]
    },
    {
      "cell_type": "code",
      "metadata": {
        "colab": {
          "base_uri": "https://localhost:8080/"
        },
        "id": "CdYVCVt6SWXs",
        "outputId": "6cec0af9-6fb3-42eb-c85f-4e8ddceec422"
      },
      "source": [
        "stacked = df2.stack()\n",
        "stacked\n"
      ],
      "execution_count": 76,
      "outputs": [
        {
          "output_type": "execute_result",
          "data": {
            "text/plain": [
              "first  second   \n",
              "bar    one     A    0.518667\n",
              "               B   -0.656676\n",
              "       two     A    0.531114\n",
              "               B    1.040235\n",
              "baz    one     A   -0.653219\n",
              "               B    0.892941\n",
              "       two     A   -1.005991\n",
              "               B    0.166583\n",
              "dtype: float64"
            ]
          },
          "metadata": {
            "tags": []
          },
          "execution_count": 76
        }
      ]
    },
    {
      "cell_type": "markdown",
      "metadata": {
        "id": "_00dg21mTFR2"
      },
      "source": [
        "stacked DataFrame 이나 Series를 역 stack() 한 메서드는 unstack()입니다."
      ]
    },
    {
      "cell_type": "code",
      "metadata": {
        "colab": {
          "base_uri": "https://localhost:8080/",
          "height": 206
        },
        "id": "KME7N4HTSmUp",
        "outputId": "2a16eb6c-546c-47ac-dfcf-dfc29d38e860"
      },
      "source": [
        "stacked.unstack()"
      ],
      "execution_count": 77,
      "outputs": [
        {
          "output_type": "execute_result",
          "data": {
            "text/html": [
              "<div>\n",
              "<style scoped>\n",
              "    .dataframe tbody tr th:only-of-type {\n",
              "        vertical-align: middle;\n",
              "    }\n",
              "\n",
              "    .dataframe tbody tr th {\n",
              "        vertical-align: top;\n",
              "    }\n",
              "\n",
              "    .dataframe thead th {\n",
              "        text-align: right;\n",
              "    }\n",
              "</style>\n",
              "<table border=\"1\" class=\"dataframe\">\n",
              "  <thead>\n",
              "    <tr style=\"text-align: right;\">\n",
              "      <th></th>\n",
              "      <th></th>\n",
              "      <th>A</th>\n",
              "      <th>B</th>\n",
              "    </tr>\n",
              "    <tr>\n",
              "      <th>first</th>\n",
              "      <th>second</th>\n",
              "      <th></th>\n",
              "      <th></th>\n",
              "    </tr>\n",
              "  </thead>\n",
              "  <tbody>\n",
              "    <tr>\n",
              "      <th rowspan=\"2\" valign=\"top\">bar</th>\n",
              "      <th>one</th>\n",
              "      <td>0.518667</td>\n",
              "      <td>-0.656676</td>\n",
              "    </tr>\n",
              "    <tr>\n",
              "      <th>two</th>\n",
              "      <td>0.531114</td>\n",
              "      <td>1.040235</td>\n",
              "    </tr>\n",
              "    <tr>\n",
              "      <th rowspan=\"2\" valign=\"top\">baz</th>\n",
              "      <th>one</th>\n",
              "      <td>-0.653219</td>\n",
              "      <td>0.892941</td>\n",
              "    </tr>\n",
              "    <tr>\n",
              "      <th>two</th>\n",
              "      <td>-1.005991</td>\n",
              "      <td>0.166583</td>\n",
              "    </tr>\n",
              "  </tbody>\n",
              "</table>\n",
              "</div>"
            ],
            "text/plain": [
              "                     A         B\n",
              "first second                    \n",
              "bar   one     0.518667 -0.656676\n",
              "      two     0.531114  1.040235\n",
              "baz   one    -0.653219  0.892941\n",
              "      two    -1.005991  0.166583"
            ]
          },
          "metadata": {
            "tags": []
          },
          "execution_count": 77
        }
      ]
    },
    {
      "cell_type": "code",
      "metadata": {
        "colab": {
          "base_uri": "https://localhost:8080/",
          "height": 206
        },
        "id": "4Bsy5p39S6cM",
        "outputId": "98a41dec-962e-43a8-f326-549351b532a2"
      },
      "source": [
        "stacked.unstack(1)"
      ],
      "execution_count": 78,
      "outputs": [
        {
          "output_type": "execute_result",
          "data": {
            "text/html": [
              "<div>\n",
              "<style scoped>\n",
              "    .dataframe tbody tr th:only-of-type {\n",
              "        vertical-align: middle;\n",
              "    }\n",
              "\n",
              "    .dataframe tbody tr th {\n",
              "        vertical-align: top;\n",
              "    }\n",
              "\n",
              "    .dataframe thead th {\n",
              "        text-align: right;\n",
              "    }\n",
              "</style>\n",
              "<table border=\"1\" class=\"dataframe\">\n",
              "  <thead>\n",
              "    <tr style=\"text-align: right;\">\n",
              "      <th></th>\n",
              "      <th>second</th>\n",
              "      <th>one</th>\n",
              "      <th>two</th>\n",
              "    </tr>\n",
              "    <tr>\n",
              "      <th>first</th>\n",
              "      <th></th>\n",
              "      <th></th>\n",
              "      <th></th>\n",
              "    </tr>\n",
              "  </thead>\n",
              "  <tbody>\n",
              "    <tr>\n",
              "      <th rowspan=\"2\" valign=\"top\">bar</th>\n",
              "      <th>A</th>\n",
              "      <td>0.518667</td>\n",
              "      <td>0.531114</td>\n",
              "    </tr>\n",
              "    <tr>\n",
              "      <th>B</th>\n",
              "      <td>-0.656676</td>\n",
              "      <td>1.040235</td>\n",
              "    </tr>\n",
              "    <tr>\n",
              "      <th rowspan=\"2\" valign=\"top\">baz</th>\n",
              "      <th>A</th>\n",
              "      <td>-0.653219</td>\n",
              "      <td>-1.005991</td>\n",
              "    </tr>\n",
              "    <tr>\n",
              "      <th>B</th>\n",
              "      <td>0.892941</td>\n",
              "      <td>0.166583</td>\n",
              "    </tr>\n",
              "  </tbody>\n",
              "</table>\n",
              "</div>"
            ],
            "text/plain": [
              "second        one       two\n",
              "first                      \n",
              "bar   A  0.518667  0.531114\n",
              "      B -0.656676  1.040235\n",
              "baz   A -0.653219 -1.005991\n",
              "      B  0.892941  0.166583"
            ]
          },
          "metadata": {
            "tags": []
          },
          "execution_count": 78
        }
      ]
    },
    {
      "cell_type": "code",
      "metadata": {
        "colab": {
          "base_uri": "https://localhost:8080/",
          "height": 206
        },
        "id": "l2-Uo5hxS-a8",
        "outputId": "ccc9eb6c-eb72-4ae8-9e07-ebdb835c99ce"
      },
      "source": [
        "stacked.unstack(0)"
      ],
      "execution_count": 79,
      "outputs": [
        {
          "output_type": "execute_result",
          "data": {
            "text/html": [
              "<div>\n",
              "<style scoped>\n",
              "    .dataframe tbody tr th:only-of-type {\n",
              "        vertical-align: middle;\n",
              "    }\n",
              "\n",
              "    .dataframe tbody tr th {\n",
              "        vertical-align: top;\n",
              "    }\n",
              "\n",
              "    .dataframe thead th {\n",
              "        text-align: right;\n",
              "    }\n",
              "</style>\n",
              "<table border=\"1\" class=\"dataframe\">\n",
              "  <thead>\n",
              "    <tr style=\"text-align: right;\">\n",
              "      <th></th>\n",
              "      <th>first</th>\n",
              "      <th>bar</th>\n",
              "      <th>baz</th>\n",
              "    </tr>\n",
              "    <tr>\n",
              "      <th>second</th>\n",
              "      <th></th>\n",
              "      <th></th>\n",
              "      <th></th>\n",
              "    </tr>\n",
              "  </thead>\n",
              "  <tbody>\n",
              "    <tr>\n",
              "      <th rowspan=\"2\" valign=\"top\">one</th>\n",
              "      <th>A</th>\n",
              "      <td>0.518667</td>\n",
              "      <td>-0.653219</td>\n",
              "    </tr>\n",
              "    <tr>\n",
              "      <th>B</th>\n",
              "      <td>-0.656676</td>\n",
              "      <td>0.892941</td>\n",
              "    </tr>\n",
              "    <tr>\n",
              "      <th rowspan=\"2\" valign=\"top\">two</th>\n",
              "      <th>A</th>\n",
              "      <td>0.531114</td>\n",
              "      <td>-1.005991</td>\n",
              "    </tr>\n",
              "    <tr>\n",
              "      <th>B</th>\n",
              "      <td>1.040235</td>\n",
              "      <td>0.166583</td>\n",
              "    </tr>\n",
              "  </tbody>\n",
              "</table>\n",
              "</div>"
            ],
            "text/plain": [
              "first          bar       baz\n",
              "second                      \n",
              "one    A  0.518667 -0.653219\n",
              "       B -0.656676  0.892941\n",
              "two    A  0.531114 -1.005991\n",
              "       B  1.040235  0.166583"
            ]
          },
          "metadata": {
            "tags": []
          },
          "execution_count": 79
        }
      ]
    },
    {
      "cell_type": "markdown",
      "metadata": {
        "id": "30_yN3gDT1ag"
      },
      "source": [
        "## Pivot tables"
      ]
    },
    {
      "cell_type": "code",
      "metadata": {
        "colab": {
          "base_uri": "https://localhost:8080/",
          "height": 425
        },
        "id": "cc_3062HT3tP",
        "outputId": "37d5a2b0-1e9a-4db0-f76b-70f910d49adb"
      },
      "source": [
        "df = pd.DataFrame(\n",
        "    {\n",
        "    \"A\" : [\"one\", \"one\",\"two\",\"three\"] * 3,\n",
        "    \"B\" : [\"A\",\"B\",\"C\"] * 4,\n",
        "    \"C\" : [\"foo\",\"foo\",\"foo\",\"bar\",\"bar\",\"bar\"] * 2,\n",
        "    \"D\" : np.random.randn(12),\n",
        "    \"E\" : np.random.randn(12),\n",
        "    }\n",
        ")\n",
        "df"
      ],
      "execution_count": 80,
      "outputs": [
        {
          "output_type": "execute_result",
          "data": {
            "text/html": [
              "<div>\n",
              "<style scoped>\n",
              "    .dataframe tbody tr th:only-of-type {\n",
              "        vertical-align: middle;\n",
              "    }\n",
              "\n",
              "    .dataframe tbody tr th {\n",
              "        vertical-align: top;\n",
              "    }\n",
              "\n",
              "    .dataframe thead th {\n",
              "        text-align: right;\n",
              "    }\n",
              "</style>\n",
              "<table border=\"1\" class=\"dataframe\">\n",
              "  <thead>\n",
              "    <tr style=\"text-align: right;\">\n",
              "      <th></th>\n",
              "      <th>A</th>\n",
              "      <th>B</th>\n",
              "      <th>C</th>\n",
              "      <th>D</th>\n",
              "      <th>E</th>\n",
              "    </tr>\n",
              "  </thead>\n",
              "  <tbody>\n",
              "    <tr>\n",
              "      <th>0</th>\n",
              "      <td>one</td>\n",
              "      <td>A</td>\n",
              "      <td>foo</td>\n",
              "      <td>0.621777</td>\n",
              "      <td>-0.011043</td>\n",
              "    </tr>\n",
              "    <tr>\n",
              "      <th>1</th>\n",
              "      <td>one</td>\n",
              "      <td>B</td>\n",
              "      <td>foo</td>\n",
              "      <td>-1.221544</td>\n",
              "      <td>-1.496055</td>\n",
              "    </tr>\n",
              "    <tr>\n",
              "      <th>2</th>\n",
              "      <td>two</td>\n",
              "      <td>C</td>\n",
              "      <td>foo</td>\n",
              "      <td>0.236948</td>\n",
              "      <td>-0.483607</td>\n",
              "    </tr>\n",
              "    <tr>\n",
              "      <th>3</th>\n",
              "      <td>three</td>\n",
              "      <td>A</td>\n",
              "      <td>bar</td>\n",
              "      <td>-1.986187</td>\n",
              "      <td>-1.236605</td>\n",
              "    </tr>\n",
              "    <tr>\n",
              "      <th>4</th>\n",
              "      <td>one</td>\n",
              "      <td>B</td>\n",
              "      <td>bar</td>\n",
              "      <td>-0.240473</td>\n",
              "      <td>0.572911</td>\n",
              "    </tr>\n",
              "    <tr>\n",
              "      <th>5</th>\n",
              "      <td>one</td>\n",
              "      <td>C</td>\n",
              "      <td>bar</td>\n",
              "      <td>0.425397</td>\n",
              "      <td>0.356955</td>\n",
              "    </tr>\n",
              "    <tr>\n",
              "      <th>6</th>\n",
              "      <td>two</td>\n",
              "      <td>A</td>\n",
              "      <td>foo</td>\n",
              "      <td>1.359007</td>\n",
              "      <td>0.037344</td>\n",
              "    </tr>\n",
              "    <tr>\n",
              "      <th>7</th>\n",
              "      <td>three</td>\n",
              "      <td>B</td>\n",
              "      <td>foo</td>\n",
              "      <td>-0.999906</td>\n",
              "      <td>-0.711101</td>\n",
              "    </tr>\n",
              "    <tr>\n",
              "      <th>8</th>\n",
              "      <td>one</td>\n",
              "      <td>C</td>\n",
              "      <td>foo</td>\n",
              "      <td>-0.408506</td>\n",
              "      <td>-0.826765</td>\n",
              "    </tr>\n",
              "    <tr>\n",
              "      <th>9</th>\n",
              "      <td>one</td>\n",
              "      <td>A</td>\n",
              "      <td>bar</td>\n",
              "      <td>-1.785168</td>\n",
              "      <td>-0.737807</td>\n",
              "    </tr>\n",
              "    <tr>\n",
              "      <th>10</th>\n",
              "      <td>two</td>\n",
              "      <td>B</td>\n",
              "      <td>bar</td>\n",
              "      <td>-1.016501</td>\n",
              "      <td>-1.359418</td>\n",
              "    </tr>\n",
              "    <tr>\n",
              "      <th>11</th>\n",
              "      <td>three</td>\n",
              "      <td>C</td>\n",
              "      <td>bar</td>\n",
              "      <td>-0.434421</td>\n",
              "      <td>-0.656760</td>\n",
              "    </tr>\n",
              "  </tbody>\n",
              "</table>\n",
              "</div>"
            ],
            "text/plain": [
              "        A  B    C         D         E\n",
              "0     one  A  foo  0.621777 -0.011043\n",
              "1     one  B  foo -1.221544 -1.496055\n",
              "2     two  C  foo  0.236948 -0.483607\n",
              "3   three  A  bar -1.986187 -1.236605\n",
              "4     one  B  bar -0.240473  0.572911\n",
              "5     one  C  bar  0.425397  0.356955\n",
              "6     two  A  foo  1.359007  0.037344\n",
              "7   three  B  foo -0.999906 -0.711101\n",
              "8     one  C  foo -0.408506 -0.826765\n",
              "9     one  A  bar -1.785168 -0.737807\n",
              "10    two  B  bar -1.016501 -1.359418\n",
              "11  three  C  bar -0.434421 -0.656760"
            ]
          },
          "metadata": {
            "tags": []
          },
          "execution_count": 80
        }
      ]
    },
    {
      "cell_type": "code",
      "metadata": {
        "colab": {
          "base_uri": "https://localhost:8080/",
          "height": 363
        },
        "id": "87p873lJUNpU",
        "outputId": "b82523c6-e0a4-4cec-b989-843befbd7843"
      },
      "source": [
        "pd.pivot_table(df, values=\"D\", index=[\"A\",\"B\"], columns=[\"C\"])"
      ],
      "execution_count": 81,
      "outputs": [
        {
          "output_type": "execute_result",
          "data": {
            "text/html": [
              "<div>\n",
              "<style scoped>\n",
              "    .dataframe tbody tr th:only-of-type {\n",
              "        vertical-align: middle;\n",
              "    }\n",
              "\n",
              "    .dataframe tbody tr th {\n",
              "        vertical-align: top;\n",
              "    }\n",
              "\n",
              "    .dataframe thead th {\n",
              "        text-align: right;\n",
              "    }\n",
              "</style>\n",
              "<table border=\"1\" class=\"dataframe\">\n",
              "  <thead>\n",
              "    <tr style=\"text-align: right;\">\n",
              "      <th></th>\n",
              "      <th>C</th>\n",
              "      <th>bar</th>\n",
              "      <th>foo</th>\n",
              "    </tr>\n",
              "    <tr>\n",
              "      <th>A</th>\n",
              "      <th>B</th>\n",
              "      <th></th>\n",
              "      <th></th>\n",
              "    </tr>\n",
              "  </thead>\n",
              "  <tbody>\n",
              "    <tr>\n",
              "      <th rowspan=\"3\" valign=\"top\">one</th>\n",
              "      <th>A</th>\n",
              "      <td>-1.785168</td>\n",
              "      <td>0.621777</td>\n",
              "    </tr>\n",
              "    <tr>\n",
              "      <th>B</th>\n",
              "      <td>-0.240473</td>\n",
              "      <td>-1.221544</td>\n",
              "    </tr>\n",
              "    <tr>\n",
              "      <th>C</th>\n",
              "      <td>0.425397</td>\n",
              "      <td>-0.408506</td>\n",
              "    </tr>\n",
              "    <tr>\n",
              "      <th rowspan=\"3\" valign=\"top\">three</th>\n",
              "      <th>A</th>\n",
              "      <td>-1.986187</td>\n",
              "      <td>NaN</td>\n",
              "    </tr>\n",
              "    <tr>\n",
              "      <th>B</th>\n",
              "      <td>NaN</td>\n",
              "      <td>-0.999906</td>\n",
              "    </tr>\n",
              "    <tr>\n",
              "      <th>C</th>\n",
              "      <td>-0.434421</td>\n",
              "      <td>NaN</td>\n",
              "    </tr>\n",
              "    <tr>\n",
              "      <th rowspan=\"3\" valign=\"top\">two</th>\n",
              "      <th>A</th>\n",
              "      <td>NaN</td>\n",
              "      <td>1.359007</td>\n",
              "    </tr>\n",
              "    <tr>\n",
              "      <th>B</th>\n",
              "      <td>-1.016501</td>\n",
              "      <td>NaN</td>\n",
              "    </tr>\n",
              "    <tr>\n",
              "      <th>C</th>\n",
              "      <td>NaN</td>\n",
              "      <td>0.236948</td>\n",
              "    </tr>\n",
              "  </tbody>\n",
              "</table>\n",
              "</div>"
            ],
            "text/plain": [
              "C             bar       foo\n",
              "A     B                    \n",
              "one   A -1.785168  0.621777\n",
              "      B -0.240473 -1.221544\n",
              "      C  0.425397 -0.408506\n",
              "three A -1.986187       NaN\n",
              "      B       NaN -0.999906\n",
              "      C -0.434421       NaN\n",
              "two   A       NaN  1.359007\n",
              "      B -1.016501       NaN\n",
              "      C       NaN  0.236948"
            ]
          },
          "metadata": {
            "tags": []
          },
          "execution_count": 81
        }
      ]
    },
    {
      "cell_type": "markdown",
      "metadata": {
        "id": "YrFG5J8N_p2J"
      },
      "source": [
        "# Time series"
      ]
    },
    {
      "cell_type": "code",
      "metadata": {
        "colab": {
          "base_uri": "https://localhost:8080/"
        },
        "id": "KlI4k6EI_tZi",
        "outputId": "88e02ddd-251e-4cf1-feaf-631fd40bd9d4"
      },
      "source": [
        "rng = pd.date_range(\"1/1/2012\", periods=100, freq=\"S\")\n",
        "ts = pd.Series(np.random.randint(0, 500, len(rng)), index=rng)\n",
        "ts.resample('5Min').sum()"
      ],
      "execution_count": 82,
      "outputs": [
        {
          "output_type": "execute_result",
          "data": {
            "text/plain": [
              "2012-01-01    24808\n",
              "Freq: 5T, dtype: int64"
            ]
          },
          "metadata": {
            "tags": []
          },
          "execution_count": 82
        }
      ]
    },
    {
      "cell_type": "code",
      "metadata": {
        "colab": {
          "base_uri": "https://localhost:8080/"
        },
        "id": "bZT2Q167ABrq",
        "outputId": "c658351a-8ac0-4869-d86b-2801c336cdc6"
      },
      "source": [
        "rng = pd.date_range(\"3/6/2012 00:00\", periods=5, freq=\"D\")\n",
        "ts = pd.Series(np.random.randn(len(rng)), rng)\n",
        "ts"
      ],
      "execution_count": 86,
      "outputs": [
        {
          "output_type": "execute_result",
          "data": {
            "text/plain": [
              "2012-03-06    2.245183\n",
              "2012-03-07   -0.123381\n",
              "2012-03-08   -0.974917\n",
              "2012-03-09   -0.385708\n",
              "2012-03-10    0.427524\n",
              "Freq: D, dtype: float64"
            ]
          },
          "metadata": {
            "tags": []
          },
          "execution_count": 86
        }
      ]
    },
    {
      "cell_type": "code",
      "metadata": {
        "colab": {
          "base_uri": "https://localhost:8080/"
        },
        "id": "uQmnmGhKAKCJ",
        "outputId": "14b26bee-032a-469b-b11b-5288d2f3ed44"
      },
      "source": [
        "ts_utc = ts.tz_localize(\"UTC\")\n",
        "ts_utc"
      ],
      "execution_count": 87,
      "outputs": [
        {
          "output_type": "execute_result",
          "data": {
            "text/plain": [
              "2012-03-06 00:00:00+00:00    2.245183\n",
              "2012-03-07 00:00:00+00:00   -0.123381\n",
              "2012-03-08 00:00:00+00:00   -0.974917\n",
              "2012-03-09 00:00:00+00:00   -0.385708\n",
              "2012-03-10 00:00:00+00:00    0.427524\n",
              "Freq: D, dtype: float64"
            ]
          },
          "metadata": {
            "tags": []
          },
          "execution_count": 87
        }
      ]
    },
    {
      "cell_type": "code",
      "metadata": {
        "colab": {
          "base_uri": "https://localhost:8080/"
        },
        "id": "zH395wpZAeL4",
        "outputId": "ecd160c5-8f5a-432e-96aa-de09da31095a"
      },
      "source": [
        "ts_utc.tz_convert(\"US/Eastern\")"
      ],
      "execution_count": 88,
      "outputs": [
        {
          "output_type": "execute_result",
          "data": {
            "text/plain": [
              "2012-03-05 19:00:00-05:00    2.245183\n",
              "2012-03-06 19:00:00-05:00   -0.123381\n",
              "2012-03-07 19:00:00-05:00   -0.974917\n",
              "2012-03-08 19:00:00-05:00   -0.385708\n",
              "2012-03-09 19:00:00-05:00    0.427524\n",
              "Freq: D, dtype: float64"
            ]
          },
          "metadata": {
            "tags": []
          },
          "execution_count": 88
        }
      ]
    },
    {
      "cell_type": "code",
      "metadata": {
        "colab": {
          "base_uri": "https://localhost:8080/"
        },
        "id": "2EaZjHaCAi2k",
        "outputId": "5afda45f-1bb7-4fb7-f525-41c36b1b786a"
      },
      "source": [
        "rng = pd.date_range(\"1/1/2012\", periods = 5, freq=\"M\")\n",
        "ts = pd.Series(np.random.randn(len(rng)), index=rng)\n",
        "ts"
      ],
      "execution_count": 90,
      "outputs": [
        {
          "output_type": "execute_result",
          "data": {
            "text/plain": [
              "2012-01-31    1.671809\n",
              "2012-02-29    0.148672\n",
              "2012-03-31    0.145078\n",
              "2012-04-30   -2.005302\n",
              "2012-05-31   -0.655156\n",
              "Freq: M, dtype: float64"
            ]
          },
          "metadata": {
            "tags": []
          },
          "execution_count": 90
        }
      ]
    },
    {
      "cell_type": "code",
      "metadata": {
        "colab": {
          "base_uri": "https://localhost:8080/"
        },
        "id": "NThjIlMVAvbZ",
        "outputId": "4059d0d4-0c85-4d54-fe8d-5b9da4be7491"
      },
      "source": [
        "ps = ts.to_period()\n",
        "ps"
      ],
      "execution_count": 91,
      "outputs": [
        {
          "output_type": "execute_result",
          "data": {
            "text/plain": [
              "2012-01    1.671809\n",
              "2012-02    0.148672\n",
              "2012-03    0.145078\n",
              "2012-04   -2.005302\n",
              "2012-05   -0.655156\n",
              "Freq: M, dtype: float64"
            ]
          },
          "metadata": {
            "tags": []
          },
          "execution_count": 91
        }
      ]
    },
    {
      "cell_type": "code",
      "metadata": {
        "colab": {
          "base_uri": "https://localhost:8080/"
        },
        "id": "VU58WRHiA69a",
        "outputId": "ffbe78c6-9a3c-4a49-be3a-f7b40f16a906"
      },
      "source": [
        "ps.to_timestamp()"
      ],
      "execution_count": 92,
      "outputs": [
        {
          "output_type": "execute_result",
          "data": {
            "text/plain": [
              "2012-01-01    1.671809\n",
              "2012-02-01    0.148672\n",
              "2012-03-01    0.145078\n",
              "2012-04-01   -2.005302\n",
              "2012-05-01   -0.655156\n",
              "Freq: MS, dtype: float64"
            ]
          },
          "metadata": {
            "tags": []
          },
          "execution_count": 92
        }
      ]
    },
    {
      "cell_type": "code",
      "metadata": {
        "colab": {
          "base_uri": "https://localhost:8080/"
        },
        "id": "Emz22pMwA9sg",
        "outputId": "48e8a8c1-accb-4dbd-b2d3-4fe3e63a376e"
      },
      "source": [
        "prng = pd.period_range(\"1990Q1\", \"2000Q4\", freq=\"Q-NOV\")\n",
        "ts= pd.Series(np.random.randn(len(prng)), prng)\n",
        "ts.index = (prng.asfreq(\"M\", \"e\") + 1).asfreq(\"H\", \"s\") + 9\n",
        "\n",
        "ts.head()"
      ],
      "execution_count": 93,
      "outputs": [
        {
          "output_type": "execute_result",
          "data": {
            "text/plain": [
              "1990-03-01 09:00    0.041446\n",
              "1990-06-01 09:00   -0.496588\n",
              "1990-09-01 09:00    0.661106\n",
              "1990-12-01 09:00    0.342239\n",
              "1991-03-01 09:00    1.178759\n",
              "Freq: H, dtype: float64"
            ]
          },
          "metadata": {
            "tags": []
          },
          "execution_count": 93
        }
      ]
    }
  ]
}