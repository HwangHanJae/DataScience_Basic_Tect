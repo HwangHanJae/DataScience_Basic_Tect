{
  "nbformat": 4,
  "nbformat_minor": 0,
  "metadata": {
    "colab": {
      "name": "python_basic.ipynb",
      "provenance": [],
      "collapsed_sections": [],
      "authorship_tag": "ABX9TyNrvybELUXljZDGWfOFjvCc"
    },
    "kernelspec": {
      "name": "python3",
      "display_name": "Python 3"
    },
    "language_info": {
      "name": "python"
    }
  },
  "cells": [
    {
      "cell_type": "markdown",
      "metadata": {
        "id": "kihcHdmkBFDq"
      },
      "source": [
        "##부스트 코스의 <strong>파이썬으로 시작하는 데이터 사이언스</strong>"
      ]
    },
    {
      "cell_type": "markdown",
      "metadata": {
        "id": "liH-e1PNA8UO"
      },
      "source": [
        "###Zen of Python\n",
        "- 파이썬의 철학이 잘 담겨있는 Zen of Python을 출력"
      ]
    },
    {
      "cell_type": "code",
      "metadata": {
        "colab": {
          "base_uri": "https://localhost:8080/"
        },
        "id": "MA5tsR2nA4nK",
        "outputId": "679111e6-160e-4f91-e9df-bae455d09674"
      },
      "source": [
        "import this"
      ],
      "execution_count": 1,
      "outputs": [
        {
          "output_type": "stream",
          "text": [
            "The Zen of Python, by Tim Peters\n",
            "\n",
            "Beautiful is better than ugly.\n",
            "Explicit is better than implicit.\n",
            "Simple is better than complex.\n",
            "Complex is better than complicated.\n",
            "Flat is better than nested.\n",
            "Sparse is better than dense.\n",
            "Readability counts.\n",
            "Special cases aren't special enough to break the rules.\n",
            "Although practicality beats purity.\n",
            "Errors should never pass silently.\n",
            "Unless explicitly silenced.\n",
            "In the face of ambiguity, refuse the temptation to guess.\n",
            "There should be one-- and preferably only one --obvious way to do it.\n",
            "Although that way may not be obvious at first unless you're Dutch.\n",
            "Now is better than never.\n",
            "Although never is often better than *right* now.\n",
            "If the implementation is hard to explain, it's a bad idea.\n",
            "If the implementation is easy to explain, it may be a good idea.\n",
            "Namespaces are one honking great idea -- let's do more of those!\n"
          ],
          "name": "stdout"
        }
      ]
    },
    {
      "cell_type": "markdown",
      "metadata": {
        "id": "qsjygqzICQAb"
      },
      "source": [
        "###strings"
      ]
    },
    {
      "cell_type": "code",
      "metadata": {
        "id": "eTaVdr_pCQYf"
      },
      "source": [
        "#til이라는 변수에 문자열을 담아보기\n",
        "til = 'Hello World!'"
      ],
      "execution_count": 8,
      "outputs": []
    },
    {
      "cell_type": "code",
      "metadata": {
        "colab": {
          "base_uri": "https://localhost:8080/",
          "height": 37
        },
        "id": "mVWXO3JMCuPc",
        "outputId": "63e96390-e176-4a4e-c68a-5d963a90e0ff"
      },
      "source": [
        "#모두 소문자로 만들어 보기\n",
        "til.lower()"
      ],
      "execution_count": 10,
      "outputs": [
        {
          "output_type": "execute_result",
          "data": {
            "application/vnd.google.colaboratory.intrinsic+json": {
              "type": "string"
            },
            "text/plain": [
              "'hello world!'"
            ]
          },
          "metadata": {
            "tags": []
          },
          "execution_count": 10
        }
      ]
    },
    {
      "cell_type": "code",
      "metadata": {
        "colab": {
          "base_uri": "https://localhost:8080/",
          "height": 37
        },
        "id": "JH5-R7clCwfE",
        "outputId": "90f4177e-7c80-46d9-af49-897895c1d229"
      },
      "source": [
        "#모두 대문자로 만들어 보기\n",
        "til.upper()"
      ],
      "execution_count": 11,
      "outputs": [
        {
          "output_type": "execute_result",
          "data": {
            "application/vnd.google.colaboratory.intrinsic+json": {
              "type": "string"
            },
            "text/plain": [
              "'HELLO WORLD!'"
            ]
          },
          "metadata": {
            "tags": []
          },
          "execution_count": 11
        }
      ]
    },
    {
      "cell_type": "markdown",
      "metadata": {
        "id": "U-SIqTubC0lR"
      },
      "source": [
        "###lists"
      ]
    },
    {
      "cell_type": "code",
      "metadata": {
        "id": "r1TOERU9C5wB"
      },
      "source": [
        "lang = []"
      ],
      "execution_count": 12,
      "outputs": []
    },
    {
      "cell_type": "code",
      "metadata": {
        "id": "ybEcwoMUDCSY"
      },
      "source": [
        "#lang리스트에 원소(python, java, c)추가하기\n",
        "lang.append('python')\n",
        "lang.append('java')\n",
        "lang.append('c')"
      ],
      "execution_count": 16,
      "outputs": []
    },
    {
      "cell_type": "code",
      "metadata": {
        "colab": {
          "base_uri": "https://localhost:8080/"
        },
        "id": "01h_SHfrDDS3",
        "outputId": "c2592685-7558-42c5-b3f4-0aea86c2372b"
      },
      "source": [
        "lang"
      ],
      "execution_count": 17,
      "outputs": [
        {
          "output_type": "execute_result",
          "data": {
            "text/plain": [
              "['python', 'java', 'c']"
            ]
          },
          "metadata": {
            "tags": []
          },
          "execution_count": 17
        }
      ]
    },
    {
      "cell_type": "code",
      "metadata": {
        "colab": {
          "base_uri": "https://localhost:8080/",
          "height": 37
        },
        "id": "zAFtGBR-DmZq",
        "outputId": "004e2f04-57ab-424b-854b-b8b20718cb91"
      },
      "source": [
        "#가장 첫번째 인덱스(0)가져오기\n",
        "lang[0]"
      ],
      "execution_count": 23,
      "outputs": [
        {
          "output_type": "execute_result",
          "data": {
            "application/vnd.google.colaboratory.intrinsic+json": {
              "type": "string"
            },
            "text/plain": [
              "'python'"
            ]
          },
          "metadata": {
            "tags": []
          },
          "execution_count": 23
        }
      ]
    },
    {
      "cell_type": "code",
      "metadata": {
        "colab": {
          "base_uri": "https://localhost:8080/",
          "height": 37
        },
        "id": "-RBVP-a5D2o7",
        "outputId": "ab7d354a-b23b-4d41-8012-ea16efdf1a43"
      },
      "source": [
        "#가장 마지막 인덱스(-1)가져오기\n",
        "lang[-1]"
      ],
      "execution_count": 24,
      "outputs": [
        {
          "output_type": "execute_result",
          "data": {
            "application/vnd.google.colaboratory.intrinsic+json": {
              "type": "string"
            },
            "text/plain": [
              "'c'"
            ]
          },
          "metadata": {
            "tags": []
          },
          "execution_count": 24
        }
      ]
    },
    {
      "cell_type": "markdown",
      "metadata": {
        "id": "1RTLHRNfD5mE"
      },
      "source": [
        "###Control Flow\n",
        "- 반복문, 조건문"
      ]
    },
    {
      "cell_type": "code",
      "metadata": {
        "id": "FpC7fwmYDXxx"
      },
      "source": [
        "#for문을 사용하여 추가하기\n",
        "lang = []\n",
        "lang_list = ['python','java','c']\n",
        "for i in lang_list:\n",
        "  lang.append(i)"
      ],
      "execution_count": null,
      "outputs": []
    },
    {
      "cell_type": "code",
      "metadata": {
        "colab": {
          "base_uri": "https://localhost:8080/"
        },
        "id": "pWEINXLfD9Uz",
        "outputId": "ed84f177-7355-4414-ea1b-0c5adea1b217"
      },
      "source": [
        "lang"
      ],
      "execution_count": 25,
      "outputs": [
        {
          "output_type": "execute_result",
          "data": {
            "text/plain": [
              "['python', 'java', 'c']"
            ]
          },
          "metadata": {
            "tags": []
          },
          "execution_count": 25
        }
      ]
    },
    {
      "cell_type": "code",
      "metadata": {
        "colab": {
          "base_uri": "https://localhost:8080/"
        },
        "id": "4bisRsE3ES9S",
        "outputId": "8712f08a-7710-473a-db6a-4cd9e605e19b"
      },
      "source": [
        "#for문과 조건문 같이 사용하기\n",
        "for i in lang:\n",
        "  if i == 'python':\n",
        "    print('python')\n",
        "  else:\n",
        "    print(\"기타\")"
      ],
      "execution_count": 27,
      "outputs": [
        {
          "output_type": "stream",
          "text": [
            "python\n",
            "기타\n",
            "기타\n"
          ],
          "name": "stdout"
        }
      ]
    },
    {
      "cell_type": "code",
      "metadata": {
        "colab": {
          "base_uri": "https://localhost:8080/"
        },
        "id": "bXJf4SSTEYxM",
        "outputId": "04683fcf-9e6e-4dde-f9ed-2f083d14969f"
      },
      "source": [
        "#enumerate를 사용하면 인덱스 번호와 같이 가져올 수 있다.\n",
        "for i, val in enumerate(lang):\n",
        "  print(i, val)"
      ],
      "execution_count": 28,
      "outputs": [
        {
          "output_type": "stream",
          "text": [
            "0 python\n",
            "1 java\n",
            "2 c\n"
          ],
          "name": "stdout"
        }
      ]
    },
    {
      "cell_type": "markdown",
      "metadata": {
        "id": "jk3z_-LMHGiC"
      },
      "source": [
        "##메소드 사용하기"
      ]
    },
    {
      "cell_type": "markdown",
      "metadata": {
        "id": "pusHvDkdFZao"
      },
      "source": [
        "###문자열"
      ]
    },
    {
      "cell_type": "code",
      "metadata": {
        "colab": {
          "base_uri": "https://localhost:8080/",
          "height": 37
        },
        "id": "OPv_2qsEFnfQ",
        "outputId": "91514510-dd52-4508-b992-5c304f9d00f3"
      },
      "source": [
        "address = '    경기도 성남시 분당구 불정로 6 NAVER 그린팩토리 16층    '\n",
        "address"
      ],
      "execution_count": 34,
      "outputs": [
        {
          "output_type": "execute_result",
          "data": {
            "application/vnd.google.colaboratory.intrinsic+json": {
              "type": "string"
            },
            "text/plain": [
              "'    경기도 성남시 분당구 불정로 6 NAVER 그린팩토리 16층    '"
            ]
          },
          "metadata": {
            "tags": []
          },
          "execution_count": 34
        }
      ]
    },
    {
      "cell_type": "code",
      "metadata": {
        "colab": {
          "base_uri": "https://localhost:8080/",
          "height": 37
        },
        "id": "GQTIAsEDFfoZ",
        "outputId": "7e7e285f-2f61-439e-f85d-304113d70d81"
      },
      "source": [
        "# 주어진 주소를 앞뒤 공백을 제거\n",
        "# 현재 주소에 앞뒤에는 4개의 공백이 존재\n",
        "address = address.strip()\n",
        "address"
      ],
      "execution_count": 36,
      "outputs": [
        {
          "output_type": "execute_result",
          "data": {
            "application/vnd.google.colaboratory.intrinsic+json": {
              "type": "string"
            },
            "text/plain": [
              "'경기도 성남시 분당구 불정로 6 NAVER 그린팩토리 16층'"
            ]
          },
          "metadata": {
            "tags": []
          },
          "execution_count": 36
        }
      ]
    },
    {
      "cell_type": "code",
      "metadata": {
        "colab": {
          "base_uri": "https://localhost:8080/"
        },
        "id": "R4RnSTSHFyAO",
        "outputId": "aae84a91-e4bc-4608-beb3-fbf210949728"
      },
      "source": [
        "#문자열 길이\n",
        "len(address)"
      ],
      "execution_count": 37,
      "outputs": [
        {
          "output_type": "execute_result",
          "data": {
            "text/plain": [
              "33"
            ]
          },
          "metadata": {
            "tags": []
          },
          "execution_count": 37
        }
      ]
    },
    {
      "cell_type": "code",
      "metadata": {
        "colab": {
          "base_uri": "https://localhost:8080/"
        },
        "id": "01Qn8W2bGO8-",
        "outputId": "eb89fc3d-960a-4b89-9d55-56092eb1e446"
      },
      "source": [
        "#공백으로 문자열 분리\n",
        "address.split()"
      ],
      "execution_count": 38,
      "outputs": [
        {
          "output_type": "execute_result",
          "data": {
            "text/plain": [
              "['경기도', '성남시', '분당구', '불정로', '6', 'NAVER', '그린팩토리', '16층']"
            ]
          },
          "metadata": {
            "tags": []
          },
          "execution_count": 38
        }
      ]
    },
    {
      "cell_type": "code",
      "metadata": {
        "colab": {
          "base_uri": "https://localhost:8080/"
        },
        "id": "7tr4QuKCGThc",
        "outputId": "61d58a82-c74b-4907-fd45-5c3b4cb5a731"
      },
      "source": [
        "#리스트에 공백으로 나누어진 문자열 담기\n",
        "address_list = address.split()\n",
        "len(address_list)"
      ],
      "execution_count": 39,
      "outputs": [
        {
          "output_type": "execute_result",
          "data": {
            "text/plain": [
              "8"
            ]
          },
          "metadata": {
            "tags": []
          },
          "execution_count": 39
        }
      ]
    },
    {
      "cell_type": "code",
      "metadata": {
        "colab": {
          "base_uri": "https://localhost:8080/",
          "height": 37
        },
        "id": "hxY4kLhGGgOl",
        "outputId": "2e61a977-c234-484e-ce81-c630e8ca5428"
      },
      "source": [
        "#슬라이싱으로 문자 가져오기\n",
        "address[:2]"
      ],
      "execution_count": 40,
      "outputs": [
        {
          "output_type": "execute_result",
          "data": {
            "application/vnd.google.colaboratory.intrinsic+json": {
              "type": "string"
            },
            "text/plain": [
              "'경기'"
            ]
          },
          "metadata": {
            "tags": []
          },
          "execution_count": 40
        }
      ]
    },
    {
      "cell_type": "code",
      "metadata": {
        "colab": {
          "base_uri": "https://localhost:8080/"
        },
        "id": "sre71FO1Gm2R",
        "outputId": "25f2f9dc-26b5-4a30-b7cd-ab9b8da6aa22"
      },
      "source": [
        "#startswith를 사용하면 특정 문자가 포함되는지 여부를 확인\n",
        "address.startswith('경기')"
      ],
      "execution_count": 41,
      "outputs": [
        {
          "output_type": "execute_result",
          "data": {
            "text/plain": [
              "True"
            ]
          },
          "metadata": {
            "tags": []
          },
          "execution_count": 41
        }
      ]
    },
    {
      "cell_type": "code",
      "metadata": {
        "colab": {
          "base_uri": "https://localhost:8080/"
        },
        "id": "xWFLIXwvGwX7",
        "outputId": "ddc2acbe-5f54-44c4-e82f-3c555ad78a9f"
      },
      "source": [
        "address.startswith(\"기경\")"
      ],
      "execution_count": 42,
      "outputs": [
        {
          "output_type": "execute_result",
          "data": {
            "text/plain": [
              "False"
            ]
          },
          "metadata": {
            "tags": []
          },
          "execution_count": 42
        }
      ]
    },
    {
      "cell_type": "code",
      "metadata": {
        "colab": {
          "base_uri": "https://localhost:8080/"
        },
        "id": "5o9MWD9RGyjt",
        "outputId": "5c8592cf-61c1-41e1-9ccc-fa251f3f2e28"
      },
      "source": [
        "# in 키워드를 사용하게 되면 특정 문자열을 포함하고 있는지 여부를 확인할 수 있다.\n",
        "'경기' in address"
      ],
      "execution_count": 43,
      "outputs": [
        {
          "output_type": "execute_result",
          "data": {
            "text/plain": [
              "True"
            ]
          },
          "metadata": {
            "tags": []
          },
          "execution_count": 43
        }
      ]
    },
    {
      "cell_type": "code",
      "metadata": {
        "colab": {
          "base_uri": "https://localhost:8080/"
        },
        "id": "I-hK6DXOG92z",
        "outputId": "9f402db4-69de-4400-b331-f2ad5ac17efc"
      },
      "source": [
        "'기경' in address"
      ],
      "execution_count": 44,
      "outputs": [
        {
          "output_type": "execute_result",
          "data": {
            "text/plain": [
              "False"
            ]
          },
          "metadata": {
            "tags": []
          },
          "execution_count": 44
        }
      ]
    },
    {
      "cell_type": "markdown",
      "metadata": {
        "id": "m9oAtPm_HDp2"
      },
      "source": [
        "###리스트"
      ]
    },
    {
      "cell_type": "code",
      "metadata": {
        "colab": {
          "base_uri": "https://localhost:8080/",
          "height": 37
        },
        "id": "p89uqnM4G_6G",
        "outputId": "37278b2a-a298-43f0-dc47-3402650b3fa0"
      },
      "source": [
        "#인덱싱으로 리스트의 원소 가져오기 - 주소에서 구를 가져와 gu라는 변수에 담기\n",
        "gu = address_list[2]\n",
        "gu"
      ],
      "execution_count": 52,
      "outputs": [
        {
          "output_type": "execute_result",
          "data": {
            "application/vnd.google.colaboratory.intrinsic+json": {
              "type": "string"
            },
            "text/plain": [
              "'분당구'"
            ]
          },
          "metadata": {
            "tags": []
          },
          "execution_count": 52
        }
      ]
    },
    {
      "cell_type": "code",
      "metadata": {
        "colab": {
          "base_uri": "https://localhost:8080/",
          "height": 37
        },
        "id": "8stEKJ9vHN3I",
        "outputId": "4b7e2463-a259-444b-a2ca-29b2ba805b65"
      },
      "source": [
        "#인덱싱으로 리스트의 원소 가져오기 - 주소에서 도로명을 가져와 street이라는 변수에 담기\n",
        "street=address_list[3]\n",
        "street"
      ],
      "execution_count": 51,
      "outputs": [
        {
          "output_type": "execute_result",
          "data": {
            "application/vnd.google.colaboratory.intrinsic+json": {
              "type": "string"
            },
            "text/plain": [
              "'불정로'"
            ]
          },
          "metadata": {
            "tags": []
          },
          "execution_count": 51
        }
      ]
    },
    {
      "cell_type": "code",
      "metadata": {
        "colab": {
          "base_uri": "https://localhost:8080/",
          "height": 37
        },
        "id": "SSyfFBEEHhga",
        "outputId": "7c8c738c-aed6-498b-dc86-8291a0c01c4e"
      },
      "source": [
        "#리스트의 마지막을 가져오기\n",
        "address_list[-1]"
      ],
      "execution_count": 53,
      "outputs": [
        {
          "output_type": "execute_result",
          "data": {
            "application/vnd.google.colaboratory.intrinsic+json": {
              "type": "string"
            },
            "text/plain": [
              "'16층'"
            ]
          },
          "metadata": {
            "tags": []
          },
          "execution_count": 53
        }
      ]
    },
    {
      "cell_type": "code",
      "metadata": {
        "colab": {
          "base_uri": "https://localhost:8080/",
          "height": 37
        },
        "id": "cebYXoAIHrQh",
        "outputId": "c662ea05-381b-499d-b2bd-b0c21eddb061"
      },
      "source": [
        "#''.join(리스트)를 사용하면 리스트를 공백 문자열을 연결할수 있다.\n",
        "''.join(address_list)"
      ],
      "execution_count": 54,
      "outputs": [
        {
          "output_type": "execute_result",
          "data": {
            "application/vnd.google.colaboratory.intrinsic+json": {
              "type": "string"
            },
            "text/plain": [
              "'경기도성남시분당구불정로6NAVER그린팩토리16층'"
            ]
          },
          "metadata": {
            "tags": []
          },
          "execution_count": 54
        }
      ]
    },
    {
      "cell_type": "code",
      "metadata": {
        "colab": {
          "base_uri": "https://localhost:8080/",
          "height": 37
        },
        "id": "M1M-RPo2H7bP",
        "outputId": "e4659d31-03cf-42d8-d24e-dc3b62d39c81"
      },
      "source": [
        "#' '.join 사용\n",
        "' '.join(address_list)"
      ],
      "execution_count": 56,
      "outputs": [
        {
          "output_type": "execute_result",
          "data": {
            "application/vnd.google.colaboratory.intrinsic+json": {
              "type": "string"
            },
            "text/plain": [
              "'경기도 성남시 분당구 불정로 6 NAVER 그린팩토리 16층'"
            ]
          },
          "metadata": {
            "tags": []
          },
          "execution_count": 56
        }
      ]
    },
    {
      "cell_type": "code",
      "metadata": {
        "colab": {
          "base_uri": "https://localhost:8080/",
          "height": 37
        },
        "id": "NHsMkuC0IA98",
        "outputId": "e0be1ab4-c3b5-41be-d9ec-cb0228c7b804"
      },
      "source": [
        "#'-'.join 사용\n",
        "'-'.join(address_list)"
      ],
      "execution_count": 57,
      "outputs": [
        {
          "output_type": "execute_result",
          "data": {
            "application/vnd.google.colaboratory.intrinsic+json": {
              "type": "string"
            },
            "text/plain": [
              "'경기도-성남시-분당구-불정로-6-NAVER-그린팩토리-16층'"
            ]
          },
          "metadata": {
            "tags": []
          },
          "execution_count": 57
        }
      ]
    },
    {
      "cell_type": "code",
      "metadata": {
        "colab": {
          "base_uri": "https://localhost:8080/",
          "height": 37
        },
        "id": "U9NWicGuIHlT",
        "outputId": "c6da5e5a-802f-463f-c593-ccbf823567e1"
      },
      "source": [
        "'a'.join(address_list)"
      ],
      "execution_count": 58,
      "outputs": [
        {
          "output_type": "execute_result",
          "data": {
            "application/vnd.google.colaboratory.intrinsic+json": {
              "type": "string"
            },
            "text/plain": [
              "'경기도a성남시a분당구a불정로a6aNAVERa그린팩토리a16층'"
            ]
          },
          "metadata": {
            "tags": []
          },
          "execution_count": 58
        }
      ]
    },
    {
      "cell_type": "code",
      "metadata": {
        "colab": {
          "base_uri": "https://localhost:8080/"
        },
        "id": "Og7GtY1qIK6Y",
        "outputId": "7282ef38-d094-45b5-9f55-d3cdc7b1e010"
      },
      "source": [
        "#in 을 사용하여 리스트에 해당 데이터를 포함하고 있느지 여부를 확인할 수 있음\n",
        "'경기' in address_list"
      ],
      "execution_count": 60,
      "outputs": [
        {
          "output_type": "execute_result",
          "data": {
            "text/plain": [
              "False"
            ]
          },
          "metadata": {
            "tags": []
          },
          "execution_count": 60
        }
      ]
    },
    {
      "cell_type": "code",
      "metadata": {
        "colab": {
          "base_uri": "https://localhost:8080/"
        },
        "id": "oxZ4kVLjIZV-",
        "outputId": "d654f568-a9a5-450c-a5c5-b2819964a478"
      },
      "source": [
        "'경기도' in address_list"
      ],
      "execution_count": 61,
      "outputs": [
        {
          "output_type": "execute_result",
          "data": {
            "text/plain": [
              "True"
            ]
          },
          "metadata": {
            "tags": []
          },
          "execution_count": 61
        }
      ]
    },
    {
      "cell_type": "code",
      "metadata": {
        "colab": {
          "base_uri": "https://localhost:8080/"
        },
        "id": "Wu9bMS07IdJu",
        "outputId": "a1b03cc4-cef0-4144-ef88-30000f8a54f8"
      },
      "source": [
        "'분당구' in address_list"
      ],
      "execution_count": 62,
      "outputs": [
        {
          "output_type": "execute_result",
          "data": {
            "text/plain": [
              "True"
            ]
          },
          "metadata": {
            "tags": []
          },
          "execution_count": 62
        }
      ]
    },
    {
      "cell_type": "code",
      "metadata": {
        "id": "WmGFd6jkIfSb"
      },
      "source": [
        ""
      ],
      "execution_count": null,
      "outputs": []
    }
  ]
}