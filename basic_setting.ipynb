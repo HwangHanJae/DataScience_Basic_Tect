{
  "nbformat": 4,
  "nbformat_minor": 0,
  "metadata": {
    "colab": {
      "name": "basic_setting.ipynb",
      "provenance": [],
      "collapsed_sections": [],
      "toc_visible": true,
      "mount_file_id": "1r6pGlkcyL5e0Iv0ze3ECej4cEILusdvA",
      "authorship_tag": "ABX9TyPbmmg8C6qJ2stVYAcrOr7m"
    },
    "kernelspec": {
      "name": "python3",
      "display_name": "Python 3"
    },
    "language_info": {
      "name": "python"
    }
  },
  "cells": [
    {
      "cell_type": "markdown",
      "metadata": {
        "id": "MxoGbl9Ejr_G"
      },
      "source": [
        "####구글 드라이브에 있는 파일 가져오기\n"
      ]
    },
    {
      "cell_type": "code",
      "metadata": {
        "colab": {
          "base_uri": "https://localhost:8080/"
        },
        "id": "dY3wxBakj35f",
        "outputId": "8ecd1104-288e-4bfc-e3b7-99c339e00b38"
      },
      "source": [
        "#구글 드라이브 마운트를 위하여 drive 임포트\n",
        "from google.colab import drive\n",
        "# 1. 왼쪽의 4개의 탭에서 파일탭의 드라이브 마운트를 클릭하여 마운트\n",
        "#-----------------------------------------------------------------------------\n",
        "# 다른 방법\n",
        "# 1. 아래의 코드\n",
        "# drive.mount('/content/drive')\n",
        "# 2. 나오는 링크에 들어가 인증키를 복사\n",
        "# 3. 인증키를 붙여넣기\n",
        "# 4. 왼쪽 탭 확인"
      ],
      "execution_count": null,
      "outputs": [
        {
          "output_type": "stream",
          "text": [
            "Mounted at /content/drive\n"
          ],
          "name": "stdout"
        }
      ]
    },
    {
      "cell_type": "markdown",
      "metadata": {
        "id": "Y8_qRkqKj6PD"
      },
      "source": [
        "####필요한 라이브러리 불러오기"
      ]
    },
    {
      "cell_type": "code",
      "metadata": {
        "id": "okgkmJ8zkAZd"
      },
      "source": [
        "import pandas as pd\n",
        "import numpy as np\n",
        "import seaborn as sns\n",
        "import matplotlib.pyplot as plt\n",
        "import matplotlib as mpl"
      ],
      "execution_count": null,
      "outputs": []
    },
    {
      "cell_type": "markdown",
      "metadata": {
        "id": "jiAxkX-_kGnr"
      },
      "source": [
        "####시각화를 위한 기본 설정"
      ]
    },
    {
      "cell_type": "code",
      "metadata": {
        "id": "ZcaW0yZZkJBt"
      },
      "source": [
        "#그래프에서 격자로 숫자 범위가 눈에 잘 띄도록 'ggplot' 스타일을 사용\n",
        "plt.style.use('ggplot')\n",
        "#그래프에서 마이너스 폰트 깨지는 문제 대한 대처\n",
        "mpl.rcParams['axes.unicode_minus'] = False\n",
        "#한글폰트다운(나눔바른고딕)\n",
        "!apt -qq -y install fonts-nanum\n",
        " \n",
        "import matplotlib.font_manager as fm\n",
        "fontpath = '/usr/share/fonts/truetype/nanum/NanumBarunGothic.ttf'\n",
        "font = fm.FontProperties(fname=fontpath)\n",
        "# 맷플롯라이브러리에 폰트 설정\n",
        "plt.rc('font', family='NanumBarunGothic') \n",
        "# 진행후에 런타임 다시시작\n",
        "\n",
        "from IPython.display import set_matplotlib_formats\n",
        "# 폰트가 선명하게 보이기 위해\n",
        "set_matplotlib_formats('retina')"
      ],
      "execution_count": null,
      "outputs": []
    },
    {
      "cell_type": "markdown",
      "metadata": {
        "id": "xhunhBeQkQ6K"
      },
      "source": [
        "####필요에 따라 경고 메시지 무시"
      ]
    },
    {
      "cell_type": "code",
      "metadata": {
        "id": "EvdlD2AykWP5"
      },
      "source": [
        "import warnings                   \n",
        "#버전 차이로 인해 출력되는 에러 문구등을 무시하겠다는 명령어\n",
        "warnings.filterwarnings('ignore')"
      ],
      "execution_count": null,
      "outputs": []
    }
  ]
}